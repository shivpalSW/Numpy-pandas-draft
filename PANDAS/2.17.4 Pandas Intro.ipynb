{
 "cells": [
  {
   "cell_type": "raw",
   "metadata": {},
   "source": [
    "Pandas >> Python Data Analysis"
   ]
  },
  {
   "cell_type": "code",
   "execution_count": null,
   "metadata": {},
   "outputs": [],
   "source": [
    "Two Data Structures in Pandas:\n",
    "    1. Series (1-D)\n",
    "    2. Dataframe (2-D)\n",
    "    \n",
    "DataFrame:\n",
    "    2 dimensional data\n",
    "    Table with multiple rows & columns\n",
    "    Mutable(add,update,rename,delete)\n",
    "    \n",
    "Application:\n",
    "    used for working on datasets\n",
    "    Analysis\n",
    "    Visualization\n",
    "    Cleaning\n",
    "    Manupulating data\n",
    "    join multiple tables\n",
    "    create csv excel file\n",
    "    mathematical operations"
   ]
  }
 ],
 "metadata": {
  "kernelspec": {
   "display_name": "Python 3",
   "language": "python",
   "name": "python3"
  },
  "language_info": {
   "codemirror_mode": {
    "name": "ipython",
    "version": 3
   },
   "file_extension": ".py",
   "mimetype": "text/x-python",
   "name": "python",
   "nbconvert_exporter": "python",
   "pygments_lexer": "ipython3",
   "version": "3.8.5"
  },
  "toc": {
   "base_numbering": 1,
   "nav_menu": {},
   "number_sections": true,
   "sideBar": true,
   "skip_h1_title": false,
   "title_cell": "Table of Contents",
   "title_sidebar": "Contents",
   "toc_cell": false,
   "toc_position": {},
   "toc_section_display": true,
   "toc_window_display": false
  }
 },
 "nbformat": 4,
 "nbformat_minor": 4
}

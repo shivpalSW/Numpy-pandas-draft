{
 "cells": [
  {
   "cell_type": "code",
   "execution_count": null,
   "metadata": {},
   "outputs": [],
   "source": [
    "Regex (re) - \n",
    "    is one of the fundamental library of python that deals with the texts data.\n",
    "    It uses it functions that creates a sequence of characters that forms a search pattern forms the data\n",
    "    Natural Language processing, Remove Noise, Skew correction\n",
    "    suggesting future words\n",
    "    used in recommendation system\n",
    "    Text Processing  - analysing the data for getting struictured information. gathering the text data from the image data.\n",
    "    Web Scapping- extracting data from websites\n",
    "    data cleaning- data mining. removing Noise, processing on raw data."
   ]
  },
  {
   "cell_type": "code",
   "execution_count": null,
   "metadata": {},
   "outputs": [],
   "source": [
    "regex > re >>Regular expression\n",
    "\n",
    "import re   # regular expression"
   ]
  },
  {
   "cell_type": "code",
   "execution_count": null,
   "metadata": {},
   "outputs": [],
   "source": [
    "Mobile Number\n",
    "address\n",
    "e-mail id\n",
    "date of birth\n",
    "adhar number\n",
    "Pan number\n",
    "License number\n",
    "passport number\n",
    "blood group\n",
    "bank account\n",
    "IFSC no.\n",
    "Voter ID"
   ]
  },
  {
   "cell_type": "code",
   "execution_count": null,
   "metadata": {},
   "outputs": [],
   "source": [
    "+91 3598025873\n",
    "03426239874\n",
    "\"4823472325\"\n",
    "\"IND 564398057\""
   ]
  },
  {
   "cell_type": "markdown",
   "metadata": {},
   "source": [
    "## Findall()"
   ]
  },
  {
   "cell_type": "raw",
   "metadata": {},
   "source": [
    "returns a list of items that mathches you rsearch pattern\n",
    "\n",
    "found_items=re.findall(pattern, string)"
   ]
  },
  {
   "cell_type": "code",
   "execution_count": 2,
   "metadata": {},
   "outputs": [],
   "source": [
    "import re"
   ]
  },
  {
   "cell_type": "code",
   "execution_count": 3,
   "metadata": {},
   "outputs": [
    {
     "data": {
      "text/plain": [
       "['8206049253', '6426537651']"
      ]
     },
     "execution_count": 3,
     "metadata": {},
     "output_type": "execute_result"
    }
   ],
   "source": [
    "text = \"\"\"My mobile number is 8206049253\n",
    "             & my mail id is pratik.k@vctcpune.com\n",
    "             my alternate number is 6426537651 \"\"\"\n",
    "#10 digits number\n",
    "\n",
    "mobile_numbers=re.findall('[0-9]{10}',text)\n",
    "mobile_numbers"
   ]
  },
  {
   "cell_type": "code",
   "execution_count": 8,
   "metadata": {},
   "outputs": [
    {
     "data": {
      "text/plain": [
       "['82', '06', '04', '92', '53', '91', '64', '26', '53', '76', '51']"
      ]
     },
     "execution_count": 8,
     "metadata": {},
     "output_type": "execute_result"
    }
   ],
   "source": [
    "text = \"\"\"My mobile number is 8206049253\n",
    "             & my mail id is pratik.k@vctcpune.com\n",
    "             my alternate number is +91 6426537651 \"\"\"\n",
    "#10 digits number\n",
    "\n",
    "mobile_numbers=re.findall('[0-9]{2}',text)\n",
    "mobile_numbers"
   ]
  },
  {
   "cell_type": "code",
   "execution_count": 9,
   "metadata": {},
   "outputs": [
    {
     "data": {
      "text/plain": [
       "['820', '604', '925', '642', '653', '765']"
      ]
     },
     "execution_count": 9,
     "metadata": {},
     "output_type": "execute_result"
    }
   ],
   "source": [
    "text = \"\"\"MY mobile number is 8206049253\n",
    "             & my mail id is pratik.k@vctcpune.com\n",
    "             my alternate number is +91 6426537651 \"\"\"\n",
    "#10 digits number\n",
    "\n",
    "mobile_numbers=re.findall('[0-9]{3}',text)\n",
    "mobile_numbers"
   ]
  },
  {
   "cell_type": "code",
   "execution_count": 10,
   "metadata": {},
   "outputs": [
    {
     "data": {
      "text/plain": [
       "['MY']"
      ]
     },
     "execution_count": 10,
     "metadata": {},
     "output_type": "execute_result"
    }
   ],
   "source": [
    "text = \"\"\"MY mobile number is 8206049253\n",
    "             & my mail id is pratik.k@vctcpune.com\n",
    "             my alternate number is +91 6426537651 \"\"\"\n",
    "#10 digits number\n",
    "\n",
    "mobile_numbers=re.findall('[A-Z]{2}',text)\n",
    "mobile_numbers"
   ]
  },
  {
   "cell_type": "code",
   "execution_count": 13,
   "metadata": {},
   "outputs": [
    {
     "data": {
      "text/plain": [
       "['mo', 'nu', 'my', 'pr', 'pu', 'om', 'my', 'rn', 'nu']"
      ]
     },
     "execution_count": 13,
     "metadata": {},
     "output_type": "execute_result"
    }
   ],
   "source": [
    "text = \"\"\"MY mobile number is 8206049253\n",
    "             & my mail id is pratik.k@vctcpune.com\n",
    "             my alternate number is +91 6426537651 \"\"\"\n",
    "#10 digits number\n",
    "\n",
    "mobile_numbers=re.findall('[m-y]{2}',text)\n",
    "mobile_numbers"
   ]
  },
  {
   "cell_type": "code",
   "execution_count": null,
   "metadata": {},
   "outputs": [],
   "source": []
  },
  {
   "cell_type": "code",
   "execution_count": null,
   "metadata": {},
   "outputs": [],
   "source": [
    "text = \"\"\"MY Mobile number is 8206049253\n",
    "             & my mail id is pratik.k@vctcpune.com\n",
    "             my alternate number is +91 6426537651 \"\"\"\n",
    "#10 digits number\n",
    "\n",
    "mobile_numbers=re.findall('[m-z]{2}',text)\n",
    "mobile_numbers"
   ]
  },
  {
   "cell_type": "code",
   "execution_count": 17,
   "metadata": {},
   "outputs": [
    {
     "data": {
      "text/plain": [
       "['Mobile', 'number', 'pratik', 'vctcpu', 'altern', 'number']"
      ]
     },
     "execution_count": 17,
     "metadata": {},
     "output_type": "execute_result"
    }
   ],
   "source": [
    "text = \"\"\"MY Mobile number is 8206049253\n",
    "             & my mail id is pratik.k@vctcpune.com\n",
    "             my alternate number is +91 6426537651 \"\"\"\n",
    "#10 digits number\n",
    "\n",
    "mobile_numbers=re.findall('[A-Z,a-z,]{6}',text)\n",
    "mobile_numbers"
   ]
  },
  {
   "cell_type": "code",
   "execution_count": null,
   "metadata": {},
   "outputs": [],
   "source": []
  },
  {
   "cell_type": "code",
   "execution_count": 16,
   "metadata": {},
   "outputs": [
    {
     "data": {
      "text/plain": [
       "['Mobile',\n",
       " 'number',\n",
       " '820604',\n",
       " 'mail56',\n",
       " 'pratik',\n",
       " 'vctcpu',\n",
       " 'altern',\n",
       " 'number',\n",
       " '642653']"
      ]
     },
     "execution_count": 16,
     "metadata": {},
     "output_type": "execute_result"
    }
   ],
   "source": [
    "text = \"\"\"MY Mobile number is 8206049253\n",
    "             & my mail56 id is pratik.k@vctcpune.com\n",
    "             my alternate number is +91 6426537651 \"\"\"\n",
    "#10 digits number\n",
    "\n",
    "mobile_numbers=re.findall('[A-Za-z0-9]{6}',text)\n",
    "mobile_numbers"
   ]
  },
  {
   "cell_type": "code",
   "execution_count": 21,
   "metadata": {},
   "outputs": [
    {
     "data": {
      "text/plain": [
       "['Mobile',\n",
       " 'number',\n",
       " '8206049253',\n",
       " 'mail56',\n",
       " 'pratik',\n",
       " 'vctcpune',\n",
       " 'alternate',\n",
       " 'number',\n",
       " '6426537651']"
      ]
     },
     "execution_count": 21,
     "metadata": {},
     "output_type": "execute_result"
    }
   ],
   "source": [
    "text = \"\"\"MY Mobile number is 8206049253\n",
    "             & my mail56 id is pratik.k@vctcpune.com\n",
    "             my alternate number is +91 642653765112 \"\"\"\n",
    "#10 digits number\n",
    "\n",
    "mobile_numbers=re.findall('[A-Za-z0-9]{6,10}',text)\n",
    "mobile_numbers"
   ]
  },
  {
   "cell_type": "code",
   "execution_count": 22,
   "metadata": {},
   "outputs": [
    {
     "data": {
      "text/plain": [
       "['number', 'pratik', 'vctcpune', 'alternate', 'number']"
      ]
     },
     "execution_count": 22,
     "metadata": {},
     "output_type": "execute_result"
    }
   ],
   "source": [
    "text = \"\"\"MY Mobile number is 8206049253\n",
    "             & my mail56 id is pratik.k@vctcpune.com\n",
    "             my alternate number is +91 642653765112 \"\"\"\n",
    "#10 digits number\n",
    "\n",
    "mobile_numbers=re.findall('[a-z]{6,10}',text)\n",
    "mobile_numbers"
   ]
  },
  {
   "cell_type": "code",
   "execution_count": 25,
   "metadata": {},
   "outputs": [
    {
     "data": {
      "text/plain": [
       "['pratikkanpurwar@gmail.com', 'Pratikk@gmail.com']"
      ]
     },
     "execution_count": 25,
     "metadata": {},
     "output_type": "execute_result"
    }
   ],
   "source": [
    "text = \"\"\"MY Mobile number is 8206049253\n",
    "             & my mail56 id is pratikkanpurwar@gmail.com\n",
    "             my alternate number is +91 642653765112 \n",
    "             & my alternate mail id is Pratikk@gmail.com\"\"\"\n",
    "#10 digits number\n",
    "\n",
    "mobile_numbers=re.findall('[A-Za-z0-9._]{2,20}[@][A-Za-z]{5}[.][A-Za-z]{3}',text)\n",
    "mobile_numbers"
   ]
  },
  {
   "cell_type": "code",
   "execution_count": null,
   "metadata": {},
   "outputs": [],
   "source": [
    "import re\n",
    "text = \"\"\"MY Mobile number is 8206049253\n",
    "             & my mail56 id is pratikkanpurwar@gmail.co.in\n",
    "             my alternate number is +91 642653765112 \n",
    "             & my alternate mail id is Pratikk@gmail.in\"\"\"\n"
   ]
  },
  {
   "cell_type": "code",
   "execution_count": 31,
   "metadata": {},
   "outputs": [
    {
     "data": {
      "text/plain": [
       "['hr@cognizant.com',\n",
       " 'rohitsharma1234@gmail.com',\n",
       " 'rohit134sharma@rediffmail.com',\n",
       " 'rohit134sharma@rediffmail.co.in',\n",
       " 'ROHITSHARMA@IITian.edu.in',\n",
       " 'Rohit.sharma123@vctcpune.co.in']"
      ]
     },
     "execution_count": 31,
     "metadata": {},
     "output_type": "execute_result"
    }
   ],
   "source": [
    "import re\n",
    "mail_ids= \"\"\"hr@cognizant.com\n",
    "            pythoncoding\n",
    "            rohitsharma1234@gmail.com\n",
    "            rohit134sharma@rediffmail.com\n",
    "            rohit134sharma@rediffmail.co.in\n",
    "            ROHITSHARMA@IITian.edu.in\n",
    "            Rohit.sharma123@vctcpune.co.in\"\"\"\n",
    "\n",
    "mail=re.findall('[a-zA-Z0-9._]{2,20}[@][a-zA-Z0-9._]{2,20}',mail_ids)\n",
    "mail"
   ]
  },
  {
   "cell_type": "code",
   "execution_count": 33,
   "metadata": {},
   "outputs": [
    {
     "data": {
      "text/plain": [
       "['Rohit.134_sharma@rediffmail.co.in']"
      ]
     },
     "execution_count": 33,
     "metadata": {},
     "output_type": "execute_result"
    }
   ],
   "source": [
    "mail=re.findall('[a-zA-Z0-9._]{2,20}[@][a-zA-Z0-9]{2,10}[.][a-zA-Z]{2}[.][a-zA-Z]{2}',\"Rohit.134_sharma@rediffmail.co.in\")\n",
    "mail"
   ]
  },
  {
   "cell_type": "code",
   "execution_count": 34,
   "metadata": {},
   "outputs": [
    {
     "data": {
      "text/plain": [
       "[]"
      ]
     },
     "execution_count": 34,
     "metadata": {},
     "output_type": "execute_result"
    }
   ],
   "source": [
    "mail=re.findall('[a-zA-Z0-9._]{2,20}[@][a-zA-Z0-9]{2,10}[.][a-zA-Z]{2}[.][a-zA-Z]{2}',\"rohit134sharma@rediffmail.com\")\n",
    "mail"
   ]
  },
  {
   "cell_type": "code",
   "execution_count": 35,
   "metadata": {},
   "outputs": [
    {
     "name": "stdout",
     "output_type": "stream",
     "text": [
      "['hr@cognizant.com', 'rohitwithoutmail', 'rohitsharma1234@gmail.com', 'rohit134sharma@rediffmail.com', 'rohit134sharma@rediffmail.co.in', 'ROHITSHARMA@IITian.edu.in', 'Rohit.sharma123@vctcpune.co.in', 'Rohit_SHARMA007@BCCI.com']\n"
     ]
    }
   ],
   "source": [
    "import re\n",
    "mail_ids= \"\"\"hr@cognizant.com\n",
    "            rohitwithoutmail,\n",
    "            rohitsharma1234@gmail.com\n",
    "            rohit134sharma@rediffmail.com\n",
    "            rohit134sharma@rediffmail.co.in\n",
    "            ROHITSHARMA@IITian.edu.in\n",
    "            Rohit.sharma123@vctcpune.co.in\n",
    "            Rohit_SHARMA007@BCCI.com\"\"\"\n",
    "found_items=re.findall('[A-Za-z0-9_@.]{2,40}',mail_ids)\n",
    "print(found_items)"
   ]
  },
  {
   "cell_type": "code",
   "execution_count": 36,
   "metadata": {},
   "outputs": [
    {
     "name": "stdout",
     "output_type": "stream",
     "text": [
      "['hr@cognizant.com', 'rohitsharma1234@gmail.com', 'rohit134sharma@rediffmail.com', 'rohit134sharma@rediffmail.co.in', 'ROHITSHARMA@IITian.edu.in', 'Rohit.sharma123@vctcpune.co.in', 'Rohit_SHARMA007@BCCI.com']\n"
     ]
    }
   ],
   "source": [
    "import re\n",
    "text= \"\"\"hr@cognizant.com\n",
    "            rohitsharma1234@gmail.com\n",
    "            rohit134sharma@rediffmail.com\n",
    "            rohit134sharma@rediffmail.co.in\n",
    "            ROHITSHARMA@IITian.edu.in\n",
    "            Rohit.sharma123@vctcpune.co.in\n",
    "            Rohit_SHARMA007@BCCI.com\"\"\"\n",
    "all_mail_ids=re.findall('[a-zA-Z0-9_.]{2,20}[@][a-zA-Z0-9._]{2,20}',text)\n",
    "print(all_mail_ids)"
   ]
  },
  {
   "cell_type": "code",
   "execution_count": 47,
   "metadata": {},
   "outputs": [
    {
     "name": "stdout",
     "output_type": "stream",
     "text": [
      "['rohitsharma1234@gmail.com']\n"
     ]
    }
   ],
   "source": [
    "import re\n",
    "text= \"\"\"hr@cognizant.com\n",
    "            rohitsharma1234@gmail.com\n",
    "            rohit134sharma@rediffmail.com\n",
    "            rohit134sharma@rediffmail.co.in\n",
    "            ROHITSHARMA@IITian.edu.in\n",
    "            Rohit.sharma123@vctcpune.co.in\n",
    "            Rohit_SHARMA007@BCCI.com\"\"\"\n",
    "all_mail_ids=re.findall('[a-zA-Z0-9_.]{1,30}[@gmail.com]{10}',text)\n",
    "print(all_mail_ids)"
   ]
  },
  {
   "cell_type": "code",
   "execution_count": 53,
   "metadata": {},
   "outputs": [
    {
     "name": "stdout",
     "output_type": "stream",
     "text": [
      "['rohit134sharma@rediffmail.co.in', 'Rohit.sharma123@vctcpune.co.in']\n"
     ]
    }
   ],
   "source": [
    "import re\n",
    "text= \"\"\"hr@cognizant.com\n",
    "            rohitsharma1234@gmail.com\n",
    "            rohit134sharma@rediffmail.com\n",
    "            rohit134sharma@rediffmail.co.in\n",
    "            ROHITSHARMA@IITian.edu.in\n",
    "            Rohit.sharma123@vctcpune.co.in\n",
    "            Rohit_SHARMA007@BCCI.com\"\"\"\n",
    "all_mail_ids=re.findall('[a-zA-Z0-9_.]{2,30}[@][a-zA-Z0-9_]{5,10}[.co.in]{6}',text)\n",
    "print(all_mail_ids)"
   ]
  },
  {
   "cell_type": "code",
   "execution_count": 54,
   "metadata": {},
   "outputs": [
    {
     "data": {
      "text/plain": [
       "['hr@cognizant.com',\n",
       " 'rohitsharma1234@gmail.com',\n",
       " 'rohit134sharma@rediffmail.com',\n",
       " 'rohit134sharma@rediffmail.co.in',\n",
       " 'ROHITSHARMA@IITian.edu.in',\n",
       " 'Rohit.sharma123@vctcpune.co.in',\n",
       " 'Rohit_SHARMA007@BCCI.com']"
      ]
     },
     "execution_count": 54,
     "metadata": {},
     "output_type": "execute_result"
    }
   ],
   "source": [
    "import re\n",
    "mails= \"\"\"hr@cognizant.com\n",
    "            rohitsharma1234@gmail.com\n",
    "            rohit134sharma@rediffmail.com\n",
    "            rohit134sharma@rediffmail.co.in\n",
    "            ROHITSHARMA@IITian.edu.in\n",
    "            Rohit.sharma123@vctcpune.co.in\n",
    "            Rohit_SHARMA007@BCCI.com\"\"\"\n",
    "\n",
    "mail=re.findall('[A-Za-z0-9._]{2,50}[@][A-Za-z]{3,20}[.][a-z.]{2,20}',mails)\n",
    "mail"
   ]
  },
  {
   "cell_type": "code",
   "execution_count": 30,
   "metadata": {},
   "outputs": [
    {
     "data": {
      "text/plain": [
       "['hr@cognizant.com',\n",
       " 'pythoncoding',\n",
       " 'rohitsharma1234@gmail.com',\n",
       " 'rohit134sharma@rediffmail.com',\n",
       " 'rohit134sharma@rediffmail.co.in',\n",
       " 'ROHITSHARMA@IITian.edu.in',\n",
       " 'Rohit.sharma123@vctcpune.co.in']"
      ]
     },
     "execution_count": 30,
     "metadata": {},
     "output_type": "execute_result"
    }
   ],
   "source": [
    "mail=re.findall('[a-zA-Z0-9@._]{2,40}',mail_ids)\n",
    "mail"
   ]
  },
  {
   "cell_type": "code",
   "execution_count": null,
   "metadata": {},
   "outputs": [],
   "source": []
  },
  {
   "cell_type": "markdown",
   "metadata": {},
   "source": [
    "##### Assignment question"
   ]
  },
  {
   "cell_type": "code",
   "execution_count": null,
   "metadata": {},
   "outputs": [],
   "source": [
    "Python Program for Largest and Smallest Y digit number divisible by X"
   ]
  },
  {
   "cell_type": "code",
   "execution_count": 57,
   "metadata": {},
   "outputs": [
    {
     "name": "stdout",
     "output_type": "stream",
     "text": [
      "Entrt the number95\n",
      "Enter the digit3\n",
      "950\n",
      "190\n"
     ]
    }
   ],
   "source": [
    "def small_large(x,digit):\n",
    "    maxi = pow(10,digit)-1\n",
    "    print(maxi - maxi%x)\n",
    "\n",
    "    mini = pow(10,digit-1)\n",
    "    if mini % x ==0:\n",
    "        print(mini)\n",
    "    else:\n",
    "        mini = mini+x-(mini % x)\n",
    "        print(mini)\n",
    "x = int(input('Entrt the number'))\n",
    "digit = int(input('Enter the digit'))\n",
    "small_large(x,digit)"
   ]
  },
  {
   "cell_type": "code",
   "execution_count": 59,
   "metadata": {},
   "outputs": [
    {
     "data": {
      "text/plain": [
       "(120, 990)"
      ]
     },
     "execution_count": 59,
     "metadata": {},
     "output_type": "execute_result"
    }
   ],
   "source": [
    "def largest_divisible(x, k):\n",
    "    list_of_divisibles = [i for i in range((pow(10, k-1)), ((pow(10, k)))) if i%x == 0]\n",
    "    return list_of_divisibles[0], list_of_divisibles[-1] \n",
    "\n",
    "largest_divisible(30, 3)"
   ]
  },
  {
   "cell_type": "code",
   "execution_count": null,
   "metadata": {},
   "outputs": [],
   "source": []
  }
 ],
 "metadata": {
  "kernelspec": {
   "display_name": "Python 3",
   "language": "python",
   "name": "python3"
  },
  "language_info": {
   "codemirror_mode": {
    "name": "ipython",
    "version": 3
   },
   "file_extension": ".py",
   "mimetype": "text/x-python",
   "name": "python",
   "nbconvert_exporter": "python",
   "pygments_lexer": "ipython3",
   "version": "3.8.5"
  },
  "toc": {
   "base_numbering": 1,
   "nav_menu": {},
   "number_sections": true,
   "sideBar": true,
   "skip_h1_title": false,
   "title_cell": "Table of Contents",
   "title_sidebar": "Contents",
   "toc_cell": false,
   "toc_position": {},
   "toc_section_display": true,
   "toc_window_display": false
  }
 },
 "nbformat": 4,
 "nbformat_minor": 4
}

{
 "cells": [
  {
   "cell_type": "markdown",
   "id": "182089ae",
   "metadata": {},
   "source": [
    "# Features of Python\n"
   ]
  },
  {
   "cell_type": "markdown",
   "id": "bfac732f",
   "metadata": {},
   "source": [
    "1. simple to learn, simple to debug.\n",
    "2. Freee & Open source.\n",
    "3.Vast library support\n",
    "4. Programming friendly language.(easy to write, read & script)\n",
    "5. Object oriented programing language.\n",
    "6. Python is an interprited language. (It does not require prior compilation)\n",
    "7. globaly used language.\n",
    "8. Most widely used language."
   ]
  },
  {
   "cell_type": "code",
   "execution_count": 14,
   "id": "b64bfdfe",
   "metadata": {},
   "outputs": [
    {
     "data": {
      "text/plain": [
       "10"
      ]
     },
     "execution_count": 14,
     "metadata": {},
     "output_type": "execute_result"
    }
   ],
   "source": [
    "2*5\n"
   ]
  },
  {
   "cell_type": "markdown",
   "id": "f67834b4",
   "metadata": {},
   "source": [
    "## Variables"
   ]
  },
  {
   "cell_type": "markdown",
   "id": "03943bf7",
   "metadata": {},
   "source": [
    "Defination- Variables the the containers / entities that stores data.\n"
   ]
  },
  {
   "cell_type": "code",
   "execution_count": null,
   "id": "a70d780b",
   "metadata": {},
   "outputs": [],
   "source": [
    "Rules to create variable:\n",
    "    1. Letters(a-z, A-Z, 0-9)\n",
    "    2. It can use underscore(_) only.\n",
    "    3. Case Sensitive.\n",
    "    4. Variables should not start with numbers.\n",
    "    5. iIt can not use any other special characters than _. (*&^%$#@!)\n",
    "    6. can not use reserved keywords. (int, class, in, True, else, any, if etc.)\n",
    "    7. We can use multiple variables in single line using , or ;"
   ]
  },
  {
   "cell_type": "code",
   "execution_count": 15,
   "id": "4d90df42",
   "metadata": {},
   "outputs": [],
   "source": [
    "a = 5\n"
   ]
  },
  {
   "cell_type": "code",
   "execution_count": 16,
   "id": "f4e11d85",
   "metadata": {},
   "outputs": [
    {
     "data": {
      "text/plain": [
       "5"
      ]
     },
     "execution_count": 16,
     "metadata": {},
     "output_type": "execute_result"
    }
   ],
   "source": [
    "a"
   ]
  },
  {
   "cell_type": "code",
   "execution_count": 17,
   "id": "08cdb0f7",
   "metadata": {},
   "outputs": [
    {
     "data": {
      "text/plain": [
       "25"
      ]
     },
     "execution_count": 17,
     "metadata": {},
     "output_type": "execute_result"
    }
   ],
   "source": [
    "b = 5*5\n",
    "b"
   ]
  },
  {
   "cell_type": "code",
   "execution_count": 20,
   "id": "6e19f2b5",
   "metadata": {},
   "outputs": [
    {
     "data": {
      "text/plain": [
       "10"
      ]
     },
     "execution_count": 20,
     "metadata": {},
     "output_type": "execute_result"
    }
   ],
   "source": [
    "a = 8\n",
    "\n",
    "A "
   ]
  },
  {
   "cell_type": "code",
   "execution_count": 22,
   "id": "142b0cd6",
   "metadata": {},
   "outputs": [
    {
     "data": {
      "text/plain": [
       "4"
      ]
     },
     "execution_count": 22,
     "metadata": {},
     "output_type": "execute_result"
    }
   ],
   "source": [
    "b = 4\n",
    "b"
   ]
  },
  {
   "cell_type": "code",
   "execution_count": 26,
   "id": "83e7a25a",
   "metadata": {},
   "outputs": [
    {
     "ename": "SyntaxError",
     "evalue": "invalid syntax (<ipython-input-26-c9e93aed49a9>, line 1)",
     "output_type": "error",
     "traceback": [
      "\u001b[1;36m  File \u001b[1;32m\"<ipython-input-26-c9e93aed49a9>\"\u001b[1;36m, line \u001b[1;32m1\u001b[0m\n\u001b[1;33m    7B = 10\u001b[0m\n\u001b[1;37m     ^\u001b[0m\n\u001b[1;31mSyntaxError\u001b[0m\u001b[1;31m:\u001b[0m invalid syntax\n"
     ]
    }
   ],
   "source": [
    "7B = 10\n",
    "7B"
   ]
  },
  {
   "cell_type": "code",
   "execution_count": 28,
   "id": "da377339",
   "metadata": {},
   "outputs": [
    {
     "data": {
      "text/plain": [
       "10"
      ]
     },
     "execution_count": 28,
     "metadata": {},
     "output_type": "execute_result"
    }
   ],
   "source": [
    "b7g = 10\n",
    "b7g"
   ]
  },
  {
   "cell_type": "code",
   "execution_count": 29,
   "id": "ed44e6e1",
   "metadata": {},
   "outputs": [
    {
     "ename": "SyntaxError",
     "evalue": "invalid syntax (<ipython-input-29-05ec61fe57a3>, line 1)",
     "output_type": "error",
     "traceback": [
      "\u001b[1;36m  File \u001b[1;32m\"<ipython-input-29-05ec61fe57a3>\"\u001b[1;36m, line \u001b[1;32m1\u001b[0m\n\u001b[1;33m    &7= 12\u001b[0m\n\u001b[1;37m    ^\u001b[0m\n\u001b[1;31mSyntaxError\u001b[0m\u001b[1;31m:\u001b[0m invalid syntax\n"
     ]
    }
   ],
   "source": [
    "&7= 12\n",
    "&7"
   ]
  },
  {
   "cell_type": "code",
   "execution_count": 30,
   "id": "7e1072c2",
   "metadata": {},
   "outputs": [
    {
     "ename": "SyntaxError",
     "evalue": "invalid syntax (<ipython-input-30-45c793d42091>, line 1)",
     "output_type": "error",
     "traceback": [
      "\u001b[1;36m  File \u001b[1;32m\"<ipython-input-30-45c793d42091>\"\u001b[1;36m, line \u001b[1;32m1\u001b[0m\n\u001b[1;33m    7& =12\u001b[0m\n\u001b[1;37m       ^\u001b[0m\n\u001b[1;31mSyntaxError\u001b[0m\u001b[1;31m:\u001b[0m invalid syntax\n"
     ]
    }
   ],
   "source": [
    "7& =12\n",
    "7&"
   ]
  },
  {
   "cell_type": "code",
   "execution_count": 31,
   "id": "25e0de02",
   "metadata": {},
   "outputs": [
    {
     "data": {
      "text/plain": [
       "100"
      ]
     },
     "execution_count": 31,
     "metadata": {},
     "output_type": "execute_result"
    }
   ],
   "source": [
    "_home=100\n",
    "_home"
   ]
  },
  {
   "cell_type": "code",
   "execution_count": 32,
   "id": "c5edcb85",
   "metadata": {},
   "outputs": [
    {
     "data": {
      "text/plain": [
       "256"
      ]
     },
     "execution_count": 32,
     "metadata": {},
     "output_type": "execute_result"
    }
   ],
   "source": [
    "new_variable = 256\n",
    "new_variable"
   ]
  },
  {
   "cell_type": "code",
   "execution_count": 33,
   "id": "69528387",
   "metadata": {},
   "outputs": [
    {
     "ename": "SyntaxError",
     "evalue": "invalid syntax (<ipython-input-33-0b900c0df9d2>, line 1)",
     "output_type": "error",
     "traceback": [
      "\u001b[1;36m  File \u001b[1;32m\"<ipython-input-33-0b900c0df9d2>\"\u001b[1;36m, line \u001b[1;32m1\u001b[0m\n\u001b[1;33m    if = 500\u001b[0m\n\u001b[1;37m       ^\u001b[0m\n\u001b[1;31mSyntaxError\u001b[0m\u001b[1;31m:\u001b[0m invalid syntax\n"
     ]
    }
   ],
   "source": [
    "if = 500\n",
    "if"
   ]
  },
  {
   "cell_type": "code",
   "execution_count": 36,
   "id": "b4723cde",
   "metadata": {},
   "outputs": [
    {
     "data": {
      "text/plain": [
       "20"
      ]
     },
     "execution_count": 36,
     "metadata": {},
     "output_type": "execute_result"
    }
   ],
   "source": [
    "Jayant_Patil = 20\n",
    "Jayant_Patil"
   ]
  },
  {
   "cell_type": "code",
   "execution_count": 39,
   "id": "dd9dd84b",
   "metadata": {},
   "outputs": [
    {
     "data": {
      "text/plain": [
       "20"
      ]
     },
     "execution_count": 39,
     "metadata": {},
     "output_type": "execute_result"
    }
   ],
   "source": [
    "jayant, patil = 20, 40\n",
    "jayant"
   ]
  },
  {
   "cell_type": "code",
   "execution_count": 42,
   "id": "4185fe64",
   "metadata": {},
   "outputs": [
    {
     "data": {
      "text/plain": [
       "89"
      ]
     },
     "execution_count": 42,
     "metadata": {},
     "output_type": "execute_result"
    }
   ],
   "source": [
    "a = 33 ; b = 89\n",
    "b"
   ]
  },
  {
   "cell_type": "code",
   "execution_count": null,
   "id": "d94b234e",
   "metadata": {},
   "outputs": [],
   "source": []
  }
 ],
 "metadata": {
  "kernelspec": {
   "display_name": "Python 3",
   "language": "python",
   "name": "python3"
  },
  "language_info": {
   "codemirror_mode": {
    "name": "ipython",
    "version": 3
   },
   "file_extension": ".py",
   "mimetype": "text/x-python",
   "name": "python",
   "nbconvert_exporter": "python",
   "pygments_lexer": "ipython3",
   "version": "3.8.8"
  },
  "toc": {
   "base_numbering": 1,
   "nav_menu": {},
   "number_sections": true,
   "sideBar": true,
   "skip_h1_title": false,
   "title_cell": "Table of Contents",
   "title_sidebar": "Contents",
   "toc_cell": false,
   "toc_position": {},
   "toc_section_display": true,
   "toc_window_display": false
  },
  "varInspector": {
   "cols": {
    "lenName": 16,
    "lenType": 16,
    "lenVar": 40
   },
   "kernels_config": {
    "python": {
     "delete_cmd_postfix": "",
     "delete_cmd_prefix": "del ",
     "library": "var_list.py",
     "varRefreshCmd": "print(var_dic_list())"
    },
    "r": {
     "delete_cmd_postfix": ") ",
     "delete_cmd_prefix": "rm(",
     "library": "var_list.r",
     "varRefreshCmd": "cat(var_dic_list()) "
    }
   },
   "types_to_exclude": [
    "module",
    "function",
    "builtin_function_or_method",
    "instance",
    "_Feature"
   ],
   "window_display": false
  }
 },
 "nbformat": 4,
 "nbformat_minor": 5
}

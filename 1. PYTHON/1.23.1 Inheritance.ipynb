{
 "cells": [
  {
   "cell_type": "raw",
   "id": "8767a049",
   "metadata": {},
   "source": [
    "OOPs:\n",
    "    Object Oriented Programming\n",
    "    There are bassically 4 pillars of OOPs:\n",
    "        Inheritance,\n",
    "        Abstraction,\n",
    "        Encapsulation\n",
    "        Polymorphism"
   ]
  },
  {
   "cell_type": "code",
   "execution_count": null,
   "id": "b64c84fc",
   "metadata": {},
   "outputs": [],
   "source": [
    "self: Self binds the methods to the class\n",
    "     it shows that a menthod having self is the property of the class.\n",
    "self:\n",
    "    1) Used to access variable\n",
    "    2) It will differentiate between  Inst var and Local Var by creating instance variable\n",
    "    3) Used in every function/Method being an inbuilt property of class\n",
    "    4) self actually binds together given attributes with arguments & methods"
   ]
  },
  {
   "cell_type": "code",
   "execution_count": 3,
   "id": "7712e77c",
   "metadata": {},
   "outputs": [
    {
     "name": "stdout",
     "output_type": "stream",
     "text": [
      "hello Krishna\n"
     ]
    }
   ],
   "source": [
    "class Classname:                #defining a class\n",
    "    def function(self,name):    #defing a method\n",
    "        print(f\"hello {name}\")\n",
    "         \n",
    "object1=Classname()             #defining an object for the class\n",
    "object1.function('Krishna')     #calling a method of the class using object"
   ]
  },
  {
   "cell_type": "code",
   "execution_count": 4,
   "id": "857412cd",
   "metadata": {},
   "outputs": [
    {
     "name": "stdout",
     "output_type": "stream",
     "text": [
      "hello Krishna\n"
     ]
    }
   ],
   "source": [
    "Classname().function('Krishna')"
   ]
  },
  {
   "cell_type": "code",
   "execution_count": 14,
   "id": "187454ee",
   "metadata": {},
   "outputs": [
    {
     "name": "stdout",
     "output_type": "stream",
     "text": [
      "avg is: 50.666666666666664\n",
      "avg is: 266.6666666666667\n"
     ]
    }
   ],
   "source": [
    "class simplemaths:                #defining a class\n",
    "    def avg(self,a,b,c):          #defing a method\n",
    "        print(f\"avg is: {(a+b+c)/3}\")\n",
    "        \n",
    "obj1=simplemaths()\n",
    "obj1.avg(25,58,69)\n",
    "\n",
    "obj2=simplemaths()\n",
    "obj2.avg(100,200,500)"
   ]
  },
  {
   "cell_type": "markdown",
   "id": "b9ce7330",
   "metadata": {},
   "source": []
  },
  {
   "cell_type": "code",
   "execution_count": 18,
   "id": "556a7015",
   "metadata": {},
   "outputs": [
    {
     "name": "stdout",
     "output_type": "stream",
     "text": [
      "2 3 4\n",
      "sum is - 13\n",
      "avg is: 6.0\n"
     ]
    }
   ],
   "source": [
    "class simplemaths: #defining a class\n",
    "    def numbers(self,a,b,c):\n",
    "        print(a,b,c)\n",
    "    def sumation(self,a,b,c):\n",
    "        print(f\"sum is - {a+b+c}\")\n",
    "    def avg(self,a,b,c):          #defing a method\n",
    "        print(f\"avg is: {(a+b+c)/3}\")\n",
    "        \n",
    "my_maths=simplemaths()\n",
    "\n",
    "my_maths.numbers(2,3,4)\n",
    "my_maths.sumation(2,5,6)\n",
    "my_maths.avg(3,6,9)"
   ]
  },
  {
   "cell_type": "code",
   "execution_count": null,
   "id": "9dfcb273",
   "metadata": {},
   "outputs": [],
   "source": [
    "5. __init__:\n",
    "    1) is used for initializing varibales or intake of arguments.\n",
    "    2) A prior function that we use to take arguments for class.\n",
    "    3) It helps in connecting arguements of derived class & base class.\n",
    "    4) Called automatically when the class is being used to create"
   ]
  },
  {
   "cell_type": "code",
   "execution_count": null,
   "id": "077e7b7b",
   "metadata": {},
   "outputs": [],
   "source": [
    "for class variables- using self. before accessing that variable is mandatory.\n",
    "for class arguements, converting them into instance variable is imp. & should be called with self. keyword\n",
    "\n",
    "However for local variables & method arguements, adding self before the variables while calling that variable is not required!"
   ]
  },
  {
   "cell_type": "code",
   "execution_count": 72,
   "id": "6ffc04b0",
   "metadata": {},
   "outputs": [
    {
     "name": "stdout",
     "output_type": "stream",
     "text": [
      "we are in init\n",
      "Student's roll no. is:  35  & Score is:  100\n"
     ]
    }
   ],
   "source": [
    "class college:\n",
    "    \n",
    "    student_name= 'Ganesh'       #Class Variable / Static Variable\n",
    "    \n",
    "    def __init__(self, clg_name):      #class constructor\n",
    "        self.clg_name = clg_name       #instance variable\n",
    "        \n",
    "#         student_name= 'Ganesh'\n",
    "#         self.student_name=student_name\n",
    "        \n",
    "        print('we are in init')\n",
    "        \n",
    "    def student_roll_no(self,score):\n",
    "        roll_no=35                     #local variable\n",
    "        self.roll_no=roll_no           #instance variable\n",
    "        self.score=score\n",
    "        print(\"Student's roll no. is: \",self.roll_no,\" & Score is: \",self.score)\n",
    "        \n",
    "    def college_name(self):\n",
    "        print(\"college name is: \",self.clg_name)\n",
    "        \n",
    "    def student_names(self):\n",
    "        print(\"Student's name is: \",self.student_name)\n",
    "        \n",
    "clg=college('MIT')\n",
    "clg.student_roll_no(100)\n",
    "# clg.college_name()\n",
    "# clg.student_names()"
   ]
  },
  {
   "cell_type": "markdown",
   "id": "7a31ed7d",
   "metadata": {},
   "source": [
    "## Inheritance"
   ]
  },
  {
   "cell_type": "raw",
   "id": "642247eb",
   "metadata": {},
   "source": [
    "It allows a class to inheritate the properties(variables,methods) of another class\n",
    "It code reusability\n",
    "\n",
    "Base class/ Parent Class/ Super Class\n",
    "Derived class/ Child Class/ Sub class   (they derive the properties of Base class)\n",
    "\n",
    "we create the object for child class only"
   ]
  },
  {
   "cell_type": "code",
   "execution_count": 19,
   "id": "8cf28514",
   "metadata": {},
   "outputs": [
    {
     "name": "stdout",
     "output_type": "stream",
     "text": [
      "this is parent class\n",
      "this is my child class\n"
     ]
    }
   ],
   "source": [
    "class parent():\n",
    "    print('this is parent class')\n",
    "class child():\n",
    "    print('this is my child class')\n",
    "    "
   ]
  },
  {
   "cell_type": "code",
   "execution_count": 24,
   "id": "2260829d",
   "metadata": {},
   "outputs": [
    {
     "name": "stdout",
     "output_type": "stream",
     "text": [
      "this is my child class\n",
      "this is parent class\n"
     ]
    }
   ],
   "source": [
    "class parent():\n",
    "    def name(self):\n",
    "        print('this is parent class')\n",
    "class child(parent):\n",
    "    print('this is my child class')\n",
    "    \n",
    "    \n",
    "obj=child()\n",
    "obj.name()"
   ]
  },
  {
   "cell_type": "code",
   "execution_count": 30,
   "id": "814d7faa",
   "metadata": {},
   "outputs": [
    {
     "name": "stdout",
     "output_type": "stream",
     "text": [
      "this is parent class\n",
      "this is my child class\n"
     ]
    }
   ],
   "source": [
    "class parent():\n",
    "    def parent_name(self):\n",
    "        print('this is parent class')\n",
    "        \n",
    "class child(parent):\n",
    "    def child_name(self):\n",
    "        print('this is my child class')\n",
    "    \n",
    "    \n",
    "obj=child()\n",
    "obj.parent_name()\n",
    "obj.child_name()"
   ]
  },
  {
   "cell_type": "code",
   "execution_count": null,
   "id": "0518a9e2",
   "metadata": {},
   "outputs": [],
   "source": []
  }
 ],
 "metadata": {
  "kernelspec": {
   "display_name": "Python 3",
   "language": "python",
   "name": "python3"
  },
  "language_info": {
   "codemirror_mode": {
    "name": "ipython",
    "version": 3
   },
   "file_extension": ".py",
   "mimetype": "text/x-python",
   "name": "python",
   "nbconvert_exporter": "python",
   "pygments_lexer": "ipython3",
   "version": "3.8.8"
  },
  "toc": {
   "base_numbering": 1,
   "nav_menu": {},
   "number_sections": true,
   "sideBar": true,
   "skip_h1_title": false,
   "title_cell": "Table of Contents",
   "title_sidebar": "Contents",
   "toc_cell": false,
   "toc_position": {},
   "toc_section_display": true,
   "toc_window_display": false
  },
  "varInspector": {
   "cols": {
    "lenName": 16,
    "lenType": 16,
    "lenVar": 40
   },
   "kernels_config": {
    "python": {
     "delete_cmd_postfix": "",
     "delete_cmd_prefix": "del ",
     "library": "var_list.py",
     "varRefreshCmd": "print(var_dic_list())"
    },
    "r": {
     "delete_cmd_postfix": ") ",
     "delete_cmd_prefix": "rm(",
     "library": "var_list.r",
     "varRefreshCmd": "cat(var_dic_list()) "
    }
   },
   "types_to_exclude": [
    "module",
    "function",
    "builtin_function_or_method",
    "instance",
    "_Feature"
   ],
   "window_display": false
  }
 },
 "nbformat": 4,
 "nbformat_minor": 5
}

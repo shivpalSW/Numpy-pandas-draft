{
 "cells": [
  {
   "cell_type": "code",
   "execution_count": 1,
   "id": "7e0ae974",
   "metadata": {},
   "outputs": [],
   "source": [
    "import time\n",
    "import datetime"
   ]
  },
  {
   "cell_type": "code",
   "execution_count": 2,
   "id": "7b9658d3",
   "metadata": {},
   "outputs": [],
   "source": [
    "# from time import time\n",
    "# from datetime import datetime"
   ]
  },
  {
   "cell_type": "raw",
   "id": "913040d0",
   "metadata": {},
   "source": [
    "d1= 16-06-2018\n",
    "d2= 16-June-2018\n",
    "d3= 16/June/2018\n",
    "d3= 16 June 2018\n",
    "d4= 16062018\n",
    "d5= '16/06/2018'"
   ]
  },
  {
   "cell_type": "raw",
   "id": "ee8aa8ee",
   "metadata": {},
   "source": [
    "Documents_Name            Upload Document Time                Status\n",
    "PAN_Rohit                 2021-10-12 08:12                    successful\n",
    "PAN_Kshitija              2021-11-14 12:30                    failed\n"
   ]
  },
  {
   "cell_type": "raw",
   "id": "6ce2a4d2",
   "metadata": {},
   "source": [
    "KNN\n",
    "Decision Tree\n",
    "K-Means"
   ]
  },
  {
   "cell_type": "code",
   "execution_count": 5,
   "id": "fe94f704",
   "metadata": {},
   "outputs": [
    {
     "name": "stdout",
     "output_type": "stream",
     "text": [
      "1637724018.612257 this is my satart time\n",
      "Total time taken is:  7.82071852684021\n"
     ]
    }
   ],
   "source": [
    "start_time= time.time()\n",
    "\n",
    "print(start_time,\"this is my start time\")\n",
    "\n",
    "for i in range(100000000):\n",
    "    pass\n",
    "\n",
    "end_time=time.time()\n",
    "\n",
    "time_taken=end_time-start_time\n",
    "print(\"Total time taken is: \",time_taken)"
   ]
  },
  {
   "cell_type": "code",
   "execution_count": 8,
   "id": "6a4d2be8",
   "metadata": {},
   "outputs": [
    {
     "name": "stdout",
     "output_type": "stream",
     "text": [
      "1637724243.0819752 this is my start time\n",
      "Total time taken is:  3.7699625492095947\n"
     ]
    }
   ],
   "source": [
    "start_time= time.time()\n",
    "\n",
    "def test_time():\n",
    "    \n",
    "\n",
    "    print(start_time,\"this is my start time\")\n",
    "\n",
    "    for i in range(100000000):\n",
    "        pass\n",
    "\n",
    "    \n",
    "\n",
    "test_time()\n",
    "    \n",
    "end_time=time.time()\n",
    "\n",
    "\n",
    "print(\"Total time taken is: \",end_time-start_time)\n",
    "\n"
   ]
  },
  {
   "cell_type": "markdown",
   "id": "20d8ccbc",
   "metadata": {},
   "source": [
    "### Time.Time"
   ]
  },
  {
   "cell_type": "code",
   "execution_count": null,
   "id": "4236677d",
   "metadata": {},
   "outputs": [],
   "source": [
    "- It shows the secs that has passed since 1970"
   ]
  },
  {
   "cell_type": "code",
   "execution_count": 9,
   "id": "c17f191c",
   "metadata": {},
   "outputs": [
    {
     "data": {
      "text/plain": [
       "1637724301.2018716"
      ]
     },
     "execution_count": 9,
     "metadata": {},
     "output_type": "execute_result"
    }
   ],
   "source": [
    "time.time()"
   ]
  },
  {
   "cell_type": "code",
   "execution_count": 10,
   "id": "98699611",
   "metadata": {},
   "outputs": [
    {
     "data": {
      "text/plain": [
       "1061.3091155"
      ]
     },
     "execution_count": 10,
     "metadata": {},
     "output_type": "execute_result"
    }
   ],
   "source": [
    "time.perf_counter() #-works same as time.time()"
   ]
  },
  {
   "cell_type": "code",
   "execution_count": 11,
   "id": "e4b49085",
   "metadata": {},
   "outputs": [
    {
     "data": {
      "text/plain": [
       "1637724502.3217115"
      ]
     },
     "execution_count": 11,
     "metadata": {},
     "output_type": "execute_result"
    }
   ],
   "source": [
    "time.time()"
   ]
  },
  {
   "cell_type": "code",
   "execution_count": 12,
   "id": "f7021c3c",
   "metadata": {},
   "outputs": [
    {
     "name": "stdout",
     "output_type": "stream",
     "text": [
      "1280.6549112 this is my start time\n",
      "Total time taken is:  6.742679400000043\n"
     ]
    }
   ],
   "source": [
    "start_time= time.perf_counter()\n",
    "\n",
    "print(start_time,\"this is my start time\")\n",
    "\n",
    "for i in range(100000000):\n",
    "    pass\n",
    "\n",
    "end_time=time.perf_counter()\n",
    "\n",
    "time_taken=end_time-start_time\n",
    "print(\"Total time taken is: \",time_taken)"
   ]
  },
  {
   "cell_type": "markdown",
   "id": "6592df3f",
   "metadata": {},
   "source": [
    "# DateTime"
   ]
  },
  {
   "cell_type": "code",
   "execution_count": 13,
   "id": "dfec5628",
   "metadata": {},
   "outputs": [],
   "source": [
    "import datetime"
   ]
  },
  {
   "cell_type": "code",
   "execution_count": 19,
   "id": "60fc6745",
   "metadata": {},
   "outputs": [
    {
     "name": "stdout",
     "output_type": "stream",
     "text": [
      "2021-11-24 09:05:00.894537\n"
     ]
    }
   ],
   "source": [
    "current_time=datetime.datetime.now()\n",
    "print(current_time)"
   ]
  },
  {
   "cell_type": "code",
   "execution_count": 15,
   "id": "6eeb68e3",
   "metadata": {},
   "outputs": [
    {
     "name": "stdout",
     "output_type": "stream",
     "text": [
      "2021-11-24 09:02:27.569016\n"
     ]
    }
   ],
   "source": [
    "current_time=datetime.datetime.today()\n",
    "print(current_time)"
   ]
  },
  {
   "cell_type": "code",
   "execution_count": 16,
   "id": "e8229d2c",
   "metadata": {},
   "outputs": [
    {
     "name": "stdout",
     "output_type": "stream",
     "text": [
      "Current Time & Date is:  2021-11-24 09:04:08.015034\n"
     ]
    }
   ],
   "source": [
    "import datetime\n",
    "current_time = datetime.datetime.today()\n",
    "print(\"Current Time & Date is: \",current_time)"
   ]
  },
  {
   "cell_type": "code",
   "execution_count": 18,
   "id": "5959eaa2",
   "metadata": {},
   "outputs": [
    {
     "data": {
      "text/plain": [
       "2021"
      ]
     },
     "execution_count": 18,
     "metadata": {},
     "output_type": "execute_result"
    }
   ],
   "source": [
    "current_time.year"
   ]
  },
  {
   "cell_type": "code",
   "execution_count": 20,
   "id": "e698999e",
   "metadata": {},
   "outputs": [
    {
     "data": {
      "text/plain": [
       "11"
      ]
     },
     "execution_count": 20,
     "metadata": {},
     "output_type": "execute_result"
    }
   ],
   "source": [
    "current_time.month"
   ]
  },
  {
   "cell_type": "code",
   "execution_count": 21,
   "id": "83993bb2",
   "metadata": {},
   "outputs": [
    {
     "data": {
      "text/plain": [
       "24"
      ]
     },
     "execution_count": 21,
     "metadata": {},
     "output_type": "execute_result"
    }
   ],
   "source": [
    "current_time.day"
   ]
  },
  {
   "cell_type": "code",
   "execution_count": 22,
   "id": "24400255",
   "metadata": {},
   "outputs": [
    {
     "data": {
      "text/plain": [
       "9"
      ]
     },
     "execution_count": 22,
     "metadata": {},
     "output_type": "execute_result"
    }
   ],
   "source": [
    "current_time.hour"
   ]
  },
  {
   "cell_type": "code",
   "execution_count": 23,
   "id": "49f5cd1f",
   "metadata": {},
   "outputs": [
    {
     "data": {
      "text/plain": [
       "5"
      ]
     },
     "execution_count": 23,
     "metadata": {},
     "output_type": "execute_result"
    }
   ],
   "source": [
    "current_time.minute"
   ]
  },
  {
   "cell_type": "code",
   "execution_count": 25,
   "id": "3999ab68",
   "metadata": {},
   "outputs": [
    {
     "data": {
      "text/plain": [
       "datetime.date(2021, 11, 24)"
      ]
     },
     "execution_count": 25,
     "metadata": {},
     "output_type": "execute_result"
    }
   ],
   "source": [
    "current_time.date()"
   ]
  },
  {
   "cell_type": "code",
   "execution_count": 26,
   "id": "21edc0df",
   "metadata": {},
   "outputs": [
    {
     "name": "stdout",
     "output_type": "stream",
     "text": [
      "2021-11-24\n"
     ]
    }
   ],
   "source": [
    "print(current_time.date())"
   ]
  },
  {
   "cell_type": "code",
   "execution_count": 27,
   "id": "1f94541d",
   "metadata": {},
   "outputs": [
    {
     "name": "stdout",
     "output_type": "stream",
     "text": [
      "09:05:00.894537\n"
     ]
    }
   ],
   "source": [
    "print(current_time.time())"
   ]
  },
  {
   "cell_type": "markdown",
   "id": "f5790936",
   "metadata": {},
   "source": [
    "## TimeDelta"
   ]
  },
  {
   "cell_type": "code",
   "execution_count": 30,
   "id": "92ce3a0c",
   "metadata": {},
   "outputs": [
    {
     "name": "stdout",
     "output_type": "stream",
     "text": [
      "2021-11-24 09:05:00.894537\n"
     ]
    }
   ],
   "source": [
    "print(current_time)"
   ]
  },
  {
   "cell_type": "code",
   "execution_count": 31,
   "id": "ecb11648",
   "metadata": {},
   "outputs": [
    {
     "name": "stdout",
     "output_type": "stream",
     "text": [
      "2021-10-25 09:05:00.894537\n"
     ]
    }
   ],
   "source": [
    "day=current_time + datetime.timedelta(days = -30)\n",
    "print(day)"
   ]
  },
  {
   "cell_type": "code",
   "execution_count": 33,
   "id": "abb3416f",
   "metadata": {},
   "outputs": [
    {
     "name": "stdout",
     "output_type": "stream",
     "text": [
      "2021-12-24 09:05:00.894537\n"
     ]
    }
   ],
   "source": [
    "day=current_time + datetime.timedelta(days = 30)\n",
    "print(day)"
   ]
  },
  {
   "cell_type": "code",
   "execution_count": 36,
   "id": "3fde12d6",
   "metadata": {},
   "outputs": [
    {
     "name": "stdout",
     "output_type": "stream",
     "text": [
      "2021-11-26 09:15:57.583961\n"
     ]
    }
   ],
   "source": [
    "current_time = datetime.datetime.now()\n",
    "day=current_time + datetime.timedelta(days = 2)\n",
    "print(day)"
   ]
  },
  {
   "cell_type": "code",
   "execution_count": 38,
   "id": "126d74f1",
   "metadata": {},
   "outputs": [
    {
     "name": "stdout",
     "output_type": "stream",
     "text": [
      "2021-11-10 09:16:57.810907\n"
     ]
    }
   ],
   "source": [
    "current_time = datetime.datetime.now()\n",
    "day=current_time + datetime.timedelta(weeks = -2)\n",
    "print(day)"
   ]
  },
  {
   "cell_type": "code",
   "execution_count": 40,
   "id": "6cda0435",
   "metadata": {},
   "outputs": [
    {
     "name": "stdout",
     "output_type": "stream",
     "text": [
      "2021-11-24 03:17:20.175945\n"
     ]
    }
   ],
   "source": [
    "current_time = datetime.datetime.now()\n",
    "day=current_time + datetime.timedelta(hours = -6)\n",
    "print(day)"
   ]
  },
  {
   "cell_type": "code",
   "execution_count": 41,
   "id": "35dab0f9",
   "metadata": {},
   "outputs": [],
   "source": [
    "#Wap to find next10days & previous 10 days from today"
   ]
  },
  {
   "cell_type": "code",
   "execution_count": 45,
   "id": "72d7b1f9",
   "metadata": {},
   "outputs": [
    {
     "name": "stdout",
     "output_type": "stream",
     "text": [
      "2021-11-14\n",
      "2021-11-15\n",
      "2021-11-16\n",
      "2021-11-17\n",
      "2021-11-18\n",
      "2021-11-19\n",
      "2021-11-20\n",
      "2021-11-21\n",
      "2021-11-22\n",
      "2021-11-23\n",
      "2021-11-25\n",
      "2021-11-26\n",
      "2021-11-27\n",
      "2021-11-28\n",
      "2021-11-29\n",
      "2021-11-30\n",
      "2021-12-01\n",
      "2021-12-02\n",
      "2021-12-03\n",
      "2021-12-04\n"
     ]
    }
   ],
   "source": [
    "current_time = datetime.datetime.now()\n",
    "\n",
    "for i in range(10,0,-1):\n",
    "    day=current_time + datetime.timedelta(days = -i)\n",
    "    print(day.date())\n",
    "    \n",
    "for i in range(1,11):\n",
    "    day=current_time + datetime.timedelta(days = i)\n",
    "    print(day.date())\n",
    "    "
   ]
  },
  {
   "cell_type": "code",
   "execution_count": null,
   "id": "c0a76811",
   "metadata": {},
   "outputs": [],
   "source": []
  }
 ],
 "metadata": {
  "kernelspec": {
   "display_name": "Python 3",
   "language": "python",
   "name": "python3"
  },
  "language_info": {
   "codemirror_mode": {
    "name": "ipython",
    "version": 3
   },
   "file_extension": ".py",
   "mimetype": "text/x-python",
   "name": "python",
   "nbconvert_exporter": "python",
   "pygments_lexer": "ipython3",
   "version": "3.8.8"
  },
  "toc": {
   "base_numbering": 1,
   "nav_menu": {},
   "number_sections": true,
   "sideBar": true,
   "skip_h1_title": false,
   "title_cell": "Table of Contents",
   "title_sidebar": "Contents",
   "toc_cell": false,
   "toc_position": {},
   "toc_section_display": true,
   "toc_window_display": false
  },
  "varInspector": {
   "cols": {
    "lenName": 16,
    "lenType": 16,
    "lenVar": 40
   },
   "kernels_config": {
    "python": {
     "delete_cmd_postfix": "",
     "delete_cmd_prefix": "del ",
     "library": "var_list.py",
     "varRefreshCmd": "print(var_dic_list())"
    },
    "r": {
     "delete_cmd_postfix": ") ",
     "delete_cmd_prefix": "rm(",
     "library": "var_list.r",
     "varRefreshCmd": "cat(var_dic_list()) "
    }
   },
   "types_to_exclude": [
    "module",
    "function",
    "builtin_function_or_method",
    "instance",
    "_Feature"
   ],
   "window_display": false
  }
 },
 "nbformat": 4,
 "nbformat_minor": 5
}

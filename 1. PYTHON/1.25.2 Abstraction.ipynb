{
 "cells": [
  {
   "cell_type": "raw",
   "id": "277c0e94",
   "metadata": {},
   "source": [
    "Blueprint of other classes / Blueprint of the project\n",
    "by default python does not have abstract method inbuilt. for the same we need to import abc module\n",
    "we don't create the object for abstract class\n",
    "Abstract class is only used for declasration purpose, it is not used for implementation."
   ]
  },
  {
   "cell_type": "code",
   "execution_count": null,
   "id": "68a53892",
   "metadata": {},
   "outputs": [],
   "source": [
    "API>>\n",
    "\n",
    "New Registration\n",
    "Login\n",
    "Process_document\n",
    "save_details"
   ]
  },
  {
   "cell_type": "code",
   "execution_count": 1,
   "id": "d7e47317",
   "metadata": {},
   "outputs": [],
   "source": [
    "from abc import ABC, abstractmethod\n",
    "\n",
    "class ProjectBlueprint(ABC):\n",
    "    \n",
    "    @abstractmethod\n",
    "    def New_registration(self):\n",
    "        pass\n",
    "    \n",
    "    @abstractmethod\n",
    "    def Login(self):\n",
    "        pass\n",
    "    \n",
    "    @abstractmethod\n",
    "    def Process_document(self):\n",
    "        pass\n",
    "    \n",
    "    @abstractmethod\n",
    "    def save_details(self):\n",
    "        pass\n",
    "    \n",
    "    "
   ]
  },
  {
   "cell_type": "code",
   "execution_count": 2,
   "id": "eabce82a",
   "metadata": {},
   "outputs": [],
   "source": [
    "class ProjectAPI(ProjectBlueprint):\n",
    "    \n",
    "    def New_registration(self):\n",
    "        print(\"Registration API here\")\n",
    "    \n",
    "    def Login(self):\n",
    "        print(\"Login API here\")\n",
    "\n",
    "    def Process_document(self):\n",
    "        print(\"Process Document API here\")\n",
    "\n",
    "    def save_details(self):\n",
    "        print(\"Save details API here\")\n",
    "    "
   ]
  },
  {
   "cell_type": "code",
   "execution_count": 3,
   "id": "39fe3db5",
   "metadata": {},
   "outputs": [
    {
     "name": "stdout",
     "output_type": "stream",
     "text": [
      "Registration API here\n",
      "Login API here\n",
      "Process Document API here\n",
      "Save details API here\n"
     ]
    }
   ],
   "source": [
    "projobj=ProjectAPI()\n",
    "projobj.New_registration()\n",
    "projobj.Login()\n",
    "projobj.Process_document()\n",
    "projobj.save_details()"
   ]
  },
  {
   "cell_type": "code",
   "execution_count": 16,
   "id": "32e09f13",
   "metadata": {},
   "outputs": [
    {
     "name": "stdout",
     "output_type": "stream",
     "text": [
      "Registration API here\n",
      "Login API here\n",
      "test here\n",
      "Process Document API here\n"
     ]
    }
   ],
   "source": [
    "from abc import ABC, abstractmethod                 #importing the abstactmehtod & abc\n",
    "\n",
    "class ProjectBlueprint(ABC):                        #creating an abstract class here\n",
    "    \n",
    "    @abstractmethod                                 #Abstract decorator\n",
    "    def New_registration(self):                     #stating an abstract method\n",
    "        pass\n",
    "    \n",
    "    @abstractmethod\n",
    "    def Process_document(self):\n",
    "        pass\n",
    "    \n",
    "    @abstractmethod\n",
    "    def Login(self):                                #another abstract method\n",
    "        pass\n",
    "\n",
    "    def save_details(self):                         #Normal method\n",
    "        print(\"test here\")\n",
    "    \n",
    "class ProjectAPI(ProjectBlueprint):\n",
    "    \n",
    "    def New_registration(self):\n",
    "        print(\"Registration API here\")\n",
    "    \n",
    "    def Login(self):\n",
    "        print(\"Login API here\")\n",
    "\n",
    "    def Process_document(self):\n",
    "        print(\"Process Document API here\")\n",
    "\n",
    "#     def save_details(self):\n",
    "#         print(\"Save details API here\")\n",
    "\n",
    "projobj=ProjectAPI()\n",
    "projobj.New_registration()\n",
    "projobj.Login()\n",
    "projobj.save_details()\n",
    "projobj.Process_document()\n"
   ]
  },
  {
   "cell_type": "code",
   "execution_count": null,
   "id": "fb8cecc4",
   "metadata": {},
   "outputs": [],
   "source": []
  }
 ],
 "metadata": {
  "kernelspec": {
   "display_name": "Python 3",
   "language": "python",
   "name": "python3"
  },
  "language_info": {
   "codemirror_mode": {
    "name": "ipython",
    "version": 3
   },
   "file_extension": ".py",
   "mimetype": "text/x-python",
   "name": "python",
   "nbconvert_exporter": "python",
   "pygments_lexer": "ipython3",
   "version": "3.8.8"
  },
  "toc": {
   "base_numbering": 1,
   "nav_menu": {},
   "number_sections": true,
   "sideBar": true,
   "skip_h1_title": false,
   "title_cell": "Table of Contents",
   "title_sidebar": "Contents",
   "toc_cell": false,
   "toc_position": {},
   "toc_section_display": true,
   "toc_window_display": false
  },
  "varInspector": {
   "cols": {
    "lenName": 16,
    "lenType": 16,
    "lenVar": 40
   },
   "kernels_config": {
    "python": {
     "delete_cmd_postfix": "",
     "delete_cmd_prefix": "del ",
     "library": "var_list.py",
     "varRefreshCmd": "print(var_dic_list())"
    },
    "r": {
     "delete_cmd_postfix": ") ",
     "delete_cmd_prefix": "rm(",
     "library": "var_list.r",
     "varRefreshCmd": "cat(var_dic_list()) "
    }
   },
   "types_to_exclude": [
    "module",
    "function",
    "builtin_function_or_method",
    "instance",
    "_Feature"
   ],
   "window_display": false
  }
 },
 "nbformat": 4,
 "nbformat_minor": 5
}

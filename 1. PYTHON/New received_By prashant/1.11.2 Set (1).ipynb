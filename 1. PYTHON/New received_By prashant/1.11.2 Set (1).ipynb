{
 "cells": [
  {
   "cell_type": "raw",
   "metadata": {},
   "source": [
    "Set:\n",
    "    unordered data type\n",
    "    Mutable data type\n",
    "    Duplicates not allowed\n",
    "    addition of mutable items is possible\n",
    "    indexing not supported by set\n",
    "    \n",
    "Mutable>> list, set, dict\n",
    "Immutable >> str, tuple, int, float, bool\n",
    "\n",
    "enclosed in {} brackets\n",
    "initialise set by set constructor ------ set()"
   ]
  },
  {
   "cell_type": "raw",
   "metadata": {},
   "source": [
    "list1= [,]\n",
    "tuple1= (,)\n",
    "string= \" \"\n",
    "set1 = {,}\n",
    "dictionary= {key:value,}"
   ]
  },
  {
   "cell_type": "code",
   "execution_count": 4,
   "metadata": {},
   "outputs": [
    {
     "data": {
      "text/plain": [
       "dict"
      ]
     },
     "execution_count": 4,
     "metadata": {},
     "output_type": "execute_result"
    }
   ],
   "source": [
    "set1={}\n",
    "type(set1)"
   ]
  },
  {
   "cell_type": "code",
   "execution_count": 3,
   "metadata": {},
   "outputs": [
    {
     "data": {
      "text/plain": [
       "set"
      ]
     },
     "execution_count": 3,
     "metadata": {},
     "output_type": "execute_result"
    }
   ],
   "source": [
    "set1={1,}\n",
    "type(set1)"
   ]
  },
  {
   "cell_type": "code",
   "execution_count": 6,
   "metadata": {},
   "outputs": [
    {
     "data": {
      "text/plain": [
       "{2, 4, 5, 6, 7, 'python'}"
      ]
     },
     "execution_count": 6,
     "metadata": {},
     "output_type": "execute_result"
    }
   ],
   "source": [
    "set1={2,5,6,7,4,2,6,'python','python'}\n",
    "set1   #removed the duplicate items & at the output it has changed the order of my data"
   ]
  },
  {
   "cell_type": "code",
   "execution_count": 8,
   "metadata": {},
   "outputs": [
    {
     "data": {
      "text/plain": [
       "{'100', 2, 4, 5, 6, 7, 'python'}"
      ]
     },
     "execution_count": 8,
     "metadata": {},
     "output_type": "execute_result"
    }
   ],
   "source": [
    "set1={2,5,6,'100',7,4,2,6,'python','python'}\n",
    "set1"
   ]
  },
  {
   "cell_type": "code",
   "execution_count": 9,
   "metadata": {},
   "outputs": [
    {
     "data": {
      "text/plain": [
       "{10, '100', 15, 20}"
      ]
     },
     "execution_count": 9,
     "metadata": {},
     "output_type": "execute_result"
    }
   ],
   "source": [
    "set1={10,20,'100',15}\n",
    "set1"
   ]
  },
  {
   "cell_type": "code",
   "execution_count": 1,
   "metadata": {},
   "outputs": [
    {
     "name": "stdout",
     "output_type": "stream",
     "text": [
      "{1.5, 5, 10, (3+4j), '100'}\n",
      "{1.5, 5, 10, (3+4j), '100'}\n"
     ]
    }
   ],
   "source": [
    "set1={1.5,10,'100',3+4j,5}\n",
    "print(set1)\n",
    "print(set1)"
   ]
  },
  {
   "cell_type": "code",
   "execution_count": 7,
   "metadata": {},
   "outputs": [
    {
     "name": "stdout",
     "output_type": "stream",
     "text": [
      "{2, 3, 2.3, 4.5, 5, 5.6, 7, 8, 10, 'b', 'python'}\n",
      "{2, 3, 2.3, 4.5, 5, 5.6, 7, 8, 10, 'b', 'python'}\n"
     ]
    },
    {
     "ename": "TypeError",
     "evalue": "'set' object is not subscriptable",
     "output_type": "error",
     "traceback": [
      "\u001b[1;31m---------------------------------------------------------------------------\u001b[0m",
      "\u001b[1;31mTypeError\u001b[0m                                 Traceback (most recent call last)",
      "\u001b[1;32m<ipython-input-7-c54f87583348>\u001b[0m in \u001b[0;36m<module>\u001b[1;34m\u001b[0m\n\u001b[0;32m      3\u001b[0m \u001b[0mprint\u001b[0m\u001b[1;33m(\u001b[0m\u001b[0ms1\u001b[0m\u001b[1;33m)\u001b[0m\u001b[1;33m\u001b[0m\u001b[1;33m\u001b[0m\u001b[0m\n\u001b[0;32m      4\u001b[0m \u001b[1;31m# s1[0:20]\u001b[0m\u001b[1;33m\u001b[0m\u001b[1;33m\u001b[0m\u001b[1;33m\u001b[0m\u001b[0m\n\u001b[1;32m----> 5\u001b[1;33m \u001b[0ms1\u001b[0m\u001b[1;33m[\u001b[0m\u001b[1;36m5\u001b[0m\u001b[1;33m]\u001b[0m\u001b[1;33m\u001b[0m\u001b[1;33m\u001b[0m\u001b[0m\n\u001b[0m",
      "\u001b[1;31mTypeError\u001b[0m: 'set' object is not subscriptable"
     ]
    }
   ],
   "source": [
    "s1={2,2,2,2,2,2,2,2.3,3,4.5,10,'b','python',5,5.6,7,8}\n",
    "print(s1)\n",
    "print(s1)\n",
    "# s1[0:5]\n",
    "s1[5]"
   ]
  },
  {
   "cell_type": "code",
   "execution_count": 11,
   "metadata": {},
   "outputs": [
    {
     "data": {
      "text/plain": [
       "{0, True}"
      ]
     },
     "execution_count": 11,
     "metadata": {},
     "output_type": "execute_result"
    }
   ],
   "source": [
    "0  == False\n",
    "1  == True\n",
    "\n",
    "s1={0,True,False,True,False,1}\n",
    "s1"
   ]
  },
  {
   "cell_type": "markdown",
   "metadata": {},
   "source": [
    "### Set Constructor"
   ]
  },
  {
   "cell_type": "code",
   "execution_count": 18,
   "metadata": {},
   "outputs": [
    {
     "name": "stdout",
     "output_type": "stream",
     "text": [
      "{2, 3, 4, 5}\n"
     ]
    }
   ],
   "source": [
    "s = 2,3,4,2,5\n",
    "s=set(s)\n",
    "type(set(s))\n",
    "print(s)"
   ]
  },
  {
   "cell_type": "code",
   "execution_count": 21,
   "metadata": {},
   "outputs": [
    {
     "name": "stdout",
     "output_type": "stream",
     "text": [
      "<class 'list'>\n",
      "<class 'set'>\n",
      "{2, 3, 4, 5}\n"
     ]
    }
   ],
   "source": [
    "s = [2,3,4,2,5]\n",
    "print(type(s))\n",
    "s=set(s)\n",
    "print(type(set(s)))\n",
    "print(s)"
   ]
  },
  {
   "cell_type": "code",
   "execution_count": 48,
   "metadata": {},
   "outputs": [
    {
     "name": "stdout",
     "output_type": "stream",
     "text": [
      "\n",
      "++++ \n",
      "+++ +++ \n",
      "++ ++ ++ \n",
      "+ + + + \n",
      "     \n"
     ]
    }
   ],
   "source": [
    "pattern14=5\n",
    "\n",
    "for i in range(pattern14+1):\n",
    "    count=0\n",
    "    for ix in range(i):\n",
    "        count+=1\n",
    "        \n",
    "        print('+'*(pattern14-i), end=\" \")\n",
    "    print()"
   ]
  },
  {
   "cell_type": "code",
   "execution_count": 26,
   "metadata": {},
   "outputs": [
    {
     "name": "stdout",
     "output_type": "stream",
     "text": [
      "Num\t10\n",
      "0 1 2 3 4 5 6 7 8 9 10 \n",
      "0 1 2 3 4 5 6 7 8 9 \n",
      "0 1 2 3 4 5 6 7 8 \n",
      "0 1 2 3 4 5 6 7 \n",
      "0 1 2 3 4 5 6 \n",
      "0 1 2 3 4 5 \n",
      "0 1 2 3 4 \n",
      "0 1 2 3 \n",
      "0 1 2 \n",
      "0 1 \n"
     ]
    }
   ],
   "source": [
    "a=int(input(\"Num\\t\"))\n",
    "# Q.13\n",
    "for i in range(a+1,1,-1):\n",
    "    for j in range(i):\n",
    "        print(j,end=\" \")\n",
    "    print()"
   ]
  },
  {
   "cell_type": "code",
   "execution_count": null,
   "metadata": {},
   "outputs": [],
   "source": [
    "        1\n",
    "      1 2\n",
    "    1 2 3\n",
    "  1 2 3 4\n",
    "1 2 3 4 5"
   ]
  },
  {
   "cell_type": "code",
   "execution_count": 29,
   "metadata": {},
   "outputs": [
    {
     "name": "stdout",
     "output_type": "stream",
     "text": [
      "      0 \n",
      "      0       1 \n",
      "      0       1       2 \n",
      "      0       1       2       3 \n",
      "      0       1       2       3       4 \n"
     ]
    }
   ],
   "source": [
    "a=5\n",
    "b= ' '\n",
    "for i in range(1,a+1):\n",
    "    for j in range(i):\n",
    "        print(b*5,j,end=\" \")\n",
    "    print()"
   ]
  },
  {
   "cell_type": "code",
   "execution_count": 35,
   "metadata": {},
   "outputs": [
    {
     "name": "stdout",
     "output_type": "stream",
     "text": [
      "enter any muber:5\n",
      "     \n",
      "    1\n",
      "   12\n",
      "  123\n",
      " 1234\n",
      "12345\n"
     ]
    }
   ],
   "source": [
    "num = int(input('enter any muber:'))\n",
    "for i in range(num+1):\n",
    "    for j in range(num,i,-1):\n",
    "        print(' ',end='')\n",
    "    for z in range(0,i):\n",
    "        print(z+1, end='')\n",
    "        #num = num-1\n",
    "    print('')"
   ]
  },
  {
   "cell_type": "code",
   "execution_count": 53,
   "metadata": {},
   "outputs": [
    {
     "name": "stdout",
     "output_type": "stream",
     "text": [
      "enter any muber:5\n",
      "+++++++++++++++\n",
      "+++++++++++++ 1\n",
      "++++++++++ 1+ 2\n",
      "+++++++ 1+ 2+ 3\n",
      "++++ 1+ 2+ 3+ 4\n",
      "+ 1+ 2+ 3+ 4+ 5\n"
     ]
    }
   ],
   "source": [
    "num = int(input('enter any muber:'))\n",
    "for i in range(num+1):\n",
    "    for j in range(num,i,-1):\n",
    "        print('+++',end='')\n",
    "    for z in range(0,i):\n",
    "        print('+',z+1, end='')\n",
    "        #num = num-1\n",
    "    print('')"
   ]
  },
  {
   "cell_type": "code",
   "execution_count": 61,
   "metadata": {},
   "outputs": [
    {
     "name": "stdout",
     "output_type": "stream",
     "text": [
      "enter any muber:5\n",
      "               \n",
      "              1\n",
      "           1  2\n",
      "++++++++++++++++++++++++++++++\n",
      "        1  2  3\n",
      "     1  2  3  4\n",
      "  1  2  3  4  5\n"
     ]
    }
   ],
   "source": [
    "num = int(input('enter any muber:'))\n",
    "for i in range(num+1):\n",
    "    if i==3:\n",
    "        for k in range(1):\n",
    "            print('++++++++++++++++++++++++++++++',end='\\n')\n",
    "    for j in range(num,i,-1):\n",
    "        print('   ',end='')\n",
    "    for z in range(0,i):\n",
    "        print(' ',z+1, end='')\n",
    "        #num = num-1\n",
    "    print('')"
   ]
  },
  {
   "cell_type": "code",
   "execution_count": null,
   "metadata": {},
   "outputs": [],
   "source": []
  }
 ],
 "metadata": {
  "kernelspec": {
   "display_name": "Python 3",
   "language": "python",
   "name": "python3"
  },
  "language_info": {
   "codemirror_mode": {
    "name": "ipython",
    "version": 3
   },
   "file_extension": ".py",
   "mimetype": "text/x-python",
   "name": "python",
   "nbconvert_exporter": "python",
   "pygments_lexer": "ipython3",
   "version": "3.8.5"
  },
  "toc": {
   "base_numbering": 1,
   "nav_menu": {},
   "number_sections": true,
   "sideBar": true,
   "skip_h1_title": false,
   "title_cell": "Table of Contents",
   "title_sidebar": "Contents",
   "toc_cell": false,
   "toc_position": {},
   "toc_section_display": true,
   "toc_window_display": false
  }
 },
 "nbformat": 4,
 "nbformat_minor": 4
}

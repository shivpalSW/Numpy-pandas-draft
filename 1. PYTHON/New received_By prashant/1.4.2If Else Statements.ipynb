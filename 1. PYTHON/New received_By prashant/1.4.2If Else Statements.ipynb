{
 "cells": [
  {
   "cell_type": "raw",
   "metadata": {},
   "source": [
    "If else are decision making statements (checks for True or False)\n",
    "if if is true then if will be executed & if if is false then else will be executed.\n",
    "if & elif can not be empty but else can be empty"
   ]
  },
  {
   "cell_type": "raw",
   "metadata": {},
   "source": [
    "if\n",
    "if & else\n",
    "if & elif\n",
    "if & elif multiple times\n",
    "if & elif & else"
   ]
  },
  {
   "cell_type": "raw",
   "metadata": {},
   "source": [
    "elseif & else #invalid\n",
    "if & else & elseif #invalid\n",
    "if & else & else # invalid"
   ]
  },
  {
   "cell_type": "code",
   "execution_count": 1,
   "metadata": {},
   "outputs": [
    {
     "name": "stdout",
     "output_type": "stream",
     "text": [
      "present\n"
     ]
    }
   ],
   "source": [
    "raw = \"hello welcome to python class\"\n",
    "if 'to' in raw:\n",
    "    print('present')\n",
    "else: print('not there')"
   ]
  },
  {
   "cell_type": "code",
   "execution_count": 7,
   "metadata": {},
   "outputs": [
    {
     "name": "stdout",
     "output_type": "stream",
     "text": [
      "not equal\n"
     ]
    }
   ],
   "source": [
    "a=10\n",
    "b=20\n",
    "if b==a:\n",
    "    print('greater')\n",
    "elif b!=a:\n",
    "    print('not equal')"
   ]
  },
  {
   "cell_type": "code",
   "execution_count": null,
   "metadata": {},
   "outputs": [],
   "source": [
    "score = 89\n",
    "1 criteria - below 35 - fail\n",
    "2 35-60 - 2nd class\n",
    "3 60-80 - 1st calss\n",
    "4 80+ - DISTINCTION"
   ]
  },
  {
   "cell_type": "markdown",
   "metadata": {},
   "source": [
    "### Nested if statements"
   ]
  },
  {
   "cell_type": "code",
   "execution_count": null,
   "metadata": {},
   "outputs": [],
   "source": [
    "within 1 if, we have another if"
   ]
  },
  {
   "cell_type": "code",
   "execution_count": 9,
   "metadata": {},
   "outputs": [
    {
     "name": "stdout",
     "output_type": "stream",
     "text": [
      "x is lower than 80\n"
     ]
    }
   ],
   "source": [
    "x = 75\n",
    "if x > 60:\n",
    "    if x > 80:\n",
    "        print('1st class')\n",
    "    else: print('x is lower than 80')\n",
    "# elif x>35:\n",
    "#     print('2nd class')\n",
    "# else:\n",
    "#     print('better luck next time')\n",
    "    "
   ]
  },
  {
   "cell_type": "code",
   "execution_count": 13,
   "metadata": {},
   "outputs": [
    {
     "name": "stdout",
     "output_type": "stream",
     "text": [
      "x is greater than 80\n",
      "x is less than 90\n"
     ]
    }
   ],
   "source": [
    "x = 85\n",
    "if x>80:\n",
    "    print('x is greater than 80')\n",
    "    if x > 90:\n",
    "        print('x is greater than 90')\n",
    "        if x>95:\n",
    "            print('x is greater than 95')\n",
    "        else:\n",
    "            print('x is smaller than 95')\n",
    "    else:\n",
    "        print('x is less than 90')\n",
    "else:\n",
    "    print('x is less than 80')"
   ]
  },
  {
   "cell_type": "code",
   "execution_count": null,
   "metadata": {},
   "outputs": [],
   "source": [
    "age = 18\n",
    "salary = 50000\n",
    "cibil score = 750"
   ]
  },
  {
   "cell_type": "code",
   "execution_count": 14,
   "metadata": {},
   "outputs": [
    {
     "name": "stdout",
     "output_type": "stream",
     "text": [
      "Enter age: 35\n",
      "Enter Salary: 60000\n",
      "Please enter cibil score: 650\n",
      "sorry, not enough cibil score.\n"
     ]
    }
   ],
   "source": [
    "age = int(input(\"Enter age: \"))\n",
    "salary = int(input(\"Enter Salary: \"))\n",
    "cibil_score = int(input(\"Please enter cibil score: \"))\n",
    "\n",
    "if age >= 18:\n",
    "    if salary >= 50000:\n",
    "        if cibil_score >= 750:\n",
    "            print(\"Loan is granted!\")\n",
    "        else:\n",
    "            print(\"sorry, not enough cibil score.\")\n",
    "    else:\n",
    "        print(\"sorry, not enough salary.\")\n",
    "else:\n",
    "    print(\"sorry, you are underage.\")"
   ]
  },
  {
   "cell_type": "code",
   "execution_count": 15,
   "metadata": {},
   "outputs": [
    {
     "name": "stdout",
     "output_type": "stream",
     "text": [
      "both are equal\n"
     ]
    }
   ],
   "source": [
    "a = 200\n",
    "b = 200\n",
    "if a < b:\n",
    "    print('a is smaller')\n",
    "elif a == b:\n",
    "    print('both are equal')\n",
    "else:\n",
    "    print('a is bigger')"
   ]
  },
  {
   "cell_type": "code",
   "execution_count": 16,
   "metadata": {},
   "outputs": [
    {
     "name": "stdout",
     "output_type": "stream",
     "text": [
      "enter any num9\n",
      "another num7\n",
      "final num5\n",
      "x is greatest\n"
     ]
    }
   ],
   "source": [
    "x= int(input(\"enter any num\"))\n",
    "y= int (input('another num'))\n",
    "z= int(input('final num'))\n",
    "\n",
    "if x>y and x> z:\n",
    "    print('x is greatest')\n",
    "elif y > x and y > z:\n",
    "    print('y is greatest')\n",
    "else:\n",
    "    print('z is greatest')"
   ]
  },
  {
   "cell_type": "code",
   "execution_count": 19,
   "metadata": {},
   "outputs": [
    {
     "name": "stdout",
     "output_type": "stream",
     "text": [
      "Enter your score85\n",
      "Distinction\n"
     ]
    }
   ],
   "source": [
    "score = eval(input(\"Enter your score\"))\n",
    "if (score > 80) and (score<100):\n",
    "    print(\"Distinction\")\n",
    "elif score >60 and score <80:\n",
    "    print(\"FIrst Class\")\n",
    "elif score >=35 and score <60:\n",
    "    print(\"Second Class\")\n",
    "elif score <35 and score >0:\n",
    "    print(\"Fail\")\n",
    "else:\n",
    "    print(\"Check input\")"
   ]
  },
  {
   "cell_type": "markdown",
   "metadata": {},
   "source": [
    "## short hand if else"
   ]
  },
  {
   "cell_type": "code",
   "execution_count": 6,
   "metadata": {},
   "outputs": [
    {
     "name": "stdout",
     "output_type": "stream",
     "text": [
      "b is greater\n"
     ]
    }
   ],
   "source": [
    "a=10\n",
    "b=20\n",
    "if a>20:print('a is greater')\n",
    "else:print('b is greater')"
   ]
  },
  {
   "cell_type": "code",
   "execution_count": 3,
   "metadata": {},
   "outputs": [
    {
     "name": "stdout",
     "output_type": "stream",
     "text": [
      "b is greater\n"
     ]
    }
   ],
   "source": [
    "print('a is greater') if a>b else print('b is greater')"
   ]
  },
  {
   "cell_type": "code",
   "execution_count": 7,
   "metadata": {},
   "outputs": [
    {
     "data": {
      "text/plain": [
       "(140714492635200, 140714492635520)"
      ]
     },
     "execution_count": 7,
     "metadata": {},
     "output_type": "execute_result"
    }
   ],
   "source": [
    "id(a),id(b)"
   ]
  },
  {
   "cell_type": "code",
   "execution_count": null,
   "metadata": {},
   "outputs": [],
   "source": []
  }
 ],
 "metadata": {
  "kernelspec": {
   "display_name": "Python 3",
   "language": "python",
   "name": "python3"
  },
  "language_info": {
   "codemirror_mode": {
    "name": "ipython",
    "version": 3
   },
   "file_extension": ".py",
   "mimetype": "text/x-python",
   "name": "python",
   "nbconvert_exporter": "python",
   "pygments_lexer": "ipython3",
   "version": "3.8.5"
  },
  "toc": {
   "base_numbering": 1,
   "nav_menu": {},
   "number_sections": true,
   "sideBar": true,
   "skip_h1_title": false,
   "title_cell": "Table of Contents",
   "title_sidebar": "Contents",
   "toc_cell": false,
   "toc_position": {},
   "toc_section_display": true,
   "toc_window_display": false
  }
 },
 "nbformat": 4,
 "nbformat_minor": 4
}

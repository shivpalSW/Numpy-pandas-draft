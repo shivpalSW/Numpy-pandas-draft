{
 "cells": [
  {
   "cell_type": "raw",
   "id": "1f967864",
   "metadata": {},
   "source": [
    "to let errors not stop the execution/ iteration\n",
    "when we are not sure, if a code would yield desired outcome\n",
    "we can use try-except to also not break the flow of the lines of codes"
   ]
  },
  {
   "cell_type": "code",
   "execution_count": 1,
   "id": "0daee17a",
   "metadata": {},
   "outputs": [
    {
     "ename": "AttributeError",
     "evalue": "'tuple' object has no attribute 'append'",
     "output_type": "error",
     "traceback": [
      "\u001b[1;31m---------------------------------------------------------------------------\u001b[0m",
      "\u001b[1;31mAttributeError\u001b[0m                            Traceback (most recent call last)",
      "\u001b[1;32m<ipython-input-1-637b17e0999f>\u001b[0m in \u001b[0;36m<module>\u001b[1;34m\u001b[0m\n\u001b[0;32m      1\u001b[0m \u001b[0mabc\u001b[0m\u001b[1;33m=\u001b[0m\u001b[1;33m(\u001b[0m\u001b[1;36m1\u001b[0m\u001b[1;33m,\u001b[0m\u001b[1;36m2\u001b[0m\u001b[1;33m,\u001b[0m\u001b[1;36m3\u001b[0m\u001b[1;33m)\u001b[0m\u001b[1;33m\u001b[0m\u001b[1;33m\u001b[0m\u001b[0m\n\u001b[1;32m----> 2\u001b[1;33m \u001b[0mabc\u001b[0m\u001b[1;33m.\u001b[0m\u001b[0mappend\u001b[0m\u001b[1;33m(\u001b[0m\u001b[1;36m4\u001b[0m\u001b[1;33m)\u001b[0m\u001b[1;33m\u001b[0m\u001b[1;33m\u001b[0m\u001b[0m\n\u001b[0m",
      "\u001b[1;31mAttributeError\u001b[0m: 'tuple' object has no attribute 'append'"
     ]
    }
   ],
   "source": [
    "abc=(1,2,3)\n",
    "abc.append(4)"
   ]
  },
  {
   "cell_type": "code",
   "execution_count": 3,
   "id": "a2454828",
   "metadata": {},
   "outputs": [
    {
     "ename": "TypeError",
     "evalue": "can't multiply sequence by non-int of type 'str'",
     "output_type": "error",
     "traceback": [
      "\u001b[1;31m---------------------------------------------------------------------------\u001b[0m",
      "\u001b[1;31mTypeError\u001b[0m                                 Traceback (most recent call last)",
      "\u001b[1;32m<ipython-input-3-7088ada9e71f>\u001b[0m in \u001b[0;36m<module>\u001b[1;34m\u001b[0m\n\u001b[1;32m----> 1\u001b[1;33m \u001b[0mnum\u001b[0m\u001b[1;33m=\u001b[0m\u001b[1;34m'any'\u001b[0m\u001b[1;33m*\u001b[0m\u001b[1;34m'any'\u001b[0m\u001b[1;33m\u001b[0m\u001b[1;33m\u001b[0m\u001b[0m\n\u001b[0m\u001b[0;32m      2\u001b[0m \u001b[0mnum\u001b[0m\u001b[1;33m\u001b[0m\u001b[1;33m\u001b[0m\u001b[0m\n",
      "\u001b[1;31mTypeError\u001b[0m: can't multiply sequence by non-int of type 'str'"
     ]
    }
   ],
   "source": [
    "num='any'*'any'\n",
    "num"
   ]
  },
  {
   "cell_type": "code",
   "execution_count": 4,
   "id": "cd0ecf40",
   "metadata": {},
   "outputs": [
    {
     "ename": "ZeroDivisionError",
     "evalue": "division by zero",
     "output_type": "error",
     "traceback": [
      "\u001b[1;31m---------------------------------------------------------------------------\u001b[0m",
      "\u001b[1;31mZeroDivisionError\u001b[0m                         Traceback (most recent call last)",
      "\u001b[1;32m<ipython-input-4-f83a26030bd4>\u001b[0m in \u001b[0;36m<module>\u001b[1;34m\u001b[0m\n\u001b[1;32m----> 1\u001b[1;33m \u001b[1;36m20\u001b[0m\u001b[1;33m/\u001b[0m\u001b[1;36m0\u001b[0m\u001b[1;33m\u001b[0m\u001b[1;33m\u001b[0m\u001b[0m\n\u001b[0m",
      "\u001b[1;31mZeroDivisionError\u001b[0m: division by zero"
     ]
    }
   ],
   "source": [
    "20/0"
   ]
  },
  {
   "cell_type": "code",
   "execution_count": 5,
   "id": "8db8176f",
   "metadata": {},
   "outputs": [
    {
     "ename": "NameError",
     "evalue": "name 'y' is not defined",
     "output_type": "error",
     "traceback": [
      "\u001b[1;31m---------------------------------------------------------------------------\u001b[0m",
      "\u001b[1;31mNameError\u001b[0m                                 Traceback (most recent call last)",
      "\u001b[1;32m<ipython-input-5-d9183e048de3>\u001b[0m in \u001b[0;36m<module>\u001b[1;34m\u001b[0m\n\u001b[1;32m----> 1\u001b[1;33m \u001b[0mprint\u001b[0m\u001b[1;33m(\u001b[0m\u001b[0my\u001b[0m\u001b[1;33m)\u001b[0m\u001b[1;33m\u001b[0m\u001b[1;33m\u001b[0m\u001b[0m\n\u001b[0m",
      "\u001b[1;31mNameError\u001b[0m: name 'y' is not defined"
     ]
    }
   ],
   "source": [
    "print(y)"
   ]
  },
  {
   "cell_type": "markdown",
   "id": "ca03547b",
   "metadata": {},
   "source": [
    "# Try-Except"
   ]
  },
  {
   "cell_type": "raw",
   "id": "4da1d05a",
   "metadata": {},
   "source": [
    "try >> It tests a bloack of code & check if that works\n",
    "except >> It handles errors"
   ]
  },
  {
   "cell_type": "raw",
   "id": "9fe9c7da",
   "metadata": {},
   "source": [
    "SyntaxError  -- missing a column at the end of a loop\n",
    "NameError    -- using a variable/method which is not defined, not valid\n",
    "ZeroDivisionError -- when a number is divided by 0\n",
    "AttributeError --using a function on a wrong attribute. like using append fuction on tuple\n",
    "KeyError -- trying to access a key of dict which doesn't exist\n",
    "IndentationError -- additional spaces in the begining of the line\n",
    "IndexError -- Indexing out of range\n",
    "FileNotFoundError -- when a file doesn't exist in directory or OS path."
   ]
  },
  {
   "cell_type": "code",
   "execution_count": 7,
   "id": "d99253e1",
   "metadata": {},
   "outputs": [
    {
     "name": "stdout",
     "output_type": "stream",
     "text": [
      "This is try block\n"
     ]
    }
   ],
   "source": [
    "try:\n",
    "    print('This is try block')\n",
    "    \n",
    "except:\n",
    "    print('This is except block')"
   ]
  },
  {
   "cell_type": "code",
   "execution_count": 12,
   "id": "9aae8544",
   "metadata": {},
   "outputs": [
    {
     "name": "stdout",
     "output_type": "stream",
     "text": [
      "we found an AttributeError in try\n",
      "& so This is except block\n"
     ]
    }
   ],
   "source": [
    "try:\n",
    "    s=(2,3)\n",
    "    s.append(4)\n",
    "    print('This is try block')\n",
    "    \n",
    "except:\n",
    "    print('we found an AttributeError in try')\n",
    "    print('& so This is except block')"
   ]
  },
  {
   "cell_type": "code",
   "execution_count": 13,
   "id": "ec9f83cc",
   "metadata": {},
   "outputs": [
    {
     "name": "stdout",
     "output_type": "stream",
     "text": [
      "This is except block\n"
     ]
    }
   ],
   "source": [
    "try:\n",
    "    s.append(4)\n",
    "    s=(2,3)\n",
    "    print('This is try block')\n",
    "    \n",
    "    \n",
    "except:\n",
    "    print('This is except block')"
   ]
  },
  {
   "cell_type": "code",
   "execution_count": 15,
   "id": "8e5dd11e",
   "metadata": {},
   "outputs": [
    {
     "name": "stdout",
     "output_type": "stream",
     "text": [
      "[2, 3, 4] This is try block\n"
     ]
    }
   ],
   "source": [
    "try:\n",
    "    \n",
    "    s=[2,3]\n",
    "    s.append(4)\n",
    "    print(s,'This is try block')\n",
    "    \n",
    "    \n",
    "except:\n",
    "    print('This is except block')"
   ]
  },
  {
   "cell_type": "markdown",
   "id": "5cfaa0c4",
   "metadata": {},
   "source": [
    "## Traceback"
   ]
  },
  {
   "cell_type": "raw",
   "id": "a6d5716f",
   "metadata": {},
   "source": [
    "traceback is used to handle the exceptions such that we can print it in the except block"
   ]
  },
  {
   "cell_type": "code",
   "execution_count": 16,
   "id": "e1d71d1a",
   "metadata": {},
   "outputs": [],
   "source": [
    "import traceback"
   ]
  },
  {
   "cell_type": "code",
   "execution_count": 18,
   "id": "3c9fdc66",
   "metadata": {},
   "outputs": [
    {
     "name": "stdout",
     "output_type": "stream",
     "text": [
      "None\n",
      "This is except block\n"
     ]
    },
    {
     "name": "stderr",
     "output_type": "stream",
     "text": [
      "Traceback (most recent call last):\n",
      "  File \"<ipython-input-18-f4bd65f39e19>\", line 4, in <module>\n",
      "    s.append(4)\n",
      "AttributeError: 'tuple' object has no attribute 'append'\n"
     ]
    }
   ],
   "source": [
    "try:\n",
    "    \n",
    "    s=(2,3)\n",
    "    s.append(4)\n",
    "    print('This is try block')\n",
    "    \n",
    "    \n",
    "except:\n",
    "    print(traceback.print_exc())\n",
    "    print('This is except block')"
   ]
  },
  {
   "cell_type": "code",
   "execution_count": 19,
   "id": "54ef4dc7",
   "metadata": {},
   "outputs": [
    {
     "name": "stdout",
     "output_type": "stream",
     "text": [
      "file is created\n"
     ]
    }
   ],
   "source": [
    "try:\n",
    "    \n",
    "    file=open('file.txt','w')\n",
    "    file.write('Hello')\n",
    "    file.close()\n",
    "    print('file is created')\n",
    "    \n",
    "    \n",
    "except:\n",
    "    print(traceback.print_exc())\n",
    "    print('This is except block')"
   ]
  },
  {
   "cell_type": "code",
   "execution_count": 21,
   "id": "274accac",
   "metadata": {},
   "outputs": [
    {
     "name": "stdout",
     "output_type": "stream",
     "text": [
      "None\n",
      "This is except block\n"
     ]
    },
    {
     "name": "stderr",
     "output_type": "stream",
     "text": [
      "Traceback (most recent call last):\n",
      "  File \"<ipython-input-21-398cab96b3b6>\", line 3, in <module>\n",
      "    file=open('file.txt','x')\n",
      "FileExistsError: [Errno 17] File exists: 'file.txt'\n"
     ]
    }
   ],
   "source": [
    "try:\n",
    "    \n",
    "    file=open('file.txt','x')\n",
    "    file.write('Hello')\n",
    "    file.close()\n",
    "    print('file is created')\n",
    "    \n",
    "    \n",
    "except:\n",
    "    file=open('file.txt','a')\n",
    "    file.write('Hello there')\n",
    "    file.close()\n",
    "    print(traceback.print_exc())\n",
    "    print('This is except block')"
   ]
  },
  {
   "cell_type": "code",
   "execution_count": 26,
   "id": "a5f09682",
   "metadata": {},
   "outputs": [
    {
     "name": "stdout",
     "output_type": "stream",
     "text": [
      "[Errno 17] File exists: 'file.txt'\n",
      "file not found\n",
      "Except block\n"
     ]
    }
   ],
   "source": [
    "try:\n",
    "    \n",
    "    file=open('file.txt','x')\n",
    "    file.write('Hello')\n",
    "    file.close()\n",
    "    \n",
    "    \n",
    "except FileExistsError as f:\n",
    "    print(f)\n",
    "    print('file not found')\n",
    "    print('Except block')\n",
    "\n",
    "except FileNotFoundError as e:\n",
    "    print(e)\n",
    "    \n",
    "except:\n",
    "    print(traceback.print_exc())\n",
    "    print('We are in final exception')\n",
    "    \n"
   ]
  },
  {
   "cell_type": "code",
   "execution_count": null,
   "id": "5c1dd86b",
   "metadata": {},
   "outputs": [],
   "source": []
  }
 ],
 "metadata": {
  "kernelspec": {
   "display_name": "Python 3",
   "language": "python",
   "name": "python3"
  },
  "language_info": {
   "codemirror_mode": {
    "name": "ipython",
    "version": 3
   },
   "file_extension": ".py",
   "mimetype": "text/x-python",
   "name": "python",
   "nbconvert_exporter": "python",
   "pygments_lexer": "ipython3",
   "version": "3.8.8"
  },
  "toc": {
   "base_numbering": 1,
   "nav_menu": {},
   "number_sections": true,
   "sideBar": true,
   "skip_h1_title": false,
   "title_cell": "Table of Contents",
   "title_sidebar": "Contents",
   "toc_cell": false,
   "toc_position": {},
   "toc_section_display": true,
   "toc_window_display": false
  },
  "varInspector": {
   "cols": {
    "lenName": 16,
    "lenType": 16,
    "lenVar": 40
   },
   "kernels_config": {
    "python": {
     "delete_cmd_postfix": "",
     "delete_cmd_prefix": "del ",
     "library": "var_list.py",
     "varRefreshCmd": "print(var_dic_list())"
    },
    "r": {
     "delete_cmd_postfix": ") ",
     "delete_cmd_prefix": "rm(",
     "library": "var_list.r",
     "varRefreshCmd": "cat(var_dic_list()) "
    }
   },
   "types_to_exclude": [
    "module",
    "function",
    "builtin_function_or_method",
    "instance",
    "_Feature"
   ],
   "window_display": false
  }
 },
 "nbformat": 4,
 "nbformat_minor": 5
}

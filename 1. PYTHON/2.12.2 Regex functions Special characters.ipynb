{
 "cells": [
  {
   "cell_type": "markdown",
   "metadata": {},
   "source": [
    "## Compile"
   ]
  },
  {
   "cell_type": "code",
   "execution_count": 2,
   "metadata": {},
   "outputs": [
    {
     "data": {
      "text/plain": [
       "['235-465-89456', '867-896-84153']"
      ]
     },
     "execution_count": 2,
     "metadata": {},
     "output_type": "execute_result"
    }
   ],
   "source": [
    "import re\n",
    "Numbers = \"\"\"235-465-89456\n",
    "            867-896-84153\"\"\"\n",
    "nums= re.findall(\"\\d{3}[-]\\d{3}[-]\\d{5}\",Numbers)\n",
    "nums"
   ]
  },
  {
   "cell_type": "code",
   "execution_count": 5,
   "metadata": {},
   "outputs": [
    {
     "data": {
      "text/plain": [
       "['235-465-89456', '867-896-84153']"
      ]
     },
     "execution_count": 5,
     "metadata": {},
     "output_type": "execute_result"
    }
   ],
   "source": [
    "patterns=re.compile(\"\\d{3}[-]\\d{3}[-]\\d{5}\")\n",
    "patterns\n",
    "nos=re.findall(patterns,Numbers)\n",
    "nos"
   ]
  },
  {
   "cell_type": "code",
   "execution_count": 8,
   "metadata": {},
   "outputs": [
    {
     "data": {
      "text/plain": [
       "<re.Match object; span=(0, 13), match='235-465-89456'>"
      ]
     },
     "execution_count": 8,
     "metadata": {},
     "output_type": "execute_result"
    }
   ],
   "source": [
    "Numbers = \"\"\"235-465-89456\n",
    "            867-896-84153\"\"\"\n",
    "\n",
    "patterns=re.compile(\"\\d{3}[-]\\d{3}[-]\\d{5}\")\n",
    "\n",
    "result=patterns.search(Numbers)\n",
    "result.group(),result.span()\n",
    "result"
   ]
  },
  {
   "cell_type": "markdown",
   "metadata": {},
   "source": [
    "# Metacharacters"
   ]
  },
  {
   "cell_type": "markdown",
   "metadata": {},
   "source": [
    "## charcters with special meaning in re"
   ]
  },
  {
   "cell_type": "markdown",
   "metadata": {},
   "source": [
    "### + (plus)"
   ]
  },
  {
   "cell_type": "raw",
   "metadata": {},
   "source": [
    "+ >> one or more occurances"
   ]
  },
  {
   "cell_type": "code",
   "execution_count": 10,
   "metadata": {
    "collapsed": true
   },
   "outputs": [
    {
     "data": {
      "text/plain": [
       "([' ',\n",
       "  '   ',\n",
       "  ' ',\n",
       "  ' ',\n",
       "  ' ',\n",
       "  ' ',\n",
       "  ' ',\n",
       "  ' ',\n",
       "  ' ',\n",
       "  ' ',\n",
       "  ' ',\n",
       "  ' ',\n",
       "  ' ',\n",
       "  ' ',\n",
       "  ' ',\n",
       "  ' ',\n",
       "  ' ',\n",
       "  ' ',\n",
       "  ' ',\n",
       "  ' ',\n",
       "  ' ',\n",
       "  ' ',\n",
       "  ' ',\n",
       "  ' ',\n",
       "  '            ',\n",
       "  '       ',\n",
       "  ' ',\n",
       "  ' ',\n",
       "  ' ',\n",
       "  ' ',\n",
       "  ' ',\n",
       "  ' ',\n",
       "  '   ',\n",
       "  ' ',\n",
       "  ' ',\n",
       "  ' ',\n",
       "  ' ',\n",
       "  ' ',\n",
       "  ' ',\n",
       "  ' ',\n",
       "  ' ',\n",
       "  ' ',\n",
       "  ' ',\n",
       "  ' ',\n",
       "  ' ',\n",
       "  ' ',\n",
       "  '            ',\n",
       "  ' ',\n",
       "  '  ',\n",
       "  ' ',\n",
       "  '   ',\n",
       "  ' ',\n",
       "  '           ',\n",
       "  ' ',\n",
       "  ' ',\n",
       "  ' ',\n",
       "  ' ',\n",
       "  ' ',\n",
       "  ' '],\n",
       " 59)"
      ]
     },
     "execution_count": 10,
     "metadata": {},
     "output_type": "execute_result"
    }
   ],
   "source": [
    "string1= \"\"\"A regular   expression (shortened as regex or regexp;[1] also referred to as rational expression[2][3]) is a sequence of characters that specifies a search pattern. \n",
    "            Usually       such patterns are used by string-searching algorithms   for \"find\" or \"find and replace\" operations on strings, or for input validation. \n",
    "            It is  a technique   developed in           theoretical computer science and formal language theory.\"\"\"\n",
    "spaces= re.findall(\"[ ]+\",string1)\n",
    "spaces,len(spaces)"
   ]
  },
  {
   "cell_type": "code",
   "execution_count": 13,
   "metadata": {
    "scrolled": true
   },
   "outputs": [
    {
     "data": {
      "text/plain": [
       "(['   ',\n",
       "  ' \\n            ',\n",
       "  '       ',\n",
       "  '   ',\n",
       "  ' \\n            ',\n",
       "  '  ',\n",
       "  '   ',\n",
       "  '           '],\n",
       " 8)"
      ]
     },
     "execution_count": 13,
     "metadata": {},
     "output_type": "execute_result"
    }
   ],
   "source": [
    "string1= \"\"\"A regular   expression (shortened as regex or regexp;[1] also referred to as rational expression[2][3]) is a sequence of characters that specifies a search pattern. \n",
    "            Usually       such patterns are used by string-searching algorithms   for \"find\" or \"find and replace\" operations on strings, or for input validation. \n",
    "            It is  a technique   developed in           theoretical computer science and formal language theory.\"\"\"\n",
    "spaces= re.findall(\"\\s\\s+\",string1)\n",
    "spaces,len(spaces)"
   ]
  },
  {
   "cell_type": "code",
   "execution_count": 20,
   "metadata": {},
   "outputs": [
    {
     "data": {
      "text/plain": [
       "'A regular expression (shortened as regex or regexp;[1] also referred to as rational expression[2][3]) is a sequence of characters that specifies a search pattern. Usually such patterns are used by string-searching algorithms for \"find\" or \"find and replace\" operations on strings, or for input validation. It is a technique developed in theoretical computer science and formal language theory.'"
      ]
     },
     "execution_count": 20,
     "metadata": {},
     "output_type": "execute_result"
    }
   ],
   "source": [
    "string1= \"\"\"A regular   expression (shortened as regex or regexp;[1] also referred to as rational expression[2][3]) is a sequence of characters that specifies a search pattern. \n",
    "            Usually       such patterns are used by string-searching algorithms   for \"find\" or \"find and replace\" operations on strings, or for input validation. \n",
    "            It is  a technique   developed in           theoretical computer science and formal language theory.\"\"\"\n",
    "spaces= re.sub(r\"\\s+\",' ',string1)\n",
    "spaces"
   ]
  },
  {
   "cell_type": "code",
   "execution_count": 43,
   "metadata": {},
   "outputs": [
    {
     "data": {
      "text/plain": [
       "['python',\n",
       " 'python',\n",
       " 'python',\n",
       " 'python',\n",
       " 'pytthon',\n",
       " 'pyttttthon',\n",
       " 'pytttttttttthon']"
      ]
     },
     "execution_count": 43,
     "metadata": {},
     "output_type": "execute_result"
    }
   ],
   "source": [
    "data= \"pythonpython pythonn python and data science class  pytthon     pyttttthon pytttttttttthon\"\n",
    "text= re.findall('py+t+hon',data)\n",
    "text"
   ]
  },
  {
   "cell_type": "code",
   "execution_count": 34,
   "metadata": {},
   "outputs": [
    {
     "data": {
      "text/plain": [
       "['  ', '     ']"
      ]
     },
     "execution_count": 34,
     "metadata": {},
     "output_type": "execute_result"
    }
   ],
   "source": [
    "extra_space=re.findall(\"[ ][ ]+\",data)\n",
    "extra_space\n",
    "\n",
    "extra_space=re.findall(\"\\s\\s+\",data)\n",
    "extra_space"
   ]
  },
  {
   "cell_type": "code",
   "execution_count": 61,
   "metadata": {
    "scrolled": true
   },
   "outputs": [
    {
     "data": {
      "text/plain": [
       "['python', 'python', 'pythonn', 'python']"
      ]
     },
     "execution_count": 61,
     "metadata": {},
     "output_type": "execute_result"
    }
   ],
   "source": [
    "text= re.findall('python+',data)\n",
    "text"
   ]
  },
  {
   "cell_type": "code",
   "execution_count": 62,
   "metadata": {
    "collapsed": true
   },
   "outputs": [
    {
     "data": {
      "text/plain": [
       "['pythonpython',\n",
       " 'pythonn',\n",
       " 'python',\n",
       " 'n',\n",
       " 't',\n",
       " 'n',\n",
       " 'pytthon',\n",
       " 'pyttttthon',\n",
       " 'pytttttttttthon']"
      ]
     },
     "execution_count": 62,
     "metadata": {},
     "output_type": "execute_result"
    }
   ],
   "source": [
    "text= re.findall('[python]+',data)\n",
    "text"
   ]
  },
  {
   "cell_type": "code",
   "execution_count": 60,
   "metadata": {
    "scrolled": true
   },
   "outputs": [
    {
     "data": {
      "text/plain": [
       "['pythonpython', 'python']"
      ]
     },
     "execution_count": 60,
     "metadata": {},
     "output_type": "execute_result"
    }
   ],
   "source": [
    "# repeated_word=re.findall(r\"\\bpython\\b|pythonpython\",data)\n",
    "# repeated_word"
   ]
  },
  {
   "cell_type": "markdown",
   "metadata": {},
   "source": [
    "### * (astrix)"
   ]
  },
  {
   "cell_type": "raw",
   "metadata": {},
   "source": [
    "zero or more occurance"
   ]
  },
  {
   "cell_type": "code",
   "execution_count": 64,
   "metadata": {
    "scrolled": true
   },
   "outputs": [
    {
     "data": {
      "text/plain": [
       "['python',\n",
       " 'python',\n",
       " 'pyhon',\n",
       " 'pyhon',\n",
       " 'pytthon',\n",
       " 'pyttttthon',\n",
       " 'pytttttttttthon']"
      ]
     },
     "execution_count": 64,
     "metadata": {},
     "output_type": "execute_result"
    }
   ],
   "source": [
    "data= \"pythonpython pyhonn pyhon and data science class  pytthon     pyttttthon pytttttttttthon\"\n",
    "text= re.findall('pyt*hon',data)\n",
    "text"
   ]
  },
  {
   "cell_type": "code",
   "execution_count": 65,
   "metadata": {},
   "outputs": [
    {
     "data": {
      "text/plain": [
       "['546356', '356984H', '365241']"
      ]
     },
     "execution_count": 65,
     "metadata": {},
     "output_type": "execute_result"
    }
   ],
   "source": [
    "raw_data = \"\"\"char mischar ids : 5463568AB\n",
    "                356984H\n",
    "                365241\"\"\"\n",
    "\n",
    "re.findall(\"[0-9]{6}[A-Z]*\",raw_data)\n"
   ]
  },
  {
   "cell_type": "code",
   "execution_count": 66,
   "metadata": {},
   "outputs": [
    {
     "data": {
      "text/plain": [
       "['463568AB', '356984H']"
      ]
     },
     "execution_count": 66,
     "metadata": {},
     "output_type": "execute_result"
    }
   ],
   "source": [
    "raw_data = \"\"\"char mischar ids : 5463568AB\n",
    "                356984H\n",
    "                365241\"\"\"\n",
    "\n",
    "re.findall(\"[0-9]{6}[A-Z]+\",raw_data)"
   ]
  },
  {
   "cell_type": "markdown",
   "metadata": {},
   "source": [
    "### . (dot)"
   ]
  },
  {
   "cell_type": "raw",
   "metadata": {},
   "source": [
    "Any character except new line\n",
    "it accepts all special characters including space & also all the alphabets & numbers"
   ]
  },
  {
   "cell_type": "code",
   "execution_count": 68,
   "metadata": {},
   "outputs": [
    {
     "data": {
      "text/plain": [
       "['pyth', 'pytx', 'pytt']"
      ]
     },
     "execution_count": 68,
     "metadata": {},
     "output_type": "execute_result"
    }
   ],
   "source": [
    "data= \"python and data science class pytxhon pyttttthon\"\n",
    "re.findall(\"pyt.\",data)"
   ]
  },
  {
   "cell_type": "code",
   "execution_count": 70,
   "metadata": {},
   "outputs": [
    {
     "data": {
      "text/plain": [
       "['pyth', 'pytt']"
      ]
     },
     "execution_count": 70,
     "metadata": {},
     "output_type": "execute_result"
    }
   ],
   "source": [
    "data= \"\"\"python and data science class \n",
    "        pyt\n",
    "        xhon pyttttthon\"\"\"\n",
    "re.findall(\"pyt.\",data)"
   ]
  },
  {
   "cell_type": "code",
   "execution_count": 75,
   "metadata": {},
   "outputs": [
    {
     "data": {
      "text/plain": [
       "['pyt ', 'pyt9', 'pyt%']"
      ]
     },
     "execution_count": 75,
     "metadata": {},
     "output_type": "execute_result"
    }
   ],
   "source": [
    "data= \"\"\"pyt hon and data science class \n",
    "        pyt\n",
    "        xhon pyt9ttthon pyt%dh\"\"\"\n",
    "re.findall(\"pyt.\",data)\n",
    "\n",
    "#  pyt\\n"
   ]
  },
  {
   "cell_type": "code",
   "execution_count": null,
   "metadata": {},
   "outputs": [],
   "source": [
    "<.*?>  # non greedy repeatation"
   ]
  },
  {
   "cell_type": "code",
   "execution_count": 82,
   "metadata": {},
   "outputs": [
    {
     "data": {
      "text/plain": [
       "['EBQSK6$79F', 'EBQSK67#9F', 'EBQSK%6795465413241F']"
      ]
     },
     "execution_count": 82,
     "metadata": {},
     "output_type": "execute_result"
    }
   ],
   "source": [
    "com_data=\"\"\"EBQSK6$79F\n",
    "            EBQSK67#9F\n",
    "            EBQSK%6795465413241F\"\"\"\n",
    "re.findall(\"[A-Z]{5}.+[A-Z]\",com_data)"
   ]
  },
  {
   "cell_type": "code",
   "execution_count": 83,
   "metadata": {},
   "outputs": [
    {
     "data": {
      "text/plain": [
       "['EBQSK6$79F', 'EBQSK67#9F', 'EBQSK%679F']"
      ]
     },
     "execution_count": 83,
     "metadata": {},
     "output_type": "execute_result"
    }
   ],
   "source": [
    "com_data=\"\"\"EBQSK6$79F\n",
    "            EBQSK67#9F\n",
    "            EBQSK%679F\"\"\"\n",
    "re.findall(\"[A-Z]{5}....[A-Z]\",com_data)"
   ]
  },
  {
   "cell_type": "markdown",
   "metadata": {},
   "source": [
    "### ? (question mark)"
   ]
  },
  {
   "cell_type": "raw",
   "metadata": {},
   "source": [
    "everything before ? has to match & ? allows 0 or 1 occurance"
   ]
  },
  {
   "cell_type": "code",
   "execution_count": 87,
   "metadata": {},
   "outputs": [
    {
     "data": {
      "text/plain": [
       "['pyt', 'py', 'pyttttt']"
      ]
     },
     "execution_count": 87,
     "metadata": {},
     "output_type": "execute_result"
    }
   ],
   "source": [
    "data= \"python and data science class pyxhon pyttttthon\"\n",
    "re.findall(\"pyt*\",data)"
   ]
  },
  {
   "cell_type": "code",
   "execution_count": 88,
   "metadata": {},
   "outputs": [
    {
     "data": {
      "text/plain": [
       "['pyt', 'pyttttt']"
      ]
     },
     "execution_count": 88,
     "metadata": {},
     "output_type": "execute_result"
    }
   ],
   "source": [
    "data= \"python and data science class pyxhon pyttttthon\"\n",
    "re.findall(\"pyt+\",data)"
   ]
  },
  {
   "cell_type": "code",
   "execution_count": 86,
   "metadata": {},
   "outputs": [
    {
     "data": {
      "text/plain": [
       "['pyt', 'py', 'pyt']"
      ]
     },
     "execution_count": 86,
     "metadata": {},
     "output_type": "execute_result"
    }
   ],
   "source": [
    "data= \"python and data science class pyxhon pyttttthon\"\n",
    "re.findall(\"pyt?\",data)"
   ]
  },
  {
   "cell_type": "markdown",
   "metadata": {},
   "source": [
    "### ^ startswith"
   ]
  },
  {
   "cell_type": "code",
   "execution_count": 91,
   "metadata": {},
   "outputs": [
    {
     "data": {
      "text/plain": [
       "True"
      ]
     },
     "execution_count": 91,
     "metadata": {},
     "output_type": "execute_result"
    }
   ],
   "source": [
    "data= \"python and data science class pyxhon pyttttthon\"\n",
    "data.startswith('py')"
   ]
  },
  {
   "cell_type": "code",
   "execution_count": 96,
   "metadata": {},
   "outputs": [
    {
     "name": "stdout",
     "output_type": "stream",
     "text": [
      "['p'] 1\n"
     ]
    }
   ],
   "source": [
    "data= \"python and data science class pyxhon pyttttthon\"\n",
    "x=re.findall('^p',data)\n",
    "print(x,len(x))"
   ]
  },
  {
   "cell_type": "code",
   "execution_count": 98,
   "metadata": {},
   "outputs": [
    {
     "data": {
      "text/plain": [
       "(['pytho'], 1)"
      ]
     },
     "execution_count": 98,
     "metadata": {},
     "output_type": "execute_result"
    }
   ],
   "source": [
    "data= \"python and data science class pyxhon pyttttthon\"\n",
    "re.findall('^[a-z]{5}',data),len(re.findall('^[a-z]{5}',data))"
   ]
  },
  {
   "cell_type": "code",
   "execution_count": 97,
   "metadata": {},
   "outputs": [
    {
     "name": "stdout",
     "output_type": "stream",
     "text": [
      "[] 0\n"
     ]
    }
   ],
   "source": [
    "data= \"python and data science class pyxhon pyttttthon\"\n",
    "y=re.findall('^[a-z]{5}\\b',data)\n",
    "print(y, len(y))"
   ]
  },
  {
   "cell_type": "code",
   "execution_count": 103,
   "metadata": {},
   "outputs": [
    {
     "name": "stdout",
     "output_type": "stream",
     "text": [
      "[] 0\n"
     ]
    }
   ],
   "source": [
    "data= \" python and data science class pyxhon pyttttthon\"\n",
    "y=re.findall('^\\w',data)\n",
    "print(y, len(y))"
   ]
  },
  {
   "cell_type": "code",
   "execution_count": 104,
   "metadata": {},
   "outputs": [
    {
     "name": "stdout",
     "output_type": "stream",
     "text": [
      "['          '] 1\n"
     ]
    }
   ],
   "source": [
    "data= \"          python and data science class pyxhon pyttttthon\"\n",
    "y=re.findall('^\\s+',data)\n",
    "print(y, len(y))"
   ]
  },
  {
   "cell_type": "markdown",
   "metadata": {},
   "source": [
    "### $ endswith"
   ]
  },
  {
   "cell_type": "code",
   "execution_count": 105,
   "metadata": {},
   "outputs": [
    {
     "name": "stdout",
     "output_type": "stream",
     "text": [
      "['n'] 1\n"
     ]
    }
   ],
   "source": [
    "data= \" python and data science class pyxhon pyttttthon\"\n",
    "y=re.findall('n$',data)\n",
    "print(y, len(y))"
   ]
  },
  {
   "cell_type": "code",
   "execution_count": 107,
   "metadata": {},
   "outputs": [
    {
     "name": "stdout",
     "output_type": "stream",
     "text": [
      "['.ipynb'] 1\n"
     ]
    }
   ],
   "source": [
    "data= \" python and data science class pyxhon.ipynb\"\n",
    "y=re.findall('.ipynb$',data)\n",
    "print(y, len(y))"
   ]
  },
  {
   "cell_type": "code",
   "execution_count": 108,
   "metadata": {
    "scrolled": true
   },
   "outputs": [
    {
     "name": "stdout",
     "output_type": "stream",
     "text": [
      "[] 0\n"
     ]
    }
   ],
   "source": [
    "data= \" python and data science class pyxhon.py\"\n",
    "y=re.findall('.ipynb$',data)\n",
    "print(y, len(y))"
   ]
  },
  {
   "cell_type": "markdown",
   "metadata": {},
   "source": [
    "### [ ]"
   ]
  },
  {
   "cell_type": "code",
   "execution_count": null,
   "metadata": {},
   "outputs": [],
   "source": [
    "used to define a set of characters that will form a search pattern in any string"
   ]
  },
  {
   "cell_type": "markdown",
   "metadata": {},
   "source": [
    "### { }"
   ]
  },
  {
   "cell_type": "code",
   "execution_count": null,
   "metadata": {},
   "outputs": [],
   "source": [
    "used to define a range of length of characters in the search pattern to be searched in any string"
   ]
  },
  {
   "cell_type": "markdown",
   "metadata": {},
   "source": [
    "### | (pipe)\n",
    "is used for or purpose"
   ]
  },
  {
   "cell_type": "code",
   "execution_count": 110,
   "metadata": {},
   "outputs": [
    {
     "data": {
      "text/plain": [
       "['pyt', 'py', 'pyttttt']"
      ]
     },
     "execution_count": 110,
     "metadata": {},
     "output_type": "execute_result"
    }
   ],
   "source": [
    "data= \" python and data science class pyxhon pyttttthon\"\n",
    "y=re.findall('pyt+|pyt?',data)\n",
    "y"
   ]
  },
  {
   "cell_type": "code",
   "execution_count": 113,
   "metadata": {},
   "outputs": [
    {
     "data": {
      "text/plain": [
       "[<re.Match object; span=(1, 7), match='python'>,\n",
       " <re.Match object; span=(12, 16), match='data'>]"
      ]
     },
     "execution_count": 113,
     "metadata": {},
     "output_type": "execute_result"
    }
   ],
   "source": [
    "data= \" python and data science class pyxhon pyttttthon\"\n",
    "y=re.finditer('python|data',data)\n",
    "list(y)"
   ]
  },
  {
   "cell_type": "code",
   "execution_count": 118,
   "metadata": {
    "scrolled": true
   },
   "outputs": [
    {
     "data": {
      "text/plain": [
       "['python',\n",
       " 'and',\n",
       " 'data',\n",
       " 'science',\n",
       " 'CLASS',\n",
       " 'pyxhon',\n",
       " 'C',\n",
       " 'lass',\n",
       " 'pyttttthon',\n",
       " '8456323526']"
      ]
     },
     "execution_count": 118,
     "metadata": {},
     "output_type": "execute_result"
    }
   ],
   "source": [
    "data= \" python and data science CLASS pyxhon Class pyttttthon 8456323526\"\n",
    "y=re.findall('[a-z]+|[A-Z]+|[0-9]+',data)\n",
    "y"
   ]
  },
  {
   "cell_type": "code",
   "execution_count": 133,
   "metadata": {},
   "outputs": [
    {
     "data": {
      "text/plain": [
       "['22/4/2020', '22-4-2020', '22,4,2020']"
      ]
     },
     "execution_count": 133,
     "metadata": {},
     "output_type": "execute_result"
    }
   ],
   "source": [
    "dates = \"\"\"22/4/2020\n",
    "            22-4-2020\n",
    "            22,4,2020\n",
    "            22 April 2020\"\"\"\n",
    "re.findall(r\"\\d{2}[/,/-]\\d{1,2}[/,/-]\\d{4}\",dates)"
   ]
  },
  {
   "cell_type": "code",
   "execution_count": 134,
   "metadata": {},
   "outputs": [
    {
     "data": {
      "text/plain": [
       "['22/4/2020', '22-4-2020', '22,4,2020']"
      ]
     },
     "execution_count": 134,
     "metadata": {},
     "output_type": "execute_result"
    }
   ],
   "source": [
    "dates = \"\"\"22/4/2020\n",
    "            22-4-2020\n",
    "            22,4,2020\n",
    "            22 April 2020\"\"\"\n",
    "re.findall(r\"\\d{2}[/,]\\d{1,2}[/,]\\d{4}|\\d{2}[/]\\d{1,2}[/]\\d{4}|\\d{2}[-]\\d{1,2}[-]\\d{4}\",dates)"
   ]
  }
 ],
 "metadata": {
  "kernelspec": {
   "display_name": "Python 3",
   "language": "python",
   "name": "python3"
  },
  "language_info": {
   "codemirror_mode": {
    "name": "ipython",
    "version": 3
   },
   "file_extension": ".py",
   "mimetype": "text/x-python",
   "name": "python",
   "nbconvert_exporter": "python",
   "pygments_lexer": "ipython3",
   "version": "3.8.5"
  },
  "toc": {
   "base_numbering": 1,
   "nav_menu": {},
   "number_sections": true,
   "sideBar": true,
   "skip_h1_title": false,
   "title_cell": "Table of Contents",
   "title_sidebar": "Contents",
   "toc_cell": false,
   "toc_position": {},
   "toc_section_display": true,
   "toc_window_display": false
  }
 },
 "nbformat": 4,
 "nbformat_minor": 4
}

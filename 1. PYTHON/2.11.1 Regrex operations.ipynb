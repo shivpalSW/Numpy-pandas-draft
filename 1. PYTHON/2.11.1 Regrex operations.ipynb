{
 "cells": [
  {
   "cell_type": "code",
   "execution_count": 2,
   "metadata": {},
   "outputs": [
    {
     "name": "stdout",
     "output_type": "stream",
     "text": [
      "['ASHBJ8993Q', 'EBQPK6894F']\n"
     ]
    },
    {
     "data": {
      "text/plain": [
       "['20-10-2020', '20-08-2020', '40-08-2020']"
      ]
     },
     "execution_count": 2,
     "metadata": {},
     "output_type": "execute_result"
    }
   ],
   "source": [
    "import re\n",
    "Pan_data= '''PAN card numbers:\n",
    "            ASHBJ8993Q\n",
    "            ASUJJ67450\n",
    "            EBQPK6894F\n",
    "            KLA3D67F8R\n",
    "            4GHDS8079R\n",
    "            \n",
    "            Dates:\n",
    "            20-10-2020\n",
    "            20-08-2020\n",
    "            40-08-2020'''\n",
    "\n",
    "PAN_NUM=re.findall('[A-Z]{5}[0-9]{4}[A-Z]',Pan_data)\n",
    "print(PAN_NUM)\n",
    "date=re.findall('[0-9]{2}[-][0-9]{2}[-][0-9]{4}',Pan_data)\n",
    "date"
   ]
  },
  {
   "cell_type": "code",
   "execution_count": 3,
   "metadata": {},
   "outputs": [
    {
     "name": "stdout",
     "output_type": "stream",
     "text": [
      "['ASHBJ8993Q', 'EBQPK6894F']\n"
     ]
    },
    {
     "data": {
      "text/plain": [
       "['20-10-2020', '20-08-2020']"
      ]
     },
     "execution_count": 3,
     "metadata": {},
     "output_type": "execute_result"
    }
   ],
   "source": [
    "import re\n",
    "Pan_data= '''PAN card numbers:\n",
    "            ASHBJ8993Q\n",
    "            ASUJJ67450\n",
    "            EBQPK6894F\n",
    "            KLA3D67F8R\n",
    "            4GHDS8079R\n",
    "            \n",
    "            Dates:\n",
    "            20-10-2020\n",
    "            20-08-2020\n",
    "            40-08-2020\n",
    "            12-10-2025'''\n",
    "\n",
    "PAN_NUM=re.findall('[A-Z]{5}[0-9]{4}[A-Z]',Pan_data)\n",
    "print(PAN_NUM)\n",
    "date=re.findall('[0-30]{2}[-][0-9]{2}[-][0-2022]{4}',Pan_data)\n",
    "date"
   ]
  },
  {
   "cell_type": "code",
   "execution_count": 4,
   "metadata": {},
   "outputs": [
    {
     "name": "stdout",
     "output_type": "stream",
     "text": [
      "['ASHBJ8993Q', 'EBQPK6894F']\n"
     ]
    },
    {
     "data": {
      "text/plain": [
       "['20-10-2020', '20-08-2020', '40-08-2020']"
      ]
     },
     "execution_count": 4,
     "metadata": {},
     "output_type": "execute_result"
    }
   ],
   "source": [
    "import re\n",
    "Pan_data= '''PAN card numbers:\n",
    "            ASHBJ8993Q\n",
    "            ASUJJ67450\n",
    "            EBQPK6894F\n",
    "            KLA3D67F8R\n",
    "            4GHDS8079R\n",
    "            \n",
    "            Dates:\n",
    "            20-10-2020\n",
    "            20-08-2020\n",
    "            40-08-2020'''\n",
    "\n",
    "PAN_NUM=re.findall('[A-Z]{5}[0-9]{4}[A-Z]',Pan_data)\n",
    "print(PAN_NUM)\n",
    "date=re.findall('[\\d]{1,2}[-][\\d]{1,2}[-][\\d]{1,4}',Pan_data)\n",
    "date"
   ]
  },
  {
   "cell_type": "code",
   "execution_count": 5,
   "metadata": {},
   "outputs": [
    {
     "name": "stdout",
     "output_type": "stream",
     "text": [
      "['ASHBJ8993Q', 'EBQPK6894F']\n"
     ]
    },
    {
     "data": {
      "text/plain": [
       "['20-10-2020', '20-08-2020']"
      ]
     },
     "execution_count": 5,
     "metadata": {},
     "output_type": "execute_result"
    }
   ],
   "source": [
    "import re\n",
    "Pan_data= '''PAN card numbers:\n",
    "            ASHBJ8993Q\n",
    "            ASUJJ67450\n",
    "            EBQPK6894F\n",
    "            KLA3D67F8R\n",
    "            4GHDS8079R\n",
    "            \n",
    "            Dates:\n",
    "            20-10-2020\n",
    "            20-08-2020\n",
    "            40-08-2020'''\n",
    "\n",
    "PAN_NUM=re.findall('[A-Z]{5}[0-9]{4}[A-Z]',Pan_data)\n",
    "print(PAN_NUM)\n",
    "date=re.findall('[0-3][0-9][-][01][0-9][-][20]{2}[0-9]{2}',Pan_data)\n",
    "date"
   ]
  },
  {
   "cell_type": "code",
   "execution_count": 7,
   "metadata": {},
   "outputs": [
    {
     "data": {
      "text/plain": [
       "['2105 5436 6452']"
      ]
     },
     "execution_count": 7,
     "metadata": {},
     "output_type": "execute_result"
    }
   ],
   "source": [
    "adhar_numbers=\"\"\"0123 54655 486    #Invalid\n",
    "                2105 5436 6452     #Valid\n",
    "                23356565466        #Invalid\n",
    "                145632 325 365     #Valid\"\"\"\n",
    "adhar_num= re.findall('[0-9]{4}[ ][0-9]{4}[ ][0-9]{4}',adhar_numbers)\n",
    "adhar_num"
   ]
  },
  {
   "cell_type": "code",
   "execution_count": 8,
   "metadata": {},
   "outputs": [
    {
     "data": {
      "text/plain": [
       "['Valid', 'Valid']"
      ]
     },
     "execution_count": 8,
     "metadata": {},
     "output_type": "execute_result"
    }
   ],
   "source": [
    "adhar_numbers=\"\"\"0123 54655 486    #Invalid\n",
    "                2105 5436 6452     #Valid\n",
    "                23356565466        #Invalid\n",
    "                145632 325 365     #Valid\"\"\"\n",
    "adhar_num= re.findall('Valid',adhar_numbers)\n",
    "adhar_num"
   ]
  },
  {
   "cell_type": "code",
   "execution_count": 9,
   "metadata": {},
   "outputs": [
    {
     "data": {
      "text/plain": [
       "['2105 5436 6452']"
      ]
     },
     "execution_count": 9,
     "metadata": {},
     "output_type": "execute_result"
    }
   ],
   "source": [
    "adhar_numbers=\"\"\"0123 54655 486    #Invalid\n",
    "                2105 5436 6452     #Valid\n",
    "                23356565466        #Invalid\n",
    "                145632 325 365     #Valid\"\"\"\n",
    "adhar_num= re.findall('[0-9]{4}\\\\s[0-9]{4}\\\\s[0-9]{4}',adhar_numbers)\n",
    "adhar_num"
   ]
  },
  {
   "cell_type": "code",
   "execution_count": 10,
   "metadata": {},
   "outputs": [
    {
     "data": {
      "text/plain": [
       "['2105 5436 6452']"
      ]
     },
     "execution_count": 10,
     "metadata": {},
     "output_type": "execute_result"
    }
   ],
   "source": [
    "adhar_numbers=\"\"\"0123 54655 486    #Invalid\n",
    "                2105 5436 6452     #Valid\n",
    "                23356565466        #Invalid\n",
    "                145632 325 365     #Valid\"\"\"\n",
    "adhar_num= re.findall(r'[0-9]{4}\\s[0-9]{4}\\s[0-9]{4}',adhar_numbers)\n",
    "adhar_num"
   ]
  },
  {
   "cell_type": "markdown",
   "metadata": {},
   "source": [
    "# Special Sequences"
   ]
  },
  {
   "cell_type": "markdown",
   "metadata": {},
   "source": [
    "### \\d"
   ]
  },
  {
   "cell_type": "code",
   "execution_count": null,
   "metadata": {},
   "outputs": [],
   "source": [
    "\\d >> [0-9]   #is only for digits varying from 0-9"
   ]
  },
  {
   "cell_type": "code",
   "execution_count": 13,
   "metadata": {},
   "outputs": [
    {
     "data": {
      "text/plain": [
       "['2105 5436 6452']"
      ]
     },
     "execution_count": 13,
     "metadata": {},
     "output_type": "execute_result"
    }
   ],
   "source": [
    "adhar_numbers=\"\"\"0123 54655 486    #Invalid\n",
    "                2105 5436 6452     #Valid\n",
    "                A23356565466        #Invalid\n",
    "                145632 325 365      #invalid\n",
    "                I344 5678 2346      #Invalid\"\"\"\n",
    "adhar_num= re.findall(r'\\d{4}\\s\\d{4}\\s\\d{4}',adhar_numbers)\n",
    "adhar_num"
   ]
  },
  {
   "cell_type": "markdown",
   "metadata": {},
   "source": [
    "### \\D"
   ]
  },
  {
   "cell_type": "code",
   "execution_count": null,
   "metadata": {},
   "outputs": [],
   "source": [
    "\\D >> everything except [0-9] >> except digits >> [^0-9]"
   ]
  },
  {
   "cell_type": "code",
   "execution_count": 15,
   "metadata": {},
   "outputs": [
    {
     "data": {
      "text/plain": [
       "['200', '119', '978', '025', '561']"
      ]
     },
     "execution_count": 15,
     "metadata": {},
     "output_type": "execute_result"
    }
   ],
   "source": [
    "data= \"\"\" OECD Glossary of Statistical Terms. OECD. 2008. p. 119. ISBN 978-92-64-025561\"\"\"\n",
    "\n",
    "extracted_data=re.findall('\\d{3}',data)\n",
    "extracted_data"
   ]
  },
  {
   "cell_type": "code",
   "execution_count": 19,
   "metadata": {
    "collapsed": true
   },
   "outputs": [
    {
     "data": {
      "text/plain": [
       "[' OEC',\n",
       " 'D Gl',\n",
       " 'ossa',\n",
       " 'ry o',\n",
       " 'f St',\n",
       " 'atis',\n",
       " 'tica',\n",
       " 'l & ',\n",
       " '%Ter',\n",
       " 'ms. ',\n",
       " 'OECD',\n",
       " '. p.',\n",
       " '. IS',\n",
       " ' hsb']"
      ]
     },
     "execution_count": 19,
     "metadata": {},
     "output_type": "execute_result"
    }
   ],
   "source": [
    "data= \"\"\" OECD Glossary of Statistical & %Terms. OECD. 2008. p. 119. ISBN 978-92-64-025561 hsb\"\"\"\n",
    "\n",
    "extracted_data=re.findall('\\D{4}',data)\n",
    "extracted_data"
   ]
  },
  {
   "cell_type": "markdown",
   "metadata": {},
   "source": [
    "### \\s"
   ]
  },
  {
   "cell_type": "code",
   "execution_count": null,
   "metadata": {},
   "outputs": [],
   "source": [
    "\\s >> [ ] >> used for space"
   ]
  },
  {
   "cell_type": "code",
   "execution_count": 21,
   "metadata": {},
   "outputs": [
    {
     "data": {
      "text/plain": [
       "['2105  5436 6452']"
      ]
     },
     "execution_count": 21,
     "metadata": {},
     "output_type": "execute_result"
    }
   ],
   "source": [
    "adhar_numbers=\"\"\"0123 54655 486    #Invalid\n",
    "                2105  5436 6452     #Valid\n",
    "                23356565466        #Invalid\n",
    "                145632 325 365     #Valid\"\"\"\n",
    "adhar_num= re.findall(r'[0-9]{4}\\s\\s[0-9]{4}\\s[0-9]{4}',adhar_numbers)\n",
    "adhar_num"
   ]
  },
  {
   "cell_type": "code",
   "execution_count": 23,
   "metadata": {},
   "outputs": [
    {
     "data": {
      "text/plain": [
       "['2105  5436 6452']"
      ]
     },
     "execution_count": 23,
     "metadata": {},
     "output_type": "execute_result"
    }
   ],
   "source": [
    "adhar_numbers=\"\"\"0123 54655 486    #Invalid\n",
    "                2105  5436 6452     #Valid\n",
    "                23356565466        #Invalid\n",
    "                145632 325 365     #Valid\"\"\"\n",
    "adhar_num= re.findall(r'[0-9]{4}\\s{1,2}[0-9]{4}\\s[0-9]{4}',adhar_numbers)\n",
    "adhar_num"
   ]
  },
  {
   "cell_type": "code",
   "execution_count": 30,
   "metadata": {},
   "outputs": [
    {
     "name": "stdout",
     "output_type": "stream",
     "text": [
      "[' ', ' ', '     ', ' ', ' ', ' ', ' ', ' ', ' ', ' ', ' ', ' ', ' '] 14\n"
     ]
    }
   ],
   "source": [
    "data= \"\"\" OECD Glossary     of Statistical & %Terms. OECD. 2008. p. 119. ISBN 978-92-64-025561 hsb\"\"\"\n",
    "\n",
    "extracted_data=re.findall('\\s{2,10}',data)\n",
    "print(extracted_data,len(extracted_data)+1)"
   ]
  },
  {
   "cell_type": "markdown",
   "metadata": {},
   "source": [
    "## Finditer function"
   ]
  },
  {
   "cell_type": "code",
   "execution_count": null,
   "metadata": {},
   "outputs": [],
   "source": [
    "it returns all the matches found in the string in an object format.\n",
    "the span in object informs us about the indexes where the match was found.\n",
    "if the match is not found then it creates an empty object. \n",
    "& if the match is found then the object would have multiple entries."
   ]
  },
  {
   "cell_type": "code",
   "execution_count": 47,
   "metadata": {},
   "outputs": [
    {
     "data": {
      "text/plain": [
       "[<re.Match object; span=(14, 20), match='      '>,\n",
       " <re.Match object; span=(44, 56), match='            '>,\n",
       " <re.Match object; span=(61, 63), match='\\n\\n'>,\n",
       " <re.Match object; span=(76, 78), match='\\n '>]"
      ]
     },
     "execution_count": 47,
     "metadata": {},
     "output_type": "execute_result"
    }
   ],
   "source": [
    "data= \"\"\" OECD Glossary      of Statistical & %Terms.            OECD.\n",
    "\n",
    "2008. p. 119.\n",
    " ISBN 978-92-64-025561 hsb\"\"\"\n",
    "\n",
    "extracted_data=re.finditer('\\s{2,14}',data)\n",
    "list(extracted_data)\n",
    "# next(extracted_data)\n",
    "# for i in extracted_data:\n",
    "#     print(i)\n"
   ]
  },
  {
   "cell_type": "code",
   "execution_count": 51,
   "metadata": {},
   "outputs": [
    {
     "data": {
      "text/plain": [
       "[]"
      ]
     },
     "execution_count": 51,
     "metadata": {},
     "output_type": "execute_result"
    }
   ],
   "source": [
    "data= \"\"\" OECD Glossary      of Statistical & %Terms.            OECD.\n",
    "\n",
    "2008. p. 119.\n",
    " ISBN 978-92-64-025561 hsb\"\"\"\n",
    "extracted_data=re.finditer('\\s{20,40}',data)\n",
    "list(extracted_data)"
   ]
  },
  {
   "cell_type": "code",
   "execution_count": 52,
   "metadata": {},
   "outputs": [
    {
     "data": {
      "text/plain": [
       "[]"
      ]
     },
     "execution_count": 52,
     "metadata": {},
     "output_type": "execute_result"
    }
   ],
   "source": [
    "data= \"\"\" OECD Glossary      of Statistical & %Terms.            OECD.\n",
    "\n",
    "2008. p. 119.\n",
    " ISBN 978-92-64-025561 hsb\"\"\"\n",
    "extracted_data=re.findall('\\s{20,40}',data)\n",
    "list(extracted_data)"
   ]
  },
  {
   "cell_type": "code",
   "execution_count": null,
   "metadata": {},
   "outputs": [],
   "source": [
    "data= \"\"\" OECD Glossary      of Statistical & %Terms.            OECD.\n",
    "\n",
    "2008. p. 119.\n",
    " ISBN 978-92-64-025561 hsb\"\"\"\n",
    "extracted_data=re.finditer('\\s{20,14,-1}',data)\n",
    "extracted_data"
   ]
  },
  {
   "cell_type": "markdown",
   "metadata": {},
   "source": [
    "### \\S"
   ]
  },
  {
   "cell_type": "code",
   "execution_count": null,
   "metadata": {},
   "outputs": [],
   "source": [
    "\\S >> except spaces >> [^ ]"
   ]
  },
  {
   "cell_type": "code",
   "execution_count": 55,
   "metadata": {},
   "outputs": [
    {
     "name": "stdout",
     "output_type": "stream",
     "text": [
      "['d', '#', '$', 'a', 't', 'a', '3', '6', '4', '7']\n"
     ]
    }
   ],
   "source": [
    "print(re.findall('\\S',\"d#$ata 3647\"))"
   ]
  },
  {
   "cell_type": "code",
   "execution_count": 56,
   "metadata": {},
   "outputs": [
    {
     "name": "stdout",
     "output_type": "stream",
     "text": [
      "['d', '#', '$', 'a', 't', 'a', '3', '6', '4', '7'] 10\n"
     ]
    }
   ],
   "source": [
    "print(re.findall('\\S',\"d#$ata 3647\"),len(re.findall('\\S',\"d#$ata 3647\")))"
   ]
  },
  {
   "cell_type": "code",
   "execution_count": 57,
   "metadata": {},
   "outputs": [
    {
     "name": "stdout",
     "output_type": "stream",
     "text": [
      "['d', '#', '$', 'a', 't', 'a', '3', '6', '4', '7']\n"
     ]
    }
   ],
   "source": [
    "print(re.findall('[^ ]',\"d#$ata 3647\"))"
   ]
  },
  {
   "cell_type": "markdown",
   "metadata": {},
   "source": [
    "### \\w"
   ]
  },
  {
   "cell_type": "code",
   "execution_count": null,
   "metadata": {},
   "outputs": [],
   "source": [
    "\\w >>[A-Za-z0-9]"
   ]
  },
  {
   "cell_type": "code",
   "execution_count": 67,
   "metadata": {
    "collapsed": true
   },
   "outputs": [
    {
     "data": {
      "text/plain": [
       "['O',\n",
       " 'E',\n",
       " 'C',\n",
       " 'D',\n",
       " 'G',\n",
       " 'l',\n",
       " 'o',\n",
       " 's',\n",
       " 's',\n",
       " 'a',\n",
       " 'r',\n",
       " 'y',\n",
       " 'o',\n",
       " 'f',\n",
       " 'S',\n",
       " 't',\n",
       " 'a',\n",
       " 't',\n",
       " 'i',\n",
       " 's',\n",
       " 't',\n",
       " 'i',\n",
       " 'c',\n",
       " 'a',\n",
       " 'l',\n",
       " 'T',\n",
       " 'e',\n",
       " 'r',\n",
       " 'm',\n",
       " 's',\n",
       " 'O',\n",
       " 'E',\n",
       " 'C',\n",
       " 'D',\n",
       " '2',\n",
       " '0',\n",
       " '0',\n",
       " '8',\n",
       " 'p',\n",
       " '1',\n",
       " '1',\n",
       " '9',\n",
       " 'I',\n",
       " 'S',\n",
       " 'B',\n",
       " 'N',\n",
       " '9',\n",
       " '7',\n",
       " '8',\n",
       " '9',\n",
       " '2',\n",
       " '6',\n",
       " '4',\n",
       " '0',\n",
       " '2',\n",
       " '5',\n",
       " '5',\n",
       " '6',\n",
       " '1',\n",
       " 'h',\n",
       " 's',\n",
       " 'b']"
      ]
     },
     "execution_count": 67,
     "metadata": {},
     "output_type": "execute_result"
    }
   ],
   "source": [
    "data= \"\"\" OECD Glossary of Statistical & % Terms. OECD. 2008. p. 119. ISBN 978-92-64-025561 hsb\"\"\"\n",
    "\n",
    "extracted_data=re.findall('\\w',data)\n",
    "extracted_data"
   ]
  },
  {
   "cell_type": "code",
   "execution_count": 66,
   "metadata": {},
   "outputs": [
    {
     "data": {
      "text/plain": [
       "'OECDGlossaryofStatisticalTermsOECD2008p119ISBN9789264025561hsb'"
      ]
     },
     "execution_count": 66,
     "metadata": {},
     "output_type": "execute_result"
    }
   ],
   "source": [
    "data= \"\"\" OECD Glossary of Statistical & % Terms. OECD. 2008. p. 119. ISBN 978-92-64-025561 hsb\"\"\"\n",
    "\n",
    "extracted_data=re.findall('\\w',data)\n",
    "''.join(extracted_data)"
   ]
  },
  {
   "cell_type": "code",
   "execution_count": 74,
   "metadata": {},
   "outputs": [
    {
     "name": "stdout",
     "output_type": "stream",
     "text": [
      "['SBIN00013454', 'HDFC00045672']\n"
     ]
    }
   ],
   "source": [
    "import re\n",
    "bank_details= '''IFSC dodes:\n",
    "                SBIN00013454\n",
    "                HDFC00045672'''\n",
    "\n",
    "codes=re.findall('\\w{4}\\d{8}',bank_details)\n",
    "print(codes)"
   ]
  },
  {
   "cell_type": "markdown",
   "metadata": {},
   "source": [
    "### \\W  "
   ]
  },
  {
   "cell_type": "code",
   "execution_count": null,
   "metadata": {},
   "outputs": [],
   "source": [
    "\\W  >> Except alphanumerics >> [^a-zA-Z0-9]  >> except alphanumerics that includes special characters including space"
   ]
  },
  {
   "cell_type": "code",
   "execution_count": 76,
   "metadata": {
    "collapsed": true
   },
   "outputs": [
    {
     "data": {
      "text/plain": [
       "[' ',\n",
       " ' ',\n",
       " ' ',\n",
       " ' ',\n",
       " ' ',\n",
       " '&',\n",
       " ' ',\n",
       " '%',\n",
       " ' ',\n",
       " '.',\n",
       " ' ',\n",
       " '.',\n",
       " ' ',\n",
       " '.',\n",
       " ' ',\n",
       " '.',\n",
       " ' ',\n",
       " '.',\n",
       " ' ',\n",
       " ' ',\n",
       " '-',\n",
       " '-',\n",
       " '-',\n",
       " ' ']"
      ]
     },
     "execution_count": 76,
     "metadata": {},
     "output_type": "execute_result"
    }
   ],
   "source": [
    "data= \"\"\" OECD Glossary of Statistical & % Terms. OECD. 2008. p. 119. ISBN 978-92-64-025561 hsb\"\"\"\n",
    "\n",
    "extracted_data=re.findall('\\W',data)\n",
    "extracted_data"
   ]
  },
  {
   "cell_type": "code",
   "execution_count": null,
   "metadata": {},
   "outputs": [],
   "source": []
  },
  {
   "cell_type": "code",
   "execution_count": null,
   "metadata": {},
   "outputs": [],
   "source": []
  },
  {
   "cell_type": "code",
   "execution_count": null,
   "metadata": {},
   "outputs": [],
   "source": []
  },
  {
   "cell_type": "code",
   "execution_count": null,
   "metadata": {},
   "outputs": [],
   "source": []
  },
  {
   "cell_type": "code",
   "execution_count": null,
   "metadata": {},
   "outputs": [],
   "source": []
  },
  {
   "cell_type": "code",
   "execution_count": null,
   "metadata": {},
   "outputs": [],
   "source": []
  },
  {
   "cell_type": "code",
   "execution_count": null,
   "metadata": {},
   "outputs": [],
   "source": []
  },
  {
   "cell_type": "code",
   "execution_count": null,
   "metadata": {},
   "outputs": [],
   "source": []
  },
  {
   "cell_type": "code",
   "execution_count": null,
   "metadata": {},
   "outputs": [],
   "source": []
  },
  {
   "cell_type": "code",
   "execution_count": null,
   "metadata": {},
   "outputs": [],
   "source": []
  },
  {
   "cell_type": "code",
   "execution_count": null,
   "metadata": {},
   "outputs": [],
   "source": []
  },
  {
   "cell_type": "code",
   "execution_count": null,
   "metadata": {},
   "outputs": [],
   "source": []
  },
  {
   "cell_type": "code",
   "execution_count": null,
   "metadata": {},
   "outputs": [],
   "source": []
  },
  {
   "cell_type": "code",
   "execution_count": null,
   "metadata": {},
   "outputs": [],
   "source": []
  },
  {
   "cell_type": "code",
   "execution_count": null,
   "metadata": {},
   "outputs": [],
   "source": []
  },
  {
   "cell_type": "code",
   "execution_count": null,
   "metadata": {},
   "outputs": [],
   "source": []
  },
  {
   "cell_type": "code",
   "execution_count": null,
   "metadata": {},
   "outputs": [],
   "source": []
  },
  {
   "cell_type": "code",
   "execution_count": null,
   "metadata": {},
   "outputs": [],
   "source": []
  },
  {
   "cell_type": "code",
   "execution_count": null,
   "metadata": {},
   "outputs": [],
   "source": []
  },
  {
   "cell_type": "code",
   "execution_count": null,
   "metadata": {},
   "outputs": [],
   "source": []
  }
 ],
 "metadata": {
  "kernelspec": {
   "display_name": "Python 3",
   "language": "python",
   "name": "python3"
  },
  "language_info": {
   "codemirror_mode": {
    "name": "ipython",
    "version": 3
   },
   "file_extension": ".py",
   "mimetype": "text/x-python",
   "name": "python",
   "nbconvert_exporter": "python",
   "pygments_lexer": "ipython3",
   "version": "3.8.5"
  },
  "toc": {
   "base_numbering": 1,
   "nav_menu": {},
   "number_sections": true,
   "sideBar": true,
   "skip_h1_title": false,
   "title_cell": "Table of Contents",
   "title_sidebar": "Contents",
   "toc_cell": false,
   "toc_position": {},
   "toc_section_display": true,
   "toc_window_display": false
  }
 },
 "nbformat": 4,
 "nbformat_minor": 4
}

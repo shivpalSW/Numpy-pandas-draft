{
 "cells": [
  {
   "cell_type": "markdown",
   "id": "876b0341",
   "metadata": {},
   "source": [
    "## MultiLevel inheritance"
   ]
  },
  {
   "cell_type": "raw",
   "id": "69a45016",
   "metadata": {},
   "source": [
    "# The child classes will derive the properties of the parent classes.\n",
    "we crerate the object for the cild class"
   ]
  },
  {
   "cell_type": "code",
   "execution_count": 1,
   "id": "49e9db2a",
   "metadata": {},
   "outputs": [],
   "source": [
    "class Grandfather():\n",
    "    pass\n",
    "class Father(Grandfather):\n",
    "    pass\n",
    "class Child(Father):\n",
    "    pass"
   ]
  },
  {
   "cell_type": "code",
   "execution_count": 6,
   "id": "e89a6fc2",
   "metadata": {},
   "outputs": [
    {
     "name": "stdout",
     "output_type": "stream",
     "text": [
      "Hi there we are performing some maths\n",
      "the addition is:  30\n",
      "multiplication of nums is:  20\n",
      "addition is 30, & multiplication is 20\n"
     ]
    }
   ],
   "source": [
    "class baseclass1():\n",
    "    def display(self):\n",
    "        print(\"Hi there we are performing some maths\")\n",
    "        \n",
    "class baseclass2(baseclass1):\n",
    "    def addition(self,a,b):\n",
    "        add=a+b\n",
    "        self.add=add\n",
    "        print(\"the addition is: \",self.add)\n",
    "        \n",
    "class baseclass3(baseclass2):\n",
    "    def multiplication(self,a,b):\n",
    "        mul=a*b\n",
    "        self.mul=mul\n",
    "        print(\"multiplication of nums is: \", self.mul)\n",
    "        \n",
    "class derivedclass(baseclass3):\n",
    "    def calculations(self):\n",
    "        print(f\"addition is {self.add}, & multiplication is {self.mul}\")\n",
    "        \n",
    "    \n",
    "d1 = derivedclass()\n",
    "d1.display()\n",
    "d1.addition(10,20)\n",
    "d1.multiplication(5,4)\n",
    "d1.calculations()"
   ]
  },
  {
   "cell_type": "markdown",
   "id": "d02152c9",
   "metadata": {},
   "source": [
    "# Multiple Inheritance"
   ]
  },
  {
   "cell_type": "code",
   "execution_count": 8,
   "id": "0e348f15",
   "metadata": {},
   "outputs": [],
   "source": [
    "class baseclass1():\n",
    "    pass\n",
    "class baseclass2():\n",
    "    pass\n",
    "class derivedclass(baseclass1,baseclass2):\n",
    "    pass\n",
    "\n",
    "object_derived=derivedclass()"
   ]
  },
  {
   "cell_type": "code",
   "execution_count": 11,
   "id": "2cc906a3",
   "metadata": {
    "scrolled": true
   },
   "outputs": [
    {
     "name": "stdout",
     "output_type": "stream",
     "text": [
      "__init__ function\n",
      "addition is : 30\n",
      "Multiplication is : 10000\n"
     ]
    }
   ],
   "source": [
    "class Addition():\n",
    "    def add(self,a,b):\n",
    "        self.sum=a+b\n",
    "        print(\"addition is :\",self.sum)\n",
    "        \n",
    "class Multiplication():\n",
    "    def mul(self,a,b,c=50):\n",
    "        self.product=a*b*c\n",
    "        print(\"Multiplication is :\",self.product)\n",
    "        \n",
    "class calculations(Multiplication,Addition):\n",
    "    def __init__(self,a,b):\n",
    "        self.a=a\n",
    "        self.b=b\n",
    "        print(\"__init__ function\")\n",
    "        \n",
    "    def results(self):\n",
    "        self.add(self.a,self.b)\n",
    "        self.mul(self.a,self.b)\n",
    "        \n",
    "calc=calculations(10,20)\n",
    "calc.results()"
   ]
  },
  {
   "cell_type": "code",
   "execution_count": 12,
   "id": "788879bf",
   "metadata": {},
   "outputs": [
    {
     "data": {
      "text/plain": [
       "3.141592653589793"
      ]
     },
     "execution_count": 12,
     "metadata": {},
     "output_type": "execute_result"
    }
   ],
   "source": [
    "# WAP to find the areas of different shapes (circle, square, rectangle, triangle)\n",
    "\n",
    "import math\n",
    "math.pi"
   ]
  },
  {
   "cell_type": "code",
   "execution_count": 13,
   "id": "8b7513a1",
   "metadata": {},
   "outputs": [
    {
     "data": {
      "text/plain": [
       "3.141592653589793"
      ]
     },
     "execution_count": 13,
     "metadata": {},
     "output_type": "execute_result"
    }
   ],
   "source": [
    "import numpy\n",
    "numpy.pi"
   ]
  },
  {
   "cell_type": "code",
   "execution_count": 26,
   "id": "8c5d60ce",
   "metadata": {
    "collapsed": true
   },
   "outputs": [
    {
     "name": "stdout",
     "output_type": "stream",
     "text": [
      "Area of Circle is:  452.3893421169302\n",
      "Area of Square is:  16\n",
      "Area of Rectangel is:  12\n",
      "triangle area is:  6.0\n",
      "Area of Rectangel is:  12\n",
      "all operations successful\n"
     ]
    }
   ],
   "source": [
    "import math\n",
    "# math.pi\n",
    "\n",
    "class Circle():\n",
    "    def CircleArea(self, r):\n",
    "        self.c_area = math.pi * r * r\n",
    "        print(\"Area of Circle is: \",self.c_area)\n",
    "        \n",
    "class Square():\n",
    "    def SquareArea(self, s):\n",
    "        self.s_area = pow(s,2)\n",
    "        print(\"Area of Square is: \",self.s_area)\n",
    "\n",
    "class Rectangle():\n",
    "    def RectangleArea(self,l,b):\n",
    "#         self.l = l\n",
    "#         self.b = b\n",
    "        self.r_area = l * b    \n",
    "        print(\"Area of Rectangel is: \", self.r_area)\n",
    "        return self.r_area\n",
    "\n",
    "class Triangle(Rectangle):        \n",
    "    def TriangleArea(self,l,b):\n",
    "        self.l = l\n",
    "        self.b = b\n",
    "        print(\"triangle area is: \",0.5*self.RectangleArea(self.l,self.b))\n",
    "\n",
    "class Calcualtion(Triangle, Rectangle, Circle,Square):\n",
    "    def display(self):\n",
    "        print(\"all operations successful\")\n",
    "        pass\n",
    "#         print(\"Area of Triangel is: \",self.TriangleArea())\n",
    "        \n",
    "obj = Calcualtion()\n",
    "obj.CircleArea(12)\n",
    "obj.SquareArea(4)\n",
    "obj.TriangleArea(3,4)\n",
    "obj.RectangleArea(3,4)\n",
    "\n",
    "obj.display()"
   ]
  },
  {
   "cell_type": "code",
   "execution_count": 31,
   "id": "7fb73b6c",
   "metadata": {},
   "outputs": [
    {
     "name": "stdout",
     "output_type": "stream",
     "text": [
      "Area of Circle is:  452.3893421169302\n",
      "Area of Square is:  16\n",
      "triangle area is:  6.0\n",
      "Area of rectangle is:  12\n",
      "all operations successful\n"
     ]
    }
   ],
   "source": [
    "import math\n",
    "\n",
    "class Circle():\n",
    "    def CircleArea(self, r):\n",
    "        self.c_area = math.pi * r * r\n",
    "        print(\"Area of Circle is: \",self.c_area)\n",
    "        \n",
    "class Square():\n",
    "    def SquareArea(self, s):\n",
    "        self.s_area = pow(s,2)\n",
    "        print(\"Area of Square is: \",self.s_area)\n",
    "\n",
    "class Rectangle():\n",
    "    def RectangleArea(self,l,b):\n",
    "        self.r_area = l * b    \n",
    "        return self.r_area\n",
    "\n",
    "class Triangle(Rectangle):        \n",
    "    def TriangleArea(self,l,b):\n",
    "        self.l = l\n",
    "        self.b = b\n",
    "        print(\"triangle area is: \",0.5*self.RectangleArea(self.l,self.b))\n",
    "\n",
    "class Calcualtion(Triangle,Circle,Square):\n",
    "    def display(self):\n",
    "        print(\"all operations successful\")\n",
    "        pass\n",
    "#         print(\"Area of Triangel is: \",self.TriangleArea())\n",
    "        \n",
    "obj = Calcualtion()\n",
    "obj.CircleArea(12)\n",
    "obj.SquareArea(4)\n",
    "obj.TriangleArea(3,4)\n",
    "print(\"Area of rectangle is: \",obj.RectangleArea(3,4))\n",
    "\n",
    "obj.display()"
   ]
  }
 ],
 "metadata": {
  "kernelspec": {
   "display_name": "Python 3",
   "language": "python",
   "name": "python3"
  },
  "language_info": {
   "codemirror_mode": {
    "name": "ipython",
    "version": 3
   },
   "file_extension": ".py",
   "mimetype": "text/x-python",
   "name": "python",
   "nbconvert_exporter": "python",
   "pygments_lexer": "ipython3",
   "version": "3.8.8"
  },
  "toc": {
   "base_numbering": 1,
   "nav_menu": {},
   "number_sections": true,
   "sideBar": true,
   "skip_h1_title": false,
   "title_cell": "Table of Contents",
   "title_sidebar": "Contents",
   "toc_cell": false,
   "toc_position": {},
   "toc_section_display": true,
   "toc_window_display": false
  },
  "varInspector": {
   "cols": {
    "lenName": 16,
    "lenType": 16,
    "lenVar": 40
   },
   "kernels_config": {
    "python": {
     "delete_cmd_postfix": "",
     "delete_cmd_prefix": "del ",
     "library": "var_list.py",
     "varRefreshCmd": "print(var_dic_list())"
    },
    "r": {
     "delete_cmd_postfix": ") ",
     "delete_cmd_prefix": "rm(",
     "library": "var_list.r",
     "varRefreshCmd": "cat(var_dic_list()) "
    }
   },
   "types_to_exclude": [
    "module",
    "function",
    "builtin_function_or_method",
    "instance",
    "_Feature"
   ],
   "window_display": false
  }
 },
 "nbformat": 4,
 "nbformat_minor": 5
}

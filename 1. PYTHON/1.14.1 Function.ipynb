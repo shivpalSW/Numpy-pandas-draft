{
 "cells": [
  {
   "cell_type": "raw",
   "metadata": {},
   "source": [
    "Function:\n",
    "    1. Python inbult functions. Eg. max, min etc..\n",
    "    2. User Defined Functions\n",
    "    3. Procedural programing concept.\n",
    "    \n",
    "Functions: Functions are block of codes that we can call or use as & when required.\n",
    "            Functions are organised bloack of reusable codes.\n",
    "            Function will be executed only when it is called.\n",
    "            \n",
    "2 parts of the function is:\n",
    "            Declaration / Creation of the function.\n",
    "            calling of the functions/ using the function."
   ]
  },
  {
   "cell_type": "raw",
   "metadata": {},
   "source": [
    "def >> defination or defining a function\n",
    "\n",
    "def my_function(paramerters..):    #defining a function\n",
    "    \n",
    "    statements...\n",
    "    (..code)\n",
    "    \n",
    "    return                         #optional\n",
    "\n",
    "\n",
    "my_function(parameters)            # calling of the function"
   ]
  },
  {
   "cell_type": "code",
   "execution_count": null,
   "metadata": {},
   "outputs": [],
   "source": [
    "\n",
    "def function_name():\n",
    "    print('Hi Python')\n",
    "    print('We are testing functions here')\n",
    "    \n"
   ]
  },
  {
   "cell_type": "code",
   "execution_count": null,
   "metadata": {},
   "outputs": [],
   "source": [
    "print('Hi Python')\n",
    "print('We are testing functions here')"
   ]
  },
  {
   "cell_type": "code",
   "execution_count": null,
   "metadata": {},
   "outputs": [],
   "source": [
    "def function_name():\n",
    "    print('Hi Python')\n",
    "    print('We are testing functions here')\n",
    "    \n",
    "function_name()"
   ]
  },
  {
   "cell_type": "code",
   "execution_count": null,
   "metadata": {},
   "outputs": [],
   "source": [
    "def first_function():\n",
    "    for i in range(1,4):\n",
    "        print(f\"testing{i} of first_function\")\n",
    "    "
   ]
  },
  {
   "cell_type": "code",
   "execution_count": null,
   "metadata": {},
   "outputs": [],
   "source": [
    "first_function()"
   ]
  },
  {
   "cell_type": "code",
   "execution_count": null,
   "metadata": {},
   "outputs": [],
   "source": []
  },
  {
   "cell_type": "code",
   "execution_count": null,
   "metadata": {},
   "outputs": [],
   "source": [
    "def sum_average(a,b,c):     #3 parameters/arguements passed\n",
    "    sumatn=a+b+c\n",
    "    average=(a+b+c)/3\n",
    "    print(\"sum is\",sumatn,\"& averager is:\",average,sep='\\n')"
   ]
  },
  {
   "cell_type": "code",
   "execution_count": null,
   "metadata": {},
   "outputs": [],
   "source": [
    "sum_average(2,6,8)"
   ]
  },
  {
   "cell_type": "code",
   "execution_count": null,
   "metadata": {},
   "outputs": [],
   "source": [
    "a local variable can be accessed in well defined body of a function\n",
    "local variable has a local scope\n",
    "whereas a glabal variable can be accessed inside & outside the body of the function\n",
    "global variable has a global scope"
   ]
  },
  {
   "cell_type": "code",
   "execution_count": null,
   "metadata": {},
   "outputs": [],
   "source": [
    "def sum_average(a,b,c): #3 parameters/arguements passed\n",
    "    z=20                #local variable\n",
    "    print(\"value of z is \",z)\n",
    "    sumatn=a+b+c+z\n",
    "    average=(a+b+c+z)/4\n",
    "    print(\"sum is\",sumatn,\"& averager is:\",average,sep='\\n')"
   ]
  },
  {
   "cell_type": "code",
   "execution_count": null,
   "metadata": {},
   "outputs": [],
   "source": [
    "sum_average(100,200,300)"
   ]
  },
  {
   "cell_type": "code",
   "execution_count": null,
   "metadata": {},
   "outputs": [],
   "source": [
    "z"
   ]
  },
  {
   "cell_type": "code",
   "execution_count": null,
   "metadata": {},
   "outputs": [],
   "source": [
    "z=20      #Global variable\n",
    "\n",
    "def sum_average(a,b,c): #3 parameters/arguements passed                  \n",
    "    print(\"value of z is \",z)\n",
    "    sumatn=a+b+c+z\n",
    "    average=(a+b+c+z)/4\n",
    "    print(\"sum is\",sumatn,\"& averager is:\",average,sep='\\n')"
   ]
  },
  {
   "cell_type": "code",
   "execution_count": null,
   "metadata": {},
   "outputs": [],
   "source": [
    "sum_average(100,200,300)"
   ]
  },
  {
   "cell_type": "code",
   "execution_count": 12,
   "metadata": {},
   "outputs": [],
   "source": [
    "z=150"
   ]
  },
  {
   "cell_type": "code",
   "execution_count": 16,
   "metadata": {},
   "outputs": [],
   "source": [
    "def sum_average(a,b,c): #3 parameters passed    \n",
    "#     global z\n",
    "    z=200\n",
    "    print(\"value of z is \",z)\n",
    "    sumatn=a+b+c+z\n",
    "    average=(a+b+c+z)/4\n",
    "    print(\"sum is\",sumatn,\"& averager is:\",average,sep='\\n')"
   ]
  },
  {
   "cell_type": "code",
   "execution_count": 14,
   "metadata": {},
   "outputs": [
    {
     "name": "stdout",
     "output_type": "stream",
     "text": [
      "value of z is  200\n",
      "sum is\n",
      "800\n",
      "& averager is:\n",
      "200.0\n"
     ]
    }
   ],
   "source": [
    "sum_average(100,200,300)   #3 arguements passed"
   ]
  },
  {
   "cell_type": "code",
   "execution_count": 15,
   "metadata": {},
   "outputs": [
    {
     "data": {
      "text/plain": [
       "150"
      ]
     },
     "execution_count": 15,
     "metadata": {},
     "output_type": "execute_result"
    }
   ],
   "source": [
    "z"
   ]
  },
  {
   "cell_type": "markdown",
   "metadata": {},
   "source": [
    "## Arguments"
   ]
  },
  {
   "cell_type": "raw",
   "metadata": {},
   "source": [
    "no. of arguments that we pass on while calling the function should be equal to the no. of parameters of the function that we have defined.\n",
    "no. of arguments = no. of parameters\n",
    "\n",
    "arguments>> varaibles or values that are passed when calling the function\n",
    "parameters>> vairables or values that are used when defining a function"
   ]
  },
  {
   "cell_type": "code",
   "execution_count": 19,
   "metadata": {},
   "outputs": [
    {
     "ename": "TypeError",
     "evalue": "sum_average() takes 3 positional arguments but 4 were given",
     "output_type": "error",
     "traceback": [
      "\u001b[1;31m---------------------------------------------------------------------------\u001b[0m",
      "\u001b[1;31mTypeError\u001b[0m                                 Traceback (most recent call last)",
      "\u001b[1;32m<ipython-input-19-28aae5d5ebfe>\u001b[0m in \u001b[0;36m<module>\u001b[1;34m\u001b[0m\n\u001b[1;32m----> 1\u001b[1;33m \u001b[0msum_average\u001b[0m\u001b[1;33m(\u001b[0m\u001b[1;36m100\u001b[0m\u001b[1;33m,\u001b[0m\u001b[1;36m200\u001b[0m\u001b[1;33m,\u001b[0m\u001b[1;36m300\u001b[0m\u001b[1;33m,\u001b[0m\u001b[1;36m400\u001b[0m\u001b[1;33m)\u001b[0m\u001b[1;33m\u001b[0m\u001b[1;33m\u001b[0m\u001b[0m\n\u001b[0m",
      "\u001b[1;31mTypeError\u001b[0m: sum_average() takes 3 positional arguments but 4 were given"
     ]
    }
   ],
   "source": [
    "sum_average(100,200,300,400)"
   ]
  },
  {
   "cell_type": "code",
   "execution_count": 20,
   "metadata": {},
   "outputs": [
    {
     "ename": "TypeError",
     "evalue": "sum_average() missing 1 required positional argument: 'c'",
     "output_type": "error",
     "traceback": [
      "\u001b[1;31m---------------------------------------------------------------------------\u001b[0m",
      "\u001b[1;31mTypeError\u001b[0m                                 Traceback (most recent call last)",
      "\u001b[1;32m<ipython-input-20-b735acb7d65e>\u001b[0m in \u001b[0;36m<module>\u001b[1;34m\u001b[0m\n\u001b[1;32m----> 1\u001b[1;33m \u001b[0msum_average\u001b[0m\u001b[1;33m(\u001b[0m\u001b[1;36m100\u001b[0m\u001b[1;33m,\u001b[0m\u001b[1;36m200\u001b[0m\u001b[1;33m)\u001b[0m\u001b[1;33m\u001b[0m\u001b[1;33m\u001b[0m\u001b[0m\n\u001b[0m",
      "\u001b[1;31mTypeError\u001b[0m: sum_average() missing 1 required positional argument: 'c'"
     ]
    }
   ],
   "source": [
    "sum_average(100,200)"
   ]
  },
  {
   "cell_type": "code",
   "execution_count": 22,
   "metadata": {},
   "outputs": [
    {
     "data": {
      "text/plain": [
       "[2, 3, 4, 5]"
      ]
     },
     "execution_count": 22,
     "metadata": {},
     "output_type": "execute_result"
    }
   ],
   "source": [
    "def mere_print(listee):\n",
    "    return (listee)\n",
    "    \n",
    "list1=[2,3,4,5]\n",
    "mere_print(list1)"
   ]
  },
  {
   "cell_type": "code",
   "execution_count": 23,
   "metadata": {},
   "outputs": [
    {
     "ename": "NameError",
     "evalue": "name 'mero_print' is not defined",
     "output_type": "error",
     "traceback": [
      "\u001b[1;31m---------------------------------------------------------------------------\u001b[0m",
      "\u001b[1;31mNameError\u001b[0m                                 Traceback (most recent call last)",
      "\u001b[1;32m<ipython-input-23-2e1e28441c8a>\u001b[0m in \u001b[0;36m<module>\u001b[1;34m\u001b[0m\n\u001b[1;32m----> 1\u001b[1;33m \u001b[0mmero_print\u001b[0m\u001b[1;33m(\u001b[0m\u001b[0mlist1\u001b[0m\u001b[1;33m)\u001b[0m\u001b[1;33m\u001b[0m\u001b[1;33m\u001b[0m\u001b[0m\n\u001b[0m\u001b[0;32m      2\u001b[0m \u001b[1;33m\u001b[0m\u001b[0m\n\u001b[0;32m      3\u001b[0m \u001b[1;32mdef\u001b[0m \u001b[0mmero_print\u001b[0m\u001b[1;33m(\u001b[0m\u001b[0mlistee\u001b[0m\u001b[1;33m)\u001b[0m\u001b[1;33m:\u001b[0m\u001b[1;33m\u001b[0m\u001b[1;33m\u001b[0m\u001b[0m\n\u001b[0;32m      4\u001b[0m     \u001b[1;32mreturn\u001b[0m \u001b[1;33m(\u001b[0m\u001b[0mlistee\u001b[0m\u001b[1;33m)\u001b[0m\u001b[1;33m\u001b[0m\u001b[1;33m\u001b[0m\u001b[0m\n\u001b[0;32m      5\u001b[0m \u001b[1;33m\u001b[0m\u001b[0m\n",
      "\u001b[1;31mNameError\u001b[0m: name 'mero_print' is not defined"
     ]
    }
   ],
   "source": [
    "mero_print(list1)\n",
    "\n",
    "def mero_print(listee):\n",
    "    return (listee)\n",
    "    \n",
    "list1=[2,3,4,5]\n"
   ]
  },
  {
   "cell_type": "code",
   "execution_count": 28,
   "metadata": {},
   "outputs": [
    {
     "ename": "NameError",
     "evalue": "name 'list2' is not defined",
     "output_type": "error",
     "traceback": [
      "\u001b[1;31m---------------------------------------------------------------------------\u001b[0m",
      "\u001b[1;31mNameError\u001b[0m                                 Traceback (most recent call last)",
      "\u001b[1;32m<ipython-input-28-6f4f7c186913>\u001b[0m in \u001b[0;36m<module>\u001b[1;34m\u001b[0m\n\u001b[0;32m      3\u001b[0m \u001b[1;33m\u001b[0m\u001b[0m\n\u001b[0;32m      4\u001b[0m \u001b[1;33m\u001b[0m\u001b[0m\n\u001b[1;32m----> 5\u001b[1;33m \u001b[0mmero_print\u001b[0m\u001b[1;33m(\u001b[0m\u001b[0mlist2\u001b[0m\u001b[1;33m)\u001b[0m\u001b[1;33m\u001b[0m\u001b[1;33m\u001b[0m\u001b[0m\n\u001b[0m\u001b[0;32m      6\u001b[0m \u001b[1;33m\u001b[0m\u001b[0m\n\u001b[0;32m      7\u001b[0m \u001b[1;33m\u001b[0m\u001b[0m\n",
      "\u001b[1;31mNameError\u001b[0m: name 'list2' is not defined"
     ]
    }
   ],
   "source": [
    "def mero_print(listee):\n",
    "    return (listee)\n",
    "    \n",
    "\n",
    "mero_print(list2)\n",
    "\n",
    "\n",
    "list2=[2,3,4,5]\n"
   ]
  },
  {
   "cell_type": "code",
   "execution_count": 33,
   "metadata": {},
   "outputs": [
    {
     "data": {
      "text/plain": [
       "[2, 3, 4, 5]"
      ]
     },
     "execution_count": 33,
     "metadata": {},
     "output_type": "execute_result"
    }
   ],
   "source": [
    "\n",
    "list3=[2,3,4,5]\n",
    "\n",
    "def mero_print(x):\n",
    "    return (x)\n",
    "    \n",
    "\n",
    "mero_print(list3)\n",
    "\n"
   ]
  },
  {
   "cell_type": "code",
   "execution_count": 35,
   "metadata": {},
   "outputs": [
    {
     "data": {
      "text/plain": [
       "([2, 6, 56], [3, 5, 7, 9, 23, 45])"
      ]
     },
     "execution_count": 35,
     "metadata": {},
     "output_type": "execute_result"
    }
   ],
   "source": [
    "# program to find even odd no. from any list using an user defined function\n",
    "def even_odd(x):\n",
    "    \n",
    "    even=[i for i in x if i%2==0]\n",
    "    odd=[i for i in x if i%2!=0]\n",
    "    \n",
    "    return (even,odd)\n",
    "\n",
    "even_odd([2,3,5,6,7,9,23,45,56])"
   ]
  },
  {
   "cell_type": "code",
   "execution_count": 41,
   "metadata": {},
   "outputs": [
    {
     "data": {
      "text/plain": [
       "([121, 144, 169, 196, 225], [625, 676, 729, 784, 841, 900])"
      ]
     },
     "execution_count": 41,
     "metadata": {},
     "output_type": "execute_result"
    }
   ],
   "source": [
    "# WAP to print the squares of first 5 & last 5 numbers of any range using function & return\n",
    "def square():\n",
    "    first_5_sq =[i**2 for i in range(11,16) ]\n",
    "    last_5_sq =[i**2 for i in range(25,31) ]\n",
    "\n",
    "    return(first_5_sq , last_5_sq)\n",
    "\n",
    "square()"
   ]
  },
  {
   "cell_type": "code",
   "execution_count": 42,
   "metadata": {},
   "outputs": [
    {
     "data": {
      "text/plain": [
       "([121, 144, 169, 196, 225], [729, 784, 841, 900, 961])"
      ]
     },
     "execution_count": 42,
     "metadata": {},
     "output_type": "execute_result"
    }
   ],
   "source": [
    "\n",
    "def square(X,Y):\n",
    "    first_5_sq =[i**2 for i in range(X,X+5) ]\n",
    "    last_5_sq =[i**2 for i in range(Y-4,Y+1) ]\n",
    "    return(first_5_sq , last_5_sq)\n",
    "\n",
    "square(11,31)"
   ]
  },
  {
   "cell_type": "markdown",
   "metadata": {},
   "source": [
    "## Return Statement"
   ]
  },
  {
   "cell_type": "code",
   "execution_count": null,
   "metadata": {},
   "outputs": [],
   "source": [
    "Return Statement\n",
    "It is used to end the function & return specific value,values from the function\n",
    "but it also takes you out of the function meaning it basically breaks the function"
   ]
  },
  {
   "cell_type": "code",
   "execution_count": 43,
   "metadata": {},
   "outputs": [
    {
     "data": {
      "text/plain": [
       "(11, 31)"
      ]
     },
     "execution_count": 43,
     "metadata": {},
     "output_type": "execute_result"
    }
   ],
   "source": [
    "\n",
    "def square(X,Y):\n",
    "    return(X , Y)\n",
    "    first_5_sq =[i**2 for i in range(X,X+5) ]\n",
    "    last_5_sq =[i**2 for i in range(Y-4,Y+1) ]\n",
    "    \n",
    "\n",
    "square(11,31)"
   ]
  },
  {
   "cell_type": "code",
   "execution_count": 45,
   "metadata": {},
   "outputs": [
    {
     "data": {
      "text/plain": [
       "'i is odd'"
      ]
     },
     "execution_count": 45,
     "metadata": {},
     "output_type": "execute_result"
    }
   ],
   "source": [
    "\n",
    "def square(X):\n",
    "    for i in range(X,X+5):\n",
    "        if i%2==0:\n",
    "            return \"i is even\"\n",
    "        else:\n",
    "            return \"i is odd\"\n",
    "\n",
    "square(11)"
   ]
  },
  {
   "cell_type": "code",
   "execution_count": null,
   "metadata": {},
   "outputs": [],
   "source": [
    "\n",
    "def square(X):\n",
    "    if X%2==0:\n",
    "        return \"x is even\"\n",
    "    else:\n",
    "        return \"x is odd\"\n",
    "\n",
    "square(11)"
   ]
  },
  {
   "cell_type": "markdown",
   "metadata": {},
   "source": [
    "## Yield"
   ]
  },
  {
   "cell_type": "code",
   "execution_count": null,
   "metadata": {},
   "outputs": [],
   "source": [
    "Yield:\n",
    "    return breaks the function & returns a single outcome, whereas yield returns multiple outcomes & continues within the funtion untill all operations are completd\n",
    "    yield creates a generator object & that can be accesed using for loop, list comprehension, list constructor & NEXT."
   ]
  },
  {
   "cell_type": "code",
   "execution_count": 48,
   "metadata": {},
   "outputs": [
    {
     "data": {
      "text/plain": [
       "['11 is odd', '12 is even', '13 is odd', '14 is even', '15 is odd']"
      ]
     },
     "execution_count": 48,
     "metadata": {},
     "output_type": "execute_result"
    }
   ],
   "source": [
    "def square(X):\n",
    "    for i in range(X,X+5):\n",
    "        if i%2==0:\n",
    "            yield f\"{i} is even\"\n",
    "        else:\n",
    "            yield f\"{i} is odd\"\n",
    "\n",
    "z=square(11)\n",
    "list(z)"
   ]
  },
  {
   "cell_type": "code",
   "execution_count": null,
   "metadata": {},
   "outputs": [],
   "source": [
    "def square(X):\n",
    "    for i in range(X,X+5):\n",
    "        if i%2==0:\n",
    "            yield f\"{i} is even\"\n",
    "        else:\n",
    "            yield f\"{i} is odd\"\n",
    "\n",
    "z=square(11)\n",
    "list(z)"
   ]
  },
  {
   "cell_type": "code",
   "execution_count": 65,
   "metadata": {},
   "outputs": [
    {
     "name": "stdout",
     "output_type": "stream",
     "text": [
      "1\n",
      "3\n",
      "5\n",
      "7\n"
     ]
    }
   ],
   "source": [
    "def nums(x):\n",
    "    for i in x:\n",
    "        yield(i)\n",
    "        \n",
    "z=nums([1,3,5,7,9])\n",
    "# tuple(z)\n",
    "# for i in z:\n",
    "#     print(i)\n",
    "# [i for i in z]\n",
    "# first_item=next(z)\n",
    "# first_item\n",
    "print(next(z))\n",
    "print(next(z))\n",
    "print(next(z))\n",
    "print(next(z))"
   ]
  },
  {
   "cell_type": "code",
   "execution_count": 68,
   "metadata": {},
   "outputs": [
    {
     "data": {
      "text/plain": [
       "1"
      ]
     },
     "execution_count": 68,
     "metadata": {},
     "output_type": "execute_result"
    }
   ],
   "source": [
    "x= iter([1,3,5,7,9])\n",
    "# list(x)\n",
    "next(x)"
   ]
  },
  {
   "cell_type": "code",
   "execution_count": 80,
   "metadata": {},
   "outputs": [
    {
     "name": "stdout",
     "output_type": "stream",
     "text": [
      "odd number\n",
      "even number\n",
      "odd number\n",
      "even number\n"
     ]
    }
   ],
   "source": [
    "list1=[1,2,5,6]\n",
    "\n",
    "def even_odd(x):\n",
    "    if x%2==0:return 'even number'\n",
    "    else:return 'odd number'\n",
    "\n",
    "for i in list1:\n",
    "    print(even_odd(i))"
   ]
  },
  {
   "cell_type": "code",
   "execution_count": null,
   "metadata": {},
   "outputs": [],
   "source": []
  }
 ],
 "metadata": {
  "kernelspec": {
   "display_name": "Python 3",
   "language": "python",
   "name": "python3"
  },
  "language_info": {
   "codemirror_mode": {
    "name": "ipython",
    "version": 3
   },
   "file_extension": ".py",
   "mimetype": "text/x-python",
   "name": "python",
   "nbconvert_exporter": "python",
   "pygments_lexer": "ipython3",
   "version": "3.8.5"
  },
  "toc": {
   "base_numbering": 1,
   "nav_menu": {},
   "number_sections": true,
   "sideBar": true,
   "skip_h1_title": false,
   "title_cell": "Table of Contents",
   "title_sidebar": "Contents",
   "toc_cell": false,
   "toc_position": {},
   "toc_section_display": true,
   "toc_window_display": false
  }
 },
 "nbformat": 4,
 "nbformat_minor": 4
}

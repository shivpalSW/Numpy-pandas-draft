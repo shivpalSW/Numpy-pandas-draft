{
 "cells": [
  {
   "cell_type": "markdown",
   "id": "d6bbd444",
   "metadata": {},
   "source": [
    "## Polymorphism"
   ]
  },
  {
   "cell_type": "raw",
   "id": "f0f80d70",
   "metadata": {},
   "source": [
    "poly >> many\n",
    "Morfism >> forms\n",
    "\n",
    "polymorphism >> many froms\n",
    "same function name used at different celles or classes"
   ]
  },
  {
   "cell_type": "code",
   "execution_count": 10,
   "id": "89c9916e",
   "metadata": {
    "scrolled": true
   },
   "outputs": [
    {
     "name": "stdout",
     "output_type": "stream",
     "text": [
      "area of circle1 is 78.53981633974483\n",
      "area of circle2 is 113.09733552923255\n",
      "area of circle2 is 153.93804002589985\n"
     ]
    }
   ],
   "source": [
    "import math\n",
    "class circle1():\n",
    "    def __init__(self,r1):\n",
    "        self.r1=r1\n",
    "    def area(self):\n",
    "        return f'area of circle1 is {math.pi*pow(self.r1,2)}'\n",
    "    \n",
    "class circle2():\n",
    "    def __init__(self,r1):\n",
    "        self.r1=r1\n",
    "    def area(self):\n",
    "        return f'area of circle2 is {math.pi*pow(self.r1,2)}'\n",
    "    \n",
    "class circle3():\n",
    "    def __init__(self,r1):\n",
    "        self.r1=r1    \n",
    "    \n",
    "    def area(self):\n",
    "        return f'area of circle2 is {math.pi*pow(self.r1,2)}'\n",
    "    \n",
    "c1=circle1(5)\n",
    "c2=circle2(6)\n",
    "c3=circle3(7)\n",
    "\n",
    "for obj in [c1,c2,c3]:\n",
    "    print(obj.area())"
   ]
  },
  {
   "cell_type": "markdown",
   "id": "290862be",
   "metadata": {},
   "source": [
    "## Overiding method"
   ]
  },
  {
   "cell_type": "code",
   "execution_count": null,
   "id": "f3991c01",
   "metadata": {},
   "outputs": [],
   "source": [
    "this only happens in cse of polymorphism when we have same methods in different classes. In such a case the method of child class with overpower or overide the method of parent class."
   ]
  },
  {
   "cell_type": "code",
   "execution_count": 12,
   "id": "11e1936f",
   "metadata": {},
   "outputs": [
    {
     "data": {
      "text/plain": [
       "'area of circle2 is 113.09733552923255'"
      ]
     },
     "execution_count": 12,
     "metadata": {},
     "output_type": "execute_result"
    }
   ],
   "source": [
    "import math\n",
    "\n",
    "class circle1():\n",
    "    def __init__(self):\n",
    "        self.r1=5\n",
    "        \n",
    "    def area(self):\n",
    "        return f'area of circle1 is {math.pi*pow(self.r1,2)}'\n",
    "    \n",
    "class circle2(circle1):\n",
    "    def __init__(self):\n",
    "        self.r1=6\n",
    "        \n",
    "    def area(self):\n",
    "        return f'area of circle2 is {math.pi*pow(self.r1,2)}' \n",
    "    \n",
    "c=circle2()\n",
    "c.area()\n"
   ]
  }
 ],
 "metadata": {
  "kernelspec": {
   "display_name": "Python 3",
   "language": "python",
   "name": "python3"
  },
  "language_info": {
   "codemirror_mode": {
    "name": "ipython",
    "version": 3
   },
   "file_extension": ".py",
   "mimetype": "text/x-python",
   "name": "python",
   "nbconvert_exporter": "python",
   "pygments_lexer": "ipython3",
   "version": "3.8.8"
  },
  "toc": {
   "base_numbering": 1,
   "nav_menu": {},
   "number_sections": true,
   "sideBar": true,
   "skip_h1_title": false,
   "title_cell": "Table of Contents",
   "title_sidebar": "Contents",
   "toc_cell": false,
   "toc_position": {},
   "toc_section_display": true,
   "toc_window_display": false
  },
  "varInspector": {
   "cols": {
    "lenName": 16,
    "lenType": 16,
    "lenVar": 40
   },
   "kernels_config": {
    "python": {
     "delete_cmd_postfix": "",
     "delete_cmd_prefix": "del ",
     "library": "var_list.py",
     "varRefreshCmd": "print(var_dic_list())"
    },
    "r": {
     "delete_cmd_postfix": ") ",
     "delete_cmd_prefix": "rm(",
     "library": "var_list.r",
     "varRefreshCmd": "cat(var_dic_list()) "
    }
   },
   "types_to_exclude": [
    "module",
    "function",
    "builtin_function_or_method",
    "instance",
    "_Feature"
   ],
   "window_display": false
  }
 },
 "nbformat": 4,
 "nbformat_minor": 5
}

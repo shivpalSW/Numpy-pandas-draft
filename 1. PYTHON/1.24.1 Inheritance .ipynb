{
 "cells": [
  {
   "cell_type": "code",
   "execution_count": 11,
   "id": "c1288115",
   "metadata": {},
   "outputs": [
    {
     "name": "stdout",
     "output_type": "stream",
     "text": [
      "this is init function\n",
      "the name is  Rahul\n",
      "this is init function\n",
      "Hello child\n",
      "the name is  Hemant\n"
     ]
    }
   ],
   "source": [
    "class Parent:\n",
    "    def __init__(self, name):\n",
    "        print(\"this is init function\")\n",
    "        self.name=name\n",
    "    def call_name(self):\n",
    "        print(\"the name is \",self.name)\n",
    "        \n",
    "class Child(Parent):\n",
    "    \n",
    "    def print_alone(self):\n",
    "        print(\"Hello child\")\n",
    "    \n",
    "obj=Parent('Rahul')       ## created object of parent class\n",
    "obj.call_name()\n",
    "# obj.print_alone()\n",
    "    \n",
    "obj1=Child('Hemant')      ## created object for child class\n",
    "obj1.print_alone()\n",
    "obj1.call_name()"
   ]
  },
  {
   "cell_type": "code",
   "execution_count": null,
   "id": "b5eb19b9",
   "metadata": {},
   "outputs": [],
   "source": []
  },
  {
   "cell_type": "code",
   "execution_count": 25,
   "id": "248d2e24",
   "metadata": {},
   "outputs": [
    {
     "name": "stdout",
     "output_type": "stream",
     "text": [
      "This is Child class Init function\n",
      "Studetn's roll no. is:  100\n",
      "Student's name functions of Name Class \n",
      "Student's age is:  22\n",
      "Location is:  Lonawala\n"
     ]
    }
   ],
   "source": [
    "class Name:\n",
    "    def __init__(self,name):\n",
    "        self.name=name\n",
    "        \n",
    "        print('This is Name class Init function')\n",
    "        \n",
    "    def student_name(self,location):\n",
    "        self.location=location\n",
    "        print(\"Student's name functions of Name Class \")\n",
    "        \n",
    "class StudentInfo(Name):\n",
    "    def __init__(self,name,roll_number,age,marks):\n",
    "        print(\"This is Child class Init function\")\n",
    "        self.roll_number=roll_number\n",
    "        self.age=age\n",
    "        self.marks=marks\n",
    "        \n",
    "    def student_roll_number(self):\n",
    "        print(\"Studetn's roll no. is: \",self.roll_number)\n",
    "        \n",
    "    def student_age(self):\n",
    "        print(\"Student's age is: \",self.age)\n",
    "        print(\"Location is: \",self.location)\n",
    "        \n",
    "stu_obj=StudentInfo('jagdish',100,22,96)\n",
    "stu_obj.student_roll_number()\n",
    "stu_obj.student_name('Lonawala')\n",
    "stu_obj.student_age()\n",
    "\n",
    "\n"
   ]
  },
  {
   "cell_type": "code",
   "execution_count": null,
   "id": "4059acd0",
   "metadata": {},
   "outputs": [],
   "source": [
    "Syntax for creating __init__ function of child class to parent class:\n",
    "    \n",
    "    parentclass_name.__init__(self,arguements)\n",
    "    super().__init__(self,arguements)\n",
    "    \n",
    "use of super(): is only when we have single parent class for a child class.\n",
    "    if we are using super(), then we need not use self as the initial arguement."
   ]
  },
  {
   "cell_type": "code",
   "execution_count": 33,
   "id": "e1b41917",
   "metadata": {},
   "outputs": [
    {
     "name": "stdout",
     "output_type": "stream",
     "text": [
      "This is Child class Init function\n",
      "This is Parent class Init function\n",
      "Studetn's roll no. is:  100\n",
      "Student's name functions of Name Class  Jagdish\n",
      "Student's age is:  22\n",
      "Location is:  Gadchiroli\n"
     ]
    }
   ],
   "source": [
    "#-----------------------------------------------------------------------------\n",
    "\n",
    "class NameInfo:\n",
    "    \n",
    "    def __init__(self,name,location):\n",
    "        print('This is Parent class Init function')\n",
    "        self.name=name\n",
    "        self.location=location\n",
    "    def student_name(self):\n",
    "        print(\"Student's name functions of Name Class \",self.name)\n",
    "        \n",
    "    def student_location(self):\n",
    "        print(\"Location is: \",self.location)\n",
    "        \n",
    "class StudentInfo(NameInfo):\n",
    "    \n",
    "    def __init__(self,NAME,roll_number,age,LOCATION):\n",
    "        print(\"This is Child class Init function\")\n",
    "        \n",
    "        NameInfo.__init__(self,NAME,LOCATION)\n",
    "        \n",
    "        self.roll_number=roll_number\n",
    "        self.age=age\n",
    "        \n",
    "    def student_roll_number(self):\n",
    "        print(\"Studetn's roll no. is: \",self.roll_number)\n",
    "        \n",
    "    def student_age(self):\n",
    "        print(\"Student's age is: \",self.age)\n",
    "        \n",
    "#-----------------------------------------------------------------------------\n",
    "        \n",
    "stu_obj=StudentInfo('Jagdish',100,22,'Gadchiroli')\n",
    "stu_obj.student_roll_number()\n",
    "stu_obj.student_name()\n",
    "stu_obj.student_age()\n",
    "stu_obj.student_location()"
   ]
  },
  {
   "cell_type": "code",
   "execution_count": 36,
   "id": "c0035add",
   "metadata": {},
   "outputs": [
    {
     "name": "stdout",
     "output_type": "stream",
     "text": [
      "This is Child class Init function\n",
      "This is Parent class Init function\n",
      "Studetn's roll no. is:  100\n",
      "Student's name functions of Name Class  Jagdish\n",
      "Student's age is:  22\n",
      "Location is:  Gadchiroli\n"
     ]
    }
   ],
   "source": [
    "#-----------------------------------------------------------------------------\n",
    "\n",
    "class NameInfo:\n",
    "    \n",
    "    def __init__(self,name,location):\n",
    "        print('This is Parent class Init function')\n",
    "        self.name=name\n",
    "        self.location=location\n",
    "    def student_name(self):\n",
    "        print(\"Student's name functions of Name Class \",self.name)\n",
    "        \n",
    "    def student_location(self):\n",
    "        print(\"Location is: \",self.location)\n",
    "        \n",
    "class StudentInfo(NameInfo):\n",
    "    \n",
    "    def __init__(self,NAME,roll_number,age,LOCATION):\n",
    "        print(\"This is Child class Init function\")\n",
    "        \n",
    "        super().__init__(NAME,LOCATION)\n",
    "        \n",
    "        self.roll_number=roll_number\n",
    "        self.age=age\n",
    "        \n",
    "    def student_roll_number(self):\n",
    "        print(\"Studetn's roll no. is: \",self.roll_number)\n",
    "        \n",
    "    def student_age(self):\n",
    "        print(\"Student's age is: \",self.age)\n",
    "        \n",
    "#-----------------------------------------------------------------------------\n",
    "        \n",
    "stu_obj=StudentInfo('Jagdish',100,22,'Gadchiroli')\n",
    "stu_obj.student_roll_number()\n",
    "stu_obj.student_name()\n",
    "stu_obj.student_age()\n",
    "stu_obj.student_location()"
   ]
  },
  {
   "cell_type": "code",
   "execution_count": null,
   "id": "162faa4a",
   "metadata": {},
   "outputs": [],
   "source": [
    "class as"
   ]
  }
 ],
 "metadata": {
  "kernelspec": {
   "display_name": "Python 3",
   "language": "python",
   "name": "python3"
  },
  "language_info": {
   "codemirror_mode": {
    "name": "ipython",
    "version": 3
   },
   "file_extension": ".py",
   "mimetype": "text/x-python",
   "name": "python",
   "nbconvert_exporter": "python",
   "pygments_lexer": "ipython3",
   "version": "3.8.8"
  },
  "toc": {
   "base_numbering": 1,
   "nav_menu": {},
   "number_sections": true,
   "sideBar": true,
   "skip_h1_title": false,
   "title_cell": "Table of Contents",
   "title_sidebar": "Contents",
   "toc_cell": false,
   "toc_position": {},
   "toc_section_display": true,
   "toc_window_display": false
  },
  "varInspector": {
   "cols": {
    "lenName": 16,
    "lenType": 16,
    "lenVar": 40
   },
   "kernels_config": {
    "python": {
     "delete_cmd_postfix": "",
     "delete_cmd_prefix": "del ",
     "library": "var_list.py",
     "varRefreshCmd": "print(var_dic_list())"
    },
    "r": {
     "delete_cmd_postfix": ") ",
     "delete_cmd_prefix": "rm(",
     "library": "var_list.r",
     "varRefreshCmd": "cat(var_dic_list()) "
    }
   },
   "types_to_exclude": [
    "module",
    "function",
    "builtin_function_or_method",
    "instance",
    "_Feature"
   ],
   "window_display": false
  }
 },
 "nbformat": 4,
 "nbformat_minor": 5
}

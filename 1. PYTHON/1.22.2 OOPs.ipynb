{
 "cells": [
  {
   "cell_type": "code",
   "execution_count": null,
   "id": "238baf42",
   "metadata": {},
   "outputs": [],
   "source": [
    "Object Oriented Programing (OOP):\n",
    "    is a method of structuring a program by bundling related properties & behaviours into indivisual objects.\n",
    "    \n",
    "Use:\n",
    "        Code resusability. It reduced code complexity.\n",
    "        \n",
    "Object:\n",
    "    It is an instance of the class. the final outcome of the class.\n",
    "    From class we construct instances. & an instance is a specific object created from a perticular class.\n",
    "    \n",
    "Class:\n",
    "    It supports the OPPS concept.\n",
    "    class works as a sketch model, blueprint or template to create an object.\n",
    "    "
   ]
  },
  {
   "cell_type": "code",
   "execution_count": 2,
   "id": "a938bc7d",
   "metadata": {},
   "outputs": [
    {
     "name": "stdout",
     "output_type": "stream",
     "text": [
      "Engine created here\n"
     ]
    }
   ],
   "source": [
    "class CAR_Manufacture:\n",
    "    def engine(self):\n",
    "        print('Engine created here')\n",
    "        \n",
    "    def suspension(self):\n",
    "        print('suspension created here')\n",
    "         \n",
    "    def bonet(self):\n",
    "        print('bonet created here')\n",
    "        \n",
    "obj=CAR_Manufacture()\n",
    "obj.engine()"
   ]
  },
  {
   "cell_type": "code",
   "execution_count": 3,
   "id": "4c4fb3c3",
   "metadata": {},
   "outputs": [
    {
     "name": "stdout",
     "output_type": "stream",
     "text": [
      "Engine created here\n"
     ]
    }
   ],
   "source": [
    "class CAR_Manufacture:\n",
    "    def engine(self):\n",
    "        print('Engine created here')\n",
    "        \n",
    "    def suspension(self):\n",
    "        print('suspension created here')\n",
    "         \n",
    "    def bonet(self):\n",
    "        print('bonet created here')\n",
    "        \n",
    "CAR_Manufacture().engine()"
   ]
  },
  {
   "cell_type": "code",
   "execution_count": null,
   "id": "77860e6d",
   "metadata": {},
   "outputs": [],
   "source": [
    "import filename            --- importing .py file here\n",
    "filename.function_name()   --- if we are calling a function form another .py file\n",
    "filename.classname.function_name() ---- if we are calling a class & its function from another .py file"
   ]
  }
 ],
 "metadata": {
  "kernelspec": {
   "display_name": "Python 3",
   "language": "python",
   "name": "python3"
  },
  "language_info": {
   "codemirror_mode": {
    "name": "ipython",
    "version": 3
   },
   "file_extension": ".py",
   "mimetype": "text/x-python",
   "name": "python",
   "nbconvert_exporter": "python",
   "pygments_lexer": "ipython3",
   "version": "3.8.8"
  },
  "toc": {
   "base_numbering": 1,
   "nav_menu": {},
   "number_sections": true,
   "sideBar": true,
   "skip_h1_title": false,
   "title_cell": "Table of Contents",
   "title_sidebar": "Contents",
   "toc_cell": false,
   "toc_position": {},
   "toc_section_display": true,
   "toc_window_display": false
  },
  "varInspector": {
   "cols": {
    "lenName": 16,
    "lenType": 16,
    "lenVar": 40
   },
   "kernels_config": {
    "python": {
     "delete_cmd_postfix": "",
     "delete_cmd_prefix": "del ",
     "library": "var_list.py",
     "varRefreshCmd": "print(var_dic_list())"
    },
    "r": {
     "delete_cmd_postfix": ") ",
     "delete_cmd_prefix": "rm(",
     "library": "var_list.r",
     "varRefreshCmd": "cat(var_dic_list()) "
    }
   },
   "types_to_exclude": [
    "module",
    "function",
    "builtin_function_or_method",
    "instance",
    "_Feature"
   ],
   "window_display": false
  }
 },
 "nbformat": 4,
 "nbformat_minor": 5
}

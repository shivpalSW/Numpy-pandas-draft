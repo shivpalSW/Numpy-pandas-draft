{
 "cells": [
  {
   "cell_type": "markdown",
   "id": "4c7ea198",
   "metadata": {},
   "source": [
    "## Encapsulation"
   ]
  },
  {
   "cell_type": "raw",
   "id": "1c1c6a6a",
   "metadata": {},
   "source": [
    "used to restrict the access of variables & methods\n",
    "used for protecting the data modification (variables & methods)"
   ]
  },
  {
   "cell_type": "code",
   "execution_count": 3,
   "id": "c1973725",
   "metadata": {},
   "outputs": [
    {
     "name": "stdout",
     "output_type": "stream",
     "text": [
      "Pune\n",
      "location is  Pune\n"
     ]
    }
   ],
   "source": [
    "class Classname():                   #class defined\n",
    "    city = 'Pune'                     #class variable\n",
    "    def location(self):              #instance method\n",
    "#         self.city=city               #instance variable\n",
    "        print(\"location is \",self.city)\n",
    "        \n",
    "obj=Classname()\n",
    "print(obj.city)\n",
    "# obj.location()"
   ]
  },
  {
   "cell_type": "raw",
   "id": "266f7166",
   "metadata": {},
   "source": [
    "class variable can be modified from outside the class but private class variable would not be accessed or modified"
   ]
  },
  {
   "cell_type": "code",
   "execution_count": 5,
   "id": "d9808d5b",
   "metadata": {},
   "outputs": [
    {
     "name": "stdout",
     "output_type": "stream",
     "text": [
      "Employee name is  Harry\n",
      "company name is  Capgemini\n"
     ]
    }
   ],
   "source": [
    "class Employeesname():\n",
    "    \n",
    "    company_name='TCS'       #class variable\n",
    "    \n",
    "    def __init__(self, name):\n",
    "        self.name=name       #instance variable\n",
    "        \n",
    "    def emp_details(self):\n",
    "        print(\"Employee name is \",self.name)\n",
    "        print(\"company name is \",self.company_name)\n",
    "        \n",
    "Emp=Employeesname('Harry')\n",
    "Emp.company_name = 'Capgemini'\n",
    "Emp.emp_details()"
   ]
  },
  {
   "cell_type": "code",
   "execution_count": 16,
   "id": "841cde84",
   "metadata": {},
   "outputs": [
    {
     "name": "stdout",
     "output_type": "stream",
     "text": [
      "Employee name is  Harry\n",
      "company name is  TCS\n"
     ]
    }
   ],
   "source": [
    "class Employeesnames():\n",
    "    \n",
    "    __companys_name='TCS'       #Private class variable\n",
    "    \n",
    "    def __init__(self, name):\n",
    "        self.name=name\n",
    "        \n",
    "    def emps_details(self):\n",
    "        print(\"Employee name is \",self.name)\n",
    "        print(\"company name is \",self.__companys_name)\n",
    "        \n",
    "Employee=Employeesnames('Harry')\n",
    "Employee.__companys_name='cognizant'\n",
    "Employee.emps_details()"
   ]
  },
  {
   "cell_type": "code",
   "execution_count": 23,
   "id": "ae851ba6",
   "metadata": {},
   "outputs": [
    {
     "name": "stdout",
     "output_type": "stream",
     "text": [
      "Employee name is  Harry\n",
      "company name is  TCS\n"
     ]
    },
    {
     "data": {
      "text/plain": [
       "'ron'"
      ]
     },
     "execution_count": 23,
     "metadata": {},
     "output_type": "execute_result"
    }
   ],
   "source": [
    "class Employeesnames():\n",
    "    \n",
    "    __companys_name='TCS'       #Private class variable\n",
    "    \n",
    "    def __init__(self, name):\n",
    "        self.name=name        #Private instance variable\n",
    "        \n",
    "    def emps_details(self):\n",
    "        print(\"Employee name is \",self.name)\n",
    "        print(\"company name is \",self.__companys_name)\n",
    "        \n",
    "Employee=Employeesnames('Harry')\n",
    "Employee.__companys_name='cognizant'\n",
    "Employee.emps_details()\n",
    "Employee.name='ron'\n",
    "Employee.name"
   ]
  },
  {
   "cell_type": "code",
   "execution_count": 17,
   "id": "76347217",
   "metadata": {
    "scrolled": true
   },
   "outputs": [
    {
     "name": "stdout",
     "output_type": "stream",
     "text": [
      "Employee name is  Harry\n",
      "company name is  TCS\n",
      "Employee name is  Harry\n",
      "company name is  TCS\n"
     ]
    }
   ],
   "source": [
    "class Employeesnames():\n",
    "    \n",
    "    __companys_name='TCS'       #Private class variable\n",
    "    \n",
    "    def __init__(self, name):\n",
    "        self.__name=name        #Private instance variable\n",
    "        \n",
    "    def emps_details(self):\n",
    "        print(\"Employee name is \",self.__name)\n",
    "        print(\"company name is \",self.__companys_name)\n",
    "        \n",
    "Employee=Employeesnames('Harry')\n",
    "Employee.__companys_name='cognizant'\n",
    "Employee.emps_details()\n",
    "Employee.__name='Ron'\n",
    "Employee.emps_details()"
   ]
  },
  {
   "cell_type": "code",
   "execution_count": 31,
   "id": "d054a06e",
   "metadata": {
    "scrolled": true
   },
   "outputs": [
    {
     "name": "stdout",
     "output_type": "stream",
     "text": [
      "location is  Pune\n"
     ]
    },
    {
     "ename": "AttributeError",
     "evalue": "'Classname' object has no attribute '__city'",
     "output_type": "error",
     "traceback": [
      "\u001b[1;31m---------------------------------------------------------------------------\u001b[0m",
      "\u001b[1;31mAttributeError\u001b[0m                            Traceback (most recent call last)",
      "\u001b[1;32m<ipython-input-31-4b49a2e6a5cb>\u001b[0m in \u001b[0;36m<module>\u001b[1;34m\u001b[0m\n\u001b[0;32m      7\u001b[0m \u001b[0mobj\u001b[0m\u001b[1;33m=\u001b[0m\u001b[0mClassname\u001b[0m\u001b[1;33m(\u001b[0m\u001b[1;33m)\u001b[0m\u001b[1;33m\u001b[0m\u001b[1;33m\u001b[0m\u001b[0m\n\u001b[0;32m      8\u001b[0m \u001b[0mobj\u001b[0m\u001b[1;33m.\u001b[0m\u001b[0mlocation\u001b[0m\u001b[1;33m(\u001b[0m\u001b[1;33m)\u001b[0m\u001b[1;33m\u001b[0m\u001b[1;33m\u001b[0m\u001b[0m\n\u001b[1;32m----> 9\u001b[1;33m \u001b[0mobj\u001b[0m\u001b[1;33m.\u001b[0m\u001b[0m__city\u001b[0m\u001b[1;33m\u001b[0m\u001b[1;33m\u001b[0m\u001b[0m\n\u001b[0m",
      "\u001b[1;31mAttributeError\u001b[0m: 'Classname' object has no attribute '__city'"
     ]
    }
   ],
   "source": [
    "class Classname():                   #class defined\n",
    "    __city = 'Pune'                     #class variable\n",
    "    def location(self):              #instance method\n",
    "        self.__city1='Mumbai'               #instance variable\n",
    "        print(\"location is \",self.__city)\n",
    "        \n",
    "obj=Classname()\n",
    "obj.location()\n",
    "obj.__city"
   ]
  },
  {
   "cell_type": "code",
   "execution_count": 35,
   "id": "03125f8e",
   "metadata": {},
   "outputs": [
    {
     "ename": "AttributeError",
     "evalue": "'Employ' object has no attribute '__emp_id'",
     "output_type": "error",
     "traceback": [
      "\u001b[1;31m---------------------------------------------------------------------------\u001b[0m",
      "\u001b[1;31mAttributeError\u001b[0m                            Traceback (most recent call last)",
      "\u001b[1;32m<ipython-input-35-4a81f28549c0>\u001b[0m in \u001b[0;36m<module>\u001b[1;34m\u001b[0m\n\u001b[0;32m     16\u001b[0m \u001b[1;33m\u001b[0m\u001b[0m\n\u001b[0;32m     17\u001b[0m \u001b[0mwork\u001b[0m\u001b[1;33m=\u001b[0m\u001b[0mEmploy\u001b[0m\u001b[1;33m(\u001b[0m\u001b[1;34m'Salena'\u001b[0m\u001b[1;33m,\u001b[0m\u001b[1;36m10010\u001b[0m\u001b[1;33m)\u001b[0m\u001b[1;33m\u001b[0m\u001b[1;33m\u001b[0m\u001b[0m\n\u001b[1;32m---> 18\u001b[1;33m \u001b[0mwork\u001b[0m\u001b[1;33m.\u001b[0m\u001b[0m__emp_id\u001b[0m\u001b[1;33m(\u001b[0m\u001b[1;33m)\u001b[0m\u001b[1;33m\u001b[0m\u001b[1;33m\u001b[0m\u001b[0m\n\u001b[0m",
      "\u001b[1;31mAttributeError\u001b[0m: 'Employ' object has no attribute '__emp_id'"
     ]
    }
   ],
   "source": [
    "class Employ():\n",
    "    \n",
    "    __com_name='TCS'       #Private class variable\n",
    "    \n",
    "    def __init__(self, nickname,identity):\n",
    "        self.__nickname=nickname        #Private instance variable\n",
    "        self.id=identity\n",
    "        \n",
    "    def __emp_id(self):                 #Private instance method\n",
    "        print(\"employee id is \",self.id)\n",
    "        \n",
    "    def emps(self):\n",
    "        print(\"Employee name is \",self.__nickname)\n",
    "        print(\"company name is \",self.__com_name)\n",
    "        \n",
    "        \n",
    "work=Employ('Salena',10010)\n",
    "work.__emp_id()"
   ]
  },
  {
   "cell_type": "code",
   "execution_count": 34,
   "id": "23fe8c38",
   "metadata": {
    "scrolled": true
   },
   "outputs": [
    {
     "name": "stdout",
     "output_type": "stream",
     "text": [
      "Employee name is  Salena\n",
      "company name is  TCS\n",
      "employee id is  10010\n"
     ]
    }
   ],
   "source": [
    "class Employ():\n",
    "    \n",
    "    __com_name='TCS'       #Private class variable\n",
    "    \n",
    "    def __init__(self, nickname,identity):\n",
    "        self.__nickname=nickname        #Private instance variable\n",
    "        self.id=identity\n",
    "        \n",
    "    def __emp_id(self):                 #Private instance method\n",
    "        print(\"employee id is \",self.id)\n",
    "        \n",
    "    def emps(self):\n",
    "        print(\"Employee name is \",self.__nickname)\n",
    "        print(\"company name is \",self.__com_name)\n",
    "        self.__emp_id()\n",
    "        \n",
    "work=Employ('Salena',10010)\n",
    "work.emps()"
   ]
  },
  {
   "cell_type": "markdown",
   "id": "f0f478ca",
   "metadata": {},
   "source": [
    "## Name Mangeling method"
   ]
  },
  {
   "cell_type": "code",
   "execution_count": 40,
   "id": "f3cffb03",
   "metadata": {},
   "outputs": [
    {
     "name": "stdout",
     "output_type": "stream",
     "text": [
      "Employee name is  Salena\n",
      "company name is  TATA\n",
      "employee id is  10010\n",
      "employee id is  10010\n",
      "Wall time: 2.86 s\n"
     ]
    }
   ],
   "source": [
    "%%time\n",
    "for i in range(100000000):\n",
    "    pass\n",
    "class Employ():\n",
    "    \n",
    "    __com_name='TCS'                    #Private class variable\n",
    "    \n",
    "    def __init__(self, nickname,identity):\n",
    "        self.__nickname=nickname        #Private instance variable\n",
    "        self.id=identity\n",
    "        \n",
    "    def __emp_id(self):                 #Private instance method\n",
    "        print(\"employee id is \",self.id)\n",
    "        \n",
    "    def emps(self):\n",
    "        print(\"Employee name is \",self.__nickname)\n",
    "        print(\"company name is \",self.__com_name)\n",
    "        self.__emp_id()\n",
    "        \n",
    "work=Employ('Salena',10010)\n",
    "work._Employ__com_name='TATA'\n",
    "work.emps()\n",
    "work._Employ__emp_id()"
   ]
  },
  {
   "cell_type": "markdown",
   "id": "3134d1b0",
   "metadata": {},
   "source": [
    "## Class methods & Static Methods"
   ]
  },
  {
   "cell_type": "code",
   "execution_count": 52,
   "id": "479bcb59",
   "metadata": {},
   "outputs": [
    {
     "name": "stdout",
     "output_type": "stream",
     "text": [
      "6.0\n",
      "Oxford\n",
      "Oxford\n"
     ]
    },
    {
     "ename": "TypeError",
     "evalue": "getschool() missing 1 required positional argument: 'cls'",
     "output_type": "error",
     "traceback": [
      "\u001b[1;31m---------------------------------------------------------------------------\u001b[0m",
      "\u001b[1;31mTypeError\u001b[0m                                 Traceback (most recent call last)",
      "\u001b[1;32m<ipython-input-52-c01015039992>\u001b[0m in \u001b[0;36m<module>\u001b[1;34m\u001b[0m\n\u001b[0;32m     19\u001b[0m \u001b[0mprint\u001b[0m\u001b[1;33m(\u001b[0m\u001b[0mstu1\u001b[0m\u001b[1;33m.\u001b[0m\u001b[0ms_name\u001b[0m\u001b[1;33m(\u001b[0m\u001b[1;33m)\u001b[0m\u001b[1;33m)\u001b[0m\u001b[1;33m\u001b[0m\u001b[1;33m\u001b[0m\u001b[0m\n\u001b[0;32m     20\u001b[0m \u001b[0mprint\u001b[0m\u001b[1;33m(\u001b[0m\u001b[0mstu1\u001b[0m\u001b[1;33m.\u001b[0m\u001b[0mgetschool\u001b[0m\u001b[1;33m(\u001b[0m\u001b[1;33m)\u001b[0m\u001b[1;33m)\u001b[0m\u001b[1;33m\u001b[0m\u001b[1;33m\u001b[0m\u001b[0m\n\u001b[1;32m---> 21\u001b[1;33m \u001b[0mstudent\u001b[0m\u001b[1;33m.\u001b[0m\u001b[0mgetschool\u001b[0m\u001b[1;33m(\u001b[0m\u001b[1;33m)\u001b[0m\u001b[1;33m\u001b[0m\u001b[1;33m\u001b[0m\u001b[0m\n\u001b[0m",
      "\u001b[1;31mTypeError\u001b[0m: getschool() missing 1 required positional argument: 'cls'"
     ]
    }
   ],
   "source": [
    "class student:\n",
    "    school = 'Oxford'                   #class variable\n",
    "    def __init__(self,m1,m2):           #init constructor\n",
    "        self.m1=m1                      #instance variable\n",
    "        self.m2=m2\n",
    "        \n",
    "    def avg(self):                      #instance method\n",
    "        return ((self.m1+self.m2)/2)\n",
    "    \n",
    "    def s_name(self):\n",
    "        return self.school              #class variable is converted into instance variable\n",
    "    \n",
    "\n",
    "    def getschool(cls):                 #class method\n",
    "        return cls.school\n",
    "    \n",
    "stu1=student(4,8)\n",
    "print(stu1.avg())\n",
    "print(stu1.s_name())\n",
    "print(stu1.getschool())                #does not show error for class method called through object\n",
    "student.getschool()                    #but shows error when called through class name bcz class  decorator is nont created"
   ]
  },
  {
   "cell_type": "code",
   "execution_count": 51,
   "id": "a3b6cc66",
   "metadata": {
    "scrolled": true
   },
   "outputs": [
    {
     "name": "stdout",
     "output_type": "stream",
     "text": [
      "6.0\n",
      "Oxford\n",
      "Oxford\n"
     ]
    },
    {
     "data": {
      "text/plain": [
       "'Oxford'"
      ]
     },
     "execution_count": 51,
     "metadata": {},
     "output_type": "execute_result"
    }
   ],
   "source": [
    "class student:\n",
    "    school = 'Oxford'                   #class variable\n",
    "    def __init__(self,m1,m2):           #init constructor\n",
    "        self.m1=m1                      #instance variable\n",
    "        self.m2=m2\n",
    "        \n",
    "    def avg(self):                      #instance method\n",
    "        return ((self.m1+self.m2)/2)\n",
    "    \n",
    "    def s_name(self):\n",
    "        return self.school              #class variable is converted into instance variable\n",
    "    \n",
    "    @classmethod                        #class decorator\n",
    "    def getschool(cls):                 #class method instantiated using cls\n",
    "        return cls.school\n",
    "    \n",
    "stu1=student(4,8)\n",
    "print(stu1.avg())\n",
    "print(stu1.s_name())\n",
    "print(stu1.getschool())\n",
    "student.getschool()"
   ]
  },
  {
   "cell_type": "code",
   "execution_count": 55,
   "id": "07a473fa",
   "metadata": {},
   "outputs": [
    {
     "data": {
      "text/plain": [
       "'Oxford'"
      ]
     },
     "execution_count": 55,
     "metadata": {},
     "output_type": "execute_result"
    }
   ],
   "source": [
    "class student:\n",
    "    school = 'Oxford'                   #class variable\n",
    "    def __init__(self,m1,m2):           #init constructor\n",
    "        self.m1=m1                      #instance variable\n",
    "        self.m2=m2\n",
    "        \n",
    "    def avg(self):                      #instance method\n",
    "        return ((self.m1+self.m2)/2)\n",
    "    \n",
    "    def s_name(self):\n",
    "        return self.school              #class variable is converted into instance variable\n",
    "    \n",
    "    @classmethod                        #class decorator\n",
    "    def getschool(cls):                 #class method instantiated using cls\n",
    "        return cls.school\n",
    "    \n",
    "    @staticmethod                       #static decorator\n",
    "    def info():                         #static method\n",
    "        return f\"Hi{5} nothing to return here\"\n",
    "    \n",
    "student.info()\n",
    "student.getschool()"
   ]
  }
 ],
 "metadata": {
  "kernelspec": {
   "display_name": "Python 3",
   "language": "python",
   "name": "python3"
  },
  "language_info": {
   "codemirror_mode": {
    "name": "ipython",
    "version": 3
   },
   "file_extension": ".py",
   "mimetype": "text/x-python",
   "name": "python",
   "nbconvert_exporter": "python",
   "pygments_lexer": "ipython3",
   "version": "3.8.8"
  },
  "toc": {
   "base_numbering": 1,
   "nav_menu": {},
   "number_sections": true,
   "sideBar": true,
   "skip_h1_title": false,
   "title_cell": "Table of Contents",
   "title_sidebar": "Contents",
   "toc_cell": false,
   "toc_position": {},
   "toc_section_display": true,
   "toc_window_display": false
  },
  "varInspector": {
   "cols": {
    "lenName": 16,
    "lenType": 16,
    "lenVar": 40
   },
   "kernels_config": {
    "python": {
     "delete_cmd_postfix": "",
     "delete_cmd_prefix": "del ",
     "library": "var_list.py",
     "varRefreshCmd": "print(var_dic_list())"
    },
    "r": {
     "delete_cmd_postfix": ") ",
     "delete_cmd_prefix": "rm(",
     "library": "var_list.r",
     "varRefreshCmd": "cat(var_dic_list()) "
    }
   },
   "types_to_exclude": [
    "module",
    "function",
    "builtin_function_or_method",
    "instance",
    "_Feature"
   ],
   "window_display": false
  }
 },
 "nbformat": 4,
 "nbformat_minor": 5
}

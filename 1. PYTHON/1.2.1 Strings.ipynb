{
 "cells": [
  {
   "cell_type": "markdown",
   "id": "784106ca",
   "metadata": {},
   "source": [
    "Variables are subset of Idenifyers."
   ]
  },
  {
   "cell_type": "code",
   "execution_count": 1,
   "id": "f2a61b13",
   "metadata": {},
   "outputs": [
    {
     "data": {
      "text/plain": [
       "56"
      ]
     },
     "execution_count": 1,
     "metadata": {},
     "output_type": "execute_result"
    }
   ],
   "source": [
    "data= 56\n",
    "new_data = data\n",
    "\n",
    "new_data"
   ]
  },
  {
   "cell_type": "code",
   "execution_count": null,
   "id": "3940d9b6",
   "metadata": {},
   "outputs": [],
   "source": [
    "myvar\n",
    "myVar\n",
    "MYVAR\n",
    "MyVar\n",
    "My_Var\n",
    "My__Var\n",
    "My^var \n",
    "My&Var \n",
    "myvariable\n",
    "Myvar1234\n",
    "123Myvar \n",
    "a\n",
    "b\n",
    "a_b\n",
    "abc\n",
    "_abc\n",
    "A_B_C\n",
    "myV@r  \n",
    "any  \n",
    "MYVAR123\n",
    "import  \n",
    "elif \n",
    "Any \n",
    "Import "
   ]
  },
  {
   "cell_type": "code",
   "execution_count": null,
   "id": "a4f1452f",
   "metadata": {},
   "outputs": [],
   "source": [
    "variable = 5\n",
    "variable2 = variable"
   ]
  },
  {
   "cell_type": "markdown",
   "id": "65e21517",
   "metadata": {},
   "source": [
    "<B><Font color = Red><font size=5> Strings"
   ]
  },
  {
   "cell_type": "markdown",
   "id": "8b3a6288",
   "metadata": {},
   "source": [
    "Define: String is a collection of characters that we give in single, double or triple inverted commas.\n",
    "Is a data type in python."
   ]
  },
  {
   "cell_type": "code",
   "execution_count": 1,
   "id": "34959ebb",
   "metadata": {},
   "outputs": [
    {
     "data": {
      "text/plain": [
       "\"As of 1 July 2009, it is the fourth-largest stadium in the FA Premier League and the twelfth-largest in the United Kingdom, with 47,726 seats. The highest attendance for a football game at the stadium was on 5 December 2009 when 47,348 fans watched Manchester City play Chelsea. Manchester City F.C. signed an agreement with Manchester City Council in March 2010 to allow redevelopment of land around the stadium. This may include adding more seats to make 60,000 in the stadium. Outside the football season, the stadium hosts concerts. It is one of the UK's largest music venues. It has a maximum capacity of 60,000 for performances.\""
      ]
     },
     "execution_count": 1,
     "metadata": {},
     "output_type": "execute_result"
    }
   ],
   "source": [
    "'hi this is python class'\n",
    "\"Hi welcome to the 2nd class\"\n",
    "\"\"\"As of 1 July 2009, it is the fourth-largest stadium in the FA Premier League and the twelfth-largest in the United Kingdom, with 47,726 seats. The highest attendance for a football game at the stadium was on 5 December 2009 when 47,348 fans watched Manchester City play Chelsea. Manchester City F.C. signed an agreement with Manchester City Council in March 2010 to allow redevelopment of land around the stadium. This may include adding more seats to make 60,000 in the stadium. Outside the football season, the stadium hosts concerts. It is one of the UK's largest music venues. It has a maximum capacity of 60,000 for performances.\"\"\""
   ]
  },
  {
   "cell_type": "code",
   "execution_count": 20,
   "id": "112e1285",
   "metadata": {},
   "outputs": [
    {
     "data": {
      "text/plain": [
       "\"lets not join too late's for the class\""
      ]
     },
     "execution_count": 20,
     "metadata": {},
     "output_type": "execute_result"
    }
   ],
   "source": [
    "\"lets not join too late's for the class\""
   ]
  },
  {
   "cell_type": "code",
   "execution_count": 3,
   "id": "d892b296",
   "metadata": {},
   "outputs": [
    {
     "data": {
      "text/plain": [
       "'hi this is python class'"
      ]
     },
     "execution_count": 3,
     "metadata": {},
     "output_type": "execute_result"
    }
   ],
   "source": [
    "vari = 'hi this is python class'\n",
    "vari"
   ]
  },
  {
   "cell_type": "code",
   "execution_count": 4,
   "id": "487a206f",
   "metadata": {},
   "outputs": [
    {
     "data": {
      "text/plain": [
       "'this is 2nd line'"
      ]
     },
     "execution_count": 4,
     "metadata": {},
     "output_type": "execute_result"
    }
   ],
   "source": [
    "'hi this is python class'\n",
    "'this is 2nd line'"
   ]
  },
  {
   "cell_type": "markdown",
   "id": "0f42d416",
   "metadata": {},
   "source": [
    "### print function & display function"
   ]
  },
  {
   "cell_type": "code",
   "execution_count": 6,
   "id": "f7eea87f",
   "metadata": {},
   "outputs": [
    {
     "ename": "ModuleNotFoundError",
     "evalue": "No module named 'Ipython'",
     "output_type": "error",
     "traceback": [
      "\u001b[1;31m---------------------------------------------------------------------------\u001b[0m",
      "\u001b[1;31mModuleNotFoundError\u001b[0m                       Traceback (most recent call last)",
      "\u001b[1;32m<ipython-input-6-74961c60dcc9>\u001b[0m in \u001b[0;36m<module>\u001b[1;34m\u001b[0m\n\u001b[1;32m----> 1\u001b[1;33m \u001b[1;32mfrom\u001b[0m \u001b[0mIpython\u001b[0m\u001b[1;33m.\u001b[0m\u001b[0mdiplay\u001b[0m \u001b[1;32mimport\u001b[0m \u001b[0mdiplay\u001b[0m\u001b[1;33m\u001b[0m\u001b[1;33m\u001b[0m\u001b[0m\n\u001b[0m",
      "\u001b[1;31mModuleNotFoundError\u001b[0m: No module named 'Ipython'"
     ]
    }
   ],
   "source": [
    "from Ipython.diplay import diplay"
   ]
  },
  {
   "cell_type": "code",
   "execution_count": 10,
   "id": "bc365801",
   "metadata": {},
   "outputs": [
    {
     "data": {
      "text/plain": [
       "'hi this is python class'"
      ]
     },
     "metadata": {},
     "output_type": "display_data"
    },
    {
     "data": {
      "text/plain": [
       "'this is 2nd line'"
      ]
     },
     "metadata": {},
     "output_type": "display_data"
    },
    {
     "data": {
      "text/plain": [
       "'hi'"
      ]
     },
     "execution_count": 10,
     "metadata": {},
     "output_type": "execute_result"
    }
   ],
   "source": [
    "display('hi this is python class')\n",
    "display('this is 2nd line')\n",
    "\"hi\""
   ]
  },
  {
   "cell_type": "code",
   "execution_count": 11,
   "id": "1967b37d",
   "metadata": {},
   "outputs": [
    {
     "name": "stdout",
     "output_type": "stream",
     "text": [
      "hi this is python class\n"
     ]
    },
    {
     "data": {
      "text/plain": [
       "'hello'"
      ]
     },
     "execution_count": 11,
     "metadata": {},
     "output_type": "execute_result"
    }
   ],
   "source": [
    "print('hi this is python class')\n",
    "'hello'"
   ]
  },
  {
   "cell_type": "code",
   "execution_count": 13,
   "id": "4833b4ab",
   "metadata": {},
   "outputs": [
    {
     "name": "stdout",
     "output_type": "stream",
     "text": [
      "400\n"
     ]
    },
    {
     "data": {
      "text/plain": [
       "455"
      ]
     },
     "metadata": {},
     "output_type": "display_data"
    }
   ],
   "source": [
    "print(400)\n",
    "display(455)"
   ]
  },
  {
   "cell_type": "markdown",
   "id": "1bfa1d96",
   "metadata": {},
   "source": [
    "#### use of \\n"
   ]
  },
  {
   "cell_type": "code",
   "execution_count": 14,
   "id": "6587447e",
   "metadata": {},
   "outputs": [
    {
     "name": "stdout",
     "output_type": "stream",
     "text": [
      "Welcome to Python class. \n",
      "This is really intresting\n"
     ]
    }
   ],
   "source": [
    "print(\"Welcome to Python class. \\nThis is really intresting\")"
   ]
  },
  {
   "cell_type": "markdown",
   "id": "07fc3269",
   "metadata": {},
   "source": [
    "#### use of \\t"
   ]
  },
  {
   "cell_type": "code",
   "execution_count": 16,
   "id": "757c5dd1",
   "metadata": {},
   "outputs": [
    {
     "name": "stdout",
     "output_type": "stream",
     "text": [
      "Welcome to Python class. \tThis is really intresting\n"
     ]
    }
   ],
   "source": [
    "print(\"Welcome to Python class. \\tThis is really intresting\")"
   ]
  },
  {
   "cell_type": "markdown",
   "id": "7ee0b86f",
   "metadata": {},
   "source": [
    "#### escape character \\"
   ]
  },
  {
   "cell_type": "code",
   "execution_count": 22,
   "id": "9c814347",
   "metadata": {
    "scrolled": true
   },
   "outputs": [
    {
     "name": "stdout",
     "output_type": "stream",
     "text": [
      "Welcome to Python class. \"This is really intresting\"\n"
     ]
    }
   ],
   "source": [
    "print(\"Welcome to Python class. \\\"This is really intresting\\\"\")"
   ]
  },
  {
   "cell_type": "code",
   "execution_count": 41,
   "id": "922bbf7f",
   "metadata": {},
   "outputs": [
    {
     "name": "stdout",
     "output_type": "stream",
     "text": [
      "Try this new thing *** Hi,how does that sound?\n"
     ]
    }
   ],
   "source": [
    "print('Try this new thing', end= ' *** ')\n",
    "print('Hi,how does that sound?')"
   ]
  },
  {
   "cell_type": "code",
   "execution_count": 31,
   "id": "61b8e86d",
   "metadata": {},
   "outputs": [
    {
     "name": "stdout",
     "output_type": "stream",
     "text": [
      "this is new there you go what follows this\n"
     ]
    }
   ],
   "source": [
    "print('this is new','what follows this', sep= ' there you go ')"
   ]
  },
  {
   "cell_type": "code",
   "execution_count": 33,
   "id": "3e5334d4",
   "metadata": {},
   "outputs": [
    {
     "name": "stdout",
     "output_type": "stream",
     "text": [
      "hi there hello\n"
     ]
    }
   ],
   "source": [
    "print('hi','hello',sep= ' there ')"
   ]
  },
  {
   "cell_type": "code",
   "execution_count": 42,
   "id": "3a59311b",
   "metadata": {},
   "outputs": [
    {
     "name": "stdout",
     "output_type": "stream",
     "text": [
      "hi\n",
      "python\n"
     ]
    }
   ],
   "source": [
    "print('hi', end='\\n')\n",
    "print('python')"
   ]
  },
  {
   "cell_type": "code",
   "execution_count": 36,
   "id": "00fdb810",
   "metadata": {},
   "outputs": [
    {
     "data": {
      "text/plain": [
       "'http://localhost:8890/notebooks/Python%20Classes/1.2.1%20Strings.ipynb'"
      ]
     },
     "execution_count": 36,
     "metadata": {},
     "output_type": "execute_result"
    }
   ],
   "source": [
    "new_string = 'http://localhost:8890/notebooks/Python%20Classes/1.2.1%20Strings.ipynb'\n",
    "new_string"
   ]
  },
  {
   "cell_type": "markdown",
   "id": "79b177a4",
   "metadata": {},
   "source": [
    "#### use of raw string"
   ]
  },
  {
   "cell_type": "code",
   "execution_count": 39,
   "id": "97c0b41e",
   "metadata": {},
   "outputs": [
    {
     "data": {
      "text/plain": [
       "'C:\\\\Users\\\\Pratik\\\\Documents\\\\My_Docs'"
      ]
     },
     "execution_count": 39,
     "metadata": {},
     "output_type": "execute_result"
    }
   ],
   "source": [
    "r\"C:\\Users\\Pratik\\Documents\\My_Docs\""
   ]
  },
  {
   "cell_type": "markdown",
   "id": "f552e63c",
   "metadata": {},
   "source": [
    "## Comments in Python"
   ]
  },
  {
   "cell_type": "raw",
   "id": "0092ec52",
   "metadata": {},
   "source": [
    "define: \n",
    "    explain a code\n",
    "    not use a line as a code\n",
    "    prevent execution when testing the code\n",
    "    using #\n",
    "    using ctrl + /"
   ]
  },
  {
   "cell_type": "code",
   "execution_count": 46,
   "id": "a043921f",
   "metadata": {},
   "outputs": [
    {
     "data": {
      "text/plain": [
       "'hello'"
      ]
     },
     "execution_count": 46,
     "metadata": {},
     "output_type": "execute_result"
    }
   ],
   "source": [
    "# I'm going to write a code below\n",
    "variable2=\"hello\"\n",
    "# print('jack is back')\n",
    "variable2"
   ]
  },
  {
   "cell_type": "code",
   "execution_count": 47,
   "id": "8ae57aa6",
   "metadata": {},
   "outputs": [
    {
     "data": {
      "text/plain": [
       "'hi this is 2nd class'"
      ]
     },
     "execution_count": 47,
     "metadata": {},
     "output_type": "execute_result"
    }
   ],
   "source": [
    "'hi this is 2nd class' #this is not the first class"
   ]
  },
  {
   "cell_type": "code",
   "execution_count": 48,
   "id": "af9818fc",
   "metadata": {},
   "outputs": [],
   "source": [
    "# \"\"\"As of 1 July 2009, it is the fourth-largest stadium in the FA Premier League and the twelfth-largest in the United Kingdom, with 47,726 seats. The highest attendance for a football game at the stadium was on 5 December 2009 when 47,348 fans watched Manchester City play Chelsea. Manchester City F.C. signed an agreement with Manchester City Council in March 2010 to allow redevelopment of land around the stadium. This may include adding more seats to make 60,000 in the stadium. Outside the football season, the stadium hosts concerts. It is one of the UK's largest music venues. It has a maximum capacity of 60,000 for performances.\"\"\""
   ]
  },
  {
   "cell_type": "markdown",
   "id": "3ea84eb4",
   "metadata": {},
   "source": [
    "##### IndentationError"
   ]
  },
  {
   "cell_type": "code",
   "execution_count": 50,
   "id": "0bc2b9ef",
   "metadata": {},
   "outputs": [
    {
     "ename": "IndentationError",
     "evalue": "unexpected indent (<ipython-input-50-c31dd43ac6cb>, line 2)",
     "output_type": "error",
     "traceback": [
      "\u001b[1;36m  File \u001b[1;32m\"<ipython-input-50-c31dd43ac6cb>\"\u001b[1;36m, line \u001b[1;32m2\u001b[0m\n\u001b[1;33m    b = 20\u001b[0m\n\u001b[1;37m    ^\u001b[0m\n\u001b[1;31mIndentationError\u001b[0m\u001b[1;31m:\u001b[0m unexpected indent\n"
     ]
    }
   ],
   "source": [
    "a = 10\n",
    "   b = 20"
   ]
  },
  {
   "cell_type": "markdown",
   "id": "5e3b6d3c",
   "metadata": {},
   "source": [
    "### Data Types"
   ]
  },
  {
   "cell_type": "raw",
   "id": "8b41cde5",
   "metadata": {},
   "source": [
    "Text : Str\n",
    "Numeric : int, float, complex\n",
    "sequence : list, tuple, range\n",
    "Set DT: set, forzen set\n",
    "mapping: dict(key value pair)\n",
    "Boolean : True False"
   ]
  },
  {
   "cell_type": "markdown",
   "id": "f2baa9b0",
   "metadata": {},
   "source": [
    "### Numeric data types"
   ]
  },
  {
   "cell_type": "code",
   "execution_count": 54,
   "id": "6a8f35f6",
   "metadata": {},
   "outputs": [
    {
     "data": {
      "text/plain": [
       "5"
      ]
     },
     "execution_count": 54,
     "metadata": {},
     "output_type": "execute_result"
    }
   ],
   "source": [
    "a = 5\n",
    "a"
   ]
  },
  {
   "cell_type": "raw",
   "id": "06be1a12",
   "metadata": {},
   "source": [
    "5 >> integer (int)\n",
    "5.5  >> Float(float)\n",
    "5 + 5j >> complex"
   ]
  },
  {
   "cell_type": "raw",
   "id": "bb24ba9a",
   "metadata": {},
   "source": [
    "Integers : whole numbers that could be +ve or -ve numbers (- infinity to + infinity)\n",
    "without decimals\n",
    "\n",
    "float : numbers in decimal format (+ve or -ve numbers)\n",
    "    \n",
    "complex : nums with real & imaginary part"
   ]
  },
  {
   "cell_type": "code",
   "execution_count": 55,
   "id": "8c311622",
   "metadata": {},
   "outputs": [
    {
     "data": {
      "text/plain": [
       "int"
      ]
     },
     "execution_count": 55,
     "metadata": {},
     "output_type": "execute_result"
    }
   ],
   "source": [
    "type(-11)"
   ]
  },
  {
   "cell_type": "code",
   "execution_count": 56,
   "id": "1ac0766d",
   "metadata": {},
   "outputs": [
    {
     "data": {
      "text/plain": [
       "float"
      ]
     },
     "execution_count": 56,
     "metadata": {},
     "output_type": "execute_result"
    }
   ],
   "source": [
    "type(23.045)"
   ]
  },
  {
   "cell_type": "code",
   "execution_count": 57,
   "id": "bf77bf97",
   "metadata": {},
   "outputs": [
    {
     "data": {
      "text/plain": [
       "complex"
      ]
     },
     "execution_count": 57,
     "metadata": {},
     "output_type": "execute_result"
    }
   ],
   "source": [
    "type(3+4j)"
   ]
  },
  {
   "cell_type": "code",
   "execution_count": 58,
   "id": "c7085271",
   "metadata": {},
   "outputs": [
    {
     "data": {
      "text/plain": [
       "str"
      ]
     },
     "execution_count": 58,
     "metadata": {},
     "output_type": "execute_result"
    }
   ],
   "source": [
    "type('hi')"
   ]
  },
  {
   "cell_type": "code",
   "execution_count": 59,
   "id": "45078a9a",
   "metadata": {},
   "outputs": [
    {
     "data": {
      "text/plain": [
       "5.0"
      ]
     },
     "execution_count": 59,
     "metadata": {},
     "output_type": "execute_result"
    }
   ],
   "source": [
    "abs(3+4j)"
   ]
  },
  {
   "cell_type": "code",
   "execution_count": 60,
   "id": "054b9e81",
   "metadata": {},
   "outputs": [
    {
     "data": {
      "text/plain": [
       "5.0"
      ]
     },
     "execution_count": 60,
     "metadata": {},
     "output_type": "execute_result"
    }
   ],
   "source": [
    "abs(4+3j)"
   ]
  },
  {
   "cell_type": "code",
   "execution_count": 61,
   "id": "f4048f3d",
   "metadata": {},
   "outputs": [
    {
     "data": {
      "text/plain": [
       "13.0"
      ]
     },
     "execution_count": 61,
     "metadata": {},
     "output_type": "execute_result"
    }
   ],
   "source": [
    "abs(12+5j)"
   ]
  },
  {
   "cell_type": "raw",
   "id": "a4e379b6",
   "metadata": {},
   "source": [
    "Conversion of data types\n",
    "we can convert int to float & float to int\n",
    "we can not convert complex to int & float\n",
    "but we can convert int or float to complex"
   ]
  },
  {
   "cell_type": "code",
   "execution_count": 62,
   "id": "7a27136c",
   "metadata": {},
   "outputs": [
    {
     "data": {
      "text/plain": [
       "13"
      ]
     },
     "execution_count": 62,
     "metadata": {},
     "output_type": "execute_result"
    }
   ],
   "source": [
    "int(13.50)"
   ]
  },
  {
   "cell_type": "code",
   "execution_count": 63,
   "id": "61443ad7",
   "metadata": {},
   "outputs": [
    {
     "data": {
      "text/plain": [
       "13.0"
      ]
     },
     "execution_count": 63,
     "metadata": {},
     "output_type": "execute_result"
    }
   ],
   "source": [
    "float(13)"
   ]
  },
  {
   "cell_type": "code",
   "execution_count": 64,
   "id": "d34582b3",
   "metadata": {},
   "outputs": [
    {
     "ename": "TypeError",
     "evalue": "can't convert complex to int",
     "output_type": "error",
     "traceback": [
      "\u001b[1;31m---------------------------------------------------------------------------\u001b[0m",
      "\u001b[1;31mTypeError\u001b[0m                                 Traceback (most recent call last)",
      "\u001b[1;32m<ipython-input-64-44b4f3ad51ff>\u001b[0m in \u001b[0;36m<module>\u001b[1;34m\u001b[0m\n\u001b[1;32m----> 1\u001b[1;33m \u001b[0mint\u001b[0m\u001b[1;33m(\u001b[0m\u001b[1;36m3\u001b[0m\u001b[1;33m+\u001b[0m\u001b[1;36m4j\u001b[0m\u001b[1;33m)\u001b[0m\u001b[1;33m\u001b[0m\u001b[1;33m\u001b[0m\u001b[0m\n\u001b[0m",
      "\u001b[1;31mTypeError\u001b[0m: can't convert complex to int"
     ]
    }
   ],
   "source": [
    "int(3+4j)"
   ]
  },
  {
   "cell_type": "code",
   "execution_count": 65,
   "id": "20f8559a",
   "metadata": {},
   "outputs": [
    {
     "ename": "TypeError",
     "evalue": "can't convert complex to float",
     "output_type": "error",
     "traceback": [
      "\u001b[1;31m---------------------------------------------------------------------------\u001b[0m",
      "\u001b[1;31mTypeError\u001b[0m                                 Traceback (most recent call last)",
      "\u001b[1;32m<ipython-input-65-2ad35838b008>\u001b[0m in \u001b[0;36m<module>\u001b[1;34m\u001b[0m\n\u001b[1;32m----> 1\u001b[1;33m \u001b[0mfloat\u001b[0m\u001b[1;33m(\u001b[0m\u001b[1;36m3\u001b[0m\u001b[1;33m+\u001b[0m\u001b[1;36m4j\u001b[0m\u001b[1;33m)\u001b[0m\u001b[1;33m\u001b[0m\u001b[1;33m\u001b[0m\u001b[0m\n\u001b[0m",
      "\u001b[1;31mTypeError\u001b[0m: can't convert complex to float"
     ]
    }
   ],
   "source": [
    "float(3+4j)"
   ]
  },
  {
   "cell_type": "code",
   "execution_count": 69,
   "id": "bf1be547",
   "metadata": {},
   "outputs": [
    {
     "name": "stdout",
     "output_type": "stream",
     "text": [
      "(3+0j)\n"
     ]
    },
    {
     "data": {
      "text/plain": [
       "complex"
      ]
     },
     "execution_count": 69,
     "metadata": {},
     "output_type": "execute_result"
    }
   ],
   "source": [
    "my_num = complex(3)\n",
    "print(my_num)\n",
    "type(my_num)\n"
   ]
  },
  {
   "cell_type": "markdown",
   "id": "811f1b7f",
   "metadata": {},
   "source": [
    "##### What all ways we can print a statement with variables....."
   ]
  },
  {
   "cell_type": "code",
   "execution_count": 72,
   "id": "4518b60f",
   "metadata": {},
   "outputs": [
    {
     "name": "stdout",
     "output_type": "stream",
     "text": [
      "the value of a & b are 5 & 10\n"
     ]
    }
   ],
   "source": [
    "a=5\n",
    "b=10\n",
    "print(\"the value of a & b are\",a,'&', 10)"
   ]
  },
  {
   "cell_type": "code",
   "execution_count": 75,
   "id": "dcbda02a",
   "metadata": {},
   "outputs": [
    {
     "name": "stdout",
     "output_type": "stream",
     "text": [
      "the value of a is {a} & b is {b}\n"
     ]
    }
   ],
   "source": [
    "a=5\n",
    "b=10\n",
    "print(\"the value of a is {a} & b is {b}\")"
   ]
  },
  {
   "cell_type": "code",
   "execution_count": 78,
   "id": "1db04aa7",
   "metadata": {},
   "outputs": [
    {
     "name": "stdout",
     "output_type": "stream",
     "text": [
      "the value of a is 5 & this is amazing\n"
     ]
    }
   ],
   "source": [
    "a=5\n",
    "b='amazing'\n",
    "print(f\"the value of a is {a} & this is {b}\")"
   ]
  },
  {
   "cell_type": "code",
   "execution_count": 84,
   "id": "d1fe1e9f",
   "metadata": {},
   "outputs": [
    {
     "name": "stdout",
     "output_type": "stream",
     "text": [
      "value of a =5 & b is =string\n"
     ]
    }
   ],
   "source": [
    "x=5.5\n",
    "y='string'\n",
    "print('value of a =%i & b is =%s'%(x,y))"
   ]
  },
  {
   "cell_type": "code",
   "execution_count": 85,
   "id": "980437ac",
   "metadata": {},
   "outputs": [
    {
     "name": "stdout",
     "output_type": "stream",
     "text": [
      "the value of x 5.5 & y string is\n"
     ]
    }
   ],
   "source": [
    "print('the value of x is {} & y is {}'.format(x,y))"
   ]
  },
  {
   "cell_type": "code",
   "execution_count": null,
   "id": "2eb85304",
   "metadata": {},
   "outputs": [],
   "source": []
  },
  {
   "cell_type": "code",
   "execution_count": null,
   "id": "cb5c3e9b",
   "metadata": {},
   "outputs": [],
   "source": []
  },
  {
   "cell_type": "code",
   "execution_count": null,
   "id": "f714301d",
   "metadata": {},
   "outputs": [],
   "source": []
  },
  {
   "cell_type": "code",
   "execution_count": null,
   "id": "40af8212",
   "metadata": {},
   "outputs": [],
   "source": []
  },
  {
   "cell_type": "code",
   "execution_count": null,
   "id": "6bb76fb6",
   "metadata": {},
   "outputs": [],
   "source": []
  },
  {
   "cell_type": "code",
   "execution_count": null,
   "id": "11261630",
   "metadata": {},
   "outputs": [],
   "source": []
  },
  {
   "cell_type": "code",
   "execution_count": null,
   "id": "d8a57d18",
   "metadata": {},
   "outputs": [],
   "source": []
  },
  {
   "cell_type": "code",
   "execution_count": null,
   "id": "a5dc77f1",
   "metadata": {},
   "outputs": [],
   "source": []
  },
  {
   "cell_type": "code",
   "execution_count": null,
   "id": "4623c218",
   "metadata": {},
   "outputs": [],
   "source": [
    "print('x=%')"
   ]
  }
 ],
 "metadata": {
  "kernelspec": {
   "display_name": "Python 3",
   "language": "python",
   "name": "python3"
  },
  "language_info": {
   "codemirror_mode": {
    "name": "ipython",
    "version": 3
   },
   "file_extension": ".py",
   "mimetype": "text/x-python",
   "name": "python",
   "nbconvert_exporter": "python",
   "pygments_lexer": "ipython3",
   "version": "3.8.8"
  },
  "toc": {
   "base_numbering": 1,
   "nav_menu": {},
   "number_sections": true,
   "sideBar": true,
   "skip_h1_title": false,
   "title_cell": "Table of Contents",
   "title_sidebar": "Contents",
   "toc_cell": false,
   "toc_position": {},
   "toc_section_display": true,
   "toc_window_display": false
  },
  "varInspector": {
   "cols": {
    "lenName": 16,
    "lenType": 16,
    "lenVar": 40
   },
   "kernels_config": {
    "python": {
     "delete_cmd_postfix": "",
     "delete_cmd_prefix": "del ",
     "library": "var_list.py",
     "varRefreshCmd": "print(var_dic_list())"
    },
    "r": {
     "delete_cmd_postfix": ") ",
     "delete_cmd_prefix": "rm(",
     "library": "var_list.r",
     "varRefreshCmd": "cat(var_dic_list()) "
    }
   },
   "types_to_exclude": [
    "module",
    "function",
    "builtin_function_or_method",
    "instance",
    "_Feature"
   ],
   "window_display": false
  }
 },
 "nbformat": 4,
 "nbformat_minor": 5
}

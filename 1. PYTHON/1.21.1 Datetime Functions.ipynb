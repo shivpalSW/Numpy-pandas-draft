{
 "cells": [
  {
   "cell_type": "code",
   "execution_count": 35,
   "id": "dfdb7041",
   "metadata": {},
   "outputs": [],
   "source": [
    "import datetime"
   ]
  },
  {
   "cell_type": "code",
   "execution_count": 33,
   "id": "2123d4d7",
   "metadata": {},
   "outputs": [],
   "source": [
    "from datetime import datetime"
   ]
  },
  {
   "cell_type": "code",
   "execution_count": 34,
   "id": "f1e2fdc6",
   "metadata": {},
   "outputs": [
    {
     "name": "stdout",
     "output_type": "stream",
     "text": [
      "2021-11-25 08:23:53.463176\n"
     ]
    }
   ],
   "source": [
    "current_date=datetime.now()\n",
    "print(current_date)"
   ]
  },
  {
   "cell_type": "code",
   "execution_count": 9,
   "id": "6762561c",
   "metadata": {},
   "outputs": [
    {
     "name": "stdout",
     "output_type": "stream",
     "text": [
      "2021-11-22 08:04:44.065821\n"
     ]
    }
   ],
   "source": [
    "past_3rd_day=current_date+datetime.timedelta(days=-3)\n",
    "print(past_3rd_day)"
   ]
  },
  {
   "cell_type": "code",
   "execution_count": 10,
   "id": "b4e9611a",
   "metadata": {},
   "outputs": [
    {
     "name": "stdout",
     "output_type": "stream",
     "text": [
      "2021-11-28 08:04:44.065821\n"
     ]
    }
   ],
   "source": [
    "next_3rd_day=current_date+datetime.timedelta(days=+3)\n",
    "print(next_3rd_day)"
   ]
  },
  {
   "cell_type": "markdown",
   "id": "a3cf1162",
   "metadata": {},
   "source": [
    "# strftime"
   ]
  },
  {
   "cell_type": "raw",
   "id": "cc422df4",
   "metadata": {},
   "source": [
    "strftime >> string from time object\n",
    "returns string"
   ]
  },
  {
   "cell_type": "code",
   "execution_count": 12,
   "id": "eed91a59",
   "metadata": {},
   "outputs": [
    {
     "name": "stdout",
     "output_type": "stream",
     "text": [
      "2021-11-25 08:04:44.065821\n"
     ]
    }
   ],
   "source": [
    "print(current_date)"
   ]
  },
  {
   "cell_type": "code",
   "execution_count": 13,
   "id": "30f4382c",
   "metadata": {},
   "outputs": [
    {
     "data": {
      "text/plain": [
       "'2021'"
      ]
     },
     "execution_count": 13,
     "metadata": {},
     "output_type": "execute_result"
    }
   ],
   "source": [
    "current_date.strftime('%Y')  ---- yeilds us the year in toto. in all 4 digits"
   ]
  },
  {
   "cell_type": "code",
   "execution_count": 15,
   "id": "2544ce49",
   "metadata": {},
   "outputs": [
    {
     "data": {
      "text/plain": [
       "str"
      ]
     },
     "execution_count": 15,
     "metadata": {},
     "output_type": "execute_result"
    }
   ],
   "source": [
    "type(current_date.strftime('%Y'))"
   ]
  },
  {
   "cell_type": "code",
   "execution_count": null,
   "id": "13fe87cf",
   "metadata": {},
   "outputs": [],
   "source": [
    "23-11-21"
   ]
  },
  {
   "cell_type": "code",
   "execution_count": 14,
   "id": "914bfdc9",
   "metadata": {},
   "outputs": [
    {
     "data": {
      "text/plain": [
       "'21'"
      ]
     },
     "execution_count": 14,
     "metadata": {},
     "output_type": "execute_result"
    }
   ],
   "source": [
    "current_date.strftime('%y')"
   ]
  },
  {
   "cell_type": "code",
   "execution_count": 16,
   "id": "c1b2dff0",
   "metadata": {},
   "outputs": [
    {
     "data": {
      "text/plain": [
       "'AM'"
      ]
     },
     "execution_count": 16,
     "metadata": {},
     "output_type": "execute_result"
    }
   ],
   "source": [
    "#List of all different strf fromats to pass\n",
    "\n",
    "current_date.strftime('%Y')   #2021\n",
    "current_date.strftime('%y')   #21\n",
    "current_date.strftime('%d')   #Date\n",
    "current_date.strftime('%m')   #Month in bumber\n",
    "current_date.strftime('%b')   #Abbrivted month in alphabets\n",
    "current_date.strftime('%B')   #full month name in aplphabets\n",
    "current_date.strftime('%D')   #Date\n",
    "current_date.strftime('%a')   #Abbrivated weekday\n",
    "current_date.strftime('%A')   #weekday in complete name\n",
    "current_date.strftime('%w')   #weekday sun=0, mon=1 .....sat=7\n",
    "current_date.strftime('%u')   #week number in that month\n",
    "current_date.strftime('%U')   ##week number in that year\n",
    "current_date.strftime('%j')   #day number in that year\n",
    "current_date.strftime('%p')   #Am/Pm\n"
   ]
  },
  {
   "cell_type": "code",
   "execution_count": 17,
   "id": "c5962602",
   "metadata": {},
   "outputs": [
    {
     "data": {
      "text/plain": [
       "'25'"
      ]
     },
     "execution_count": 17,
     "metadata": {},
     "output_type": "execute_result"
    }
   ],
   "source": [
    "current_date.strftime('%d')"
   ]
  },
  {
   "cell_type": "code",
   "execution_count": 18,
   "id": "10f201ed",
   "metadata": {},
   "outputs": [
    {
     "data": {
      "text/plain": [
       "'11/25/21'"
      ]
     },
     "execution_count": 18,
     "metadata": {},
     "output_type": "execute_result"
    }
   ],
   "source": [
    "current_date.strftime('%D')"
   ]
  },
  {
   "cell_type": "code",
   "execution_count": 19,
   "id": "9eed7f0a",
   "metadata": {},
   "outputs": [
    {
     "data": {
      "text/plain": [
       "'11'"
      ]
     },
     "execution_count": 19,
     "metadata": {},
     "output_type": "execute_result"
    }
   ],
   "source": [
    "current_date.strftime('%m')"
   ]
  },
  {
   "cell_type": "code",
   "execution_count": 20,
   "id": "2b8e3509",
   "metadata": {},
   "outputs": [
    {
     "data": {
      "text/plain": [
       "'Nov'"
      ]
     },
     "execution_count": 20,
     "metadata": {},
     "output_type": "execute_result"
    }
   ],
   "source": [
    "current_date.strftime('%b')   #Abbrivted month in alphabets"
   ]
  },
  {
   "cell_type": "code",
   "execution_count": 21,
   "id": "d0f6c248",
   "metadata": {},
   "outputs": [
    {
     "data": {
      "text/plain": [
       "'November'"
      ]
     },
     "execution_count": 21,
     "metadata": {},
     "output_type": "execute_result"
    }
   ],
   "source": [
    "current_date.strftime('%B')   #full month name in aplphabets"
   ]
  },
  {
   "cell_type": "code",
   "execution_count": 22,
   "id": "c69ef6a2",
   "metadata": {},
   "outputs": [
    {
     "data": {
      "text/plain": [
       "'Thu'"
      ]
     },
     "execution_count": 22,
     "metadata": {},
     "output_type": "execute_result"
    }
   ],
   "source": [
    "current_date.strftime('%a')   #Abbrivated weekday"
   ]
  },
  {
   "cell_type": "code",
   "execution_count": 23,
   "id": "2acdac02",
   "metadata": {},
   "outputs": [
    {
     "data": {
      "text/plain": [
       "'Thursday'"
      ]
     },
     "execution_count": 23,
     "metadata": {},
     "output_type": "execute_result"
    }
   ],
   "source": [
    "current_date.strftime('%A')   #weekday in complete name"
   ]
  },
  {
   "cell_type": "code",
   "execution_count": 24,
   "id": "73dde890",
   "metadata": {},
   "outputs": [
    {
     "data": {
      "text/plain": [
       "'4'"
      ]
     },
     "execution_count": 24,
     "metadata": {},
     "output_type": "execute_result"
    }
   ],
   "source": [
    "current_date.strftime('%w')   #weekday sun=0, mon=1 .....sat=7\n"
   ]
  },
  {
   "cell_type": "code",
   "execution_count": 26,
   "id": "f79c7f46",
   "metadata": {},
   "outputs": [
    {
     "data": {
      "text/plain": [
       "'4'"
      ]
     },
     "execution_count": 26,
     "metadata": {},
     "output_type": "execute_result"
    }
   ],
   "source": [
    "current_date.strftime('%u')   #week number in that month\n"
   ]
  },
  {
   "cell_type": "code",
   "execution_count": 28,
   "id": "26cec1af",
   "metadata": {},
   "outputs": [
    {
     "data": {
      "text/plain": [
       "'47'"
      ]
     },
     "execution_count": 28,
     "metadata": {},
     "output_type": "execute_result"
    }
   ],
   "source": [
    "current_date.strftime('%U')   ##week number in that year"
   ]
  },
  {
   "cell_type": "code",
   "execution_count": 27,
   "id": "eae51bef",
   "metadata": {},
   "outputs": [
    {
     "data": {
      "text/plain": [
       "'329'"
      ]
     },
     "execution_count": 27,
     "metadata": {},
     "output_type": "execute_result"
    }
   ],
   "source": [
    "current_date.strftime('%j')   #day number in that year\n"
   ]
  },
  {
   "cell_type": "code",
   "execution_count": 29,
   "id": "2c319218",
   "metadata": {},
   "outputs": [
    {
     "data": {
      "text/plain": [
       "'AM'"
      ]
     },
     "execution_count": 29,
     "metadata": {},
     "output_type": "execute_result"
    }
   ],
   "source": [
    "current_date.strftime('%p')   #Am/Pm"
   ]
  },
  {
   "cell_type": "code",
   "execution_count": 36,
   "id": "973d0836",
   "metadata": {},
   "outputs": [
    {
     "name": "stdout",
     "output_type": "stream",
     "text": [
      "2021-11-25 08:23:53.463176\n"
     ]
    }
   ],
   "source": [
    "print(current_date)"
   ]
  },
  {
   "cell_type": "code",
   "execution_count": 37,
   "id": "51b67797",
   "metadata": {},
   "outputs": [
    {
     "data": {
      "text/plain": [
       "'25 November 2021'"
      ]
     },
     "execution_count": 37,
     "metadata": {},
     "output_type": "execute_result"
    }
   ],
   "source": [
    "current_date.strftime('%d %B %Y')"
   ]
  },
  {
   "cell_type": "code",
   "execution_count": 39,
   "id": "da7a1d48",
   "metadata": {},
   "outputs": [
    {
     "data": {
      "text/plain": [
       "'25/11/21'"
      ]
     },
     "execution_count": 39,
     "metadata": {},
     "output_type": "execute_result"
    }
   ],
   "source": [
    "current_date.strftime('%d/%m/%y')"
   ]
  },
  {
   "cell_type": "code",
   "execution_count": 40,
   "id": "1e1742ce",
   "metadata": {},
   "outputs": [
    {
     "data": {
      "text/plain": [
       "'11/25/21'"
      ]
     },
     "execution_count": 40,
     "metadata": {},
     "output_type": "execute_result"
    }
   ],
   "source": [
    "current_date.strftime('%D')"
   ]
  },
  {
   "cell_type": "code",
   "execution_count": 41,
   "id": "7cf18c7e",
   "metadata": {},
   "outputs": [
    {
     "data": {
      "text/plain": [
       "'11/25/21'"
      ]
     },
     "execution_count": 41,
     "metadata": {},
     "output_type": "execute_result"
    }
   ],
   "source": [
    "current_date.strftime('%m/%d/%y')"
   ]
  },
  {
   "cell_type": "code",
   "execution_count": 45,
   "id": "e11d6034",
   "metadata": {},
   "outputs": [
    {
     "data": {
      "text/plain": [
       "'21/11/25 AM'"
      ]
     },
     "execution_count": 45,
     "metadata": {},
     "output_type": "execute_result"
    }
   ],
   "source": [
    "current_date.strftime('%y/%m/%d %p')"
   ]
  },
  {
   "cell_type": "code",
   "execution_count": 46,
   "id": "841867c1",
   "metadata": {},
   "outputs": [
    {
     "name": "stdout",
     "output_type": "stream",
     "text": [
      "2021-01-01 00:00:00\n"
     ]
    }
   ],
   "source": [
    "any_date=datetime.datetime(2021,1,1)\n",
    "print(any_date)"
   ]
  },
  {
   "cell_type": "code",
   "execution_count": 47,
   "id": "ef4655ec",
   "metadata": {},
   "outputs": [
    {
     "name": "stdout",
     "output_type": "stream",
     "text": [
      "2021-12-29 00:00:00\n"
     ]
    }
   ],
   "source": [
    "any_date=datetime.datetime(2021,12,29)\n",
    "print(any_date)"
   ]
  },
  {
   "cell_type": "code",
   "execution_count": 48,
   "id": "0916fa16",
   "metadata": {},
   "outputs": [
    {
     "ename": "ValueError",
     "evalue": "month must be in 1..12",
     "output_type": "error",
     "traceback": [
      "\u001b[1;31m---------------------------------------------------------------------------\u001b[0m",
      "\u001b[1;31mValueError\u001b[0m                                Traceback (most recent call last)",
      "\u001b[1;32m<ipython-input-48-6827b3bef65f>\u001b[0m in \u001b[0;36m<module>\u001b[1;34m\u001b[0m\n\u001b[1;32m----> 1\u001b[1;33m \u001b[0many_date\u001b[0m\u001b[1;33m=\u001b[0m\u001b[0mdatetime\u001b[0m\u001b[1;33m.\u001b[0m\u001b[0mdatetime\u001b[0m\u001b[1;33m(\u001b[0m\u001b[1;36m2021\u001b[0m\u001b[1;33m,\u001b[0m\u001b[1;36m29\u001b[0m\u001b[1;33m,\u001b[0m\u001b[1;36m12\u001b[0m\u001b[1;33m)\u001b[0m\u001b[1;33m\u001b[0m\u001b[1;33m\u001b[0m\u001b[0m\n\u001b[0m\u001b[0;32m      2\u001b[0m \u001b[0mprint\u001b[0m\u001b[1;33m(\u001b[0m\u001b[0many_date\u001b[0m\u001b[1;33m)\u001b[0m\u001b[1;33m\u001b[0m\u001b[1;33m\u001b[0m\u001b[0m\n",
      "\u001b[1;31mValueError\u001b[0m: month must be in 1..12"
     ]
    }
   ],
   "source": [
    "any_date=datetime.datetime(2021,29,12)\n",
    "print(any_date)"
   ]
  },
  {
   "cell_type": "code",
   "execution_count": 49,
   "id": "10c40a7f",
   "metadata": {},
   "outputs": [
    {
     "name": "stdout",
     "output_type": "stream",
     "text": [
      "1947-08-15 00:00:00\n"
     ]
    }
   ],
   "source": [
    "any_date=datetime.datetime(1947,8,15)\n",
    "print(any_date)"
   ]
  },
  {
   "cell_type": "code",
   "execution_count": 51,
   "id": "56ae0cf6",
   "metadata": {},
   "outputs": [
    {
     "data": {
      "text/plain": [
       "'Fri'"
      ]
     },
     "execution_count": 51,
     "metadata": {},
     "output_type": "execute_result"
    }
   ],
   "source": [
    "any_date.strftime('%a')"
   ]
  },
  {
   "cell_type": "code",
   "execution_count": 52,
   "id": "da78889d",
   "metadata": {},
   "outputs": [
    {
     "data": {
      "text/plain": [
       "'Friday'"
      ]
     },
     "execution_count": 52,
     "metadata": {},
     "output_type": "execute_result"
    }
   ],
   "source": [
    "any_date.strftime('%A')"
   ]
  },
  {
   "cell_type": "markdown",
   "id": "a4cb7072",
   "metadata": {},
   "source": [
    "# Strptime"
   ]
  },
  {
   "cell_type": "raw",
   "id": "d15a3512",
   "metadata": {},
   "source": [
    "strptime >> string points to time / string parsing time\n",
    "strptime >> creates a datetime object from given string of any randon date sequence\n"
   ]
  },
  {
   "cell_type": "raw",
   "id": "a537634c",
   "metadata": {},
   "source": [
    "date = '24 Nov 2021'\n",
    "that_date=datetime.datetime.strptime(date, format of that date)"
   ]
  },
  {
   "cell_type": "code",
   "execution_count": 54,
   "id": "728dcb63",
   "metadata": {},
   "outputs": [
    {
     "name": "stdout",
     "output_type": "stream",
     "text": [
      "2021-11-24 00:00:00\n"
     ]
    }
   ],
   "source": [
    "date = '24 Nov 2021'\n",
    "that_date=datetime.datetime.strptime(date, '%d %b %Y')\n",
    "print(that_date)"
   ]
  },
  {
   "cell_type": "code",
   "execution_count": 56,
   "id": "28649349",
   "metadata": {},
   "outputs": [
    {
     "name": "stdout",
     "output_type": "stream",
     "text": [
      "2021-11-24 00:00:00\n"
     ]
    }
   ],
   "source": [
    "date = '24-Nov-21'\n",
    "that_date=datetime.datetime.strptime(date, '%d-%b-%y')\n",
    "print(that_date)"
   ]
  },
  {
   "cell_type": "code",
   "execution_count": 57,
   "id": "63479f04",
   "metadata": {},
   "outputs": [
    {
     "name": "stdout",
     "output_type": "stream",
     "text": [
      "2021-08-15 00:00:00\n"
     ]
    }
   ],
   "source": [
    "date = '15August21'\n",
    "that_date=datetime.datetime.strptime(date, '%d%B%y')\n",
    "print(that_date)"
   ]
  },
  {
   "cell_type": "code",
   "execution_count": 61,
   "id": "29c352cd",
   "metadata": {},
   "outputs": [
    {
     "name": "stdout",
     "output_type": "stream",
     "text": [
      "2021-08-15 00:00:00\n"
     ]
    }
   ],
   "source": [
    "date = '15821'\n",
    "that_date=datetime.datetime.strptime(date, '%d%m%y')\n",
    "print(that_date)"
   ]
  },
  {
   "cell_type": "code",
   "execution_count": 62,
   "id": "b3321522",
   "metadata": {},
   "outputs": [
    {
     "name": "stdout",
     "output_type": "stream",
     "text": [
      "2021-10-15 00:00:00\n"
     ]
    }
   ],
   "source": [
    "date = '151021'\n",
    "that_date=datetime.datetime.strptime(date, '%d%m%y')\n",
    "print(that_date)"
   ]
  },
  {
   "cell_type": "code",
   "execution_count": 63,
   "id": "55b48c17",
   "metadata": {},
   "outputs": [
    {
     "name": "stdout",
     "output_type": "stream",
     "text": [
      "2021-08-15 00:00:00\n"
     ]
    }
   ],
   "source": [
    "date = '15/8/21'\n",
    "that_date=datetime.datetime.strptime(date, '%d/%m/%y')\n",
    "print(that_date)"
   ]
  },
  {
   "cell_type": "code",
   "execution_count": 75,
   "id": "b80a8c64",
   "metadata": {},
   "outputs": [
    {
     "ename": "SyntaxError",
     "evalue": "invalid syntax (<ipython-input-75-fb9965fc5ad3>, line 6)",
     "output_type": "error",
     "traceback": [
      "\u001b[1;36m  File \u001b[1;32m\"<ipython-input-75-fb9965fc5ad3>\"\u001b[1;36m, line \u001b[1;32m6\u001b[0m\n\u001b[1;33m    for date_format in date_formats\u001b[0m\n\u001b[1;37m                                   ^\u001b[0m\n\u001b[1;31mSyntaxError\u001b[0m\u001b[1;31m:\u001b[0m invalid syntax\n"
     ]
    }
   ],
   "source": [
    "date_list= ['15/8/21','151021','15821','15August21','24-Nov-21']\n",
    "date_formats=['%d/%m/%y','%d%m%y','%d%m%y','%d%B%y','%d-%b-%y','%d %b %Y','%d%m%Y','%Y%b%d','%y-%m-%d']\n",
    "\n",
    "new_date_list=[]\n",
    "for date in date_list:\n",
    "    for date_format in date_formats:\n",
    "        try:\n",
    "            that_date=datetime.datetime.strptime(date,date_format)\n",
    "            new_date_list.append(that_date)\n",
    "        except:\n",
    "            continue\n",
    "        \n",
    "        print(that_date,sep='\\n')"
   ]
  },
  {
   "cell_type": "code",
   "execution_count": 74,
   "id": "af77ce24",
   "metadata": {},
   "outputs": [
    {
     "name": "stdout",
     "output_type": "stream",
     "text": [
      "2021-10-15 00:00:00\n"
     ]
    }
   ],
   "source": [
    "# date_list= ['15/8/21','151021','15821','15August21','24-Nov-21']\n",
    "date_formats=['%d/%m/%y','%d%m%y','%d%m%y','%d%B%y','%d-%b-%y','%d %b %Y','%d%m%Y','%Y%b%d','%y-%m-%d']\n",
    "\n",
    "def get_date(in_date):\n",
    "    for date_format in date_formats:\n",
    "        try:\n",
    "            that_date=datetime.datetime.strptime(in_date,date_format)\n",
    "            return print(that_date)\n",
    "        except:\n",
    "            continue\n",
    "            \n",
    "get_date('151021')"
   ]
  },
  {
   "cell_type": "code",
   "execution_count": null,
   "id": "3e171741",
   "metadata": {},
   "outputs": [],
   "source": []
  }
 ],
 "metadata": {
  "kernelspec": {
   "display_name": "Python 3",
   "language": "python",
   "name": "python3"
  },
  "language_info": {
   "codemirror_mode": {
    "name": "ipython",
    "version": 3
   },
   "file_extension": ".py",
   "mimetype": "text/x-python",
   "name": "python",
   "nbconvert_exporter": "python",
   "pygments_lexer": "ipython3",
   "version": "3.8.8"
  },
  "toc": {
   "base_numbering": 1,
   "nav_menu": {},
   "number_sections": true,
   "sideBar": true,
   "skip_h1_title": false,
   "title_cell": "Table of Contents",
   "title_sidebar": "Contents",
   "toc_cell": false,
   "toc_position": {},
   "toc_section_display": true,
   "toc_window_display": false
  },
  "varInspector": {
   "cols": {
    "lenName": 16,
    "lenType": 16,
    "lenVar": 40
   },
   "kernels_config": {
    "python": {
     "delete_cmd_postfix": "",
     "delete_cmd_prefix": "del ",
     "library": "var_list.py",
     "varRefreshCmd": "print(var_dic_list())"
    },
    "r": {
     "delete_cmd_postfix": ") ",
     "delete_cmd_prefix": "rm(",
     "library": "var_list.r",
     "varRefreshCmd": "cat(var_dic_list()) "
    }
   },
   "types_to_exclude": [
    "module",
    "function",
    "builtin_function_or_method",
    "instance",
    "_Feature"
   ],
   "window_display": false
  }
 },
 "nbformat": 4,
 "nbformat_minor": 5
}

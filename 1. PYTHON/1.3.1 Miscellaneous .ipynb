{
 "cells": [
  {
   "cell_type": "markdown",
   "id": "30b7b2bc",
   "metadata": {},
   "source": [
    "### FR string"
   ]
  },
  {
   "cell_type": "code",
   "execution_count": 7,
   "id": "a0e615f3",
   "metadata": {},
   "outputs": [
    {
     "name": "stdout",
     "output_type": "stream",
     "text": [
      "take this no. 10 & nothing \\n more\n"
     ]
    }
   ],
   "source": [
    "x=10\n",
    "print(fr'take this no. {x} & nothing \\n more')"
   ]
  },
  {
   "cell_type": "markdown",
   "id": "74fb80e9",
   "metadata": {},
   "source": [
    "### Global Varible & Local variable"
   ]
  },
  {
   "cell_type": "raw",
   "id": "7691f8c9",
   "metadata": {},
   "source": [
    "Gloabl Variable are the vaiables that are defined outside the function body & have a glabal scope.\n",
    "Local Variable are variables which has a local scope & can only be used within the function body."
   ]
  },
  {
   "cell_type": "code",
   "execution_count": 10,
   "id": "cf0587ce",
   "metadata": {},
   "outputs": [
    {
     "name": "stdout",
     "output_type": "stream",
     "text": [
      "200\n"
     ]
    }
   ],
   "source": [
    "\n",
    "variable1=100    #Global variable\n",
    "\n",
    "def new():\n",
    "    variable2= 200     #Local Variable\n",
    "    print(variable2)\n",
    "\n",
    "variable1\n",
    "new()"
   ]
  },
  {
   "cell_type": "code",
   "execution_count": 14,
   "id": "f8573885",
   "metadata": {},
   "outputs": [
    {
     "data": {
      "text/plain": [
       "100"
      ]
     },
     "execution_count": 14,
     "metadata": {},
     "output_type": "execute_result"
    }
   ],
   "source": [
    "variable1"
   ]
  },
  {
   "cell_type": "code",
   "execution_count": 12,
   "id": "2c895420",
   "metadata": {},
   "outputs": [
    {
     "ename": "NameError",
     "evalue": "name 'variable2' is not defined",
     "output_type": "error",
     "traceback": [
      "\u001b[1;31m---------------------------------------------------------------------------\u001b[0m",
      "\u001b[1;31mNameError\u001b[0m                                 Traceback (most recent call last)",
      "\u001b[1;32m<ipython-input-12-8322aaa6bcd3>\u001b[0m in \u001b[0;36m<module>\u001b[1;34m\u001b[0m\n\u001b[1;32m----> 1\u001b[1;33m \u001b[0mvariable2\u001b[0m\u001b[1;33m\u001b[0m\u001b[1;33m\u001b[0m\u001b[0m\n\u001b[0m",
      "\u001b[1;31mNameError\u001b[0m: name 'variable2' is not defined"
     ]
    }
   ],
   "source": [
    "variable2"
   ]
  },
  {
   "cell_type": "markdown",
   "id": "13694cef",
   "metadata": {},
   "source": [
    "### del function fro deleting "
   ]
  },
  {
   "cell_type": "code",
   "execution_count": 15,
   "id": "bcf4c7fa",
   "metadata": {},
   "outputs": [],
   "source": [
    "del variable1"
   ]
  },
  {
   "cell_type": "code",
   "execution_count": 16,
   "id": "4d30cabf",
   "metadata": {},
   "outputs": [
    {
     "ename": "NameError",
     "evalue": "name 'variable1' is not defined",
     "output_type": "error",
     "traceback": [
      "\u001b[1;31m---------------------------------------------------------------------------\u001b[0m",
      "\u001b[1;31mNameError\u001b[0m                                 Traceback (most recent call last)",
      "\u001b[1;32m<ipython-input-16-c2488095237b>\u001b[0m in \u001b[0;36m<module>\u001b[1;34m\u001b[0m\n\u001b[1;32m----> 1\u001b[1;33m \u001b[0mvariable1\u001b[0m\u001b[1;33m\u001b[0m\u001b[1;33m\u001b[0m\u001b[0m\n\u001b[0m",
      "\u001b[1;31mNameError\u001b[0m: name 'variable1' is not defined"
     ]
    }
   ],
   "source": [
    "variable1"
   ]
  },
  {
   "cell_type": "code",
   "execution_count": 17,
   "id": "e19f4975",
   "metadata": {},
   "outputs": [
    {
     "data": {
      "text/plain": [
       "4"
      ]
     },
     "execution_count": 17,
     "metadata": {},
     "output_type": "execute_result"
    }
   ],
   "source": [
    "abs(-4)    ## it gives away the distance of the num from 0."
   ]
  },
  {
   "cell_type": "code",
   "execution_count": 18,
   "id": "9d430345",
   "metadata": {},
   "outputs": [
    {
     "data": {
      "text/plain": [
       "5"
      ]
     },
     "metadata": {},
     "output_type": "display_data"
    }
   ],
   "source": [
    "from IPython.display import display\n",
    "display(5)"
   ]
  },
  {
   "cell_type": "markdown",
   "id": "d2c946f5",
   "metadata": {},
   "source": [
    "### Input funtion"
   ]
  },
  {
   "cell_type": "code",
   "execution_count": 24,
   "id": "a8bb23cf",
   "metadata": {},
   "outputs": [
    {
     "data": {
      "text/plain": [
       "70"
      ]
     },
     "execution_count": 24,
     "metadata": {},
     "output_type": "execute_result"
    }
   ],
   "source": [
    "by= '70'\n",
    "int(by)"
   ]
  },
  {
   "cell_type": "code",
   "execution_count": 26,
   "id": "2324cb0c",
   "metadata": {},
   "outputs": [
    {
     "name": "stdout",
     "output_type": "stream",
     "text": [
      "enter the number :30.45\n",
      "30.45\n"
     ]
    },
    {
     "data": {
      "text/plain": [
       "float"
      ]
     },
     "execution_count": 26,
     "metadata": {},
     "output_type": "execute_result"
    }
   ],
   "source": [
    "variable = float(input('enter the number :'))\n",
    "print(variable)\n",
    "type(variable)"
   ]
  },
  {
   "cell_type": "markdown",
   "id": "f5878971",
   "metadata": {},
   "source": [
    "## input function- used to take user input (is an important function)"
   ]
  },
  {
   "cell_type": "code",
   "execution_count": 27,
   "id": "53693e72",
   "metadata": {},
   "outputs": [
    {
     "name": "stdout",
     "output_type": "stream",
     "text": [
      "enter the number :name\n"
     ]
    },
    {
     "ename": "ValueError",
     "evalue": "could not convert string to float: 'name'",
     "output_type": "error",
     "traceback": [
      "\u001b[1;31m---------------------------------------------------------------------------\u001b[0m",
      "\u001b[1;31mValueError\u001b[0m                                Traceback (most recent call last)",
      "\u001b[1;32m<ipython-input-27-f9fb8da3e8d7>\u001b[0m in \u001b[0;36m<module>\u001b[1;34m\u001b[0m\n\u001b[1;32m----> 1\u001b[1;33m \u001b[0mvariable\u001b[0m \u001b[1;33m=\u001b[0m \u001b[0mfloat\u001b[0m\u001b[1;33m(\u001b[0m\u001b[0minput\u001b[0m\u001b[1;33m(\u001b[0m\u001b[1;34m'enter the number :'\u001b[0m\u001b[1;33m)\u001b[0m\u001b[1;33m)\u001b[0m\u001b[1;33m\u001b[0m\u001b[1;33m\u001b[0m\u001b[0m\n\u001b[0m\u001b[0;32m      2\u001b[0m \u001b[0mprint\u001b[0m\u001b[1;33m(\u001b[0m\u001b[0mvariable\u001b[0m\u001b[1;33m)\u001b[0m\u001b[1;33m\u001b[0m\u001b[1;33m\u001b[0m\u001b[0m\n\u001b[0;32m      3\u001b[0m \u001b[0mtype\u001b[0m\u001b[1;33m(\u001b[0m\u001b[0mvariable\u001b[0m\u001b[1;33m)\u001b[0m\u001b[1;33m\u001b[0m\u001b[1;33m\u001b[0m\u001b[0m\n",
      "\u001b[1;31mValueError\u001b[0m: could not convert string to float: 'name'"
     ]
    }
   ],
   "source": [
    "variable = float(input('enter the number :'))\n",
    "print(variable)\n",
    "type(variable)"
   ]
  },
  {
   "cell_type": "code",
   "execution_count": null,
   "id": "a31e9ef8",
   "metadata": {},
   "outputs": [],
   "source": [
    "### use of Round function"
   ]
  },
  {
   "cell_type": "code",
   "execution_count": 29,
   "id": "227265c0",
   "metadata": {},
   "outputs": [
    {
     "data": {
      "text/plain": [
       "200.78"
      ]
     },
     "execution_count": 29,
     "metadata": {},
     "output_type": "execute_result"
    }
   ],
   "source": [
    "new_no = 200.78259\n",
    "round(new_no,2)"
   ]
  },
  {
   "cell_type": "code",
   "execution_count": null,
   "id": "a5ecc9d1",
   "metadata": {},
   "outputs": [],
   "source": []
  }
 ],
 "metadata": {
  "kernelspec": {
   "display_name": "Python 3",
   "language": "python",
   "name": "python3"
  },
  "language_info": {
   "codemirror_mode": {
    "name": "ipython",
    "version": 3
   },
   "file_extension": ".py",
   "mimetype": "text/x-python",
   "name": "python",
   "nbconvert_exporter": "python",
   "pygments_lexer": "ipython3",
   "version": "3.8.8"
  },
  "toc": {
   "base_numbering": 1,
   "nav_menu": {},
   "number_sections": true,
   "sideBar": true,
   "skip_h1_title": false,
   "title_cell": "Table of Contents",
   "title_sidebar": "Contents",
   "toc_cell": false,
   "toc_position": {},
   "toc_section_display": true,
   "toc_window_display": false
  },
  "varInspector": {
   "cols": {
    "lenName": 16,
    "lenType": 16,
    "lenVar": 40
   },
   "kernels_config": {
    "python": {
     "delete_cmd_postfix": "",
     "delete_cmd_prefix": "del ",
     "library": "var_list.py",
     "varRefreshCmd": "print(var_dic_list())"
    },
    "r": {
     "delete_cmd_postfix": ") ",
     "delete_cmd_prefix": "rm(",
     "library": "var_list.r",
     "varRefreshCmd": "cat(var_dic_list()) "
    }
   },
   "types_to_exclude": [
    "module",
    "function",
    "builtin_function_or_method",
    "instance",
    "_Feature"
   ],
   "window_display": false
  }
 },
 "nbformat": 4,
 "nbformat_minor": 5
}

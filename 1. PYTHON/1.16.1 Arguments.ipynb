{
 "cells": [
  {
   "cell_type": "raw",
   "metadata": {},
   "source": [
    "Types of Arguements:\n",
    "    Positional arguements\n",
    "    Default Arguements\n",
    "    Arbitary Arguements\n",
    "    Keyword Arbitary Arguements"
   ]
  },
  {
   "cell_type": "markdown",
   "metadata": {},
   "source": [
    "## Arbitary Keyward Arguemnt"
   ]
  },
  {
   "cell_type": "raw",
   "metadata": {},
   "source": [
    "**kwarg  >>keyword args\n",
    "Data type of **kwargs is by default its dictionary\n",
    "it can also take multiple parameters"
   ]
  },
  {
   "cell_type": "code",
   "execution_count": 3,
   "metadata": {},
   "outputs": [
    {
     "name": "stdout",
     "output_type": "stream",
     "text": [
      "phy=95,chem=85,maths=78\n"
     ]
    }
   ],
   "source": [
    "def marks(phy=90,che=80,maths=75):\n",
    "    print(f\"phy={phy},chem={che},maths={maths}\")\n",
    "    \n",
    "marks(phy=95,che=85,maths=78)"
   ]
  },
  {
   "cell_type": "code",
   "execution_count": 6,
   "metadata": {},
   "outputs": [
    {
     "name": "stdout",
     "output_type": "stream",
     "text": [
      "kwargs>> {'phy': 95, 'che': 85, 'maths': 78}\n",
      "average 86.0\n"
     ]
    }
   ],
   "source": [
    "def marks(**kwargs):  #keyword arguements\n",
    "    print(\"kwargs>>\",kwargs)\n",
    "    avg=sum(kwargs.values())/len(kwargs)\n",
    "    print(\"average\",avg)\n",
    "#     print(f\"phy={phy},chem={che},maths={maths}\")\n",
    "    \n",
    "marks(phy=95,che=85,maths=78)"
   ]
  },
  {
   "cell_type": "code",
   "execution_count": 16,
   "metadata": {},
   "outputs": [
    {
     "name": "stdout",
     "output_type": "stream",
     "text": [
      "v1 10 & v2 are20\n",
      "Args>> ()\n",
      "phy is 90  & chem is 91\n",
      "kwargs are>> {}\n"
     ]
    }
   ],
   "source": [
    "def test_parameters(v1,v2,*args,phy=90,chem=80,**kwargs):\n",
    "    print(\"v1 {} & v2 are{}\".format(v1,v2))\n",
    "    print(\"Args>>\",args)\n",
    "    print(\"phy is\",phy,\" & chem is\",chem)\n",
    "    print(\"kwargs are>>\",kwargs)\n",
    "    \n",
    "test_parameters(10,20,chem=91)"
   ]
  },
  {
   "cell_type": "code",
   "execution_count": 14,
   "metadata": {},
   "outputs": [
    {
     "name": "stdout",
     "output_type": "stream",
     "text": [
      "v1 10 & v2 are20\n",
      "Args>> (30,)\n",
      "phy is 90  & chem is 80\n",
      "kwargs are>> {'maths': 91}\n"
     ]
    }
   ],
   "source": [
    "def test_parameters(v1,v2,*args,phy=90,chem=80,**kwargs):\n",
    "    print(\"v1 {} & v2 are{}\".format(v1,v2))\n",
    "    print(\"Args>>\",args)\n",
    "    print(\"phy is\",phy,\" & chem is\",chem)\n",
    "    print(\"kwargs are>>\",kwargs)\n",
    "    \n",
    "test_parameters(10,20,30,maths=91)"
   ]
  },
  {
   "cell_type": "code",
   "execution_count": 33,
   "metadata": {},
   "outputs": [
    {
     "name": "stdout",
     "output_type": "stream",
     "text": [
      "v1 10 & v2 are20\n",
      "Args>> (30, 40, 50)\n",
      "phy is 92  & chem is 82\n",
      "kwargs are>> {'maths': 91, 'bio': 67, 'eng': 88}\n"
     ]
    }
   ],
   "source": [
    "def test_parameters(v1,v2,*args,phy=90,chem=80,**kwargs):\n",
    "    print(\"v1 {} & v2 are{}\".format(v1,v2))\n",
    "    print(\"Args>>\",args)\n",
    "    print(\"phy is\",phy,\" & chem is\",chem)\n",
    "    print(\"kwargs are>>\",kwargs)\n",
    "    \n",
    "test_parameters(10,20,30,40,50,phy=92,chem=82,maths=91,bio=67,eng=88)"
   ]
  },
  {
   "cell_type": "code",
   "execution_count": 42,
   "metadata": {},
   "outputs": [
    {
     "ename": "TypeError",
     "evalue": "test_parameters() missing 2 required keyword-only arguments: 'v1' and 'v2'",
     "output_type": "error",
     "traceback": [
      "\u001b[1;31m---------------------------------------------------------------------------\u001b[0m",
      "\u001b[1;31mTypeError\u001b[0m                                 Traceback (most recent call last)",
      "\u001b[1;32m<ipython-input-42-37d09c6806e2>\u001b[0m in \u001b[0;36m<module>\u001b[1;34m\u001b[0m\n\u001b[0;32m      5\u001b[0m     \u001b[0mprint\u001b[0m\u001b[1;33m(\u001b[0m\u001b[1;34m\"kwargs are>>\"\u001b[0m\u001b[1;33m,\u001b[0m\u001b[0mkwargs\u001b[0m\u001b[1;33m)\u001b[0m\u001b[1;33m\u001b[0m\u001b[1;33m\u001b[0m\u001b[0m\n\u001b[0;32m      6\u001b[0m \u001b[1;33m\u001b[0m\u001b[0m\n\u001b[1;32m----> 7\u001b[1;33m \u001b[0mtest_parameters\u001b[0m\u001b[1;33m(\u001b[0m\u001b[1;36m10\u001b[0m\u001b[1;33m,\u001b[0m\u001b[1;36m20\u001b[0m\u001b[1;33m,\u001b[0m\u001b[1;36m30\u001b[0m\u001b[1;33m,\u001b[0m\u001b[1;36m40\u001b[0m\u001b[1;33m,\u001b[0m\u001b[1;36m50\u001b[0m\u001b[1;33m,\u001b[0m\u001b[0mphy\u001b[0m\u001b[1;33m=\u001b[0m\u001b[1;36m92\u001b[0m\u001b[1;33m,\u001b[0m\u001b[0mchem\u001b[0m\u001b[1;33m=\u001b[0m\u001b[1;36m82\u001b[0m\u001b[1;33m,\u001b[0m\u001b[0mmaths\u001b[0m\u001b[1;33m=\u001b[0m\u001b[1;36m91\u001b[0m\u001b[1;33m,\u001b[0m\u001b[0mbio\u001b[0m\u001b[1;33m=\u001b[0m\u001b[1;36m67\u001b[0m\u001b[1;33m,\u001b[0m\u001b[0meng\u001b[0m\u001b[1;33m=\u001b[0m\u001b[1;36m88\u001b[0m\u001b[1;33m)\u001b[0m\u001b[1;33m\u001b[0m\u001b[1;33m\u001b[0m\u001b[0m\n\u001b[0m",
      "\u001b[1;31mTypeError\u001b[0m: test_parameters() missing 2 required keyword-only arguments: 'v1' and 'v2'"
     ]
    }
   ],
   "source": [
    "def test_parameters(v1,v2,*args,phy=90,chem=80,**kwargs):\n",
    "    print(\"v1 {} & v2 are{}\".format(v1,v2))\n",
    "    print(\"Args>>\",args)\n",
    "    print(\"phy is\",phy,\" & chem is\",chem)\n",
    "    print(\"kwargs are>>\",kwargs)\n",
    "    \n",
    "test_parameters(10,20,30,40,50,phy=92,chem=82,maths=91,bio=67,eng=88)"
   ]
  },
  {
   "cell_type": "code",
   "execution_count": null,
   "metadata": {},
   "outputs": [],
   "source": [
    "Sequence: positional args, *args, Default args, **Kwargs\n",
    "        Positional args, default args, *args, **kwargs"
   ]
  },
  {
   "cell_type": "code",
   "execution_count": 50,
   "metadata": {},
   "outputs": [
    {
     "name": "stdout",
     "output_type": "stream",
     "text": [
      "v1 10 & v2 are20\n",
      "Args>> (60, 70)\n",
      "phy is 40  & chem is 50\n",
      "kwargs are>> {'maths': 91, 'bio': 67, 'eng': 88}\n"
     ]
    }
   ],
   "source": [
    "def test_parameters(v1,v2,v3,phy=90,chem=80,*args,**kwargs):\n",
    "    print(\"v1 {} & v2 are{}\".format(v1,v2))\n",
    "    print(\"Args>>\",args)\n",
    "    print(\"phy is\",phy,\" & chem is\",chem)\n",
    "    print(\"kwargs are>>\",kwargs)\n",
    "    \n",
    "test_parameters(10,20,30,40,50,60,70,maths=91,bio=67,eng=88)"
   ]
  },
  {
   "cell_type": "code",
   "execution_count": null,
   "metadata": {},
   "outputs": [],
   "source": []
  }
 ],
 "metadata": {
  "kernelspec": {
   "display_name": "Python 3",
   "language": "python",
   "name": "python3"
  },
  "language_info": {
   "codemirror_mode": {
    "name": "ipython",
    "version": 3
   },
   "file_extension": ".py",
   "mimetype": "text/x-python",
   "name": "python",
   "nbconvert_exporter": "python",
   "pygments_lexer": "ipython3",
   "version": "3.8.5"
  },
  "toc": {
   "base_numbering": 1,
   "nav_menu": {},
   "number_sections": true,
   "sideBar": true,
   "skip_h1_title": false,
   "title_cell": "Table of Contents",
   "title_sidebar": "Contents",
   "toc_cell": false,
   "toc_position": {},
   "toc_section_display": true,
   "toc_window_display": false
  }
 },
 "nbformat": 4,
 "nbformat_minor": 4
}

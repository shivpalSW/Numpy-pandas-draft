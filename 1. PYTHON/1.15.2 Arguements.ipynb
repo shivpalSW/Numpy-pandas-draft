{
 "cells": [
  {
   "cell_type": "code",
   "execution_count": null,
   "metadata": {},
   "outputs": [],
   "source": [
    "positional\n",
    "no. of params = no. of arguments"
   ]
  },
  {
   "cell_type": "code",
   "execution_count": 1,
   "metadata": {},
   "outputs": [
    {
     "data": {
      "text/plain": [
       "10"
      ]
     },
     "execution_count": 1,
     "metadata": {},
     "output_type": "execute_result"
    }
   ],
   "source": [
    "def add(n1,n2):   # positional args\n",
    "    return n1+n2\n",
    "\n",
    "add(3,7)"
   ]
  },
  {
   "cell_type": "code",
   "execution_count": 3,
   "metadata": {},
   "outputs": [
    {
     "data": {
      "text/plain": [
       "20"
      ]
     },
     "execution_count": 3,
     "metadata": {},
     "output_type": "execute_result"
    }
   ],
   "source": [
    "def add(n1,n2,n3=5):   # 2 positional args + 1 default arguement\n",
    "    return n1+n2+n3\n",
    "\n",
    "add(3,7,10)"
   ]
  },
  {
   "cell_type": "code",
   "execution_count": 4,
   "metadata": {},
   "outputs": [
    {
     "data": {
      "text/plain": [
       "15"
      ]
     },
     "execution_count": 4,
     "metadata": {},
     "output_type": "execute_result"
    }
   ],
   "source": [
    "def add(n1,n2,n3=5):   # 2 positional args + 1 default arguement\n",
    "    return n1+n2+n3\n",
    "\n",
    "add(3,7)"
   ]
  },
  {
   "cell_type": "code",
   "execution_count": 7,
   "metadata": {},
   "outputs": [
    {
     "ename": "SyntaxError",
     "evalue": "non-default argument follows default argument (<ipython-input-7-9119c892bb03>, line 1)",
     "output_type": "error",
     "traceback": [
      "\u001b[1;36m  File \u001b[1;32m\"<ipython-input-7-9119c892bb03>\"\u001b[1;36m, line \u001b[1;32m1\u001b[0m\n\u001b[1;33m    def add(n3=5,n1,n2):   # 2 positional args + 1 default arguement\u001b[0m\n\u001b[1;37m            ^\u001b[0m\n\u001b[1;31mSyntaxError\u001b[0m\u001b[1;31m:\u001b[0m non-default argument follows default argument\n"
     ]
    }
   ],
   "source": [
    "def add(n3=5,n1,n2):   # 2 positional args + 1 default arguement\n",
    "    return n1+n2+n3\n",
    "\n",
    "add(3,7,10)"
   ]
  },
  {
   "cell_type": "code",
   "execution_count": 12,
   "metadata": {},
   "outputs": [
    {
     "data": {
      "text/plain": [
       "34"
      ]
     },
     "execution_count": 12,
     "metadata": {},
     "output_type": "execute_result"
    }
   ],
   "source": [
    "def add(n1,n2,n3=5,n4=10):# 2 positional args + 1 default arguement\n",
    "    n5=15\n",
    "    return n1+n2+n3+n5\n",
    "\n",
    "add(5,6,8,9)"
   ]
  },
  {
   "cell_type": "code",
   "execution_count": null,
   "metadata": {},
   "outputs": [],
   "source": [
    "sequence is: positional arguements, default arguements, *arbitary arguements, **keyword arguements\n",
    "    "
   ]
  },
  {
   "cell_type": "markdown",
   "metadata": {},
   "source": [
    "## *Args (arbitary arguements)"
   ]
  },
  {
   "cell_type": "raw",
   "metadata": {},
   "source": [
    "Variable length args\n",
    "*args >> *arguements\n",
    "Data type of *args will by default be a Tuple\n",
    "When we dont the no. of parameters that are passed"
   ]
  },
  {
   "cell_type": "code",
   "execution_count": 14,
   "metadata": {},
   "outputs": [
    {
     "name": "stdout",
     "output_type": "stream",
     "text": [
      "3 5 6 4 2\n"
     ]
    },
    {
     "data": {
      "text/plain": [
       "('Multiplication of no.s is', 720)"
      ]
     },
     "execution_count": 14,
     "metadata": {},
     "output_type": "execute_result"
    }
   ],
   "source": [
    "def multiplication(n1,n2,n3,n4,n5):\n",
    "    print(n1,n2,n3,n4,n5)\n",
    "    mul=n1*n2*n3*n4*n5\n",
    "    return \"Multiplication of no.s is\",mul\n",
    "\n",
    "multiplication(3,5,6,4,2)"
   ]
  },
  {
   "cell_type": "code",
   "execution_count": 16,
   "metadata": {},
   "outputs": [
    {
     "name": "stdout",
     "output_type": "stream",
     "text": [
      "(3, 5, 6, 4, 2)\n"
     ]
    },
    {
     "data": {
      "text/plain": [
       "('Multiplication of no.s is', 720)"
      ]
     },
     "execution_count": 16,
     "metadata": {},
     "output_type": "execute_result"
    }
   ],
   "source": [
    "def multiplication(*args):\n",
    "    print(args)\n",
    "    mul=1\n",
    "    for i in args:\n",
    "        mul=mul*i\n",
    "#     mul=n1*n2*n3*n4*n5\n",
    "    return \"Multiplication of no.s is\",mul\n",
    "\n",
    "multiplication(3,5,6,4,2)"
   ]
  },
  {
   "cell_type": "code",
   "execution_count": 17,
   "metadata": {},
   "outputs": [
    {
     "name": "stdout",
     "output_type": "stream",
     "text": [
      "5 | 10 | (15, 20, 25)\n"
     ]
    }
   ],
   "source": [
    "def show(n1,n2=5,*args):\n",
    "    print(n1,n2,args,sep=' | ')\n",
    "    \n",
    "show(5,10,15,20,25)"
   ]
  },
  {
   "cell_type": "code",
   "execution_count": 18,
   "metadata": {},
   "outputs": [
    {
     "name": "stdout",
     "output_type": "stream",
     "text": [
      "5 | 15 | (20, 25)\n"
     ]
    }
   ],
   "source": [
    "def show(n1,n2=5,*args):\n",
    "    print(n1,n2,args,sep=' | ')\n",
    "    \n",
    "show(5,15,20,25)"
   ]
  },
  {
   "cell_type": "code",
   "execution_count": 22,
   "metadata": {},
   "outputs": [
    {
     "name": "stdout",
     "output_type": "stream",
     "text": [
      "5 | 7\n"
     ]
    }
   ],
   "source": [
    "import random\n",
    "def show(n1,n2=random.randint(2,10)):\n",
    "    print(n1,n2,sep=' | ')\n",
    "    \n",
    "show(5)"
   ]
  },
  {
   "cell_type": "code",
   "execution_count": 23,
   "metadata": {},
   "outputs": [
    {
     "data": {
      "text/plain": [
       "767"
      ]
     },
     "execution_count": 23,
     "metadata": {},
     "output_type": "execute_result"
    }
   ],
   "source": [
    "import numpy as np\n",
    "np.random.randint(100,999)"
   ]
  },
  {
   "cell_type": "code",
   "execution_count": 28,
   "metadata": {},
   "outputs": [
    {
     "name": "stdout",
     "output_type": "stream",
     "text": [
      "5 | 30 | (10, 15, 20, 25)\n"
     ]
    }
   ],
   "source": [
    "def show(n1,*args,n2=5):\n",
    "    print(n1,n2,args,sep=' | ')\n",
    "    \n",
    "show(5,10,15,20,25,n2=30)"
   ]
  },
  {
   "cell_type": "code",
   "execution_count": null,
   "metadata": {},
   "outputs": [],
   "source": []
  }
 ],
 "metadata": {
  "kernelspec": {
   "display_name": "Python 3",
   "language": "python",
   "name": "python3"
  },
  "language_info": {
   "codemirror_mode": {
    "name": "ipython",
    "version": 3
   },
   "file_extension": ".py",
   "mimetype": "text/x-python",
   "name": "python",
   "nbconvert_exporter": "python",
   "pygments_lexer": "ipython3",
   "version": "3.8.5"
  },
  "toc": {
   "base_numbering": 1,
   "nav_menu": {},
   "number_sections": true,
   "sideBar": true,
   "skip_h1_title": false,
   "title_cell": "Table of Contents",
   "title_sidebar": "Contents",
   "toc_cell": false,
   "toc_position": {},
   "toc_section_display": true,
   "toc_window_display": false
  }
 },
 "nbformat": 4,
 "nbformat_minor": 4
}

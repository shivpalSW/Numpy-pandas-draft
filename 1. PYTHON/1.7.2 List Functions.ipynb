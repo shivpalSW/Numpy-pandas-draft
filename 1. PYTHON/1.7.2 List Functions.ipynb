{
 "cells": [
  {
   "cell_type": "markdown",
   "metadata": {},
   "source": [
    "# Append"
   ]
  },
  {
   "cell_type": "raw",
   "metadata": {},
   "source": [
    "append is used to add the item in list\n",
    "by default it adds at -1 index (at last) of the list"
   ]
  },
  {
   "cell_type": "code",
   "execution_count": 1,
   "metadata": {},
   "outputs": [
    {
     "data": {
      "text/plain": [
       "['Cristiano', 'Ronaldo', 'Ronaldino', 'Zaddan', 'Neymar']"
      ]
     },
     "execution_count": 1,
     "metadata": {},
     "output_type": "execute_result"
    }
   ],
   "source": [
    "soccer = ['Cristiano','Ronaldo','Ronaldino','Zaddan',\"Neymar\"]\n",
    "soccer"
   ]
  },
  {
   "cell_type": "code",
   "execution_count": 2,
   "metadata": {},
   "outputs": [],
   "source": [
    "soccer.append('Messi')"
   ]
  },
  {
   "cell_type": "code",
   "execution_count": 3,
   "metadata": {},
   "outputs": [
    {
     "data": {
      "text/plain": [
       "['Cristiano', 'Ronaldo', 'Ronaldino', 'Zaddan', 'Neymar', 'Messi']"
      ]
     },
     "execution_count": 3,
     "metadata": {},
     "output_type": "execute_result"
    }
   ],
   "source": [
    "soccer"
   ]
  },
  {
   "cell_type": "code",
   "execution_count": 7,
   "metadata": {},
   "outputs": [
    {
     "data": {
      "text/plain": [
       "['Cristiano', 'Ronaldo', 'Ronaldino', 'Zaddan', 'Neymar', ['Messi', 'kaka']]"
      ]
     },
     "execution_count": 7,
     "metadata": {},
     "output_type": "execute_result"
    }
   ],
   "source": [
    "soccer = ['Cristiano','Ronaldo','Ronaldino','Zaddan',\"Neymar\"]\n",
    "players=['Messi','kaka']\n",
    "\n",
    "soccer.append(players)\n",
    "soccer"
   ]
  },
  {
   "cell_type": "code",
   "execution_count": 8,
   "metadata": {},
   "outputs": [
    {
     "data": {
      "text/plain": [
       "['Messi', 'kaka']"
      ]
     },
     "execution_count": 8,
     "metadata": {},
     "output_type": "execute_result"
    }
   ],
   "source": [
    "soccer[-1]"
   ]
  },
  {
   "cell_type": "code",
   "execution_count": 4,
   "metadata": {},
   "outputs": [
    {
     "data": {
      "text/plain": [
       "['Cristiano', 'Ronaldo', 'Ronaldino', 'Zaddan', 'Neymar', 'Messi', 'kaka']"
      ]
     },
     "execution_count": 4,
     "metadata": {},
     "output_type": "execute_result"
    }
   ],
   "source": [
    "soccer = ['Cristiano','Ronaldo','Ronaldino','Zaddan',\"Neymar\"]\n",
    "players=['Messi','kaka']\n",
    "\n",
    "for i in players:\n",
    "    soccer.append(i)\n",
    "    \n",
    "soccer"
   ]
  },
  {
   "cell_type": "markdown",
   "metadata": {},
   "source": [
    "# Extend"
   ]
  },
  {
   "cell_type": "code",
   "execution_count": null,
   "metadata": {},
   "outputs": [],
   "source": [
    "extend is used to add the items in list\n",
    "by default it adds at -1 index (at last) of the list"
   ]
  },
  {
   "cell_type": "code",
   "execution_count": 9,
   "metadata": {},
   "outputs": [],
   "source": [
    "soccer = ['Cristiano','Ronaldo','Ronaldino','Zaddan',\"Neymar\"]\n",
    "players=['Messi','kaka']\n",
    "\n",
    "soccer.extend(players)"
   ]
  },
  {
   "cell_type": "code",
   "execution_count": 10,
   "metadata": {},
   "outputs": [
    {
     "data": {
      "text/plain": [
       "['Cristiano', 'Ronaldo', 'Ronaldino', 'Zaddan', 'Neymar', 'Messi', 'kaka']"
      ]
     },
     "execution_count": 10,
     "metadata": {},
     "output_type": "execute_result"
    }
   ],
   "source": [
    "soccer"
   ]
  },
  {
   "cell_type": "code",
   "execution_count": 11,
   "metadata": {},
   "outputs": [
    {
     "data": {
      "text/plain": [
       "'kaka'"
      ]
     },
     "execution_count": 11,
     "metadata": {},
     "output_type": "execute_result"
    }
   ],
   "source": [
    "soccer[-1]"
   ]
  },
  {
   "cell_type": "code",
   "execution_count": 42,
   "metadata": {},
   "outputs": [
    {
     "name": "stdout",
     "output_type": "stream",
     "text": [
      "['Cristiano', 'Ronaldo', 'Ronaldino', 'Zaddan', 'Neymar', 'Messi', 'kaka']\n"
     ]
    }
   ],
   "source": [
    "\n",
    "soccer = ['Cristiano','Ronaldo','Ronaldino','Zaddan',\"Neymar\"]\n",
    "players=['Messi','kaka']\n",
    "\n",
    "final_players = soccer + players\n",
    "print(final_players)\n"
   ]
  },
  {
   "cell_type": "code",
   "execution_count": 28,
   "metadata": {},
   "outputs": [
    {
     "data": {
      "text/plain": [
       "'python class'"
      ]
     },
     "execution_count": 28,
     "metadata": {},
     "output_type": "execute_result"
    }
   ],
   "source": [
    "str1= 'python'\n",
    "str2= ' class'\n",
    "str1+str2"
   ]
  },
  {
   "cell_type": "code",
   "execution_count": 12,
   "metadata": {},
   "outputs": [
    {
     "data": {
      "text/plain": [
       "['1', '2', '3', '4', '5', '6', '7', '8']"
      ]
     },
     "execution_count": 12,
     "metadata": {},
     "output_type": "execute_result"
    }
   ],
   "source": [
    "#write a program to count the even numbers in string\n",
    "list1= list('12345678')\n",
    "list1"
   ]
  },
  {
   "cell_type": "code",
   "execution_count": null,
   "metadata": {},
   "outputs": [],
   "source": [
    "string='12345678'"
   ]
  },
  {
   "cell_type": "code",
   "execution_count": 15,
   "metadata": {},
   "outputs": [
    {
     "name": "stdout",
     "output_type": "stream",
     "text": [
      "even numbers: 4\n"
     ]
    }
   ],
   "source": [
    "s=\"12345678\"\n",
    "even=0\n",
    "for i in s:\n",
    "    if int(i)%2==0:\n",
    "        even=even+1\n",
    "print(\"even numbers:\",even) "
   ]
  },
  {
   "cell_type": "code",
   "execution_count": 22,
   "metadata": {},
   "outputs": [
    {
     "name": "stdout",
     "output_type": "stream",
     "text": [
      "count of even is- 4 \n",
      " count of odd is- 4\n"
     ]
    }
   ],
   "source": [
    "num=[1,2,3,4,5,6,7,8]     \n",
    "even=0\n",
    "odd=0\n",
    "for x in num :\n",
    "    if(x % 2 == 0):\n",
    "        even += 1\n",
    "    else:odd+=1\n",
    "        \n",
    "print('count of even is-',even,'\\n','count of odd is-',odd)"
   ]
  },
  {
   "cell_type": "code",
   "execution_count": 24,
   "metadata": {},
   "outputs": [
    {
     "name": "stdout",
     "output_type": "stream",
     "text": [
      "2 index is : 1\n",
      "4 index is : 3\n",
      "6 index is : 5\n",
      "8 index is : 7\n",
      "10 index is : 9\n"
     ]
    }
   ],
   "source": [
    "list_dummy = [1,2,3,4,5,6,7,8,9,10]\n",
    "\n",
    "for i in list_dummy:\n",
    "    if i % 2==0:\n",
    "        print(i, 'index is :',list_dummy.index(i))"
   ]
  },
  {
   "cell_type": "raw",
   "metadata": {},
   "source": [
    "AI series on Youtube: Age of AI\n",
    "\n",
    "Data Science channels:\n",
    "    Krish Naik\n",
    "    AI engineering\n",
    "    \n",
    "Error debugging:\n",
    "    Stack overflow\n",
    "    stack exchange\n",
    "    stack abuse\n",
    "    w3 schools\n",
    "    geeks for geeks\n",
    "    \n",
    "    Youtube"
   ]
  },
  {
   "cell_type": "code",
   "execution_count": null,
   "metadata": {},
   "outputs": [],
   "source": [
    "# program to count chanracters at even numbers/index\n",
    "string = 'asdfhsafbweifkmcnls'"
   ]
  },
  {
   "cell_type": "code",
   "execution_count": 37,
   "metadata": {},
   "outputs": [
    {
     "name": "stdout",
     "output_type": "stream",
     "text": [
      "13\n",
      "Even Numbers Count is:  7\n",
      "Odd Numbers Count Is: 6\n"
     ]
    }
   ],
   "source": [
    "string1 = 'asdfghgfsdfdg'\n",
    "print(len(string1))\n",
    "even = 0\n",
    "odd = 0\n",
    "\n",
    "for i in range(len(string1)):   #(0,1,2,3,4,5,6,7,8,9,10,11,12,13)  \n",
    "    if i % 2 == 0:\n",
    "        even+=1\n",
    "    else:\n",
    "        odd +=1\n",
    "print(\"Even Numbers Count is: \",even)\n",
    "print(\"Odd Numbers Count Is:\",odd)\n",
    "     "
   ]
  },
  {
   "cell_type": "code",
   "execution_count": 54,
   "metadata": {},
   "outputs": [
    {
     "name": "stdout",
     "output_type": "stream",
     "text": [
      "asdfghjk\n",
      "[] []\n",
      "\n",
      "1 loop running\n",
      "index is 0, value is a\n",
      "odd list is ['a'] \n",
      "\n",
      "2 loop running\n",
      "index is 1, value is s\n",
      "even list is ['s'] \n",
      "\n",
      "3 loop running\n",
      "index is 2, value is d\n",
      "odd list is ['a', 'd'] \n",
      "\n",
      "4 loop running\n",
      "index is 3, value is f\n",
      "even list is ['s', 'f'] \n",
      "\n",
      "5 loop running\n",
      "index is 4, value is g\n",
      "odd list is ['a', 'd', 'g'] \n",
      "\n",
      "6 loop running\n",
      "index is 5, value is h\n",
      "even list is ['s', 'f', 'h'] \n",
      "\n",
      "7 loop running\n",
      "index is 6, value is j\n",
      "odd list is ['a', 'd', 'g', 'j'] \n",
      "\n",
      "8 loop running\n",
      "index is 7, value is k\n",
      "even list is ['s', 'f', 'h', 'k'] \n",
      "\n",
      "4 even index items are ['a', 'd', 'g', 'j']\n",
      "4 odd index items are ['s', 'f', 'h', 'k']\n"
     ]
    }
   ],
   "source": [
    "# Program to count characters  at even index\n",
    "#------------------------------------------------------\n",
    "\n",
    "string = 'asdfghjk'\n",
    "print(string)\n",
    "\n",
    "Even = []\n",
    "Odd = []\n",
    "\n",
    "print(Even, Odd)\n",
    "\n",
    "# for loop running-------------------------------------\n",
    "\n",
    "print()\n",
    "for index, value in enumerate(string):\n",
    "    print(f'{index+1} loop running')\n",
    "    print(f'index is {index}, value is {value}')\n",
    "    \n",
    "    #use of if else------------------------------------\n",
    "    \n",
    "    if index%2 == 0:\n",
    "        Odd.append(value)\n",
    "        print('odd list is',Odd,'\\n')\n",
    "    else:\n",
    "        Even.append(value)\n",
    "        print('even list is',Even,'\\n')\n",
    "        \n",
    "#loop completed ---------------------------------------\n",
    "\n",
    "print(len(Odd), 'even index items are',Odd)\n",
    "print(len(Even),'odd index items are',Even)\n",
    "\n",
    "#------------------------------------------------------"
   ]
  },
  {
   "cell_type": "code",
   "execution_count": null,
   "metadata": {},
   "outputs": [],
   "source": []
  },
  {
   "cell_type": "code",
   "execution_count": 45,
   "metadata": {},
   "outputs": [
    {
     "name": "stdout",
     "output_type": "stream",
     "text": [
      "False False\n"
     ]
    }
   ],
   "source": [
    "string = '1/2'\n",
    "print(string.isdecimal(),string.isnumeric())"
   ]
  },
  {
   "cell_type": "code",
   "execution_count": 61,
   "metadata": {},
   "outputs": [
    {
     "name": "stdout",
     "output_type": "stream",
     "text": [
      "80\n"
     ]
    },
    {
     "data": {
      "text/plain": [
       "6"
      ]
     },
     "execution_count": 61,
     "metadata": {},
     "output_type": "execute_result"
    }
   ],
   "source": [
    "#finding maximum age & row id where it belongs\n",
    "\n",
    "age = [18,20,22,25,40,80]\n",
    "print(max(age))\n",
    "age.index(max(age))+1"
   ]
  },
  {
   "cell_type": "code",
   "execution_count": null,
   "metadata": {},
   "outputs": [],
   "source": [
    "age\n",
    "18\n",
    "20\n",
    "22\n",
    "25\n",
    "40\n",
    "80"
   ]
  }
 ],
 "metadata": {
  "kernelspec": {
   "display_name": "Python 3",
   "language": "python",
   "name": "python3"
  },
  "language_info": {
   "codemirror_mode": {
    "name": "ipython",
    "version": 3
   },
   "file_extension": ".py",
   "mimetype": "text/x-python",
   "name": "python",
   "nbconvert_exporter": "python",
   "pygments_lexer": "ipython3",
   "version": "3.8.5"
  },
  "toc": {
   "base_numbering": 1,
   "nav_menu": {},
   "number_sections": true,
   "sideBar": true,
   "skip_h1_title": false,
   "title_cell": "Table of Contents",
   "title_sidebar": "Contents",
   "toc_cell": false,
   "toc_position": {},
   "toc_section_display": true,
   "toc_window_display": false
  }
 },
 "nbformat": 4,
 "nbformat_minor": 4
}

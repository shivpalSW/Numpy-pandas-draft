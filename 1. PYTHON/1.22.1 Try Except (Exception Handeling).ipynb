{
 "cells": [
  {
   "cell_type": "raw",
   "id": "a3963ebb",
   "metadata": {},
   "source": [
    "Handle Exceptions?\n",
    "Try Except to handle exceptions or errors.\n",
    "\n",
    "Try:\n",
    "    where we test the program\n",
    "    (*if it runs successfully without any error into it then except will not function)\n",
    "    \n",
    "Except:\n",
    "    we handle the errors occured in try.\n",
    "    (*we could print erros here using the traceback)\n",
    "    we can additionally pass on an alternate for the code so as then error to tnot occur.\n",
    "    If we're setil not sure if the alternate would work then Another nestred try except can be used."
   ]
  },
  {
   "cell_type": "code",
   "execution_count": 3,
   "id": "07c44589",
   "metadata": {},
   "outputs": [],
   "source": [
    "import traceback"
   ]
  },
  {
   "cell_type": "code",
   "execution_count": 2,
   "id": "705af952",
   "metadata": {},
   "outputs": [
    {
     "name": "stdout",
     "output_type": "stream",
     "text": [
      "[Errno 2] No such file or directory: 'nothing.txt'\n",
      "File not found\n"
     ]
    }
   ],
   "source": [
    "try:\n",
    "    file=open('nothing.txt','r')\n",
    "    print(file.read())\n",
    "    file.close()\n",
    "except FileNotFoundError as e:\n",
    "    print(e)\n",
    "    print('File not found')"
   ]
  },
  {
   "cell_type": "code",
   "execution_count": 4,
   "id": "8ce0aa96",
   "metadata": {
    "code_folding": []
   },
   "outputs": [
    {
     "name": "stdout",
     "output_type": "stream",
     "text": [
      "None\n"
     ]
    },
    {
     "name": "stderr",
     "output_type": "stream",
     "text": [
      "Traceback (most recent call last):\n",
      "  File \"<ipython-input-4-5961cc9c2e93>\", line 2, in <module>\n",
      "    file=open('nothing.txt','r')\n",
      "FileNotFoundError: [Errno 2] No such file or directory: 'nothing.txt'\n"
     ]
    }
   ],
   "source": [
    "try:\n",
    "    file=open('nothing.txt','r')\n",
    "    print(file.read())\n",
    "    file.close()\n",
    "except FileExistsError as e:\n",
    "    print(e)\n",
    "    print('File not found')\n",
    "except:\n",
    "    print(traceback.print_exc())"
   ]
  },
  {
   "cell_type": "markdown",
   "id": "3f8941a2",
   "metadata": {},
   "source": [
    "## Try Except Else"
   ]
  },
  {
   "cell_type": "raw",
   "id": "bcd1513d",
   "metadata": {},
   "source": [
    "else will be excuted only after try statement\n",
    "we do use else:\n",
    "    if I have code dependencies such that my else code is dependent on try code.\n",
    "    Just to ensure that my try has ran successfully"
   ]
  },
  {
   "cell_type": "code",
   "execution_count": 8,
   "id": "c52fa267",
   "metadata": {},
   "outputs": [
    {
     "name": "stdout",
     "output_type": "stream",
     "text": [
      "try block\n",
      "else statement\n"
     ]
    }
   ],
   "source": [
    "try:\n",
    "#     print(a)\n",
    "    print('try block')\n",
    "    \n",
    "except:\n",
    "    print('Except block')\n",
    "    \n",
    "else:\n",
    "    \n",
    "    try:\n",
    "        print('else statement')\n",
    "    except:\n",
    "        print('Not working')"
   ]
  },
  {
   "cell_type": "code",
   "execution_count": 9,
   "id": "c7d0acc2",
   "metadata": {},
   "outputs": [
    {
     "name": "stdout",
     "output_type": "stream",
     "text": [
      "try block executed\n",
      "else statement also executed\n"
     ]
    }
   ],
   "source": [
    "try:\n",
    "#     print(a)\n",
    "    pass\n",
    "    \n",
    "except:\n",
    "    print('Except block')\n",
    "    \n",
    "else:\n",
    "    print('try block executed')\n",
    "    try:\n",
    "        print('else statement also executed')\n",
    "    except:\n",
    "        print('Not working')"
   ]
  },
  {
   "cell_type": "markdown",
   "id": "93224926",
   "metadata": {},
   "source": [
    "## Try Except Finally"
   ]
  },
  {
   "cell_type": "code",
   "execution_count": null,
   "id": "c03351b5",
   "metadata": {},
   "outputs": [],
   "source": [
    "finally would always work post the excution of try or except"
   ]
  },
  {
   "cell_type": "code",
   "execution_count": null,
   "id": "997c5ffe",
   "metadata": {},
   "outputs": [],
   "source": [
    "Decision Tree (Ml algorithm)"
   ]
  },
  {
   "cell_type": "code",
   "execution_count": null,
   "id": "11b50ae5",
   "metadata": {},
   "outputs": [],
   "source": [
    "Try:\n",
    "    try somthing here...\n",
    "Except:\n",
    "    handle errors here...\n",
    "finally:\n",
    "    a final execution"
   ]
  },
  {
   "cell_type": "code",
   "execution_count": 10,
   "id": "dd5ffb88",
   "metadata": {},
   "outputs": [
    {
     "name": "stdout",
     "output_type": "stream",
     "text": [
      "try mode\n",
      "finally mode execution completed\n"
     ]
    }
   ],
   "source": [
    "try:\n",
    "    print('try mode')\n",
    "except:\n",
    "    print('except mode')\n",
    "finally:\n",
    "    print('finally mode execution completed')"
   ]
  },
  {
   "cell_type": "code",
   "execution_count": 11,
   "id": "367698ef",
   "metadata": {
    "code_folding": []
   },
   "outputs": [
    {
     "name": "stdout",
     "output_type": "stream",
     "text": [
      "except mode\n",
      "finally mode execution completed\n"
     ]
    }
   ],
   "source": [
    "try:\n",
    "    display(a)\n",
    "    print('try mode')\n",
    "except:\n",
    "    print('except mode')\n",
    "finally:\n",
    "    print('finally mode execution completed')"
   ]
  },
  {
   "cell_type": "markdown",
   "id": "f8ead2ea",
   "metadata": {},
   "source": [
    "## raise"
   ]
  },
  {
   "cell_type": "raw",
   "id": "7ef0dbb8",
   "metadata": {},
   "source": [
    "to raise an exception"
   ]
  },
  {
   "cell_type": "code",
   "execution_count": 15,
   "id": "1bc13196",
   "metadata": {},
   "outputs": [
    {
     "name": "stdout",
     "output_type": "stream",
     "text": [
      "addition of nums is:  120\n"
     ]
    }
   ],
   "source": [
    "x=20\n",
    "y=100\n",
    "if type(x)==int and type(y)==int:\n",
    "    add=x+y\n",
    "    print('addition of nums is: ',add)"
   ]
  },
  {
   "cell_type": "code",
   "execution_count": 20,
   "id": "684914f1",
   "metadata": {},
   "outputs": [
    {
     "ename": "TypeError",
     "evalue": "Either x or y is not an interger",
     "output_type": "error",
     "traceback": [
      "\u001b[1;31m---------------------------------------------------------------------------\u001b[0m",
      "\u001b[1;31mTypeError\u001b[0m                                 Traceback (most recent call last)",
      "\u001b[1;32m<ipython-input-20-37d1b7bb255c>\u001b[0m in \u001b[0;36m<module>\u001b[1;34m\u001b[0m\n\u001b[0;32m      3\u001b[0m     \u001b[0mprint\u001b[0m\u001b[1;33m(\u001b[0m\u001b[1;34m'addition of nums is: '\u001b[0m\u001b[1;33m,\u001b[0m\u001b[0madd\u001b[0m\u001b[1;33m)\u001b[0m\u001b[1;33m\u001b[0m\u001b[1;33m\u001b[0m\u001b[0m\n\u001b[0;32m      4\u001b[0m \u001b[1;32melse\u001b[0m\u001b[1;33m:\u001b[0m\u001b[1;33m\u001b[0m\u001b[1;33m\u001b[0m\u001b[0m\n\u001b[1;32m----> 5\u001b[1;33m     \u001b[1;32mraise\u001b[0m \u001b[0mTypeError\u001b[0m \u001b[1;33m(\u001b[0m\u001b[1;34m\"Either x or y is not an interger\"\u001b[0m\u001b[1;33m)\u001b[0m\u001b[1;33m\u001b[0m\u001b[1;33m\u001b[0m\u001b[0m\n\u001b[0m",
      "\u001b[1;31mTypeError\u001b[0m: Either x or y is not an interger"
     ]
    }
   ],
   "source": [
    "\n",
    "if type(x)==int and type(y)==int:\n",
    "    add=x+y\n",
    "    print('addition of nums is: ',add)\n",
    "else:\n",
    "    raise TypeError (\"Either x or y is not an interger\")"
   ]
  },
  {
   "cell_type": "code",
   "execution_count": 22,
   "id": "a6c721ef",
   "metadata": {
    "scrolled": false
   },
   "outputs": [
    {
     "ename": "TypeError",
     "evalue": "Either x or y is not an interger",
     "output_type": "error",
     "traceback": [
      "\u001b[1;31m---------------------------------------------------------------------------\u001b[0m",
      "\u001b[1;31mTypeError\u001b[0m                                 Traceback (most recent call last)",
      "\u001b[1;32m<ipython-input-22-37d1b7bb255c>\u001b[0m in \u001b[0;36m<module>\u001b[1;34m\u001b[0m\n\u001b[0;32m      3\u001b[0m     \u001b[0mprint\u001b[0m\u001b[1;33m(\u001b[0m\u001b[1;34m'addition of nums is: '\u001b[0m\u001b[1;33m,\u001b[0m\u001b[0madd\u001b[0m\u001b[1;33m)\u001b[0m\u001b[1;33m\u001b[0m\u001b[1;33m\u001b[0m\u001b[0m\n\u001b[0;32m      4\u001b[0m \u001b[1;32melse\u001b[0m\u001b[1;33m:\u001b[0m\u001b[1;33m\u001b[0m\u001b[1;33m\u001b[0m\u001b[0m\n\u001b[1;32m----> 5\u001b[1;33m     \u001b[1;32mraise\u001b[0m \u001b[0mTypeError\u001b[0m \u001b[1;33m(\u001b[0m\u001b[1;34m\"Either x or y is not an interger\"\u001b[0m\u001b[1;33m)\u001b[0m\u001b[1;33m\u001b[0m\u001b[1;33m\u001b[0m\u001b[0m\n\u001b[0m",
      "\u001b[1;31mTypeError\u001b[0m: Either x or y is not an interger"
     ]
    }
   ],
   "source": [
    "\n",
    "if type(x)==int and type(y)==int:\n",
    "    add=x+y\n",
    "    print('addition of nums is: ',add)\n",
    "else:\n",
    "    raise TypeError (\"Either x or y is not an interger\")"
   ]
  },
  {
   "cell_type": "code",
   "execution_count": 27,
   "id": "5047b243",
   "metadata": {},
   "outputs": [
    {
     "ename": "FileExistsError",
     "evalue": "KNN model was never created before",
     "output_type": "error",
     "traceback": [
      "\u001b[1;31m---------------------------------------------------------------------------\u001b[0m",
      "\u001b[1;31mFileExistsError\u001b[0m                           Traceback (most recent call last)",
      "\u001b[1;32m<ipython-input-27-f271c1bb0977>\u001b[0m in \u001b[0;36m<module>\u001b[1;34m\u001b[0m\n\u001b[0;32m      1\u001b[0m \u001b[0mmodel\u001b[0m \u001b[1;33m=\u001b[0m \u001b[1;33m[\u001b[0m\u001b[1;33m]\u001b[0m\u001b[1;33m\u001b[0m\u001b[1;33m\u001b[0m\u001b[0m\n\u001b[0;32m      2\u001b[0m \u001b[1;32mif\u001b[0m \u001b[1;32mnot\u001b[0m \u001b[0mmodel\u001b[0m\u001b[1;33m:\u001b[0m\u001b[1;33m\u001b[0m\u001b[1;33m\u001b[0m\u001b[0m\n\u001b[1;32m----> 3\u001b[1;33m     \u001b[1;32mraise\u001b[0m \u001b[0mFileExistsError\u001b[0m \u001b[1;33m(\u001b[0m\u001b[1;34m'KNN model was never created before'\u001b[0m\u001b[1;33m)\u001b[0m\u001b[1;33m\u001b[0m\u001b[1;33m\u001b[0m\u001b[0m\n\u001b[0m",
      "\u001b[1;31mFileExistsError\u001b[0m: KNN model was never created before"
     ]
    }
   ],
   "source": [
    "model = []\n",
    "if not model:\n",
    "    raise FileExistsError ('KNN model was never created before')"
   ]
  },
  {
   "cell_type": "markdown",
   "id": "716e1dcc",
   "metadata": {},
   "source": [
    "# Traceback"
   ]
  },
  {
   "cell_type": "raw",
   "id": "929e4e59",
   "metadata": {},
   "source": [
    "traceback:\n",
    "    it is mandetory to import traceback\n",
    "    we use traceback in except to basically print the error we found in try statement\n",
    "    traceback.print.exc() is useed to print the type of error"
   ]
  },
  {
   "cell_type": "code",
   "execution_count": 54,
   "id": "48cb1186",
   "metadata": {},
   "outputs": [],
   "source": [
    "def numbers():\n",
    "    return [2,3,5,6]"
   ]
  },
  {
   "cell_type": "code",
   "execution_count": 41,
   "id": "fdad4753",
   "metadata": {},
   "outputs": [
    {
     "data": {
      "text/plain": [
       "list"
      ]
     },
     "execution_count": 41,
     "metadata": {},
     "output_type": "execute_result"
    }
   ],
   "source": [
    "type(numbers())"
   ]
  },
  {
   "cell_type": "code",
   "execution_count": 55,
   "id": "6b8348e9",
   "metadata": {},
   "outputs": [],
   "source": [
    "def error_resolution(r):\n",
    "    try:\n",
    "        r\n",
    "        \n",
    "    except:\n",
    "        return traceback.print_exc()\n",
    "    \n",
    "\n",
    "error_resolution(numbers())"
   ]
  },
  {
   "cell_type": "code",
   "execution_count": 37,
   "id": "b56d5d5b",
   "metadata": {
    "code_folding": []
   },
   "outputs": [
    {
     "name": "stderr",
     "output_type": "stream",
     "text": [
      "Traceback (most recent call last):\n",
      "  File \"<ipython-input-37-e700692f7fe4>\", line 3, in error_resolution\n",
      "    print(r/2)\n",
      "TypeError: unsupported operand type(s) for /: 'function' and 'int'\n"
     ]
    }
   ],
   "source": [
    "def error_resolution(r):\n",
    "    try:\n",
    "        print(r/2)\n",
    "    except:\n",
    "        return traceback.print_exc()\n",
    "a=input()  \n",
    "error_resolution(a)"
   ]
  },
  {
   "cell_type": "code",
   "execution_count": 56,
   "id": "ddc765ed",
   "metadata": {},
   "outputs": [],
   "source": [
    "import sys"
   ]
  },
  {
   "cell_type": "code",
   "execution_count": 60,
   "id": "d2100f5b",
   "metadata": {},
   "outputs": [
    {
     "name": "stdout",
     "output_type": "stream",
     "text": [
      "<class 'ValueError'>\n",
      "<class 'ZeroDivisionError'>\n",
      "3.0\n",
      "<class 'ValueError'>\n",
      "0.6\n"
     ]
    }
   ],
   "source": [
    "list1=['a',0,2,'python',10.6]\n",
    "\n",
    "for i in list1:\n",
    "    try:\n",
    "        x=6\n",
    "        print(x/int(i))\n",
    "        continue\n",
    "    except:\n",
    "        print(sys.exc_info()[0])\n",
    "        "
   ]
  }
 ],
 "metadata": {
  "kernelspec": {
   "display_name": "Python 3",
   "language": "python",
   "name": "python3"
  },
  "language_info": {
   "codemirror_mode": {
    "name": "ipython",
    "version": 3
   },
   "file_extension": ".py",
   "mimetype": "text/x-python",
   "name": "python",
   "nbconvert_exporter": "python",
   "pygments_lexer": "ipython3",
   "version": "3.8.8"
  },
  "toc": {
   "base_numbering": 1,
   "nav_menu": {},
   "number_sections": true,
   "sideBar": true,
   "skip_h1_title": false,
   "title_cell": "Table of Contents",
   "title_sidebar": "Contents",
   "toc_cell": false,
   "toc_position": {},
   "toc_section_display": true,
   "toc_window_display": false
  },
  "varInspector": {
   "cols": {
    "lenName": 16,
    "lenType": 16,
    "lenVar": 40
   },
   "kernels_config": {
    "python": {
     "delete_cmd_postfix": "",
     "delete_cmd_prefix": "del ",
     "library": "var_list.py",
     "varRefreshCmd": "print(var_dic_list())"
    },
    "r": {
     "delete_cmd_postfix": ") ",
     "delete_cmd_prefix": "rm(",
     "library": "var_list.r",
     "varRefreshCmd": "cat(var_dic_list()) "
    }
   },
   "types_to_exclude": [
    "module",
    "function",
    "builtin_function_or_method",
    "instance",
    "_Feature"
   ],
   "window_display": false
  }
 },
 "nbformat": 4,
 "nbformat_minor": 5
}

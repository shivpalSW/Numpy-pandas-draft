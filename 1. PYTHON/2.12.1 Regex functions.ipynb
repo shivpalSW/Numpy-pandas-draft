{
 "cells": [
  {
   "cell_type": "markdown",
   "metadata": {},
   "source": [
    "## /b"
   ]
  },
  {
   "cell_type": "raw",
   "metadata": {},
   "source": [
    "check for charchters at the begenning & at the end of the word\n",
    "nothing should be there in continuation before \\b if its in the beggening & nothing should be there after \\b if its at the end."
   ]
  },
  {
   "cell_type": "code",
   "execution_count": 14,
   "metadata": {},
   "outputs": [
    {
     "data": {
      "text/plain": [
       "['HDFC00045672']"
      ]
     },
     "execution_count": 14,
     "metadata": {},
     "output_type": "execute_result"
    }
   ],
   "source": [
    "import re\n",
    "bank_details= '''IFSC dodes:\n",
    "                ASSBIN00013454  #Invalid\n",
    "                HDFC00045672\n",
    "                8ICIC834920\n",
    "                AXIS8976456H\n",
    "                AXIS478G3289\n",
    "                AXIS7854934567   #INVALID'''\n",
    "\n",
    "ifsc = re.findall(r\"\\b[A-Z]{4}[0-9]{8}\\b\",bank_details)\n",
    "ifsc"
   ]
  },
  {
   "cell_type": "code",
   "execution_count": 21,
   "metadata": {},
   "outputs": [
    {
     "data": {
      "text/plain": [
       "['8206049253', '8563214567', '6426537651']"
      ]
     },
     "execution_count": 21,
     "metadata": {},
     "output_type": "execute_result"
    }
   ],
   "source": [
    "text = \"\"\"MY Mobile number is 8206049253\n",
    "            98563214567\n",
    "             & my mail56 id is pratik.k@vctcpune.com\n",
    "             my alternate number is +91 6426537651 \"\"\"\n",
    "#10 digits number\n",
    "\n",
    "mobile_numbers=re.findall(r'\\d{10}',text)\n",
    "mobile_numbers\n"
   ]
  },
  {
   "cell_type": "code",
   "execution_count": 22,
   "metadata": {},
   "outputs": [
    {
     "data": {
      "text/plain": [
       "['8206049253', '9856321456', '6426537651']"
      ]
     },
     "execution_count": 22,
     "metadata": {},
     "output_type": "execute_result"
    }
   ],
   "source": [
    "text = \"\"\"MY Mobile number is 8206049253\n",
    "            98563214567\n",
    "             & my mail56 id is pratik.k@vctcpune.com\n",
    "             my alternate number is +91 6426537651 \"\"\"\n",
    "#10 digits number\n",
    "\n",
    "mobile_numbers=re.findall(r'\\b\\d{10}',text)\n",
    "mobile_numbers\n"
   ]
  },
  {
   "cell_type": "code",
   "execution_count": 23,
   "metadata": {},
   "outputs": [
    {
     "data": {
      "text/plain": [
       "['8206049253', '8563214567', '6426537651']"
      ]
     },
     "execution_count": 23,
     "metadata": {},
     "output_type": "execute_result"
    }
   ],
   "source": [
    "text = \"\"\"MY Mobile number is 8206049253\n",
    "            98563214567\n",
    "             & my mail56 id is pratik.k@vctcpune.com\n",
    "             my alternate number is +91 6426537651 \"\"\"\n",
    "#10 digits number\n",
    "\n",
    "mobile_numbers=re.findall(r'\\d{10}\\b',text)\n",
    "mobile_numbers\n"
   ]
  },
  {
   "cell_type": "code",
   "execution_count": 36,
   "metadata": {},
   "outputs": [
    {
     "name": "stdout",
     "output_type": "stream",
     "text": [
      "['8206049253', '5123645796', '6426537651']\n"
     ]
    },
    {
     "data": {
      "text/plain": [
       "['pratik.k@vctcpune.com',\n",
       " 'paratikkanpurwar@gmail.com',\n",
       " 'pratik.kanpurwar@vctcpune.com']"
      ]
     },
     "execution_count": 36,
     "metadata": {},
     "output_type": "execute_result"
    }
   ],
   "source": [
    "text = \"\"\"MY Mobile number is 8206049253\n",
    "            98563214567\n",
    "            5123645796\n",
    "& my mail56 id is pratik.k@vctcpune.com\n",
    "                              my alternate number is +91 6426537651 \n",
    "             my alternate mail id is paratikkanpurwar@gmail.com & another mail id is pratik_kanpurwar@co.in\n",
    "             pratik.kanpurwar@vctcpune.com\"\"\"\n",
    "#10 digits number\n",
    "\n",
    "mobile_numbers=re.findall(r'\\b\\d{10}\\b',text)\n",
    "print(mobile_numbers)\n",
    "mails=re.findall('[A-Za-z0-9._]{2,20}[@][A-Za-z]{5,10}[.][A-Za-z]{3}',text)\n",
    "mails"
   ]
  },
  {
   "cell_type": "code",
   "execution_count": 37,
   "metadata": {},
   "outputs": [],
   "source": [
    "processed_data={\"contact\":mobile_numbers,\"Mail Id's\":mails}\n"
   ]
  },
  {
   "cell_type": "code",
   "execution_count": 38,
   "metadata": {},
   "outputs": [
    {
     "data": {
      "text/html": [
       "<div>\n",
       "<style scoped>\n",
       "    .dataframe tbody tr th:only-of-type {\n",
       "        vertical-align: middle;\n",
       "    }\n",
       "\n",
       "    .dataframe tbody tr th {\n",
       "        vertical-align: top;\n",
       "    }\n",
       "\n",
       "    .dataframe thead th {\n",
       "        text-align: right;\n",
       "    }\n",
       "</style>\n",
       "<table border=\"1\" class=\"dataframe\">\n",
       "  <thead>\n",
       "    <tr style=\"text-align: right;\">\n",
       "      <th></th>\n",
       "      <th>contact</th>\n",
       "      <th>Mail Id's</th>\n",
       "    </tr>\n",
       "  </thead>\n",
       "  <tbody>\n",
       "    <tr>\n",
       "      <th>0</th>\n",
       "      <td>8206049253</td>\n",
       "      <td>pratik.k@vctcpune.com</td>\n",
       "    </tr>\n",
       "    <tr>\n",
       "      <th>1</th>\n",
       "      <td>5123645796</td>\n",
       "      <td>paratikkanpurwar@gmail.com</td>\n",
       "    </tr>\n",
       "    <tr>\n",
       "      <th>2</th>\n",
       "      <td>6426537651</td>\n",
       "      <td>pratik.kanpurwar@vctcpune.com</td>\n",
       "    </tr>\n",
       "  </tbody>\n",
       "</table>\n",
       "</div>"
      ],
      "text/plain": [
       "      contact                      Mail Id's\n",
       "0  8206049253          pratik.k@vctcpune.com\n",
       "1  5123645796     paratikkanpurwar@gmail.com\n",
       "2  6426537651  pratik.kanpurwar@vctcpune.com"
      ]
     },
     "execution_count": 38,
     "metadata": {},
     "output_type": "execute_result"
    }
   ],
   "source": [
    "import pandas\n",
    "dataframe=pandas.DataFrame(processed_data)\n",
    "dataframe"
   ]
  },
  {
   "cell_type": "code",
   "execution_count": 39,
   "metadata": {
    "scrolled": true
   },
   "outputs": [
    {
     "data": {
      "text/html": [
       "<div>\n",
       "<style scoped>\n",
       "    .dataframe tbody tr th:only-of-type {\n",
       "        vertical-align: middle;\n",
       "    }\n",
       "\n",
       "    .dataframe tbody tr th {\n",
       "        vertical-align: top;\n",
       "    }\n",
       "\n",
       "    .dataframe thead th {\n",
       "        text-align: right;\n",
       "    }\n",
       "</style>\n",
       "<table border=\"1\" class=\"dataframe\">\n",
       "  <thead>\n",
       "    <tr style=\"text-align: right;\">\n",
       "      <th></th>\n",
       "      <th>0</th>\n",
       "      <th>1</th>\n",
       "      <th>2</th>\n",
       "    </tr>\n",
       "  </thead>\n",
       "  <tbody>\n",
       "    <tr>\n",
       "      <th>contact</th>\n",
       "      <td>8206049253</td>\n",
       "      <td>5123645796</td>\n",
       "      <td>6426537651</td>\n",
       "    </tr>\n",
       "    <tr>\n",
       "      <th>Mail Id's</th>\n",
       "      <td>pratik.k@vctcpune.com</td>\n",
       "      <td>paratikkanpurwar@gmail.com</td>\n",
       "      <td>pratik.kanpurwar@vctcpune.com</td>\n",
       "    </tr>\n",
       "  </tbody>\n",
       "</table>\n",
       "</div>"
      ],
      "text/plain": [
       "                               0                           1                              2\n",
       "contact               8206049253                  5123645796                     6426537651\n",
       "Mail Id's  pratik.k@vctcpune.com  paratikkanpurwar@gmail.com  pratik.kanpurwar@vctcpune.com"
      ]
     },
     "execution_count": 39,
     "metadata": {},
     "output_type": "execute_result"
    }
   ],
   "source": [
    "dataframe.T"
   ]
  },
  {
   "cell_type": "code",
   "execution_count": 41,
   "metadata": {},
   "outputs": [],
   "source": [
    "dataframe.to_excel(\"final data.xlsx\")"
   ]
  },
  {
   "cell_type": "code",
   "execution_count": null,
   "metadata": {},
   "outputs": [],
   "source": []
  },
  {
   "cell_type": "code",
   "execution_count": null,
   "metadata": {},
   "outputs": [],
   "source": [
    "\\d\n",
    "\\D\n",
    "\\s\n",
    "\\S\n",
    "\\w\n",
    "\\W\n",
    "\\b"
   ]
  },
  {
   "cell_type": "markdown",
   "metadata": {},
   "source": [
    "# Re Functions"
   ]
  },
  {
   "cell_type": "markdown",
   "metadata": {},
   "source": [
    "## Findall()"
   ]
  },
  {
   "cell_type": "markdown",
   "metadata": {},
   "source": [
    "## Finditer()"
   ]
  },
  {
   "cell_type": "markdown",
   "metadata": {},
   "source": [
    "## Search"
   ]
  },
  {
   "cell_type": "raw",
   "metadata": {},
   "source": [
    "It searches for a match & returns an object of the first occurance only\n",
    "re.search(pattern, string)"
   ]
  },
  {
   "cell_type": "code",
   "execution_count": 46,
   "metadata": {},
   "outputs": [
    {
     "name": "stdout",
     "output_type": "stream",
     "text": [
      "<re.Match object; span=(20, 30), match='8206049253'>\n"
     ]
    },
    {
     "data": {
      "text/plain": [
       "(20, 30)"
      ]
     },
     "execution_count": 46,
     "metadata": {},
     "output_type": "execute_result"
    }
   ],
   "source": [
    "text = \"\"\"MY Mobile number is 8206049253\n",
    "            98563214567\n",
    "            5123645796\n",
    "& my mail56 id is pratik.k@vctcpune.com\n",
    "                              my alternate number is +91 6426537651 \n",
    "             my alternate mail id is paratikkanpurwar@gmail.com & another mail id is pratik_kanpurwar@co.in\n",
    "             pratik.kanpurwar@vctcpune.com\"\"\"\n",
    "#10 digits number\n",
    "\n",
    "mobile_numbers=re.search(r'\\b\\d{10}\\b',text)\n",
    "print(mobile_numbers)\n"
   ]
  },
  {
   "cell_type": "code",
   "execution_count": null,
   "metadata": {},
   "outputs": [],
   "source": []
  },
  {
   "cell_type": "code",
   "execution_count": 47,
   "metadata": {},
   "outputs": [
    {
     "data": {
      "text/plain": [
       "(20, 30)"
      ]
     },
     "execution_count": 47,
     "metadata": {},
     "output_type": "execute_result"
    }
   ],
   "source": [
    "mobile_numbers.span()"
   ]
  },
  {
   "cell_type": "code",
   "execution_count": 51,
   "metadata": {},
   "outputs": [
    {
     "data": {
      "text/plain": [
       "'8206049253'"
      ]
     },
     "execution_count": 51,
     "metadata": {},
     "output_type": "execute_result"
    }
   ],
   "source": [
    "mobile_numbers.group()"
   ]
  },
  {
   "cell_type": "code",
   "execution_count": 53,
   "metadata": {},
   "outputs": [
    {
     "data": {
      "text/plain": [
       "20"
      ]
     },
     "execution_count": 53,
     "metadata": {},
     "output_type": "execute_result"
    }
   ],
   "source": [
    "mobile_numbers.start()"
   ]
  },
  {
   "cell_type": "code",
   "execution_count": 55,
   "metadata": {
    "scrolled": true
   },
   "outputs": [
    {
     "data": {
      "text/plain": [
       "30"
      ]
     },
     "execution_count": 55,
     "metadata": {},
     "output_type": "execute_result"
    }
   ],
   "source": [
    "mobile_numbers.end()"
   ]
  },
  {
   "cell_type": "code",
   "execution_count": 64,
   "metadata": {},
   "outputs": [
    {
     "data": {
      "text/plain": [
       "'6426537651'"
      ]
     },
     "execution_count": 64,
     "metadata": {},
     "output_type": "execute_result"
    }
   ],
   "source": [
    "text = \"\"\"MY Mobile number is 8206049253\n",
    "            98563214567\n",
    "            5123645796\n",
    "& my mail56 id is pratik.k@vctcpune.com\n",
    "                              my alternate number is +91 6426537651 \n",
    "             my alternate mail id is paratikkanpurwar@gmail.com & another mail id is pratik_kanpurwar@co.in\n",
    "             pratik.kanpurwar@vctcpune.com\"\"\"\n",
    "#10 digits number\n",
    "\n",
    "mobile_numbers=re.finditer(r'\\b\\d{10}\\b',text)\n",
    "list(mobile_numbers)[-1].group()"
   ]
  },
  {
   "cell_type": "markdown",
   "metadata": {},
   "source": [
    "## Match()"
   ]
  },
  {
   "cell_type": "raw",
   "metadata": {},
   "source": [
    "Checks for the zero index item. it that matches then it returns an object."
   ]
  },
  {
   "cell_type": "code",
   "execution_count": 98,
   "metadata": {},
   "outputs": [
    {
     "name": "stdout",
     "output_type": "stream",
     "text": [
      "(0, 2) MY\n"
     ]
    }
   ],
   "source": [
    "text = \"\"\"MY Mobile number is 8206049253\n",
    "            98563214567\n",
    "            5123645796\n",
    "& my mail56 id is pratik.k@vctcpune.com\n",
    "                              my alternate number is +91 6426537651 \n",
    "             my alternate mail id is paratikkanpurwar@gmail.com & another mail id is pratik_kanpurwar@co.in\n",
    "             pratik.kanpurwar@vctcpune.com\"\"\"\n",
    "#10 digits number\n",
    "\n",
    "mobile_numbers=re.match('MY',text)\n",
    "if mobile_numbers:\n",
    "    print(mobile_numbers.span(),mobile_numbers.group())\n",
    "else:\n",
    "    print(\"match not found\")"
   ]
  },
  {
   "cell_type": "code",
   "execution_count": 99,
   "metadata": {},
   "outputs": [
    {
     "name": "stdout",
     "output_type": "stream",
     "text": [
      "(0, 2) MY\n"
     ]
    }
   ],
   "source": [
    "text = \"\"\"MY Mobile number is 8206049253\n",
    "            98563214567\n",
    "            5123645796\n",
    "& my mail56 id is pratik.k@vctcpune.com\n",
    "                              my alternate number is +91 6426537651 \n",
    "             my alternate mail id is paratikkanpurwar@gmail.com & another mail id is pratik_kanpurwar@co.in\n",
    "             pratik.kanpurwar@vctcpune.com\"\"\"\n",
    "#10 digits number\n",
    "\n",
    "mobile_numbers=re.match(r'\\bMY',text)\n",
    "if mobile_numbers:\n",
    "    print(mobile_numbers.span(),mobile_numbers.group())\n",
    "else:\n",
    "    print(\"match not found\")"
   ]
  },
  {
   "cell_type": "code",
   "execution_count": 72,
   "metadata": {},
   "outputs": [
    {
     "data": {
      "text/plain": [
       "(0, 2)"
      ]
     },
     "execution_count": 72,
     "metadata": {},
     "output_type": "execute_result"
    }
   ],
   "source": [
    "mobile_numbers.span()"
   ]
  },
  {
   "cell_type": "code",
   "execution_count": 73,
   "metadata": {},
   "outputs": [
    {
     "data": {
      "text/plain": [
       "0"
      ]
     },
     "execution_count": 73,
     "metadata": {},
     "output_type": "execute_result"
    }
   ],
   "source": [
    "mobile_numbers.start()"
   ]
  },
  {
   "cell_type": "code",
   "execution_count": 74,
   "metadata": {},
   "outputs": [
    {
     "data": {
      "text/plain": [
       "2"
      ]
     },
     "execution_count": 74,
     "metadata": {},
     "output_type": "execute_result"
    }
   ],
   "source": [
    "mobile_numbers.end()"
   ]
  },
  {
   "cell_type": "code",
   "execution_count": 75,
   "metadata": {},
   "outputs": [
    {
     "data": {
      "text/plain": [
       "'MY'"
      ]
     },
     "execution_count": 75,
     "metadata": {},
     "output_type": "execute_result"
    }
   ],
   "source": [
    "mobile_numbers.group()"
   ]
  },
  {
   "cell_type": "markdown",
   "metadata": {},
   "source": [
    "## Sub"
   ]
  },
  {
   "cell_type": "raw",
   "metadata": {},
   "source": [
    "It is used to replace all the formats that matches our pattern with the substring"
   ]
  },
  {
   "cell_type": "code",
   "execution_count": 103,
   "metadata": {},
   "outputs": [
    {
     "data": {
      "text/plain": [
       "'ML & Data Scince Learning'"
      ]
     },
     "execution_count": 103,
     "metadata": {},
     "output_type": "execute_result"
    }
   ],
   "source": [
    "string = \"Python & Data Scince Learning\"\n",
    "string.replace('Python','ML')"
   ]
  },
  {
   "cell_type": "code",
   "execution_count": 110,
   "metadata": {
    "scrolled": true
   },
   "outputs": [
    {
     "data": {
      "text/plain": [
       "'Python & Data Scince Learning ML'"
      ]
     },
     "execution_count": 110,
     "metadata": {},
     "output_type": "execute_result"
    }
   ],
   "source": [
    "string = \"Python & Data Scince Learning Programming\"\n",
    "re.sub(r'\\bP[a-z]{6,15}\\b','ML',string)"
   ]
  },
  {
   "cell_type": "code",
   "execution_count": 118,
   "metadata": {},
   "outputs": [
    {
     "data": {
      "text/plain": [
       "'Mobile is: ++++++++++           #valid\\n            A+++++++++++                  #invalid\\n            +++++B+++++                   #Invalid\\n            '"
      ]
     },
     "execution_count": 118,
     "metadata": {},
     "output_type": "execute_result"
    }
   ],
   "source": [
    "text = \"\"\"Mobile is: 8206049253           #valid\n",
    "            A98563214567                  #invalid\n",
    "            51236B45796                   #Invalid\n",
    "            \"\"\"\n",
    "data=re.sub('\\d','+',text)\n",
    "data"
   ]
  },
  {
   "cell_type": "code",
   "execution_count": 120,
   "metadata": {},
   "outputs": [
    {
     "data": {
      "text/plain": [
       "'Mobile is: 8206049253 #valid A98563214567 #invalid 51236B45796 #Invalid '"
      ]
     },
     "execution_count": 120,
     "metadata": {},
     "output_type": "execute_result"
    }
   ],
   "source": [
    "text = \"\"\"Mobile is: 8206049253           #valid\n",
    "            A98563214567                  #invalid\n",
    "            51236B45796                   #Invalid\n",
    "            \"\"\"\n",
    "data=re.sub('\\s+',' ',text)\n",
    "data"
   ]
  },
  {
   "cell_type": "code",
   "execution_count": 126,
   "metadata": {},
   "outputs": [
    {
     "data": {
      "text/plain": [
       "['8206049253', '9856321456', '5123645796', '5436865242']"
      ]
     },
     "execution_count": 126,
     "metadata": {},
     "output_type": "execute_result"
    }
   ],
   "source": [
    "text = \"\"\"Mobile is: 8206049253           #valid\n",
    "            A9856321456                   #Invalid\n",
    "            B5123645796                   #Invalid\n",
    "            54368C65242\"\"\"\n",
    "data=re.sub('[A-Z]','',text)\n",
    "data=re.findall(r'\\b[0-9]{10}\\b',data)\n",
    "data"
   ]
  },
  {
   "cell_type": "code",
   "execution_count": 125,
   "metadata": {},
   "outputs": [
    {
     "data": {
      "text/plain": [
       "['8206049253', '9856321456', '5123645796']"
      ]
     },
     "execution_count": 125,
     "metadata": {},
     "output_type": "execute_result"
    }
   ],
   "source": [
    "text = \"\"\"Mobile is: 8206049253           #valid\n",
    "            A9856321456                   #Invalid\n",
    "            B5123645796                   #Invalid\n",
    "            54368C65242\"\"\"\n",
    "re.findall(r'\\d{10}',text)"
   ]
  },
  {
   "cell_type": "code",
   "execution_count": null,
   "metadata": {},
   "outputs": [],
   "source": []
  },
  {
   "cell_type": "code",
   "execution_count": null,
   "metadata": {},
   "outputs": [],
   "source": []
  },
  {
   "cell_type": "code",
   "execution_count": null,
   "metadata": {},
   "outputs": [],
   "source": []
  },
  {
   "cell_type": "code",
   "execution_count": null,
   "metadata": {},
   "outputs": [],
   "source": []
  },
  {
   "cell_type": "code",
   "execution_count": null,
   "metadata": {},
   "outputs": [],
   "source": []
  },
  {
   "cell_type": "code",
   "execution_count": null,
   "metadata": {},
   "outputs": [],
   "source": [
    "# E"
   ]
  },
  {
   "cell_type": "code",
   "execution_count": null,
   "metadata": {},
   "outputs": [],
   "source": [
    "python program to find the minimum sum of factors of a number."
   ]
  },
  {
   "cell_type": "code",
   "execution_count": 150,
   "metadata": {},
   "outputs": [
    {
     "name": "stdout",
     "output_type": "stream",
     "text": [
      "1   1 * 256 =  257\n",
      "2   2 * 128 =  130\n",
      "4   4 * 64 =  68\n",
      "8   8 * 32 =  40\n",
      "16   16 * 16 =  32\n",
      "32   32 * 8 =  40\n",
      "64   64 * 4 =  68\n",
      "128   128 * 2 =  130\n",
      "256   256 * 1 =  257\n",
      "[257, 130, 68, 40, 32, 40, 68, 130, 257]\n",
      "Therefor the minimum sum is:  32\n"
     ]
    }
   ],
   "source": [
    "def findminfactor(num):\n",
    "    factors = []\n",
    "#for num in range(5,100):\n",
    "    for i in range(1,num+1):\n",
    "#    count = 0\n",
    "        if num % i ==0:\n",
    "            print(i,end = '   ')\n",
    "        \n",
    "            print(i ,'*',int((num/i)), '= ',i+ int(num/i))\n",
    "            factors.append(i+ int(num/i))\n",
    "    print(factors)\n",
    "    print('Therefor the minimum sum is: ',min(factors))\n",
    "    \n",
    "findminfactor(16*16)"
   ]
  },
  {
   "cell_type": "code",
   "execution_count": 140,
   "metadata": {},
   "outputs": [
    {
     "name": "stdout",
     "output_type": "stream",
     "text": [
      "conc: [1, 3, 729, 3]\n",
      "Minimun sum of factors of a \"6561\" is 736\n"
     ]
    }
   ],
   "source": [
    "from sympy import primerange as pmrr\n",
    "from sympy import isprime as pr\n",
    "from numpy import prod as mult\n",
    "\n",
    "\n",
    "def min_sum_factors(number):\n",
    "    \n",
    "    prime_nos=[i for i in pmrr(1,number)]\n",
    "    #print(prime_nos)\n",
    "    conclusion=[1]\n",
    "    new_no=number\n",
    "    \n",
    "    for i in prime_nos:        \n",
    "        \n",
    "        if new_no%i==0:\n",
    "            \n",
    "            conclusion.append(i)\n",
    "            \n",
    "    if mult(conclusion)!=number:\n",
    "        \n",
    "        result=int(new_no/mult(conclusion))        \n",
    "        conclusion.append(result)\n",
    "    \n",
    "    for prn in prime_nos:        \n",
    "    \n",
    "        for ind,num in enumerate(conclusion):\n",
    "            \n",
    "            if not pr(conclusion[ind]):               \n",
    "\n",
    "                xyz=conclusion[ind]                \n",
    "                \n",
    "                if xyz%prn==0:\n",
    "                    \n",
    "                    conclusion.remove(xyz)                   \n",
    "                    \n",
    "                    if mult(conclusion)!=number:\n",
    "                        \n",
    "                        result=int(xyz/prn)\n",
    "                        conclusion.append(result)\n",
    "                        conclusion.append(int(xyz/result))\n",
    "                        \n",
    "    print(\"conc:\",conclusion)    \n",
    "    print(f\"Minimun sum of factors of a \\\"{number}\\\" is\",sum(conclusion))\n",
    "\n",
    "#===================================================== function ends here =============================================\n",
    "\n",
    "min_sum_factors(81*9*9)"
   ]
  },
  {
   "cell_type": "code",
   "execution_count": null,
   "metadata": {},
   "outputs": [],
   "source": [
    "[1, 3, [3, 3, 81], 3]\n",
    "\n",
    "a = 1\n",
    "def get_all_factors(x):\n",
    "    if a = 1:\n",
    "    for i in range(a)\n",
    "    if a > 1:"
   ]
  },
  {
   "cell_type": "code",
   "execution_count": 141,
   "metadata": {},
   "outputs": [],
   "source": [
    "def prime_factors(n):\n",
    "    i = 2\n",
    "    factors = []\n",
    "    while i * i <= n:\n",
    "        if n % i:\n",
    "            i += 1\n",
    "        else:\n",
    "            n //= i\n",
    "            factors.append(i)\n",
    "    if n > 1:\n",
    "        factors.append(n)\n",
    "    return factors"
   ]
  },
  {
   "cell_type": "code",
   "execution_count": 153,
   "metadata": {},
   "outputs": [
    {
     "data": {
      "text/plain": [
       "[5]"
      ]
     },
     "execution_count": 153,
     "metadata": {},
     "output_type": "execute_result"
    }
   ],
   "source": [
    "prime_factors(5)"
   ]
  },
  {
   "cell_type": "code",
   "execution_count": 154,
   "metadata": {},
   "outputs": [
    {
     "data": {
      "text/plain": [
       "0"
      ]
     },
     "execution_count": 154,
     "metadata": {},
     "output_type": "execute_result"
    }
   ],
   "source": [
    "4 % 2"
   ]
  },
  {
   "cell_type": "code",
   "execution_count": null,
   "metadata": {},
   "outputs": [],
   "source": []
  }
 ],
 "metadata": {
  "kernelspec": {
   "display_name": "Python 3",
   "language": "python",
   "name": "python3"
  },
  "language_info": {
   "codemirror_mode": {
    "name": "ipython",
    "version": 3
   },
   "file_extension": ".py",
   "mimetype": "text/x-python",
   "name": "python",
   "nbconvert_exporter": "python",
   "pygments_lexer": "ipython3",
   "version": "3.8.5"
  },
  "toc": {
   "base_numbering": 1,
   "nav_menu": {},
   "number_sections": true,
   "sideBar": true,
   "skip_h1_title": false,
   "title_cell": "Table of Contents",
   "title_sidebar": "Contents",
   "toc_cell": false,
   "toc_position": {},
   "toc_section_display": true,
   "toc_window_display": false
  }
 },
 "nbformat": 4,
 "nbformat_minor": 4
}

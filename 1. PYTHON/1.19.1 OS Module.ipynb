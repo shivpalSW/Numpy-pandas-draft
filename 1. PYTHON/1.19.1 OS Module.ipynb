{
 "cells": [
  {
   "cell_type": "raw",
   "id": "fd542eaa",
   "metadata": {},
   "source": [
    "OS:\n",
    "    Operating System\n",
    "    OS is a medium used to interact with the hardware/system."
   ]
  },
  {
   "cell_type": "code",
   "execution_count": 2,
   "id": "4603a6c9",
   "metadata": {},
   "outputs": [],
   "source": [
    "import os"
   ]
  },
  {
   "cell_type": "code",
   "execution_count": 3,
   "id": "4a3d89ce",
   "metadata": {},
   "outputs": [
    {
     "data": {
      "text/plain": [
       "['DirEntry',\n",
       " 'F_OK',\n",
       " 'MutableMapping',\n",
       " 'O_APPEND',\n",
       " 'O_BINARY',\n",
       " 'O_CREAT',\n",
       " 'O_EXCL',\n",
       " 'O_NOINHERIT',\n",
       " 'O_RANDOM',\n",
       " 'O_RDONLY',\n",
       " 'O_RDWR',\n",
       " 'O_SEQUENTIAL',\n",
       " 'O_SHORT_LIVED',\n",
       " 'O_TEMPORARY',\n",
       " 'O_TEXT',\n",
       " 'O_TRUNC',\n",
       " 'O_WRONLY',\n",
       " 'P_DETACH',\n",
       " 'P_NOWAIT',\n",
       " 'P_NOWAITO',\n",
       " 'P_OVERLAY',\n",
       " 'P_WAIT',\n",
       " 'PathLike',\n",
       " 'R_OK',\n",
       " 'SEEK_CUR',\n",
       " 'SEEK_END',\n",
       " 'SEEK_SET',\n",
       " 'TMP_MAX',\n",
       " 'W_OK',\n",
       " 'X_OK',\n",
       " '_AddedDllDirectory',\n",
       " '_Environ',\n",
       " '__all__',\n",
       " '__builtins__',\n",
       " '__cached__',\n",
       " '__doc__',\n",
       " '__file__',\n",
       " '__loader__',\n",
       " '__name__',\n",
       " '__package__',\n",
       " '__spec__',\n",
       " '_check_methods',\n",
       " '_execvpe',\n",
       " '_exists',\n",
       " '_exit',\n",
       " '_fspath',\n",
       " '_get_exports_list',\n",
       " '_putenv',\n",
       " '_unsetenv',\n",
       " '_wrap_close',\n",
       " 'abc',\n",
       " 'abort',\n",
       " 'access',\n",
       " 'add_dll_directory',\n",
       " 'altsep',\n",
       " 'chdir',\n",
       " 'chmod',\n",
       " 'close',\n",
       " 'closerange',\n",
       " 'cpu_count',\n",
       " 'curdir',\n",
       " 'defpath',\n",
       " 'device_encoding',\n",
       " 'devnull',\n",
       " 'dup',\n",
       " 'dup2',\n",
       " 'environ',\n",
       " 'error',\n",
       " 'execl',\n",
       " 'execle',\n",
       " 'execlp',\n",
       " 'execlpe',\n",
       " 'execv',\n",
       " 'execve',\n",
       " 'execvp',\n",
       " 'execvpe',\n",
       " 'extsep',\n",
       " 'fdopen',\n",
       " 'fsdecode',\n",
       " 'fsencode',\n",
       " 'fspath',\n",
       " 'fstat',\n",
       " 'fsync',\n",
       " 'ftruncate',\n",
       " 'get_exec_path',\n",
       " 'get_handle_inheritable',\n",
       " 'get_inheritable',\n",
       " 'get_terminal_size',\n",
       " 'getcwd',\n",
       " 'getcwdb',\n",
       " 'getenv',\n",
       " 'getlogin',\n",
       " 'getpid',\n",
       " 'getppid',\n",
       " 'isatty',\n",
       " 'kill',\n",
       " 'linesep',\n",
       " 'link',\n",
       " 'listdir',\n",
       " 'lseek',\n",
       " 'lstat',\n",
       " 'makedirs',\n",
       " 'mkdir',\n",
       " 'name',\n",
       " 'open',\n",
       " 'pardir',\n",
       " 'path',\n",
       " 'pathsep',\n",
       " 'pipe',\n",
       " 'popen',\n",
       " 'putenv',\n",
       " 'read',\n",
       " 'readlink',\n",
       " 'remove',\n",
       " 'removedirs',\n",
       " 'rename',\n",
       " 'renames',\n",
       " 'replace',\n",
       " 'rmdir',\n",
       " 'scandir',\n",
       " 'sep',\n",
       " 'set_handle_inheritable',\n",
       " 'set_inheritable',\n",
       " 'spawnl',\n",
       " 'spawnle',\n",
       " 'spawnv',\n",
       " 'spawnve',\n",
       " 'st',\n",
       " 'startfile',\n",
       " 'stat',\n",
       " 'stat_result',\n",
       " 'statvfs_result',\n",
       " 'strerror',\n",
       " 'supports_bytes_environ',\n",
       " 'supports_dir_fd',\n",
       " 'supports_effective_ids',\n",
       " 'supports_fd',\n",
       " 'supports_follow_symlinks',\n",
       " 'symlink',\n",
       " 'sys',\n",
       " 'system',\n",
       " 'terminal_size',\n",
       " 'times',\n",
       " 'times_result',\n",
       " 'truncate',\n",
       " 'umask',\n",
       " 'uname_result',\n",
       " 'unlink',\n",
       " 'urandom',\n",
       " 'utime',\n",
       " 'waitpid',\n",
       " 'walk',\n",
       " 'write']"
      ]
     },
     "execution_count": 3,
     "metadata": {},
     "output_type": "execute_result"
    }
   ],
   "source": [
    "dir(os)"
   ]
  },
  {
   "cell_type": "code",
   "execution_count": 4,
   "id": "c7e1c4e0",
   "metadata": {},
   "outputs": [
    {
     "data": {
      "text/plain": [
       "153"
      ]
     },
     "execution_count": 4,
     "metadata": {},
     "output_type": "execute_result"
    }
   ],
   "source": [
    "len(dir(os))"
   ]
  },
  {
   "cell_type": "code",
   "execution_count": null,
   "id": "4bba84e5",
   "metadata": {},
   "outputs": [],
   "source": [
    "delete a file/folder\n",
    "create a folder\n",
    "rename a file/folder\n",
    "copy/Move\n",
    "Current working directory\n",
    "changing working directory\n",
    "Remove a file/folder"
   ]
  },
  {
   "cell_type": "markdown",
   "id": "6e7160f7",
   "metadata": {},
   "source": [
    "## Rename()"
   ]
  },
  {
   "cell_type": "code",
   "execution_count": null,
   "id": "24bbeef3",
   "metadata": {},
   "outputs": [],
   "source": [
    "os.rename(file_path,new_file_path)"
   ]
  },
  {
   "cell_type": "code",
   "execution_count": 5,
   "id": "4e63f4a2",
   "metadata": {},
   "outputs": [],
   "source": [
    "file=open('txt1.txt','w')\n",
    "file.close()"
   ]
  },
  {
   "cell_type": "code",
   "execution_count": 6,
   "id": "87445faf",
   "metadata": {},
   "outputs": [],
   "source": [
    "os.rename('txt1.txt','data.txt')"
   ]
  },
  {
   "cell_type": "code",
   "execution_count": 7,
   "id": "58aa091c",
   "metadata": {},
   "outputs": [],
   "source": [
    "import os\n",
    "file = open('txt2.txt','w')\n",
    "file.write(\"This is demo of OS modules where we are renaming file\")\n",
    "file.close()\n",
    "os.rename('txt2.txt','python_data.txt')"
   ]
  },
  {
   "cell_type": "markdown",
   "id": "a932a6dc",
   "metadata": {},
   "source": [
    "## remove()"
   ]
  },
  {
   "cell_type": "raw",
   "id": "96014e48",
   "metadata": {},
   "source": [
    "os.remove(file_path)"
   ]
  },
  {
   "cell_type": "code",
   "execution_count": 8,
   "id": "734a7b3b",
   "metadata": {},
   "outputs": [],
   "source": [
    "os.remove('data.txt')"
   ]
  },
  {
   "cell_type": "markdown",
   "id": "8957114f",
   "metadata": {},
   "source": [
    "## Check if the file exist"
   ]
  },
  {
   "cell_type": "raw",
   "id": "88b22b19",
   "metadata": {},
   "source": [
    "os.path.exists(file_path)    #---- to check if the file does exist"
   ]
  },
  {
   "cell_type": "code",
   "execution_count": 9,
   "id": "6fbf1c6e",
   "metadata": {},
   "outputs": [
    {
     "name": "stdout",
     "output_type": "stream",
     "text": [
      "file exist\n"
     ]
    }
   ],
   "source": [
    "if os.path.exists('python_data.txt'):\n",
    "    print('file exist')\n",
    "else:\n",
    "    print('file absent')"
   ]
  },
  {
   "cell_type": "code",
   "execution_count": 10,
   "id": "23654f59",
   "metadata": {},
   "outputs": [
    {
     "name": "stdout",
     "output_type": "stream",
     "text": [
      "file absent\n"
     ]
    }
   ],
   "source": [
    "if os.path.exists('data.txt'):\n",
    "    print('file exist')\n",
    "else:\n",
    "    print('file absent')"
   ]
  },
  {
   "cell_type": "code",
   "execution_count": 11,
   "id": "1adf6667",
   "metadata": {},
   "outputs": [
    {
     "name": "stdout",
     "output_type": "stream",
     "text": [
      "file exist\n",
      "file removed successfully\n"
     ]
    }
   ],
   "source": [
    "if os.path.exists('python_data.txt'):\n",
    "    print('file exist')\n",
    "    os.remove('python_data.txt')\n",
    "    print('file removed successfully')\n",
    "else:\n",
    "    print('file absent')"
   ]
  },
  {
   "cell_type": "markdown",
   "id": "a799cd37",
   "metadata": {},
   "source": [
    "# working on folders"
   ]
  },
  {
   "cell_type": "markdown",
   "id": "bc4d350e",
   "metadata": {},
   "source": [
    "## mkdir()"
   ]
  },
  {
   "cell_type": "raw",
   "id": "69886f11",
   "metadata": {},
   "source": [
    "is used for creating a folder\n",
    "os.mkdir(folder_path)"
   ]
  },
  {
   "cell_type": "code",
   "execution_count": 12,
   "id": "75b29da7",
   "metadata": {},
   "outputs": [],
   "source": [
    "folder_path=\"Data Science\"\n",
    "os.mkdir(folder_path)"
   ]
  },
  {
   "cell_type": "markdown",
   "id": "51f4ee12",
   "metadata": {},
   "source": [
    "## rename()"
   ]
  },
  {
   "cell_type": "code",
   "execution_count": null,
   "id": "a2032d15",
   "metadata": {},
   "outputs": [],
   "source": [
    "os.rename(folder_path)"
   ]
  },
  {
   "cell_type": "code",
   "execution_count": 13,
   "id": "cd010182",
   "metadata": {},
   "outputs": [],
   "source": [
    "os.rename(\"Data Science\",'DS')"
   ]
  },
  {
   "cell_type": "markdown",
   "id": "bb193ebf",
   "metadata": {},
   "source": [
    "## rmdir()"
   ]
  },
  {
   "cell_type": "raw",
   "id": "c30e5ad0",
   "metadata": {},
   "source": [
    "-used for removing a directory/folder.\n",
    "- is used to del the empty folder. it'll not delete the folder that contains any files"
   ]
  },
  {
   "cell_type": "code",
   "execution_count": 14,
   "id": "0af7efe7",
   "metadata": {},
   "outputs": [],
   "source": [
    "folder_name='DS'\n",
    "os.rmdir(folder_name)"
   ]
  },
  {
   "cell_type": "code",
   "execution_count": 15,
   "id": "2d0dace0",
   "metadata": {},
   "outputs": [],
   "source": [
    "folder_path=\"Data Science\"\n",
    "os.mkdir(folder_path)\n",
    "os.mkdir(r\"Data Science/DS\")"
   ]
  },
  {
   "cell_type": "markdown",
   "id": "dda6019b",
   "metadata": {},
   "source": [
    "## check the current working directory"
   ]
  },
  {
   "cell_type": "code",
   "execution_count": 16,
   "id": "4d3fffb8",
   "metadata": {},
   "outputs": [
    {
     "data": {
      "text/plain": [
       "'C:\\\\Users\\\\Pratik\\\\Data\\\\Python Classes'"
      ]
     },
     "execution_count": 16,
     "metadata": {},
     "output_type": "execute_result"
    }
   ],
   "source": [
    "os.getcwd()"
   ]
  },
  {
   "cell_type": "markdown",
   "id": "903e5915",
   "metadata": {},
   "source": [
    "## changing the current working directory"
   ]
  },
  {
   "cell_type": "code",
   "execution_count": 22,
   "id": "9b0fa332",
   "metadata": {},
   "outputs": [],
   "source": [
    "os.chdir('C:\\\\Users\\\\Pratik\\\\Data')"
   ]
  },
  {
   "cell_type": "code",
   "execution_count": 20,
   "id": "e6fc7a95",
   "metadata": {},
   "outputs": [],
   "source": [
    "os.mkdir('Pratiks folder')\n"
   ]
  },
  {
   "cell_type": "code",
   "execution_count": 28,
   "id": "9624cfc7",
   "metadata": {},
   "outputs": [],
   "source": [
    "os.chdir('C:\\\\Users\\\\Pratik\\\\Data\\\\Python Classes')"
   ]
  },
  {
   "cell_type": "markdown",
   "id": "56a10793",
   "metadata": {},
   "source": [
    "# Shutil"
   ]
  },
  {
   "cell_type": "raw",
   "id": "2aaf6098",
   "metadata": {},
   "source": [
    "1. shutil has multiple functionalities that are similar to the functionalities of os.\n",
    "2. shutil.rmtree --- will delete the directory even when it has files present in it. However os.rmdir doesn't perform this operation."
   ]
  },
  {
   "cell_type": "code",
   "execution_count": 30,
   "id": "c6b07b7a",
   "metadata": {},
   "outputs": [],
   "source": [
    "import shutil"
   ]
  },
  {
   "cell_type": "code",
   "execution_count": 29,
   "id": "fbeddfa9",
   "metadata": {
    "scrolled": true
   },
   "outputs": [
    {
     "ename": "OSError",
     "evalue": "[WinError 145] The directory is not empty: 'C:\\\\Users\\\\Pratik\\\\Data\\\\Pratiks folder'",
     "output_type": "error",
     "traceback": [
      "\u001b[1;31m---------------------------------------------------------------------------\u001b[0m",
      "\u001b[1;31mOSError\u001b[0m                                   Traceback (most recent call last)",
      "\u001b[1;32m<ipython-input-29-122bedd4ea0f>\u001b[0m in \u001b[0;36m<module>\u001b[1;34m\u001b[0m\n\u001b[1;32m----> 1\u001b[1;33m \u001b[0mos\u001b[0m\u001b[1;33m.\u001b[0m\u001b[0mrmdir\u001b[0m\u001b[1;33m(\u001b[0m\u001b[1;34m'C:\\\\Users\\\\Pratik\\\\Data\\\\Pratiks folder'\u001b[0m\u001b[1;33m)\u001b[0m\u001b[1;33m\u001b[0m\u001b[1;33m\u001b[0m\u001b[0m\n\u001b[0m",
      "\u001b[1;31mOSError\u001b[0m: [WinError 145] The directory is not empty: 'C:\\\\Users\\\\Pratik\\\\Data\\\\Pratiks folder'"
     ]
    }
   ],
   "source": [
    "os.rmdir('C:\\\\Users\\\\Pratik\\\\Data\\\\Pratiks folder')"
   ]
  },
  {
   "cell_type": "code",
   "execution_count": 31,
   "id": "dea9c0d5",
   "metadata": {},
   "outputs": [],
   "source": [
    "shutil.rmtree('C:\\\\Users\\\\Pratik\\\\Data\\\\Pratiks folder')"
   ]
  },
  {
   "cell_type": "markdown",
   "id": "c384d536",
   "metadata": {},
   "source": [
    "## copying from 1 folder to another usinig shutil"
   ]
  },
  {
   "cell_type": "markdown",
   "id": "daf4036e",
   "metadata": {},
   "source": [
    "#### shutil copy function"
   ]
  },
  {
   "cell_type": "code",
   "execution_count": 60,
   "id": "e4200089",
   "metadata": {},
   "outputs": [
    {
     "data": {
      "text/plain": [
       "'Data Science\\\\Degree Passing Certificate.pdf'"
      ]
     },
     "execution_count": 60,
     "metadata": {},
     "output_type": "execute_result"
    }
   ],
   "source": [
    "previous_path='Raw_data\\\\Degree Passing Certificate.pdf'\n",
    "new_path=\"Data Science\\\\Degree Passing Certificate.pdf\"\n",
    "shutil.copy(previous_path,new_path)"
   ]
  },
  {
   "cell_type": "markdown",
   "id": "7d15653c",
   "metadata": {},
   "source": [
    "#### shutil move function"
   ]
  },
  {
   "cell_type": "code",
   "execution_count": 61,
   "id": "de128109",
   "metadata": {},
   "outputs": [
    {
     "data": {
      "text/plain": [
       "'Data Science\\\\JNTL-80.jpg'"
      ]
     },
     "execution_count": 61,
     "metadata": {},
     "output_type": "execute_result"
    }
   ],
   "source": [
    "previous_path='Raw_data\\\\JNTL-80.jpg'\n",
    "new_path=\"Data Science\\\\JNTL-80.jpg\"\n",
    "shutil.copy(previous_path,new_path)\n",
    "shutil.move(previous_path,new_path)"
   ]
  },
  {
   "cell_type": "markdown",
   "id": "e745a6ab",
   "metadata": {},
   "source": [
    "## Listdir()"
   ]
  },
  {
   "cell_type": "raw",
   "id": "1f32a077",
   "metadata": {},
   "source": [
    "- it enlists all different files present in a folder"
   ]
  },
  {
   "cell_type": "code",
   "execution_count": 23,
   "id": "b6fa9134",
   "metadata": {},
   "outputs": [],
   "source": [
    "file=open('Pratiks folder/txt1.txt','w')\n",
    "file.close()"
   ]
  },
  {
   "cell_type": "code",
   "execution_count": 25,
   "id": "a0bbe336",
   "metadata": {},
   "outputs": [],
   "source": [
    "file=open('Pratiks folder/raw_data.txt','w')\n",
    "file.close()"
   ]
  },
  {
   "cell_type": "code",
   "execution_count": 26,
   "id": "423b8112",
   "metadata": {
    "scrolled": true
   },
   "outputs": [
    {
     "data": {
      "text/plain": [
       "['raw_data.txt', 'txt1.txt']"
      ]
     },
     "execution_count": 26,
     "metadata": {},
     "output_type": "execute_result"
    }
   ],
   "source": [
    "os.listdir('Pratiks folder')"
   ]
  },
  {
   "cell_type": "code",
   "execution_count": 27,
   "id": "df0c12f0",
   "metadata": {
    "collapsed": true
   },
   "outputs": [
    {
     "data": {
      "text/plain": [
       "['__add__',\n",
       " '__class__',\n",
       " '__contains__',\n",
       " '__delattr__',\n",
       " '__dir__',\n",
       " '__doc__',\n",
       " '__eq__',\n",
       " '__format__',\n",
       " '__ge__',\n",
       " '__getattribute__',\n",
       " '__getitem__',\n",
       " '__getnewargs__',\n",
       " '__gt__',\n",
       " '__hash__',\n",
       " '__init__',\n",
       " '__init_subclass__',\n",
       " '__iter__',\n",
       " '__le__',\n",
       " '__len__',\n",
       " '__lt__',\n",
       " '__mod__',\n",
       " '__mul__',\n",
       " '__ne__',\n",
       " '__new__',\n",
       " '__reduce__',\n",
       " '__reduce_ex__',\n",
       " '__repr__',\n",
       " '__rmod__',\n",
       " '__rmul__',\n",
       " '__setattr__',\n",
       " '__sizeof__',\n",
       " '__str__',\n",
       " '__subclasshook__',\n",
       " 'capitalize',\n",
       " 'casefold',\n",
       " 'center',\n",
       " 'count',\n",
       " 'encode',\n",
       " 'endswith',\n",
       " 'expandtabs',\n",
       " 'find',\n",
       " 'format',\n",
       " 'format_map',\n",
       " 'index',\n",
       " 'isalnum',\n",
       " 'isalpha',\n",
       " 'isascii',\n",
       " 'isdecimal',\n",
       " 'isdigit',\n",
       " 'isidentifier',\n",
       " 'islower',\n",
       " 'isnumeric',\n",
       " 'isprintable',\n",
       " 'isspace',\n",
       " 'istitle',\n",
       " 'isupper',\n",
       " 'join',\n",
       " 'ljust',\n",
       " 'lower',\n",
       " 'lstrip',\n",
       " 'maketrans',\n",
       " 'partition',\n",
       " 'replace',\n",
       " 'rfind',\n",
       " 'rindex',\n",
       " 'rjust',\n",
       " 'rpartition',\n",
       " 'rsplit',\n",
       " 'rstrip',\n",
       " 'split',\n",
       " 'splitlines',\n",
       " 'startswith',\n",
       " 'strip',\n",
       " 'swapcase',\n",
       " 'title',\n",
       " 'translate',\n",
       " 'upper',\n",
       " 'zfill']"
      ]
     },
     "execution_count": 27,
     "metadata": {},
     "output_type": "execute_result"
    }
   ],
   "source": [
    "dir('Pratiks folder')"
   ]
  },
  {
   "cell_type": "code",
   "execution_count": null,
   "id": "773e4f39",
   "metadata": {},
   "outputs": [],
   "source": [
    "file=open('txt1.txt','w')\n",
    "file.close()"
   ]
  },
  {
   "cell_type": "code",
   "execution_count": null,
   "id": "b14211c4",
   "metadata": {},
   "outputs": [],
   "source": []
  },
  {
   "cell_type": "code",
   "execution_count": null,
   "id": "e6c85d35",
   "metadata": {},
   "outputs": [],
   "source": []
  },
  {
   "cell_type": "code",
   "execution_count": null,
   "id": "1bf73f51",
   "metadata": {},
   "outputs": [],
   "source": []
  },
  {
   "cell_type": "code",
   "execution_count": 33,
   "id": "93805b8c",
   "metadata": {},
   "outputs": [
    {
     "data": {
      "text/plain": [
       "'C:\\\\Users\\\\Pratik\\\\Data\\\\Python Classes'"
      ]
     },
     "execution_count": 33,
     "metadata": {},
     "output_type": "execute_result"
    }
   ],
   "source": [
    "os.getcwd()"
   ]
  },
  {
   "cell_type": "code",
   "execution_count": 35,
   "id": "ae709dae",
   "metadata": {},
   "outputs": [
    {
     "name": "stdout",
     "output_type": "stream",
     "text": [
      "Present\n"
     ]
    }
   ],
   "source": [
    "if os.path.exists('Raw_data'):\n",
    "    print(\"Present\")"
   ]
  },
  {
   "cell_type": "code",
   "execution_count": 36,
   "id": "9f8c8eae",
   "metadata": {},
   "outputs": [
    {
     "data": {
      "text/plain": [
       "['1.1.1Variables.ipynb',\n",
       " '8zzmpj9jhsx51.jpg',\n",
       " 'Degree Passing Certificate.pdf',\n",
       " 'JNTL-80.jpg',\n",
       " 'NOTES String to Dictionaries….pdf',\n",
       " 'txt1.txt']"
      ]
     },
     "execution_count": 36,
     "metadata": {},
     "output_type": "execute_result"
    }
   ],
   "source": [
    "os.listdir('Raw_data')"
   ]
  },
  {
   "cell_type": "code",
   "execution_count": 48,
   "id": "f19cb6ba",
   "metadata": {},
   "outputs": [
    {
     "data": {
      "text/plain": [
       "'Raw_data/txt1.txt'"
      ]
     },
     "execution_count": 48,
     "metadata": {},
     "output_type": "execute_result"
    }
   ],
   "source": [
    "path= 'Raw_data'\n",
    "file= 'txt1.txt'\n",
    "path+'/'+file"
   ]
  },
  {
   "cell_type": "code",
   "execution_count": 53,
   "id": "0561d29c",
   "metadata": {},
   "outputs": [
    {
     "name": "stdout",
     "output_type": "stream",
     "text": [
      "hi there, could you see me??\n"
     ]
    }
   ],
   "source": [
    "text_files=[]\n",
    "pdf_files_list=[]\n",
    "image_list=[]\n",
    "ipynb_file_list=[]\n",
    "\n",
    "path= 'Raw_data'\n",
    "\n",
    "for file in os.listdir(path):\n",
    "    if file.endswith('txt'):\n",
    "        the_file= 'Raw_data\\\\' + file\n",
    "        file1=open(the_file,'r')\n",
    "        text=file1.read()\n",
    "        print(text)\n",
    "        file1.close()\n",
    "        text_files.append(file)\n",
    "        \n",
    "        \n",
    "    elif file.endswith('.pdf'):\n",
    "        pdf_files_list.append(file)\n",
    "        \n",
    "    elif file.endswith('.jpg'):\n",
    "        image_list.append(file)\n",
    "    else:\n",
    "        ipynb_file_list.append(file)"
   ]
  },
  {
   "cell_type": "code",
   "execution_count": 54,
   "id": "9b2be852",
   "metadata": {},
   "outputs": [
    {
     "name": "stdout",
     "output_type": "stream",
     "text": [
      "Txt files are:  ['txt1.txt']\n",
      "\n",
      "PDF files are:  ['Degree Passing Certificate.pdf', 'NOTES String to Dictionaries….pdf']\n",
      "\n",
      "Image files are:  ['8zzmpj9jhsx51.jpg', 'JNTL-80.jpg']\n",
      "\n",
      "Ipynb files are:  ['1.1.1Variables.ipynb']\n"
     ]
    }
   ],
   "source": [
    "print(\"Txt files are: \",text_files)\n",
    "print(\"\\nPDF files are: \",pdf_files_list)\n",
    "print(\"\\nImage files are: \",image_list)\n",
    "print(\"\\nIpynb files are: \",ipynb_file_list)"
   ]
  },
  {
   "cell_type": "markdown",
   "id": "4e4220e9",
   "metadata": {},
   "source": [
    "## glob"
   ]
  },
  {
   "cell_type": "code",
   "execution_count": 55,
   "id": "99b63391",
   "metadata": {},
   "outputs": [],
   "source": [
    "import glob"
   ]
  },
  {
   "cell_type": "code",
   "execution_count": 56,
   "id": "a2758f9c",
   "metadata": {},
   "outputs": [
    {
     "data": {
      "text/plain": [
       "['1.1.1Variables.ipynb',\n",
       " '8zzmpj9jhsx51.jpg',\n",
       " 'Degree Passing Certificate.pdf',\n",
       " 'JNTL-80.jpg',\n",
       " 'NOTES String to Dictionaries….pdf',\n",
       " 'txt1.txt']"
      ]
     },
     "execution_count": 56,
     "metadata": {},
     "output_type": "execute_result"
    }
   ],
   "source": [
    "path= 'Raw_data'\n",
    "\n",
    "files=os.listdir(path)\n",
    "files"
   ]
  },
  {
   "cell_type": "code",
   "execution_count": 57,
   "id": "13412977",
   "metadata": {},
   "outputs": [
    {
     "data": {
      "text/plain": [
       "['Raw_data\\\\Degree Passing Certificate.pdf',\n",
       " 'Raw_data\\\\NOTES String to Dictionaries….pdf']"
      ]
     },
     "execution_count": 57,
     "metadata": {},
     "output_type": "execute_result"
    }
   ],
   "source": [
    "path= 'Raw_data\\\\'\n",
    "pdf_files=glob.glob(path+\"*.pdf\")\n",
    "pdf_files"
   ]
  },
  {
   "cell_type": "code",
   "execution_count": 58,
   "id": "20cd9f39",
   "metadata": {},
   "outputs": [
    {
     "data": {
      "text/plain": [
       "['Raw_data\\\\txt1.txt']"
      ]
     },
     "execution_count": 58,
     "metadata": {},
     "output_type": "execute_result"
    }
   ],
   "source": [
    "path= 'Raw_data\\\\'\n",
    "txt_files=glob.glob(path+\"*.txt\")\n",
    "txt_files"
   ]
  },
  {
   "cell_type": "code",
   "execution_count": null,
   "id": "7610f916",
   "metadata": {},
   "outputs": [],
   "source": []
  }
 ],
 "metadata": {
  "kernelspec": {
   "display_name": "Python 3",
   "language": "python",
   "name": "python3"
  },
  "language_info": {
   "codemirror_mode": {
    "name": "ipython",
    "version": 3
   },
   "file_extension": ".py",
   "mimetype": "text/x-python",
   "name": "python",
   "nbconvert_exporter": "python",
   "pygments_lexer": "ipython3",
   "version": "3.8.8"
  },
  "toc": {
   "base_numbering": 1,
   "nav_menu": {},
   "number_sections": true,
   "sideBar": true,
   "skip_h1_title": false,
   "title_cell": "Table of Contents",
   "title_sidebar": "Contents",
   "toc_cell": false,
   "toc_position": {},
   "toc_section_display": true,
   "toc_window_display": false
  },
  "varInspector": {
   "cols": {
    "lenName": 16,
    "lenType": 16,
    "lenVar": 40
   },
   "kernels_config": {
    "python": {
     "delete_cmd_postfix": "",
     "delete_cmd_prefix": "del ",
     "library": "var_list.py",
     "varRefreshCmd": "print(var_dic_list())"
    },
    "r": {
     "delete_cmd_postfix": ") ",
     "delete_cmd_prefix": "rm(",
     "library": "var_list.r",
     "varRefreshCmd": "cat(var_dic_list()) "
    }
   },
   "types_to_exclude": [
    "module",
    "function",
    "builtin_function_or_method",
    "instance",
    "_Feature"
   ],
   "window_display": false
  }
 },
 "nbformat": 4,
 "nbformat_minor": 5
}

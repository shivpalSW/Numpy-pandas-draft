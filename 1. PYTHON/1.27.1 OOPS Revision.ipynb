{
 "cells": [
  {
   "cell_type": "code",
   "execution_count": null,
   "id": "8b7a84f7",
   "metadata": {},
   "outputs": [],
   "source": [
    "OOPs:\n",
    "    is object oriented porgramming\n",
    "    reduces code complexity\n",
    "    aids in reusability of code\n",
    "    makes program secure\n",
    "    has 4 pillars: Inheritance, Abstraction, Encapsulation & Polymorphism\n",
    "    \n",
    "\n",
    "Class:\n",
    "    Blueprint of an object\n",
    "    it creates & stores the porperties associated with object\n",
    "    it defines class variables & methods\n",
    "    it is the fundamental principle or backbone of OOPS\n",
    "    class can creates multiple objects & every object can access the properties of class.\n",
    "    \n",
    "Object:\n",
    "    instance of a class\n",
    "    it is the final outcome of the class using which we can acess the properties of the class.\n",
    "    object when created using the class name, it then defines that perticular class.\n",
    "    object is dependent on class but class is not dependentnt on objects. deleting an object will not delete the class properties.\n",
    "    objects can work freely with member functions & variables\n",
    "\n",
    "self:\n",
    "    It represents the instance of a class\n",
    "    by using the self keyword we can access the variables & methodsods defined in the class.\n",
    "    self binds the class & its properties\n",
    "    it is mandotary to pass self if it is an __init__ function not followed by super() or for any instance method\n",
    "    using self we can call a method of a class into another class\n",
    "    it will act as a reference inbuilt variable for class properties.\n",
    "    we can use any keyword instead of self only prerequisitive is that it should not be an int or start with int.\n",
    "    it is not a reserved word but in standard convention it is used for then above purposes.\n",
    "    \n",
    "__init__:\n",
    "    init takes in the arguements for that class.\n",
    "    initilises the varriables & then those variables are converted into instance variable generally right in the init function\n",
    "    so init is also also inbulit constructor for the class\n",
    "    it is generally the very first method & the first dfunction that is executed\n",
    "    it is automaticaly called when we call the class\n",
    "    it is optional if we are not taking in any parameters for the class\n",
    "    2 classes can be interconnected such parameters of one class can be used as arguements to another class using __init__\n",
    "\n",
    "    "
   ]
  },
  {
   "cell_type": "code",
   "execution_count": null,
   "id": "7bed71c9",
   "metadata": {},
   "outputs": [],
   "source": [
    "inheritance:\n",
    "    It inheritates the properties of a parent class into child class.\n",
    "    \n",
    "    base class/ parent class/super class\n",
    "    derived class/child class/ sub class\n",
    "    \n",
    "    we only need to create object for child class\n",
    "    \n",
    "    \n",
    "types of inheritance:\n",
    "    Normal/single inheritance\n",
    "    multilevel inheritance\n",
    "    multiple inheritance\n",
    "    \n",
    "    "
   ]
  },
  {
   "cell_type": "code",
   "execution_count": null,
   "id": "3011e84b",
   "metadata": {},
   "outputs": [],
   "source": [
    "Abstraction:\n",
    "    it is considered as a mandotory blueprint for other classes\n",
    "    it is a standard format procedures in terms of methods to follow for otherr classes\n",
    "    we can not create object for abraction classes\n",
    "    from abc, import ABC,abstractmethod is mandotory\n",
    "    @abstractmethod decorator is used to creat an abstract class\n",
    "    we can have normal methods defined in abstract class which we can access from another class or object of such class.\n",
    "    Abstraction class is only used for declaration purpose, it is not used for implementation purpose.\n",
    "    \n"
   ]
  },
  {
   "cell_type": "code",
   "execution_count": null,
   "id": "7415a2e1",
   "metadata": {},
   "outputs": [],
   "source": [
    "Encapsulation:\n",
    "    used to restrict the access or modification of properties from outside the class\n",
    "    \n",
    "public variables & method:\n",
    "    can be accessed & modified from outside the class.\n",
    "    \n",
    "private vairbles & methods:\n",
    "    generated using __\n",
    "    they can not be accessed & modified from outside they class.\n",
    "    __variablename\n",
    "    __methodname()\n",
    "    \n",
    "Name Mangling:\n",
    "    used to access & modify the private variables & methods form outside the class.\n",
    "    \n",
    "    object._classname__methodname()\n",
    "    object._classname__privatevariablename\n",
    "    \n",
    "    \n",
    "class method:\n",
    "    a class method is created using class decorator\n",
    "    class method uses cls keyword\n",
    "    when dealing with class variables alone we use class method\n",
    "    \n",
    "instance method:\n",
    "    a regular method in the class\n",
    "    uses self keyword\n",
    "    is used to instantiate any method or variables for they class suing self.\n",
    "    any another instance method acan be called into an instance method\n",
    "    \n",
    "static method:\n",
    "    is used when we are neither dealing with any instance variable nor with class variable\n",
    "    it needs static decorator to be defined\n",
    "    it does not requied any specific keyword as self or cls form defined static method."
   ]
  },
  {
   "cell_type": "code",
   "execution_count": null,
   "id": "1ada0faf",
   "metadata": {},
   "outputs": [],
   "source": [
    "polymorphism:\n",
    "    multiple forms of any method/function with same name\n",
    "    same method would be present in multiple classes\n",
    "    \n",
    "over ridding method:\n",
    "    whenever we can two or more classes interconnected usiing the concept of inheritance however if in such classes we have the same method name then in that case the method of the child class will overpower the method of parent classes. This is concept is over ridding method.\n",
    "    \n",
    "    child class method overides parent class method when having the same method name."
   ]
  }
 ],
 "metadata": {
  "kernelspec": {
   "display_name": "Python 3",
   "language": "python",
   "name": "python3"
  },
  "language_info": {
   "codemirror_mode": {
    "name": "ipython",
    "version": 3
   },
   "file_extension": ".py",
   "mimetype": "text/x-python",
   "name": "python",
   "nbconvert_exporter": "python",
   "pygments_lexer": "ipython3",
   "version": "3.8.8"
  },
  "toc": {
   "base_numbering": 1,
   "nav_menu": {},
   "number_sections": true,
   "sideBar": true,
   "skip_h1_title": false,
   "title_cell": "Table of Contents",
   "title_sidebar": "Contents",
   "toc_cell": false,
   "toc_position": {},
   "toc_section_display": true,
   "toc_window_display": false
  },
  "varInspector": {
   "cols": {
    "lenName": 16,
    "lenType": 16,
    "lenVar": 40
   },
   "kernels_config": {
    "python": {
     "delete_cmd_postfix": "",
     "delete_cmd_prefix": "del ",
     "library": "var_list.py",
     "varRefreshCmd": "print(var_dic_list())"
    },
    "r": {
     "delete_cmd_postfix": ") ",
     "delete_cmd_prefix": "rm(",
     "library": "var_list.r",
     "varRefreshCmd": "cat(var_dic_list()) "
    }
   },
   "types_to_exclude": [
    "module",
    "function",
    "builtin_function_or_method",
    "instance",
    "_Feature"
   ],
   "window_display": false
  }
 },
 "nbformat": 4,
 "nbformat_minor": 5
}

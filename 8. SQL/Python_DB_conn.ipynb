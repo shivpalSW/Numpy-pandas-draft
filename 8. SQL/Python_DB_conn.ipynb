{
 "cells": [
  {
   "cell_type": "code",
   "execution_count": 1,
   "id": "a5a140ea",
   "metadata": {},
   "outputs": [],
   "source": [
    "import mysql.connector as sql"
   ]
  },
  {
   "cell_type": "code",
   "execution_count": 3,
   "id": "7a461ec9",
   "metadata": {},
   "outputs": [
    {
     "name": "stdout",
     "output_type": "stream",
     "text": [
      "<mysql.connector.connection.MySQLConnection object at 0x7fe6f8c405e0>\n"
     ]
    }
   ],
   "source": [
    "mydb= sql.connect(host='localhost',\n",
    "                  user='root',\n",
    "                  passwd='system1234',\n",
    "                  use_pure = True\n",
    "                 )\n",
    "\n",
    "print(mydb)"
   ]
  },
  {
   "cell_type": "code",
   "execution_count": 4,
   "id": "b83c2894",
   "metadata": {},
   "outputs": [],
   "source": [
    "mycursor= mydb.cursor()\n",
    "mycursor.execute('Create database db_new')"
   ]
  },
  {
   "cell_type": "code",
   "execution_count": 28,
   "id": "86860f55",
   "metadata": {},
   "outputs": [
    {
     "name": "stdout",
     "output_type": "stream",
     "text": [
      "<mysql.connector.connection.MySQLConnection object at 0x7fe6f8c7e040>\n"
     ]
    }
   ],
   "source": [
    "mydb= sql.connect(host='localhost',\n",
    "                  user='root',\n",
    "                  passwd='system1234',\n",
    "                  use_pure = True,\n",
    "                  database='db_new'\n",
    "                 )\n",
    "\n",
    "print(mydb)"
   ]
  },
  {
   "cell_type": "code",
   "execution_count": 8,
   "id": "dc49fea9",
   "metadata": {},
   "outputs": [
    {
     "name": "stdout",
     "output_type": "stream",
     "text": [
      "('db_new',)\n",
      "('First_DB',)\n",
      "('information_schema',)\n",
      "('mysql',)\n",
      "('performance_schema',)\n",
      "('sys',)\n"
     ]
    }
   ],
   "source": [
    "mycursor= mydb.cursor()\n",
    "mycursor.execute('show databases')\n",
    "for db in mycursor:\n",
    "    print(db)"
   ]
  },
  {
   "cell_type": "code",
   "execution_count": 9,
   "id": "116ce45e",
   "metadata": {},
   "outputs": [],
   "source": [
    "mycursor= mydb.cursor()\n",
    "mycursor.execute('create table emp(empid int,fname varchar(10))')"
   ]
  },
  {
   "cell_type": "code",
   "execution_count": 10,
   "id": "ec3582fa",
   "metadata": {},
   "outputs": [
    {
     "name": "stdout",
     "output_type": "stream",
     "text": [
      "('emp',)\n"
     ]
    }
   ],
   "source": [
    "mycursor= mydb.cursor()\n",
    "mycursor.execute('show tables')\n",
    "for tbl in mycursor:\n",
    "    print(tbl)"
   ]
  },
  {
   "cell_type": "code",
   "execution_count": 16,
   "id": "9c2f0128",
   "metadata": {},
   "outputs": [],
   "source": [
    "mycursor= mydb.cursor()\n",
    "ins= 'insert into emp (empid,fname) values(%s,%s)'\n",
    "emp= [(1001,'gaurav'),(1002,'manish'),(1003,'swara')]\n",
    "\n",
    "mycursor.executemany(ins,emp)\n",
    "mydb.commit()"
   ]
  },
  {
   "cell_type": "code",
   "execution_count": 17,
   "id": "a13ff309",
   "metadata": {},
   "outputs": [],
   "source": [
    "ins= 'insert into emp (empid,fname) values(%s,%s)'\n",
    "emp= [(1004,'Gauri')]\n",
    "\n",
    "mycursor.executemany(ins,emp)\n",
    "mydb.commit()"
   ]
  },
  {
   "cell_type": "code",
   "execution_count": 23,
   "id": "ca67625c",
   "metadata": {},
   "outputs": [
    {
     "name": "stdout",
     "output_type": "stream",
     "text": [
      "gaurav\n"
     ]
    }
   ],
   "source": [
    "mycursor= mydb.cursor()\n",
    "mycursor.execute('select fname from emp')\n",
    "result=mycursor.fetchone()\n",
    "for row in result:\n",
    "    print(row)"
   ]
  },
  {
   "cell_type": "code",
   "execution_count": 29,
   "id": "10d306d7",
   "metadata": {},
   "outputs": [
    {
     "name": "stdout",
     "output_type": "stream",
     "text": [
      "('gaurav',)\n",
      "('manish',)\n",
      "('swara',)\n",
      "('gaurav',)\n",
      "('manish',)\n",
      "('swara',)\n",
      "('gaurav',)\n",
      "('manish',)\n",
      "('swara',)\n",
      "('Gauri',)\n"
     ]
    }
   ],
   "source": [
    "mycursor= mydb.cursor()\n",
    "mycursor.execute('select fname from emp')\n",
    "result=mycursor.fetchall()\n",
    "for row in result:\n",
    "    print(row)"
   ]
  },
  {
   "cell_type": "code",
   "execution_count": 32,
   "id": "aca281d5",
   "metadata": {},
   "outputs": [],
   "source": [
    "mycursor= mydb.cursor()\n",
    "sql=\"update emp set fname='manisha' where fname=('manish') \"\n",
    "mycursor.execute(sql)\n",
    "mydb.commit()"
   ]
  },
  {
   "cell_type": "code",
   "execution_count": 33,
   "id": "30b4ffe5",
   "metadata": {},
   "outputs": [],
   "source": [
    "mycursor= mydb.cursor()\n",
    "sql=\"delete from emp where empid=1001\"\n",
    "mycursor.execute(sql)\n",
    "mydb.commit()"
   ]
  },
  {
   "cell_type": "code",
   "execution_count": null,
   "id": "e2894e4e",
   "metadata": {},
   "outputs": [],
   "source": []
  }
 ],
 "metadata": {
  "kernelspec": {
   "display_name": "Python 3 (ipykernel)",
   "language": "python",
   "name": "python3"
  },
  "language_info": {
   "codemirror_mode": {
    "name": "ipython",
    "version": 3
   },
   "file_extension": ".py",
   "mimetype": "text/x-python",
   "name": "python",
   "nbconvert_exporter": "python",
   "pygments_lexer": "ipython3",
   "version": "3.9.7"
  }
 },
 "nbformat": 4,
 "nbformat_minor": 5
}

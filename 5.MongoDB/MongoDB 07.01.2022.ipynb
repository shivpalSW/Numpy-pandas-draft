{
 "cells": [
  {
   "cell_type": "code",
   "execution_count": null,
   "id": "3e92e61b",
   "metadata": {},
   "outputs": [],
   "source": [
    "Loan Prediction:\n",
    "    \n",
    "HDFC Bank:\n",
    "    Customer1:\n",
    "        Age >> 30\n",
    "        CBIL Score >> 550\n",
    "        Salary >> 20000\n",
    "        Predict >> Declined\n",
    "\n",
    "    Customer2:\n",
    "        Age >> 28\n",
    "        CBIL Score >> 750\n",
    "        Salary >> 60000\n",
    "        Predict >> Approved\n",
    "        \n",
    "\n",
    "Predict >> Loan Approved or Declined"
   ]
  },
  {
   "cell_type": "code",
   "execution_count": null,
   "id": "d026715d",
   "metadata": {},
   "outputs": [],
   "source": [
    "Application to use MongoDB:\n",
    "    1. NoSQLBooster\n",
    "    2. MongoDB Compass\n",
    "    \n",
    "Library Required:\n",
    "    pymongo"
   ]
  },
  {
   "cell_type": "markdown",
   "id": "5852cad8",
   "metadata": {},
   "source": [
    "## Operation"
   ]
  },
  {
   "cell_type": "code",
   "execution_count": null,
   "id": "99cfd101",
   "metadata": {},
   "outputs": [],
   "source": [
    "Various operations:\n",
    "    1. Create\n",
    "    2. Update\n",
    "    3. Insert\n",
    "    4. Delete\n",
    "    5. Read/Find\n",
    "    6. Sort"
   ]
  },
  {
   "cell_type": "code",
   "execution_count": null,
   "id": "c5ece0fa",
   "metadata": {},
   "outputs": [],
   "source": [
    "Database -> Collection (Table) -> Documents (Rows)"
   ]
  },
  {
   "cell_type": "code",
   "execution_count": 2,
   "id": "4fb0fc99",
   "metadata": {},
   "outputs": [],
   "source": [
    "import pymongo"
   ]
  },
  {
   "cell_type": "markdown",
   "id": "2cc56332",
   "metadata": {},
   "source": [
    "### Creating Database"
   ]
  },
  {
   "cell_type": "code",
   "execution_count": 5,
   "id": "4c3ff10e",
   "metadata": {},
   "outputs": [
    {
     "data": {
      "text/plain": [
       "Database(MongoClient(host=['localhost:27017'], document_class=dict, tz_aware=False, connect=True), 'loan_db')"
      ]
     },
     "execution_count": 5,
     "metadata": {},
     "output_type": "execute_result"
    }
   ],
   "source": [
    "database_name = 'loan_db'\n",
    "mongodb_port = 27017                          \n",
    "mongo_db_client = pymongo.MongoClient(f'mongodb://localhost:{mongodb_port}')\n",
    "\n",
    "db = mongo_db_client[database_name]\n",
    "db"
   ]
  },
  {
   "cell_type": "code",
   "execution_count": 4,
   "id": "b4565a4c",
   "metadata": {},
   "outputs": [
    {
     "data": {
      "text/plain": [
       "MongoClient(host=['localhost:27017'], document_class=dict, tz_aware=False, connect=True)"
      ]
     },
     "execution_count": 4,
     "metadata": {},
     "output_type": "execute_result"
    }
   ],
   "source": [
    "mongo_db_client"
   ]
  },
  {
   "cell_type": "markdown",
   "id": "ca0d271b",
   "metadata": {},
   "source": [
    "### Checking existing databases in the pc"
   ]
  },
  {
   "cell_type": "code",
   "execution_count": 7,
   "id": "4a66130f",
   "metadata": {},
   "outputs": [
    {
     "data": {
      "text/plain": [
       "['admin', 'config', 'local']"
      ]
     },
     "execution_count": 7,
     "metadata": {},
     "output_type": "execute_result"
    }
   ],
   "source": [
    "mongo_db_client.list_database_names()"
   ]
  },
  {
   "cell_type": "markdown",
   "id": "f5d8e2d5",
   "metadata": {},
   "source": [
    "### Creating Collections (Tables)"
   ]
  },
  {
   "cell_type": "code",
   "execution_count": 31,
   "id": "14f9dcc9",
   "metadata": {},
   "outputs": [],
   "source": [
    "collection_user = db['user_details']\n",
    "collection_token = db['token_details']\n",
    "collection_analysis = db['analysis_details']\n",
    "collection_login = db['login_details']"
   ]
  },
  {
   "cell_type": "markdown",
   "id": "ffd06624",
   "metadata": {},
   "source": [
    "### Check collections"
   ]
  },
  {
   "cell_type": "code",
   "execution_count": 11,
   "id": "8140fa7d",
   "metadata": {},
   "outputs": [
    {
     "data": {
      "text/plain": [
       "[]"
      ]
     },
     "execution_count": 11,
     "metadata": {},
     "output_type": "execute_result"
    }
   ],
   "source": [
    "db.list_collection_names()"
   ]
  },
  {
   "cell_type": "code",
   "execution_count": 12,
   "id": "d519c407",
   "metadata": {},
   "outputs": [
    {
     "data": {
      "text/plain": [
       "[]"
      ]
     },
     "execution_count": 12,
     "metadata": {},
     "output_type": "execute_result"
    }
   ],
   "source": [
    "collection_list = db.list_collection_names()\n",
    "collection_list"
   ]
  },
  {
   "cell_type": "markdown",
   "id": "7ca48c9c",
   "metadata": {},
   "source": [
    "## 1 Insert"
   ]
  },
  {
   "cell_type": "code",
   "execution_count": null,
   "id": "a623a9c6",
   "metadata": {},
   "outputs": [],
   "source": [
    "To insert a record/document/row\n",
    "1. Inserting one record using dict"
   ]
  },
  {
   "cell_type": "markdown",
   "id": "6c964408",
   "metadata": {},
   "source": [
    "### 1.1 insert_one()"
   ]
  },
  {
   "cell_type": "code",
   "execution_count": 15,
   "id": "155fcaff",
   "metadata": {},
   "outputs": [
    {
     "data": {
      "text/plain": [
       "<pymongo.results.InsertOneResult at 0x22d1b68f640>"
      ]
     },
     "execution_count": 15,
     "metadata": {},
     "output_type": "execute_result"
    }
   ],
   "source": [
    "collection_user.insert_one({'Name':'Ankit','Mobile Number':9130083200, 'Place':'Pune'})"
   ]
  },
  {
   "cell_type": "code",
   "execution_count": 16,
   "id": "bc9798e7",
   "metadata": {},
   "outputs": [
    {
     "data": {
      "text/plain": [
       "<pymongo.results.InsertOneResult at 0x22d1bf98cc0>"
      ]
     },
     "execution_count": 16,
     "metadata": {},
     "output_type": "execute_result"
    }
   ],
   "source": [
    "query = {'Name':'Mukesh','Mobile Number':87887878787, 'Place':'Kolhapur'}\n",
    "collection_user.insert_one(query)"
   ]
  },
  {
   "cell_type": "code",
   "execution_count": 17,
   "id": "ea03c398",
   "metadata": {},
   "outputs": [
    {
     "data": {
      "text/plain": [
       "<pymongo.results.InsertOneResult at 0x22d1c50ed00>"
      ]
     },
     "execution_count": 17,
     "metadata": {},
     "output_type": "execute_result"
    }
   ],
   "source": [
    "query = {'Name':'Sachin','Mobile Number':4545454545, 'Place':'Delhi'}\n",
    "collection_user.insert_one(query)"
   ]
  },
  {
   "cell_type": "code",
   "execution_count": 20,
   "id": "6595721b",
   "metadata": {},
   "outputs": [
    {
     "data": {
      "text/plain": [
       "<pymongo.results.InsertOneResult at 0x22d1c8bbe40>"
      ]
     },
     "execution_count": 20,
     "metadata": {},
     "output_type": "execute_result"
    }
   ],
   "source": [
    "query = {'Name':'Nikhil','Mobile Number':6767676767, 'Place':'Mumbai'}\n",
    "collection_user.insert_one(query)"
   ]
  },
  {
   "cell_type": "code",
   "execution_count": null,
   "id": "b4c068c0",
   "metadata": {},
   "outputs": [],
   "source": []
  },
  {
   "cell_type": "markdown",
   "id": "a4fac590",
   "metadata": {},
   "source": [
    "### 1.2 insert_many()"
   ]
  },
  {
   "cell_type": "code",
   "execution_count": null,
   "id": "20cdd59e",
   "metadata": {},
   "outputs": [],
   "source": [
    "Used to add one or more records\n",
    "input >> list of dict"
   ]
  },
  {
   "cell_type": "code",
   "execution_count": 93,
   "id": "16d2ae65",
   "metadata": {},
   "outputs": [
    {
     "data": {
      "text/plain": [
       "<pymongo.results.InsertManyResult at 0x22d1e8d52c0>"
      ]
     },
     "execution_count": 93,
     "metadata": {},
     "output_type": "execute_result"
    }
   ],
   "source": [
    "my_data = [{'Name':'Pravin','Mobile Number':2323232323, 'Place':'Chennai'},\n",
    "          {'Name':'Mahesh','Mobile Number':3232323232, 'Place':'Hydrabad'},\n",
    "          {'Name':'Nikhil','Mobile Number':9090909090, 'Place':'Pune'},]\n",
    "collection_user.insert_many(my_data)"
   ]
  },
  {
   "cell_type": "code",
   "execution_count": 33,
   "id": "976ba0f6",
   "metadata": {},
   "outputs": [
    {
     "data": {
      "text/plain": [
       "<pymongo.results.InsertManyResult at 0x22d1ca9eb80>"
      ]
     },
     "execution_count": 33,
     "metadata": {},
     "output_type": "execute_result"
    }
   ],
   "source": [
    "user_data = [{'Name':'Rohit','email_id':'rohit@gmail.com','password':'Rohit@1234'},\n",
    "            {'Name':'Snahin','email_id':'sachin@gmail.com','password':'Sachin@1234'},\n",
    "            {'Name':'Dhoni','email_id':'msd@gmail.com','password':'Msd@1234'}]\n",
    "collection_login.insert_many(user_data)"
   ]
  },
  {
   "cell_type": "markdown",
   "id": "d2b9f586",
   "metadata": {},
   "source": [
    "## 2. Find"
   ]
  },
  {
   "cell_type": "markdown",
   "id": "2c2bcc17",
   "metadata": {},
   "source": [
    "### 2.1 find_one()"
   ]
  },
  {
   "cell_type": "code",
   "execution_count": null,
   "id": "f80484c7",
   "metadata": {},
   "outputs": [],
   "source": [
    "Used to select data/record form collection\n",
    "It return only first occurance"
   ]
  },
  {
   "cell_type": "code",
   "execution_count": 24,
   "id": "3855d136",
   "metadata": {},
   "outputs": [
    {
     "data": {
      "text/plain": [
       "{'_id': ObjectId('61d8574d1833fca0effc97fb'),\n",
       " 'Name': 'Ankit',\n",
       " 'Mobile Number': 9130083200,\n",
       " 'Place': 'Pune'}"
      ]
     },
     "execution_count": 24,
     "metadata": {},
     "output_type": "execute_result"
    }
   ],
   "source": [
    "collection_user.find_one()"
   ]
  },
  {
   "cell_type": "code",
   "execution_count": 27,
   "id": "d7c5a249",
   "metadata": {},
   "outputs": [
    {
     "data": {
      "text/plain": [
       "{'_id': ObjectId('61d858e11833fca0effc9800'),\n",
       " 'Name': 'Nikhil',\n",
       " 'Mobile Number': 9090909090,\n",
       " 'Place': 'Nagpur'}"
      ]
     },
     "execution_count": 27,
     "metadata": {},
     "output_type": "execute_result"
    }
   ],
   "source": [
    "query = {'Name':'Nikhil'}\n",
    "collection_user.find_one(query)"
   ]
  },
  {
   "cell_type": "code",
   "execution_count": 30,
   "id": "420a7366",
   "metadata": {},
   "outputs": [
    {
     "data": {
      "text/plain": [
       "{'_id': ObjectId('61d858e11833fca0effc97ff'),\n",
       " 'Name': 'Mahesh',\n",
       " 'Mobile Number': 3232323232,\n",
       " 'Place': 'Hydrabad'}"
      ]
     },
     "execution_count": 30,
     "metadata": {},
     "output_type": "execute_result"
    }
   ],
   "source": [
    "query = {'Name':'Mahesh'}\n",
    "response = collection_user.find_one(query)\n",
    "response"
   ]
  },
  {
   "cell_type": "code",
   "execution_count": 36,
   "id": "918f967c",
   "metadata": {},
   "outputs": [
    {
     "data": {
      "text/plain": [
       "{'_id': ObjectId('61d85ba11833fca0effc9806'),\n",
       " 'Name': 'Snahin',\n",
       " 'email_id': 'sachin@gmail.com',\n",
       " 'password': 'Sachin@1234'}"
      ]
     },
     "execution_count": 36,
     "metadata": {},
     "output_type": "execute_result"
    }
   ],
   "source": [
    "query = {'email_id':'sachin@gmail.com','password':'Sachin@1234'}\n",
    "response = collection_login.find_one(query)\n",
    "response"
   ]
  },
  {
   "cell_type": "code",
   "execution_count": 41,
   "id": "cdead1be",
   "metadata": {},
   "outputs": [
    {
     "name": "stdout",
     "output_type": "stream",
     "text": [
      "User exist.\n"
     ]
    }
   ],
   "source": [
    "query = {'email_id':'sachin@gmail.com','password':'Sachin@1234'}\n",
    "response = collection_login.find_one(query)\n",
    "response\n",
    "\n",
    "if response:\n",
    "    print(\"User exist.\")\n",
    "else:\n",
    "    print('User does not exists.')"
   ]
  },
  {
   "cell_type": "code",
   "execution_count": 39,
   "id": "f41e19b1",
   "metadata": {},
   "outputs": [
    {
     "name": "stdout",
     "output_type": "stream",
     "text": [
      "Username or Password is wrong!!!\n"
     ]
    }
   ],
   "source": [
    "query = {'email_id':'sachin@gmail.com','password':'sachin@1234'}\n",
    "response = collection_login.find_one(query)\n",
    "response\n",
    "\n",
    "if response:\n",
    "    print(\"User exist\")\n",
    "else:\n",
    "    print('Username or Password is wrong!!!')"
   ]
  },
  {
   "cell_type": "markdown",
   "id": "755ef3dc",
   "metadata": {},
   "source": [
    "### 2.2 find()"
   ]
  },
  {
   "cell_type": "code",
   "execution_count": 48,
   "id": "88409a93",
   "metadata": {},
   "outputs": [
    {
     "name": "stdout",
     "output_type": "stream",
     "text": [
      "<pymongo.cursor.Cursor object at 0x0000022D1CAC6130>\n",
      "[{'_id': ObjectId('61d8574d1833fca0effc97fb'), 'Name': 'Ankit', 'Mobile Number': 9130083200, 'Place': 'Pune'}, {'_id': ObjectId('61d857c91833fca0effc97fc'), 'Name': 'Mukesh', 'Mobile Number': 87887878787, 'Place': 'Kolhapur'}, {'_id': ObjectId('61d8581d1833fca0effc97fd'), 'Name': 'Sachin', 'Mobile Number': 4545454545, 'Place': 'Delhi'}, {'_id': ObjectId('61d858e11833fca0effc97fe'), 'Name': 'Pravin', 'Mobile Number': 2323232323, 'Place': 'Chennai'}, {'_id': ObjectId('61d858e11833fca0effc97ff'), 'Name': 'Mahesh', 'Mobile Number': 3232323232, 'Place': 'Hydrabad'}, {'_id': ObjectId('61d858e11833fca0effc9800'), 'Name': 'Nikhil', 'Mobile Number': 9090909090, 'Place': 'Nagpur'}, {'_id': ObjectId('61d859481833fca0effc9801'), 'Name': 'Nikhil', 'Mobile Number': 6767676767, 'Place': 'Mumbai'}, {'_id': ObjectId('61d859621833fca0effc9802'), 'Name': 'Pravin', 'Mobile Number': 2323232323, 'Place': 'Chennai'}, {'_id': ObjectId('61d859621833fca0effc9803'), 'Name': 'Mahesh', 'Mobile Number': 3232323232, 'Place': 'Hydrabad'}, {'_id': ObjectId('61d859621833fca0effc9804'), 'Name': 'Nikhil', 'Mobile Number': 9090909090, 'Place': 'Pune'}]\n"
     ]
    }
   ],
   "source": [
    "data = collection_user.find()\n",
    "print(data)\n",
    "print(list(data))"
   ]
  },
  {
   "cell_type": "code",
   "execution_count": 47,
   "id": "b7da175d",
   "metadata": {},
   "outputs": [
    {
     "name": "stdout",
     "output_type": "stream",
     "text": [
      "Record >> {'_id': ObjectId('61d8574d1833fca0effc97fb'), 'Name': 'Ankit', 'Mobile Number': 9130083200, 'Place': 'Pune'}\n",
      "Record >> {'_id': ObjectId('61d857c91833fca0effc97fc'), 'Name': 'Mukesh', 'Mobile Number': 87887878787, 'Place': 'Kolhapur'}\n",
      "Record >> {'_id': ObjectId('61d8581d1833fca0effc97fd'), 'Name': 'Sachin', 'Mobile Number': 4545454545, 'Place': 'Delhi'}\n",
      "Record >> {'_id': ObjectId('61d858e11833fca0effc97fe'), 'Name': 'Pravin', 'Mobile Number': 2323232323, 'Place': 'Chennai'}\n",
      "Record >> {'_id': ObjectId('61d858e11833fca0effc97ff'), 'Name': 'Mahesh', 'Mobile Number': 3232323232, 'Place': 'Hydrabad'}\n",
      "Record >> {'_id': ObjectId('61d858e11833fca0effc9800'), 'Name': 'Nikhil', 'Mobile Number': 9090909090, 'Place': 'Nagpur'}\n",
      "Record >> {'_id': ObjectId('61d859481833fca0effc9801'), 'Name': 'Nikhil', 'Mobile Number': 6767676767, 'Place': 'Mumbai'}\n",
      "Record >> {'_id': ObjectId('61d859621833fca0effc9802'), 'Name': 'Pravin', 'Mobile Number': 2323232323, 'Place': 'Chennai'}\n",
      "Record >> {'_id': ObjectId('61d859621833fca0effc9803'), 'Name': 'Mahesh', 'Mobile Number': 3232323232, 'Place': 'Hydrabad'}\n",
      "Record >> {'_id': ObjectId('61d859621833fca0effc9804'), 'Name': 'Nikhil', 'Mobile Number': 9090909090, 'Place': 'Pune'}\n"
     ]
    }
   ],
   "source": [
    "data = collection_user.find()\n",
    "for record in data:\n",
    "    print('Record >>',record)"
   ]
  },
  {
   "cell_type": "code",
   "execution_count": 49,
   "id": "9b7c7cfc",
   "metadata": {},
   "outputs": [
    {
     "name": "stdout",
     "output_type": "stream",
     "text": [
      "Record >> {'_id': ObjectId('61d85ba11833fca0effc9805'), 'Name': 'Rohit', 'email_id': 'rohit@gmail.com', 'password': 'Rohit@1234'}\n",
      "Record >> {'_id': ObjectId('61d85ba11833fca0effc9806'), 'Name': 'Snahin', 'email_id': 'sachin@gmail.com', 'password': 'Sachin@1234'}\n",
      "Record >> {'_id': ObjectId('61d85ba11833fca0effc9807'), 'Name': 'Dhoni', 'email_id': 'msd@gmail.com', 'password': 'Msd@1234'}\n"
     ]
    }
   ],
   "source": [
    "data = collection_login.find()\n",
    "for record in data:\n",
    "    print('Record >>',record)"
   ]
  },
  {
   "cell_type": "code",
   "execution_count": 50,
   "id": "2088ff3f",
   "metadata": {},
   "outputs": [
    {
     "name": "stdout",
     "output_type": "stream",
     "text": [
      "Record >> {'_id': ObjectId('61d8574d1833fca0effc97fb'), 'Name': 'Ankit', 'Mobile Number': 9130083200, 'Place': 'Pune'}\n",
      "Record >> {'_id': ObjectId('61d857c91833fca0effc97fc'), 'Name': 'Mukesh', 'Mobile Number': 87887878787, 'Place': 'Kolhapur'}\n",
      "Record >> {'_id': ObjectId('61d8581d1833fca0effc97fd'), 'Name': 'Sachin', 'Mobile Number': 4545454545, 'Place': 'Delhi'}\n",
      "Record >> {'_id': ObjectId('61d858e11833fca0effc97fe'), 'Name': 'Pravin', 'Mobile Number': 2323232323, 'Place': 'Chennai'}\n",
      "Record >> {'_id': ObjectId('61d858e11833fca0effc97ff'), 'Name': 'Mahesh', 'Mobile Number': 3232323232, 'Place': 'Hydrabad'}\n",
      "Record >> {'_id': ObjectId('61d858e11833fca0effc9800'), 'Name': 'Nikhil', 'Mobile Number': 9090909090, 'Place': 'Nagpur'}\n",
      "Record >> {'_id': ObjectId('61d859481833fca0effc9801'), 'Name': 'Nikhil', 'Mobile Number': 6767676767, 'Place': 'Mumbai'}\n",
      "Record >> {'_id': ObjectId('61d859621833fca0effc9804'), 'Name': 'Nikhil', 'Mobile Number': 9090909090, 'Place': 'Pune'}\n"
     ]
    }
   ],
   "source": [
    "# if we delete any record from MongoDB Compass then it will be reflected here also.\n",
    "data = collection_user.find()\n",
    "for record in data:\n",
    "    print('Record >>',record)"
   ]
  },
  {
   "cell_type": "code",
   "execution_count": 51,
   "id": "85f52852",
   "metadata": {},
   "outputs": [
    {
     "data": {
      "text/plain": [
       "[{'_id': ObjectId('61d858e11833fca0effc9800'),\n",
       "  'Name': 'Nikhil',\n",
       "  'Mobile Number': 9090909090,\n",
       "  'Place': 'Nagpur'},\n",
       " {'_id': ObjectId('61d859481833fca0effc9801'),\n",
       "  'Name': 'Nikhil',\n",
       "  'Mobile Number': 6767676767,\n",
       "  'Place': 'Mumbai'},\n",
       " {'_id': ObjectId('61d859621833fca0effc9804'),\n",
       "  'Name': 'Nikhil',\n",
       "  'Mobile Number': 9090909090,\n",
       "  'Place': 'Pune'}]"
      ]
     },
     "execution_count": 51,
     "metadata": {},
     "output_type": "execute_result"
    }
   ],
   "source": [
    "data = collection_user.find({'Name':'Nikhil'})\n",
    "list(data)"
   ]
  },
  {
   "cell_type": "code",
   "execution_count": 52,
   "id": "a9275c44",
   "metadata": {},
   "outputs": [
    {
     "name": "stdout",
     "output_type": "stream",
     "text": [
      "{'_id': ObjectId('61d858e11833fca0effc9800'), 'Name': 'Nikhil', 'Mobile Number': 9090909090, 'Place': 'Nagpur'}\n",
      "{'_id': ObjectId('61d859481833fca0effc9801'), 'Name': 'Nikhil', 'Mobile Number': 6767676767, 'Place': 'Mumbai'}\n",
      "{'_id': ObjectId('61d859621833fca0effc9804'), 'Name': 'Nikhil', 'Mobile Number': 9090909090, 'Place': 'Pune'}\n"
     ]
    }
   ],
   "source": [
    "data = collection_user.find({'Name':'Nikhil'})\n",
    "for record in data:\n",
    "    print(record)"
   ]
  },
  {
   "cell_type": "code",
   "execution_count": 53,
   "id": "e8775a3f",
   "metadata": {},
   "outputs": [
    {
     "name": "stdout",
     "output_type": "stream",
     "text": [
      "{'_id': ObjectId('61d858e11833fca0effc9800'), 'Name': 'Nikhil', 'Mobile Number': 9090909090, 'Place': 'Nagpur'}\n",
      "{'_id': ObjectId('61d859621833fca0effc9804'), 'Name': 'Nikhil', 'Mobile Number': 9090909090, 'Place': 'Pune'}\n"
     ]
    }
   ],
   "source": [
    "data = collection_user.find({'Name':'Nikhil','Mobile Number':9090909090})\n",
    "for record in data:\n",
    "    print(record)"
   ]
  },
  {
   "cell_type": "code",
   "execution_count": 55,
   "id": "6f5dd38d",
   "metadata": {},
   "outputs": [
    {
     "name": "stdout",
     "output_type": "stream",
     "text": [
      "{'Name': 'Nikhil', 'Mobile Number': 9090909090, 'Place': 'Nagpur'}\n",
      "{'Name': 'Nikhil', 'Mobile Number': 9090909090, 'Place': 'Pune'}\n"
     ]
    }
   ],
   "source": [
    "# To skip id field\n",
    "data = collection_user.find({'Name':'Nikhil','Mobile Number':9090909090},{'_id':0})\n",
    "for record in data:\n",
    "    print(record)"
   ]
  },
  {
   "cell_type": "code",
   "execution_count": 56,
   "id": "89ae72ae",
   "metadata": {},
   "outputs": [
    {
     "name": "stdout",
     "output_type": "stream",
     "text": [
      "{'_id': ObjectId('61d858e11833fca0effc9800'), 'Name': 'Nikhil', 'Place': 'Nagpur'}\n",
      "{'_id': ObjectId('61d859621833fca0effc9804'), 'Name': 'Nikhil', 'Place': 'Pune'}\n"
     ]
    }
   ],
   "source": [
    "# To skip mobile number field\n",
    "data = collection_user.find({'Name':'Nikhil','Mobile Number':9090909090},{'Mobile Number':0})\n",
    "for record in data:\n",
    "    print(record)"
   ]
  },
  {
   "cell_type": "code",
   "execution_count": 57,
   "id": "f197088d",
   "metadata": {},
   "outputs": [
    {
     "name": "stdout",
     "output_type": "stream",
     "text": [
      "{'Name': 'Nikhil', 'Place': 'Nagpur'}\n",
      "{'Name': 'Nikhil', 'Place': 'Pune'}\n"
     ]
    }
   ],
   "source": [
    "# To skip mobile number field\n",
    "data = collection_user.find({'Name':'Nikhil','Mobile Number':9090909090},{'_id':0,'Mobile Number':0})\n",
    "for record in data:\n",
    "    print(record)"
   ]
  },
  {
   "cell_type": "code",
   "execution_count": 60,
   "id": "89813413",
   "metadata": {},
   "outputs": [
    {
     "name": "stdout",
     "output_type": "stream",
     "text": [
      "{'_id': ObjectId('61d8574d1833fca0effc97fb'), 'Name': 'Ankit', 'Mobile Number': 9130083200, 'Place': 'Pune'}\n",
      "{'_id': ObjectId('61d857c91833fca0effc97fc'), 'Name': 'Mukesh', 'Mobile Number': 87887878787, 'Place': 'Kolhapur'}\n",
      "{'_id': ObjectId('61d8581d1833fca0effc97fd'), 'Name': 'Sachin', 'Mobile Number': 4545454545, 'Place': 'Delhi'}\n",
      "{'_id': ObjectId('61d858e11833fca0effc97fe'), 'Name': 'Pravin', 'Mobile Number': 2323232323, 'Place': 'Chennai'}\n",
      "{'_id': ObjectId('61d858e11833fca0effc97ff'), 'Name': 'Mahesh', 'Mobile Number': 3232323232, 'Place': 'Hydrabad'}\n",
      "{'_id': ObjectId('61d858e11833fca0effc9800'), 'Name': 'Nikhil', 'Mobile Number': 9090909090, 'Place': 'Nagpur'}\n",
      "{'_id': ObjectId('61d859481833fca0effc9801'), 'Name': 'Nikhil', 'Mobile Number': 6767676767, 'Place': 'Mumbai'}\n",
      "{'_id': ObjectId('61d859621833fca0effc9804'), 'Name': 'Nikhil', 'Mobile Number': 9090909090, 'Place': 'Pune'}\n"
     ]
    }
   ],
   "source": [
    "data = collection_user.find({})\n",
    "for record in data:\n",
    "    print(record)"
   ]
  },
  {
   "cell_type": "code",
   "execution_count": 64,
   "id": "70d72e44",
   "metadata": {},
   "outputs": [
    {
     "name": "stdout",
     "output_type": "stream",
     "text": [
      "{'Name': 'Ankit', 'Mobile Number': 9130083200, 'Place': 'Pune'}\n",
      "{'Name': 'Mukesh', 'Mobile Number': 87887878787, 'Place': 'Kolhapur'}\n",
      "{'Name': 'Sachin', 'Mobile Number': 4545454545, 'Place': 'Delhi'}\n",
      "{'Name': 'Pravin', 'Mobile Number': 2323232323, 'Place': 'Chennai'}\n",
      "{'Name': 'Mahesh', 'Mobile Number': 3232323232, 'Place': 'Hydrabad'}\n",
      "{'Name': 'Nikhil', 'Mobile Number': 9090909090, 'Place': 'Nagpur'}\n",
      "{'Name': 'Nikhil', 'Mobile Number': 6767676767, 'Place': 'Mumbai'}\n",
      "{'Name': 'Nikhil', 'Mobile Number': 9090909090, 'Place': 'Pune'}\n"
     ]
    }
   ],
   "source": [
    "data = collection_user.find({},{'_id':0})\n",
    "for record in data:\n",
    "    print(record)"
   ]
  },
  {
   "cell_type": "code",
   "execution_count": 62,
   "id": "69a49f65",
   "metadata": {},
   "outputs": [],
   "source": [
    "import pandas as pd"
   ]
  },
  {
   "cell_type": "code",
   "execution_count": 66,
   "id": "5d7f8da3",
   "metadata": {},
   "outputs": [
    {
     "data": {
      "text/html": [
       "<div>\n",
       "<style scoped>\n",
       "    .dataframe tbody tr th:only-of-type {\n",
       "        vertical-align: middle;\n",
       "    }\n",
       "\n",
       "    .dataframe tbody tr th {\n",
       "        vertical-align: top;\n",
       "    }\n",
       "\n",
       "    .dataframe thead th {\n",
       "        text-align: right;\n",
       "    }\n",
       "</style>\n",
       "<table border=\"1\" class=\"dataframe\">\n",
       "  <thead>\n",
       "    <tr style=\"text-align: right;\">\n",
       "      <th></th>\n",
       "      <th>Name</th>\n",
       "      <th>Mobile Number</th>\n",
       "      <th>Place</th>\n",
       "    </tr>\n",
       "  </thead>\n",
       "  <tbody>\n",
       "    <tr>\n",
       "      <th>0</th>\n",
       "      <td>Ankit</td>\n",
       "      <td>9130083200</td>\n",
       "      <td>Pune</td>\n",
       "    </tr>\n",
       "    <tr>\n",
       "      <th>1</th>\n",
       "      <td>Mukesh</td>\n",
       "      <td>87887878787</td>\n",
       "      <td>Kolhapur</td>\n",
       "    </tr>\n",
       "    <tr>\n",
       "      <th>2</th>\n",
       "      <td>Sachin</td>\n",
       "      <td>4545454545</td>\n",
       "      <td>Delhi</td>\n",
       "    </tr>\n",
       "    <tr>\n",
       "      <th>3</th>\n",
       "      <td>Pravin</td>\n",
       "      <td>2323232323</td>\n",
       "      <td>Chennai</td>\n",
       "    </tr>\n",
       "    <tr>\n",
       "      <th>4</th>\n",
       "      <td>Mahesh</td>\n",
       "      <td>3232323232</td>\n",
       "      <td>Hydrabad</td>\n",
       "    </tr>\n",
       "    <tr>\n",
       "      <th>5</th>\n",
       "      <td>Nikhil</td>\n",
       "      <td>9090909090</td>\n",
       "      <td>Nagpur</td>\n",
       "    </tr>\n",
       "    <tr>\n",
       "      <th>6</th>\n",
       "      <td>Nikhil</td>\n",
       "      <td>6767676767</td>\n",
       "      <td>Mumbai</td>\n",
       "    </tr>\n",
       "    <tr>\n",
       "      <th>7</th>\n",
       "      <td>Nikhil</td>\n",
       "      <td>9090909090</td>\n",
       "      <td>Pune</td>\n",
       "    </tr>\n",
       "  </tbody>\n",
       "</table>\n",
       "</div>"
      ],
      "text/plain": [
       "     Name  Mobile Number     Place\n",
       "0   Ankit     9130083200      Pune\n",
       "1  Mukesh    87887878787  Kolhapur\n",
       "2  Sachin     4545454545     Delhi\n",
       "3  Pravin     2323232323   Chennai\n",
       "4  Mahesh     3232323232  Hydrabad\n",
       "5  Nikhil     9090909090    Nagpur\n",
       "6  Nikhil     6767676767    Mumbai\n",
       "7  Nikhil     9090909090      Pune"
      ]
     },
     "execution_count": 66,
     "metadata": {},
     "output_type": "execute_result"
    }
   ],
   "source": [
    "data = collection_user.find({},{'_id':0})\n",
    "df = pd.DataFrame(list(data))\n",
    "df"
   ]
  },
  {
   "cell_type": "code",
   "execution_count": 68,
   "id": "6cadb7f2",
   "metadata": {},
   "outputs": [
    {
     "data": {
      "text/html": [
       "<div>\n",
       "<style scoped>\n",
       "    .dataframe tbody tr th:only-of-type {\n",
       "        vertical-align: middle;\n",
       "    }\n",
       "\n",
       "    .dataframe tbody tr th {\n",
       "        vertical-align: top;\n",
       "    }\n",
       "\n",
       "    .dataframe thead th {\n",
       "        text-align: right;\n",
       "    }\n",
       "</style>\n",
       "<table border=\"1\" class=\"dataframe\">\n",
       "  <thead>\n",
       "    <tr style=\"text-align: right;\">\n",
       "      <th></th>\n",
       "      <th>Name</th>\n",
       "      <th>email_id</th>\n",
       "      <th>password</th>\n",
       "    </tr>\n",
       "  </thead>\n",
       "  <tbody>\n",
       "    <tr>\n",
       "      <th>0</th>\n",
       "      <td>Rohit</td>\n",
       "      <td>rohit@gmail.com</td>\n",
       "      <td>Rohit@1234</td>\n",
       "    </tr>\n",
       "    <tr>\n",
       "      <th>1</th>\n",
       "      <td>Snahin</td>\n",
       "      <td>sachin@gmail.com</td>\n",
       "      <td>Sachin@1234</td>\n",
       "    </tr>\n",
       "    <tr>\n",
       "      <th>2</th>\n",
       "      <td>Dhoni</td>\n",
       "      <td>msd@gmail.com</td>\n",
       "      <td>Msd@1234</td>\n",
       "    </tr>\n",
       "  </tbody>\n",
       "</table>\n",
       "</div>"
      ],
      "text/plain": [
       "     Name          email_id     password\n",
       "0   Rohit   rohit@gmail.com   Rohit@1234\n",
       "1  Snahin  sachin@gmail.com  Sachin@1234\n",
       "2   Dhoni     msd@gmail.com     Msd@1234"
      ]
     },
     "execution_count": 68,
     "metadata": {},
     "output_type": "execute_result"
    }
   ],
   "source": [
    "data = collection_login.find({},{'_id':0})\n",
    "df1 = pd.DataFrame(list(data))\n",
    "df1"
   ]
  },
  {
   "cell_type": "code",
   "execution_count": 69,
   "id": "6d419298",
   "metadata": {},
   "outputs": [
    {
     "data": {
      "text/html": [
       "<div>\n",
       "<style scoped>\n",
       "    .dataframe tbody tr th:only-of-type {\n",
       "        vertical-align: middle;\n",
       "    }\n",
       "\n",
       "    .dataframe tbody tr th {\n",
       "        vertical-align: top;\n",
       "    }\n",
       "\n",
       "    .dataframe thead th {\n",
       "        text-align: right;\n",
       "    }\n",
       "</style>\n",
       "<table border=\"1\" class=\"dataframe\">\n",
       "  <thead>\n",
       "    <tr style=\"text-align: right;\">\n",
       "      <th></th>\n",
       "      <th>Id</th>\n",
       "      <th>SepalLengthCm</th>\n",
       "      <th>SepalWidthCm</th>\n",
       "      <th>PetalLengthCm</th>\n",
       "      <th>PetalWidthCm</th>\n",
       "      <th>Species</th>\n",
       "    </tr>\n",
       "  </thead>\n",
       "  <tbody>\n",
       "    <tr>\n",
       "      <th>0</th>\n",
       "      <td>1</td>\n",
       "      <td>5.1</td>\n",
       "      <td>3.5</td>\n",
       "      <td>1.4</td>\n",
       "      <td>0.2</td>\n",
       "      <td>Iris-setosa</td>\n",
       "    </tr>\n",
       "    <tr>\n",
       "      <th>1</th>\n",
       "      <td>2</td>\n",
       "      <td>4.9</td>\n",
       "      <td>3.0</td>\n",
       "      <td>1.4</td>\n",
       "      <td>0.2</td>\n",
       "      <td>Iris-setosa</td>\n",
       "    </tr>\n",
       "    <tr>\n",
       "      <th>2</th>\n",
       "      <td>3</td>\n",
       "      <td>4.7</td>\n",
       "      <td>3.2</td>\n",
       "      <td>1.3</td>\n",
       "      <td>0.2</td>\n",
       "      <td>Iris-setosa</td>\n",
       "    </tr>\n",
       "    <tr>\n",
       "      <th>3</th>\n",
       "      <td>4</td>\n",
       "      <td>4.6</td>\n",
       "      <td>3.1</td>\n",
       "      <td>1.5</td>\n",
       "      <td>0.2</td>\n",
       "      <td>Iris-setosa</td>\n",
       "    </tr>\n",
       "    <tr>\n",
       "      <th>4</th>\n",
       "      <td>5</td>\n",
       "      <td>5.0</td>\n",
       "      <td>3.6</td>\n",
       "      <td>1.4</td>\n",
       "      <td>0.2</td>\n",
       "      <td>Iris-setosa</td>\n",
       "    </tr>\n",
       "    <tr>\n",
       "      <th>...</th>\n",
       "      <td>...</td>\n",
       "      <td>...</td>\n",
       "      <td>...</td>\n",
       "      <td>...</td>\n",
       "      <td>...</td>\n",
       "      <td>...</td>\n",
       "    </tr>\n",
       "    <tr>\n",
       "      <th>145</th>\n",
       "      <td>146</td>\n",
       "      <td>6.7</td>\n",
       "      <td>3.0</td>\n",
       "      <td>5.2</td>\n",
       "      <td>2.3</td>\n",
       "      <td>Iris-virginica</td>\n",
       "    </tr>\n",
       "    <tr>\n",
       "      <th>146</th>\n",
       "      <td>147</td>\n",
       "      <td>6.3</td>\n",
       "      <td>2.5</td>\n",
       "      <td>5.0</td>\n",
       "      <td>1.9</td>\n",
       "      <td>Iris-virginica</td>\n",
       "    </tr>\n",
       "    <tr>\n",
       "      <th>147</th>\n",
       "      <td>148</td>\n",
       "      <td>6.5</td>\n",
       "      <td>3.0</td>\n",
       "      <td>5.2</td>\n",
       "      <td>2.0</td>\n",
       "      <td>Iris-virginica</td>\n",
       "    </tr>\n",
       "    <tr>\n",
       "      <th>148</th>\n",
       "      <td>149</td>\n",
       "      <td>6.2</td>\n",
       "      <td>3.4</td>\n",
       "      <td>5.4</td>\n",
       "      <td>2.3</td>\n",
       "      <td>Iris-virginica</td>\n",
       "    </tr>\n",
       "    <tr>\n",
       "      <th>149</th>\n",
       "      <td>150</td>\n",
       "      <td>5.9</td>\n",
       "      <td>3.0</td>\n",
       "      <td>5.1</td>\n",
       "      <td>1.8</td>\n",
       "      <td>Iris-virginica</td>\n",
       "    </tr>\n",
       "  </tbody>\n",
       "</table>\n",
       "<p>150 rows × 6 columns</p>\n",
       "</div>"
      ],
      "text/plain": [
       "      Id  SepalLengthCm  SepalWidthCm  PetalLengthCm  PetalWidthCm  \\\n",
       "0      1            5.1           3.5            1.4           0.2   \n",
       "1      2            4.9           3.0            1.4           0.2   \n",
       "2      3            4.7           3.2            1.3           0.2   \n",
       "3      4            4.6           3.1            1.5           0.2   \n",
       "4      5            5.0           3.6            1.4           0.2   \n",
       "..   ...            ...           ...            ...           ...   \n",
       "145  146            6.7           3.0            5.2           2.3   \n",
       "146  147            6.3           2.5            5.0           1.9   \n",
       "147  148            6.5           3.0            5.2           2.0   \n",
       "148  149            6.2           3.4            5.4           2.3   \n",
       "149  150            5.9           3.0            5.1           1.8   \n",
       "\n",
       "            Species  \n",
       "0       Iris-setosa  \n",
       "1       Iris-setosa  \n",
       "2       Iris-setosa  \n",
       "3       Iris-setosa  \n",
       "4       Iris-setosa  \n",
       "..              ...  \n",
       "145  Iris-virginica  \n",
       "146  Iris-virginica  \n",
       "147  Iris-virginica  \n",
       "148  Iris-virginica  \n",
       "149  Iris-virginica  \n",
       "\n",
       "[150 rows x 6 columns]"
      ]
     },
     "execution_count": 69,
     "metadata": {},
     "output_type": "execute_result"
    }
   ],
   "source": [
    "df3 = pd.read_csv('Iris.csv')\n",
    "df3"
   ]
  },
  {
   "cell_type": "code",
   "execution_count": 70,
   "id": "304879d4",
   "metadata": {
    "collapsed": true
   },
   "outputs": [
    {
     "data": {
      "text/plain": [
       "[{'Id': 1,\n",
       "  'SepalLengthCm': 5.1,\n",
       "  'SepalWidthCm': 3.5,\n",
       "  'PetalLengthCm': 1.4,\n",
       "  'PetalWidthCm': 0.2,\n",
       "  'Species': 'Iris-setosa'},\n",
       " {'Id': 2,\n",
       "  'SepalLengthCm': 4.9,\n",
       "  'SepalWidthCm': 3.0,\n",
       "  'PetalLengthCm': 1.4,\n",
       "  'PetalWidthCm': 0.2,\n",
       "  'Species': 'Iris-setosa'},\n",
       " {'Id': 3,\n",
       "  'SepalLengthCm': 4.7,\n",
       "  'SepalWidthCm': 3.2,\n",
       "  'PetalLengthCm': 1.3,\n",
       "  'PetalWidthCm': 0.2,\n",
       "  'Species': 'Iris-setosa'},\n",
       " {'Id': 4,\n",
       "  'SepalLengthCm': 4.6,\n",
       "  'SepalWidthCm': 3.1,\n",
       "  'PetalLengthCm': 1.5,\n",
       "  'PetalWidthCm': 0.2,\n",
       "  'Species': 'Iris-setosa'},\n",
       " {'Id': 5,\n",
       "  'SepalLengthCm': 5.0,\n",
       "  'SepalWidthCm': 3.6,\n",
       "  'PetalLengthCm': 1.4,\n",
       "  'PetalWidthCm': 0.2,\n",
       "  'Species': 'Iris-setosa'},\n",
       " {'Id': 6,\n",
       "  'SepalLengthCm': 5.4,\n",
       "  'SepalWidthCm': 3.9,\n",
       "  'PetalLengthCm': 1.7,\n",
       "  'PetalWidthCm': 0.4,\n",
       "  'Species': 'Iris-setosa'},\n",
       " {'Id': 7,\n",
       "  'SepalLengthCm': 4.6,\n",
       "  'SepalWidthCm': 3.4,\n",
       "  'PetalLengthCm': 1.4,\n",
       "  'PetalWidthCm': 0.3,\n",
       "  'Species': 'Iris-setosa'},\n",
       " {'Id': 8,\n",
       "  'SepalLengthCm': 5.0,\n",
       "  'SepalWidthCm': 3.4,\n",
       "  'PetalLengthCm': 1.5,\n",
       "  'PetalWidthCm': 0.2,\n",
       "  'Species': 'Iris-setosa'},\n",
       " {'Id': 9,\n",
       "  'SepalLengthCm': 4.4,\n",
       "  'SepalWidthCm': 2.9,\n",
       "  'PetalLengthCm': 1.4,\n",
       "  'PetalWidthCm': 0.2,\n",
       "  'Species': 'Iris-setosa'},\n",
       " {'Id': 10,\n",
       "  'SepalLengthCm': 4.9,\n",
       "  'SepalWidthCm': 3.1,\n",
       "  'PetalLengthCm': 1.5,\n",
       "  'PetalWidthCm': 0.1,\n",
       "  'Species': 'Iris-setosa'},\n",
       " {'Id': 11,\n",
       "  'SepalLengthCm': 5.4,\n",
       "  'SepalWidthCm': 3.7,\n",
       "  'PetalLengthCm': 1.5,\n",
       "  'PetalWidthCm': 0.2,\n",
       "  'Species': 'Iris-setosa'},\n",
       " {'Id': 12,\n",
       "  'SepalLengthCm': 4.8,\n",
       "  'SepalWidthCm': 3.4,\n",
       "  'PetalLengthCm': 1.6,\n",
       "  'PetalWidthCm': 0.2,\n",
       "  'Species': 'Iris-setosa'},\n",
       " {'Id': 13,\n",
       "  'SepalLengthCm': 4.8,\n",
       "  'SepalWidthCm': 3.0,\n",
       "  'PetalLengthCm': 1.4,\n",
       "  'PetalWidthCm': 0.1,\n",
       "  'Species': 'Iris-setosa'},\n",
       " {'Id': 14,\n",
       "  'SepalLengthCm': 4.3,\n",
       "  'SepalWidthCm': 3.0,\n",
       "  'PetalLengthCm': 1.1,\n",
       "  'PetalWidthCm': 0.1,\n",
       "  'Species': 'Iris-setosa'},\n",
       " {'Id': 15,\n",
       "  'SepalLengthCm': 5.8,\n",
       "  'SepalWidthCm': 4.0,\n",
       "  'PetalLengthCm': 1.2,\n",
       "  'PetalWidthCm': 0.2,\n",
       "  'Species': 'Iris-setosa'},\n",
       " {'Id': 16,\n",
       "  'SepalLengthCm': 5.7,\n",
       "  'SepalWidthCm': 4.4,\n",
       "  'PetalLengthCm': 1.5,\n",
       "  'PetalWidthCm': 0.4,\n",
       "  'Species': 'Iris-setosa'},\n",
       " {'Id': 17,\n",
       "  'SepalLengthCm': 5.4,\n",
       "  'SepalWidthCm': 3.9,\n",
       "  'PetalLengthCm': 1.3,\n",
       "  'PetalWidthCm': 0.4,\n",
       "  'Species': 'Iris-setosa'},\n",
       " {'Id': 18,\n",
       "  'SepalLengthCm': 5.1,\n",
       "  'SepalWidthCm': 3.5,\n",
       "  'PetalLengthCm': 1.4,\n",
       "  'PetalWidthCm': 0.3,\n",
       "  'Species': 'Iris-setosa'},\n",
       " {'Id': 19,\n",
       "  'SepalLengthCm': 5.7,\n",
       "  'SepalWidthCm': 3.8,\n",
       "  'PetalLengthCm': 1.7,\n",
       "  'PetalWidthCm': 0.3,\n",
       "  'Species': 'Iris-setosa'},\n",
       " {'Id': 20,\n",
       "  'SepalLengthCm': 5.1,\n",
       "  'SepalWidthCm': 3.8,\n",
       "  'PetalLengthCm': 1.5,\n",
       "  'PetalWidthCm': 0.3,\n",
       "  'Species': 'Iris-setosa'},\n",
       " {'Id': 21,\n",
       "  'SepalLengthCm': 5.4,\n",
       "  'SepalWidthCm': 3.4,\n",
       "  'PetalLengthCm': 1.7,\n",
       "  'PetalWidthCm': 0.2,\n",
       "  'Species': 'Iris-setosa'},\n",
       " {'Id': 22,\n",
       "  'SepalLengthCm': 5.1,\n",
       "  'SepalWidthCm': 3.7,\n",
       "  'PetalLengthCm': 1.5,\n",
       "  'PetalWidthCm': 0.4,\n",
       "  'Species': 'Iris-setosa'},\n",
       " {'Id': 23,\n",
       "  'SepalLengthCm': 4.6,\n",
       "  'SepalWidthCm': 3.6,\n",
       "  'PetalLengthCm': 1.0,\n",
       "  'PetalWidthCm': 0.2,\n",
       "  'Species': 'Iris-setosa'},\n",
       " {'Id': 24,\n",
       "  'SepalLengthCm': 5.1,\n",
       "  'SepalWidthCm': 3.3,\n",
       "  'PetalLengthCm': 1.7,\n",
       "  'PetalWidthCm': 0.5,\n",
       "  'Species': 'Iris-setosa'},\n",
       " {'Id': 25,\n",
       "  'SepalLengthCm': 4.8,\n",
       "  'SepalWidthCm': 3.4,\n",
       "  'PetalLengthCm': 1.9,\n",
       "  'PetalWidthCm': 0.2,\n",
       "  'Species': 'Iris-setosa'},\n",
       " {'Id': 26,\n",
       "  'SepalLengthCm': 5.0,\n",
       "  'SepalWidthCm': 3.0,\n",
       "  'PetalLengthCm': 1.6,\n",
       "  'PetalWidthCm': 0.2,\n",
       "  'Species': 'Iris-setosa'},\n",
       " {'Id': 27,\n",
       "  'SepalLengthCm': 5.0,\n",
       "  'SepalWidthCm': 3.4,\n",
       "  'PetalLengthCm': 1.6,\n",
       "  'PetalWidthCm': 0.4,\n",
       "  'Species': 'Iris-setosa'},\n",
       " {'Id': 28,\n",
       "  'SepalLengthCm': 5.2,\n",
       "  'SepalWidthCm': 3.5,\n",
       "  'PetalLengthCm': 1.5,\n",
       "  'PetalWidthCm': 0.2,\n",
       "  'Species': 'Iris-setosa'},\n",
       " {'Id': 29,\n",
       "  'SepalLengthCm': 5.2,\n",
       "  'SepalWidthCm': 3.4,\n",
       "  'PetalLengthCm': 1.4,\n",
       "  'PetalWidthCm': 0.2,\n",
       "  'Species': 'Iris-setosa'},\n",
       " {'Id': 30,\n",
       "  'SepalLengthCm': 4.7,\n",
       "  'SepalWidthCm': 3.2,\n",
       "  'PetalLengthCm': 1.6,\n",
       "  'PetalWidthCm': 0.2,\n",
       "  'Species': 'Iris-setosa'},\n",
       " {'Id': 31,\n",
       "  'SepalLengthCm': 4.8,\n",
       "  'SepalWidthCm': 3.1,\n",
       "  'PetalLengthCm': 1.6,\n",
       "  'PetalWidthCm': 0.2,\n",
       "  'Species': 'Iris-setosa'},\n",
       " {'Id': 32,\n",
       "  'SepalLengthCm': 5.4,\n",
       "  'SepalWidthCm': 3.4,\n",
       "  'PetalLengthCm': 1.5,\n",
       "  'PetalWidthCm': 0.4,\n",
       "  'Species': 'Iris-setosa'},\n",
       " {'Id': 33,\n",
       "  'SepalLengthCm': 5.2,\n",
       "  'SepalWidthCm': 4.1,\n",
       "  'PetalLengthCm': 1.5,\n",
       "  'PetalWidthCm': 0.1,\n",
       "  'Species': 'Iris-setosa'},\n",
       " {'Id': 34,\n",
       "  'SepalLengthCm': 5.5,\n",
       "  'SepalWidthCm': 4.2,\n",
       "  'PetalLengthCm': 1.4,\n",
       "  'PetalWidthCm': 0.2,\n",
       "  'Species': 'Iris-setosa'},\n",
       " {'Id': 35,\n",
       "  'SepalLengthCm': 4.9,\n",
       "  'SepalWidthCm': 3.1,\n",
       "  'PetalLengthCm': 1.5,\n",
       "  'PetalWidthCm': 0.1,\n",
       "  'Species': 'Iris-setosa'},\n",
       " {'Id': 36,\n",
       "  'SepalLengthCm': 5.0,\n",
       "  'SepalWidthCm': 3.2,\n",
       "  'PetalLengthCm': 1.2,\n",
       "  'PetalWidthCm': 0.2,\n",
       "  'Species': 'Iris-setosa'},\n",
       " {'Id': 37,\n",
       "  'SepalLengthCm': 5.5,\n",
       "  'SepalWidthCm': 3.5,\n",
       "  'PetalLengthCm': 1.3,\n",
       "  'PetalWidthCm': 0.2,\n",
       "  'Species': 'Iris-setosa'},\n",
       " {'Id': 38,\n",
       "  'SepalLengthCm': 4.9,\n",
       "  'SepalWidthCm': 3.1,\n",
       "  'PetalLengthCm': 1.5,\n",
       "  'PetalWidthCm': 0.1,\n",
       "  'Species': 'Iris-setosa'},\n",
       " {'Id': 39,\n",
       "  'SepalLengthCm': 4.4,\n",
       "  'SepalWidthCm': 3.0,\n",
       "  'PetalLengthCm': 1.3,\n",
       "  'PetalWidthCm': 0.2,\n",
       "  'Species': 'Iris-setosa'},\n",
       " {'Id': 40,\n",
       "  'SepalLengthCm': 5.1,\n",
       "  'SepalWidthCm': 3.4,\n",
       "  'PetalLengthCm': 1.5,\n",
       "  'PetalWidthCm': 0.2,\n",
       "  'Species': 'Iris-setosa'},\n",
       " {'Id': 41,\n",
       "  'SepalLengthCm': 5.0,\n",
       "  'SepalWidthCm': 3.5,\n",
       "  'PetalLengthCm': 1.3,\n",
       "  'PetalWidthCm': 0.3,\n",
       "  'Species': 'Iris-setosa'},\n",
       " {'Id': 42,\n",
       "  'SepalLengthCm': 4.5,\n",
       "  'SepalWidthCm': 2.3,\n",
       "  'PetalLengthCm': 1.3,\n",
       "  'PetalWidthCm': 0.3,\n",
       "  'Species': 'Iris-setosa'},\n",
       " {'Id': 43,\n",
       "  'SepalLengthCm': 4.4,\n",
       "  'SepalWidthCm': 3.2,\n",
       "  'PetalLengthCm': 1.3,\n",
       "  'PetalWidthCm': 0.2,\n",
       "  'Species': 'Iris-setosa'},\n",
       " {'Id': 44,\n",
       "  'SepalLengthCm': 5.0,\n",
       "  'SepalWidthCm': 3.5,\n",
       "  'PetalLengthCm': 1.6,\n",
       "  'PetalWidthCm': 0.6,\n",
       "  'Species': 'Iris-setosa'},\n",
       " {'Id': 45,\n",
       "  'SepalLengthCm': 5.1,\n",
       "  'SepalWidthCm': 3.8,\n",
       "  'PetalLengthCm': 1.9,\n",
       "  'PetalWidthCm': 0.4,\n",
       "  'Species': 'Iris-setosa'},\n",
       " {'Id': 46,\n",
       "  'SepalLengthCm': 4.8,\n",
       "  'SepalWidthCm': 3.0,\n",
       "  'PetalLengthCm': 1.4,\n",
       "  'PetalWidthCm': 0.3,\n",
       "  'Species': 'Iris-setosa'},\n",
       " {'Id': 47,\n",
       "  'SepalLengthCm': 5.1,\n",
       "  'SepalWidthCm': 3.8,\n",
       "  'PetalLengthCm': 1.6,\n",
       "  'PetalWidthCm': 0.2,\n",
       "  'Species': 'Iris-setosa'},\n",
       " {'Id': 48,\n",
       "  'SepalLengthCm': 4.6,\n",
       "  'SepalWidthCm': 3.2,\n",
       "  'PetalLengthCm': 1.4,\n",
       "  'PetalWidthCm': 0.2,\n",
       "  'Species': 'Iris-setosa'},\n",
       " {'Id': 49,\n",
       "  'SepalLengthCm': 5.3,\n",
       "  'SepalWidthCm': 3.7,\n",
       "  'PetalLengthCm': 1.5,\n",
       "  'PetalWidthCm': 0.2,\n",
       "  'Species': 'Iris-setosa'},\n",
       " {'Id': 50,\n",
       "  'SepalLengthCm': 5.0,\n",
       "  'SepalWidthCm': 3.3,\n",
       "  'PetalLengthCm': 1.4,\n",
       "  'PetalWidthCm': 0.2,\n",
       "  'Species': 'Iris-setosa'},\n",
       " {'Id': 51,\n",
       "  'SepalLengthCm': 7.0,\n",
       "  'SepalWidthCm': 3.2,\n",
       "  'PetalLengthCm': 4.7,\n",
       "  'PetalWidthCm': 1.4,\n",
       "  'Species': 'Iris-versicolor'},\n",
       " {'Id': 52,\n",
       "  'SepalLengthCm': 6.4,\n",
       "  'SepalWidthCm': 3.2,\n",
       "  'PetalLengthCm': 4.5,\n",
       "  'PetalWidthCm': 1.5,\n",
       "  'Species': 'Iris-versicolor'},\n",
       " {'Id': 53,\n",
       "  'SepalLengthCm': 6.9,\n",
       "  'SepalWidthCm': 3.1,\n",
       "  'PetalLengthCm': 4.9,\n",
       "  'PetalWidthCm': 1.5,\n",
       "  'Species': 'Iris-versicolor'},\n",
       " {'Id': 54,\n",
       "  'SepalLengthCm': 5.5,\n",
       "  'SepalWidthCm': 2.3,\n",
       "  'PetalLengthCm': 4.0,\n",
       "  'PetalWidthCm': 1.3,\n",
       "  'Species': 'Iris-versicolor'},\n",
       " {'Id': 55,\n",
       "  'SepalLengthCm': 6.5,\n",
       "  'SepalWidthCm': 2.8,\n",
       "  'PetalLengthCm': 4.6,\n",
       "  'PetalWidthCm': 1.5,\n",
       "  'Species': 'Iris-versicolor'},\n",
       " {'Id': 56,\n",
       "  'SepalLengthCm': 5.7,\n",
       "  'SepalWidthCm': 2.8,\n",
       "  'PetalLengthCm': 4.5,\n",
       "  'PetalWidthCm': 1.3,\n",
       "  'Species': 'Iris-versicolor'},\n",
       " {'Id': 57,\n",
       "  'SepalLengthCm': 6.3,\n",
       "  'SepalWidthCm': 3.3,\n",
       "  'PetalLengthCm': 4.7,\n",
       "  'PetalWidthCm': 1.6,\n",
       "  'Species': 'Iris-versicolor'},\n",
       " {'Id': 58,\n",
       "  'SepalLengthCm': 4.9,\n",
       "  'SepalWidthCm': 2.4,\n",
       "  'PetalLengthCm': 3.3,\n",
       "  'PetalWidthCm': 1.0,\n",
       "  'Species': 'Iris-versicolor'},\n",
       " {'Id': 59,\n",
       "  'SepalLengthCm': 6.6,\n",
       "  'SepalWidthCm': 2.9,\n",
       "  'PetalLengthCm': 4.6,\n",
       "  'PetalWidthCm': 1.3,\n",
       "  'Species': 'Iris-versicolor'},\n",
       " {'Id': 60,\n",
       "  'SepalLengthCm': 5.2,\n",
       "  'SepalWidthCm': 2.7,\n",
       "  'PetalLengthCm': 3.9,\n",
       "  'PetalWidthCm': 1.4,\n",
       "  'Species': 'Iris-versicolor'},\n",
       " {'Id': 61,\n",
       "  'SepalLengthCm': 5.0,\n",
       "  'SepalWidthCm': 2.0,\n",
       "  'PetalLengthCm': 3.5,\n",
       "  'PetalWidthCm': 1.0,\n",
       "  'Species': 'Iris-versicolor'},\n",
       " {'Id': 62,\n",
       "  'SepalLengthCm': 5.9,\n",
       "  'SepalWidthCm': 3.0,\n",
       "  'PetalLengthCm': 4.2,\n",
       "  'PetalWidthCm': 1.5,\n",
       "  'Species': 'Iris-versicolor'},\n",
       " {'Id': 63,\n",
       "  'SepalLengthCm': 6.0,\n",
       "  'SepalWidthCm': 2.2,\n",
       "  'PetalLengthCm': 4.0,\n",
       "  'PetalWidthCm': 1.0,\n",
       "  'Species': 'Iris-versicolor'},\n",
       " {'Id': 64,\n",
       "  'SepalLengthCm': 6.1,\n",
       "  'SepalWidthCm': 2.9,\n",
       "  'PetalLengthCm': 4.7,\n",
       "  'PetalWidthCm': 1.4,\n",
       "  'Species': 'Iris-versicolor'},\n",
       " {'Id': 65,\n",
       "  'SepalLengthCm': 5.6,\n",
       "  'SepalWidthCm': 2.9,\n",
       "  'PetalLengthCm': 3.6,\n",
       "  'PetalWidthCm': 1.3,\n",
       "  'Species': 'Iris-versicolor'},\n",
       " {'Id': 66,\n",
       "  'SepalLengthCm': 6.7,\n",
       "  'SepalWidthCm': 3.1,\n",
       "  'PetalLengthCm': 4.4,\n",
       "  'PetalWidthCm': 1.4,\n",
       "  'Species': 'Iris-versicolor'},\n",
       " {'Id': 67,\n",
       "  'SepalLengthCm': 5.6,\n",
       "  'SepalWidthCm': 3.0,\n",
       "  'PetalLengthCm': 4.5,\n",
       "  'PetalWidthCm': 1.5,\n",
       "  'Species': 'Iris-versicolor'},\n",
       " {'Id': 68,\n",
       "  'SepalLengthCm': 5.8,\n",
       "  'SepalWidthCm': 2.7,\n",
       "  'PetalLengthCm': 4.1,\n",
       "  'PetalWidthCm': 1.0,\n",
       "  'Species': 'Iris-versicolor'},\n",
       " {'Id': 69,\n",
       "  'SepalLengthCm': 6.2,\n",
       "  'SepalWidthCm': 2.2,\n",
       "  'PetalLengthCm': 4.5,\n",
       "  'PetalWidthCm': 1.5,\n",
       "  'Species': 'Iris-versicolor'},\n",
       " {'Id': 70,\n",
       "  'SepalLengthCm': 5.6,\n",
       "  'SepalWidthCm': 2.5,\n",
       "  'PetalLengthCm': 3.9,\n",
       "  'PetalWidthCm': 1.1,\n",
       "  'Species': 'Iris-versicolor'},\n",
       " {'Id': 71,\n",
       "  'SepalLengthCm': 5.9,\n",
       "  'SepalWidthCm': 3.2,\n",
       "  'PetalLengthCm': 4.8,\n",
       "  'PetalWidthCm': 1.8,\n",
       "  'Species': 'Iris-versicolor'},\n",
       " {'Id': 72,\n",
       "  'SepalLengthCm': 6.1,\n",
       "  'SepalWidthCm': 2.8,\n",
       "  'PetalLengthCm': 4.0,\n",
       "  'PetalWidthCm': 1.3,\n",
       "  'Species': 'Iris-versicolor'},\n",
       " {'Id': 73,\n",
       "  'SepalLengthCm': 6.3,\n",
       "  'SepalWidthCm': 2.5,\n",
       "  'PetalLengthCm': 4.9,\n",
       "  'PetalWidthCm': 1.5,\n",
       "  'Species': 'Iris-versicolor'},\n",
       " {'Id': 74,\n",
       "  'SepalLengthCm': 6.1,\n",
       "  'SepalWidthCm': 2.8,\n",
       "  'PetalLengthCm': 4.7,\n",
       "  'PetalWidthCm': 1.2,\n",
       "  'Species': 'Iris-versicolor'},\n",
       " {'Id': 75,\n",
       "  'SepalLengthCm': 6.4,\n",
       "  'SepalWidthCm': 2.9,\n",
       "  'PetalLengthCm': 4.3,\n",
       "  'PetalWidthCm': 1.3,\n",
       "  'Species': 'Iris-versicolor'},\n",
       " {'Id': 76,\n",
       "  'SepalLengthCm': 6.6,\n",
       "  'SepalWidthCm': 3.0,\n",
       "  'PetalLengthCm': 4.4,\n",
       "  'PetalWidthCm': 1.4,\n",
       "  'Species': 'Iris-versicolor'},\n",
       " {'Id': 77,\n",
       "  'SepalLengthCm': 6.8,\n",
       "  'SepalWidthCm': 2.8,\n",
       "  'PetalLengthCm': 4.8,\n",
       "  'PetalWidthCm': 1.4,\n",
       "  'Species': 'Iris-versicolor'},\n",
       " {'Id': 78,\n",
       "  'SepalLengthCm': 6.7,\n",
       "  'SepalWidthCm': 3.0,\n",
       "  'PetalLengthCm': 5.0,\n",
       "  'PetalWidthCm': 1.7,\n",
       "  'Species': 'Iris-versicolor'},\n",
       " {'Id': 79,\n",
       "  'SepalLengthCm': 6.0,\n",
       "  'SepalWidthCm': 2.9,\n",
       "  'PetalLengthCm': 4.5,\n",
       "  'PetalWidthCm': 1.5,\n",
       "  'Species': 'Iris-versicolor'},\n",
       " {'Id': 80,\n",
       "  'SepalLengthCm': 5.7,\n",
       "  'SepalWidthCm': 2.6,\n",
       "  'PetalLengthCm': 3.5,\n",
       "  'PetalWidthCm': 1.0,\n",
       "  'Species': 'Iris-versicolor'},\n",
       " {'Id': 81,\n",
       "  'SepalLengthCm': 5.5,\n",
       "  'SepalWidthCm': 2.4,\n",
       "  'PetalLengthCm': 3.8,\n",
       "  'PetalWidthCm': 1.1,\n",
       "  'Species': 'Iris-versicolor'},\n",
       " {'Id': 82,\n",
       "  'SepalLengthCm': 5.5,\n",
       "  'SepalWidthCm': 2.4,\n",
       "  'PetalLengthCm': 3.7,\n",
       "  'PetalWidthCm': 1.0,\n",
       "  'Species': 'Iris-versicolor'},\n",
       " {'Id': 83,\n",
       "  'SepalLengthCm': 5.8,\n",
       "  'SepalWidthCm': 2.7,\n",
       "  'PetalLengthCm': 3.9,\n",
       "  'PetalWidthCm': 1.2,\n",
       "  'Species': 'Iris-versicolor'},\n",
       " {'Id': 84,\n",
       "  'SepalLengthCm': 6.0,\n",
       "  'SepalWidthCm': 2.7,\n",
       "  'PetalLengthCm': 5.1,\n",
       "  'PetalWidthCm': 1.6,\n",
       "  'Species': 'Iris-versicolor'},\n",
       " {'Id': 85,\n",
       "  'SepalLengthCm': 5.4,\n",
       "  'SepalWidthCm': 3.0,\n",
       "  'PetalLengthCm': 4.5,\n",
       "  'PetalWidthCm': 1.5,\n",
       "  'Species': 'Iris-versicolor'},\n",
       " {'Id': 86,\n",
       "  'SepalLengthCm': 6.0,\n",
       "  'SepalWidthCm': 3.4,\n",
       "  'PetalLengthCm': 4.5,\n",
       "  'PetalWidthCm': 1.6,\n",
       "  'Species': 'Iris-versicolor'},\n",
       " {'Id': 87,\n",
       "  'SepalLengthCm': 6.7,\n",
       "  'SepalWidthCm': 3.1,\n",
       "  'PetalLengthCm': 4.7,\n",
       "  'PetalWidthCm': 1.5,\n",
       "  'Species': 'Iris-versicolor'},\n",
       " {'Id': 88,\n",
       "  'SepalLengthCm': 6.3,\n",
       "  'SepalWidthCm': 2.3,\n",
       "  'PetalLengthCm': 4.4,\n",
       "  'PetalWidthCm': 1.3,\n",
       "  'Species': 'Iris-versicolor'},\n",
       " {'Id': 89,\n",
       "  'SepalLengthCm': 5.6,\n",
       "  'SepalWidthCm': 3.0,\n",
       "  'PetalLengthCm': 4.1,\n",
       "  'PetalWidthCm': 1.3,\n",
       "  'Species': 'Iris-versicolor'},\n",
       " {'Id': 90,\n",
       "  'SepalLengthCm': 5.5,\n",
       "  'SepalWidthCm': 2.5,\n",
       "  'PetalLengthCm': 4.0,\n",
       "  'PetalWidthCm': 1.3,\n",
       "  'Species': 'Iris-versicolor'},\n",
       " {'Id': 91,\n",
       "  'SepalLengthCm': 5.5,\n",
       "  'SepalWidthCm': 2.6,\n",
       "  'PetalLengthCm': 4.4,\n",
       "  'PetalWidthCm': 1.2,\n",
       "  'Species': 'Iris-versicolor'},\n",
       " {'Id': 92,\n",
       "  'SepalLengthCm': 6.1,\n",
       "  'SepalWidthCm': 3.0,\n",
       "  'PetalLengthCm': 4.6,\n",
       "  'PetalWidthCm': 1.4,\n",
       "  'Species': 'Iris-versicolor'},\n",
       " {'Id': 93,\n",
       "  'SepalLengthCm': 5.8,\n",
       "  'SepalWidthCm': 2.6,\n",
       "  'PetalLengthCm': 4.0,\n",
       "  'PetalWidthCm': 1.2,\n",
       "  'Species': 'Iris-versicolor'},\n",
       " {'Id': 94,\n",
       "  'SepalLengthCm': 5.0,\n",
       "  'SepalWidthCm': 2.3,\n",
       "  'PetalLengthCm': 3.3,\n",
       "  'PetalWidthCm': 1.0,\n",
       "  'Species': 'Iris-versicolor'},\n",
       " {'Id': 95,\n",
       "  'SepalLengthCm': 5.6,\n",
       "  'SepalWidthCm': 2.7,\n",
       "  'PetalLengthCm': 4.2,\n",
       "  'PetalWidthCm': 1.3,\n",
       "  'Species': 'Iris-versicolor'},\n",
       " {'Id': 96,\n",
       "  'SepalLengthCm': 5.7,\n",
       "  'SepalWidthCm': 3.0,\n",
       "  'PetalLengthCm': 4.2,\n",
       "  'PetalWidthCm': 1.2,\n",
       "  'Species': 'Iris-versicolor'},\n",
       " {'Id': 97,\n",
       "  'SepalLengthCm': 5.7,\n",
       "  'SepalWidthCm': 2.9,\n",
       "  'PetalLengthCm': 4.2,\n",
       "  'PetalWidthCm': 1.3,\n",
       "  'Species': 'Iris-versicolor'},\n",
       " {'Id': 98,\n",
       "  'SepalLengthCm': 6.2,\n",
       "  'SepalWidthCm': 2.9,\n",
       "  'PetalLengthCm': 4.3,\n",
       "  'PetalWidthCm': 1.3,\n",
       "  'Species': 'Iris-versicolor'},\n",
       " {'Id': 99,\n",
       "  'SepalLengthCm': 5.1,\n",
       "  'SepalWidthCm': 2.5,\n",
       "  'PetalLengthCm': 3.0,\n",
       "  'PetalWidthCm': 1.1,\n",
       "  'Species': 'Iris-versicolor'},\n",
       " {'Id': 100,\n",
       "  'SepalLengthCm': 5.7,\n",
       "  'SepalWidthCm': 2.8,\n",
       "  'PetalLengthCm': 4.1,\n",
       "  'PetalWidthCm': 1.3,\n",
       "  'Species': 'Iris-versicolor'},\n",
       " {'Id': 101,\n",
       "  'SepalLengthCm': 6.3,\n",
       "  'SepalWidthCm': 3.3,\n",
       "  'PetalLengthCm': 6.0,\n",
       "  'PetalWidthCm': 2.5,\n",
       "  'Species': 'Iris-virginica'},\n",
       " {'Id': 102,\n",
       "  'SepalLengthCm': 5.8,\n",
       "  'SepalWidthCm': 2.7,\n",
       "  'PetalLengthCm': 5.1,\n",
       "  'PetalWidthCm': 1.9,\n",
       "  'Species': 'Iris-virginica'},\n",
       " {'Id': 103,\n",
       "  'SepalLengthCm': 7.1,\n",
       "  'SepalWidthCm': 3.0,\n",
       "  'PetalLengthCm': 5.9,\n",
       "  'PetalWidthCm': 2.1,\n",
       "  'Species': 'Iris-virginica'},\n",
       " {'Id': 104,\n",
       "  'SepalLengthCm': 6.3,\n",
       "  'SepalWidthCm': 2.9,\n",
       "  'PetalLengthCm': 5.6,\n",
       "  'PetalWidthCm': 1.8,\n",
       "  'Species': 'Iris-virginica'},\n",
       " {'Id': 105,\n",
       "  'SepalLengthCm': 6.5,\n",
       "  'SepalWidthCm': 3.0,\n",
       "  'PetalLengthCm': 5.8,\n",
       "  'PetalWidthCm': 2.2,\n",
       "  'Species': 'Iris-virginica'},\n",
       " {'Id': 106,\n",
       "  'SepalLengthCm': 7.6,\n",
       "  'SepalWidthCm': 3.0,\n",
       "  'PetalLengthCm': 6.6,\n",
       "  'PetalWidthCm': 2.1,\n",
       "  'Species': 'Iris-virginica'},\n",
       " {'Id': 107,\n",
       "  'SepalLengthCm': 4.9,\n",
       "  'SepalWidthCm': 2.5,\n",
       "  'PetalLengthCm': 4.5,\n",
       "  'PetalWidthCm': 1.7,\n",
       "  'Species': 'Iris-virginica'},\n",
       " {'Id': 108,\n",
       "  'SepalLengthCm': 7.3,\n",
       "  'SepalWidthCm': 2.9,\n",
       "  'PetalLengthCm': 6.3,\n",
       "  'PetalWidthCm': 1.8,\n",
       "  'Species': 'Iris-virginica'},\n",
       " {'Id': 109,\n",
       "  'SepalLengthCm': 6.7,\n",
       "  'SepalWidthCm': 2.5,\n",
       "  'PetalLengthCm': 5.8,\n",
       "  'PetalWidthCm': 1.8,\n",
       "  'Species': 'Iris-virginica'},\n",
       " {'Id': 110,\n",
       "  'SepalLengthCm': 7.2,\n",
       "  'SepalWidthCm': 3.6,\n",
       "  'PetalLengthCm': 6.1,\n",
       "  'PetalWidthCm': 2.5,\n",
       "  'Species': 'Iris-virginica'},\n",
       " {'Id': 111,\n",
       "  'SepalLengthCm': 6.5,\n",
       "  'SepalWidthCm': 3.2,\n",
       "  'PetalLengthCm': 5.1,\n",
       "  'PetalWidthCm': 2.0,\n",
       "  'Species': 'Iris-virginica'},\n",
       " {'Id': 112,\n",
       "  'SepalLengthCm': 6.4,\n",
       "  'SepalWidthCm': 2.7,\n",
       "  'PetalLengthCm': 5.3,\n",
       "  'PetalWidthCm': 1.9,\n",
       "  'Species': 'Iris-virginica'},\n",
       " {'Id': 113,\n",
       "  'SepalLengthCm': 6.8,\n",
       "  'SepalWidthCm': 3.0,\n",
       "  'PetalLengthCm': 5.5,\n",
       "  'PetalWidthCm': 2.1,\n",
       "  'Species': 'Iris-virginica'},\n",
       " {'Id': 114,\n",
       "  'SepalLengthCm': 5.7,\n",
       "  'SepalWidthCm': 2.5,\n",
       "  'PetalLengthCm': 5.0,\n",
       "  'PetalWidthCm': 2.0,\n",
       "  'Species': 'Iris-virginica'},\n",
       " {'Id': 115,\n",
       "  'SepalLengthCm': 5.8,\n",
       "  'SepalWidthCm': 2.8,\n",
       "  'PetalLengthCm': 5.1,\n",
       "  'PetalWidthCm': 2.4,\n",
       "  'Species': 'Iris-virginica'},\n",
       " {'Id': 116,\n",
       "  'SepalLengthCm': 6.4,\n",
       "  'SepalWidthCm': 3.2,\n",
       "  'PetalLengthCm': 5.3,\n",
       "  'PetalWidthCm': 2.3,\n",
       "  'Species': 'Iris-virginica'},\n",
       " {'Id': 117,\n",
       "  'SepalLengthCm': 6.5,\n",
       "  'SepalWidthCm': 3.0,\n",
       "  'PetalLengthCm': 5.5,\n",
       "  'PetalWidthCm': 1.8,\n",
       "  'Species': 'Iris-virginica'},\n",
       " {'Id': 118,\n",
       "  'SepalLengthCm': 7.7,\n",
       "  'SepalWidthCm': 3.8,\n",
       "  'PetalLengthCm': 6.7,\n",
       "  'PetalWidthCm': 2.2,\n",
       "  'Species': 'Iris-virginica'},\n",
       " {'Id': 119,\n",
       "  'SepalLengthCm': 7.7,\n",
       "  'SepalWidthCm': 2.6,\n",
       "  'PetalLengthCm': 6.9,\n",
       "  'PetalWidthCm': 2.3,\n",
       "  'Species': 'Iris-virginica'},\n",
       " {'Id': 120,\n",
       "  'SepalLengthCm': 6.0,\n",
       "  'SepalWidthCm': 2.2,\n",
       "  'PetalLengthCm': 5.0,\n",
       "  'PetalWidthCm': 1.5,\n",
       "  'Species': 'Iris-virginica'},\n",
       " {'Id': 121,\n",
       "  'SepalLengthCm': 6.9,\n",
       "  'SepalWidthCm': 3.2,\n",
       "  'PetalLengthCm': 5.7,\n",
       "  'PetalWidthCm': 2.3,\n",
       "  'Species': 'Iris-virginica'},\n",
       " {'Id': 122,\n",
       "  'SepalLengthCm': 5.6,\n",
       "  'SepalWidthCm': 2.8,\n",
       "  'PetalLengthCm': 4.9,\n",
       "  'PetalWidthCm': 2.0,\n",
       "  'Species': 'Iris-virginica'},\n",
       " {'Id': 123,\n",
       "  'SepalLengthCm': 7.7,\n",
       "  'SepalWidthCm': 2.8,\n",
       "  'PetalLengthCm': 6.7,\n",
       "  'PetalWidthCm': 2.0,\n",
       "  'Species': 'Iris-virginica'},\n",
       " {'Id': 124,\n",
       "  'SepalLengthCm': 6.3,\n",
       "  'SepalWidthCm': 2.7,\n",
       "  'PetalLengthCm': 4.9,\n",
       "  'PetalWidthCm': 1.8,\n",
       "  'Species': 'Iris-virginica'},\n",
       " {'Id': 125,\n",
       "  'SepalLengthCm': 6.7,\n",
       "  'SepalWidthCm': 3.3,\n",
       "  'PetalLengthCm': 5.7,\n",
       "  'PetalWidthCm': 2.1,\n",
       "  'Species': 'Iris-virginica'},\n",
       " {'Id': 126,\n",
       "  'SepalLengthCm': 7.2,\n",
       "  'SepalWidthCm': 3.2,\n",
       "  'PetalLengthCm': 6.0,\n",
       "  'PetalWidthCm': 1.8,\n",
       "  'Species': 'Iris-virginica'},\n",
       " {'Id': 127,\n",
       "  'SepalLengthCm': 6.2,\n",
       "  'SepalWidthCm': 2.8,\n",
       "  'PetalLengthCm': 4.8,\n",
       "  'PetalWidthCm': 1.8,\n",
       "  'Species': 'Iris-virginica'},\n",
       " {'Id': 128,\n",
       "  'SepalLengthCm': 6.1,\n",
       "  'SepalWidthCm': 3.0,\n",
       "  'PetalLengthCm': 4.9,\n",
       "  'PetalWidthCm': 1.8,\n",
       "  'Species': 'Iris-virginica'},\n",
       " {'Id': 129,\n",
       "  'SepalLengthCm': 6.4,\n",
       "  'SepalWidthCm': 2.8,\n",
       "  'PetalLengthCm': 5.6,\n",
       "  'PetalWidthCm': 2.1,\n",
       "  'Species': 'Iris-virginica'},\n",
       " {'Id': 130,\n",
       "  'SepalLengthCm': 7.2,\n",
       "  'SepalWidthCm': 3.0,\n",
       "  'PetalLengthCm': 5.8,\n",
       "  'PetalWidthCm': 1.6,\n",
       "  'Species': 'Iris-virginica'},\n",
       " {'Id': 131,\n",
       "  'SepalLengthCm': 7.4,\n",
       "  'SepalWidthCm': 2.8,\n",
       "  'PetalLengthCm': 6.1,\n",
       "  'PetalWidthCm': 1.9,\n",
       "  'Species': 'Iris-virginica'},\n",
       " {'Id': 132,\n",
       "  'SepalLengthCm': 7.9,\n",
       "  'SepalWidthCm': 3.8,\n",
       "  'PetalLengthCm': 6.4,\n",
       "  'PetalWidthCm': 2.0,\n",
       "  'Species': 'Iris-virginica'},\n",
       " {'Id': 133,\n",
       "  'SepalLengthCm': 6.4,\n",
       "  'SepalWidthCm': 2.8,\n",
       "  'PetalLengthCm': 5.6,\n",
       "  'PetalWidthCm': 2.2,\n",
       "  'Species': 'Iris-virginica'},\n",
       " {'Id': 134,\n",
       "  'SepalLengthCm': 6.3,\n",
       "  'SepalWidthCm': 2.8,\n",
       "  'PetalLengthCm': 5.1,\n",
       "  'PetalWidthCm': 1.5,\n",
       "  'Species': 'Iris-virginica'},\n",
       " {'Id': 135,\n",
       "  'SepalLengthCm': 6.1,\n",
       "  'SepalWidthCm': 2.6,\n",
       "  'PetalLengthCm': 5.6,\n",
       "  'PetalWidthCm': 1.4,\n",
       "  'Species': 'Iris-virginica'},\n",
       " {'Id': 136,\n",
       "  'SepalLengthCm': 7.7,\n",
       "  'SepalWidthCm': 3.0,\n",
       "  'PetalLengthCm': 6.1,\n",
       "  'PetalWidthCm': 2.3,\n",
       "  'Species': 'Iris-virginica'},\n",
       " {'Id': 137,\n",
       "  'SepalLengthCm': 6.3,\n",
       "  'SepalWidthCm': 3.4,\n",
       "  'PetalLengthCm': 5.6,\n",
       "  'PetalWidthCm': 2.4,\n",
       "  'Species': 'Iris-virginica'},\n",
       " {'Id': 138,\n",
       "  'SepalLengthCm': 6.4,\n",
       "  'SepalWidthCm': 3.1,\n",
       "  'PetalLengthCm': 5.5,\n",
       "  'PetalWidthCm': 1.8,\n",
       "  'Species': 'Iris-virginica'},\n",
       " {'Id': 139,\n",
       "  'SepalLengthCm': 6.0,\n",
       "  'SepalWidthCm': 3.0,\n",
       "  'PetalLengthCm': 4.8,\n",
       "  'PetalWidthCm': 1.8,\n",
       "  'Species': 'Iris-virginica'},\n",
       " {'Id': 140,\n",
       "  'SepalLengthCm': 6.9,\n",
       "  'SepalWidthCm': 3.1,\n",
       "  'PetalLengthCm': 5.4,\n",
       "  'PetalWidthCm': 2.1,\n",
       "  'Species': 'Iris-virginica'},\n",
       " {'Id': 141,\n",
       "  'SepalLengthCm': 6.7,\n",
       "  'SepalWidthCm': 3.1,\n",
       "  'PetalLengthCm': 5.6,\n",
       "  'PetalWidthCm': 2.4,\n",
       "  'Species': 'Iris-virginica'},\n",
       " {'Id': 142,\n",
       "  'SepalLengthCm': 6.9,\n",
       "  'SepalWidthCm': 3.1,\n",
       "  'PetalLengthCm': 5.1,\n",
       "  'PetalWidthCm': 2.3,\n",
       "  'Species': 'Iris-virginica'},\n",
       " {'Id': 143,\n",
       "  'SepalLengthCm': 5.8,\n",
       "  'SepalWidthCm': 2.7,\n",
       "  'PetalLengthCm': 5.1,\n",
       "  'PetalWidthCm': 1.9,\n",
       "  'Species': 'Iris-virginica'},\n",
       " {'Id': 144,\n",
       "  'SepalLengthCm': 6.8,\n",
       "  'SepalWidthCm': 3.2,\n",
       "  'PetalLengthCm': 5.9,\n",
       "  'PetalWidthCm': 2.3,\n",
       "  'Species': 'Iris-virginica'},\n",
       " {'Id': 145,\n",
       "  'SepalLengthCm': 6.7,\n",
       "  'SepalWidthCm': 3.3,\n",
       "  'PetalLengthCm': 5.7,\n",
       "  'PetalWidthCm': 2.5,\n",
       "  'Species': 'Iris-virginica'},\n",
       " {'Id': 146,\n",
       "  'SepalLengthCm': 6.7,\n",
       "  'SepalWidthCm': 3.0,\n",
       "  'PetalLengthCm': 5.2,\n",
       "  'PetalWidthCm': 2.3,\n",
       "  'Species': 'Iris-virginica'},\n",
       " {'Id': 147,\n",
       "  'SepalLengthCm': 6.3,\n",
       "  'SepalWidthCm': 2.5,\n",
       "  'PetalLengthCm': 5.0,\n",
       "  'PetalWidthCm': 1.9,\n",
       "  'Species': 'Iris-virginica'},\n",
       " {'Id': 148,\n",
       "  'SepalLengthCm': 6.5,\n",
       "  'SepalWidthCm': 3.0,\n",
       "  'PetalLengthCm': 5.2,\n",
       "  'PetalWidthCm': 2.0,\n",
       "  'Species': 'Iris-virginica'},\n",
       " {'Id': 149,\n",
       "  'SepalLengthCm': 6.2,\n",
       "  'SepalWidthCm': 3.4,\n",
       "  'PetalLengthCm': 5.4,\n",
       "  'PetalWidthCm': 2.3,\n",
       "  'Species': 'Iris-virginica'},\n",
       " {'Id': 150,\n",
       "  'SepalLengthCm': 5.9,\n",
       "  'SepalWidthCm': 3.0,\n",
       "  'PetalLengthCm': 5.1,\n",
       "  'PetalWidthCm': 1.8,\n",
       "  'Species': 'Iris-virginica'}]"
      ]
     },
     "execution_count": 70,
     "metadata": {},
     "output_type": "execute_result"
    }
   ],
   "source": [
    "#Converting csv dataframe to dict\n",
    "iris_data = df3.to_dict('records')\n",
    "iris_data"
   ]
  },
  {
   "cell_type": "code",
   "execution_count": 71,
   "id": "c6e93575",
   "metadata": {},
   "outputs": [],
   "source": [
    "collection_iris = db['iris_details']"
   ]
  },
  {
   "cell_type": "code",
   "execution_count": 72,
   "id": "629f68c3",
   "metadata": {},
   "outputs": [
    {
     "data": {
      "text/plain": [
       "<pymongo.results.InsertManyResult at 0x22d1da2cb00>"
      ]
     },
     "execution_count": 72,
     "metadata": {},
     "output_type": "execute_result"
    }
   ],
   "source": [
    "#imported csv is converted to dataframe and then inserted to mongodb\n",
    "\n",
    "iris_data = df3.to_dict('records')\n",
    "iris_data\n",
    "collection_iris.insert_many(iris_data)"
   ]
  },
  {
   "cell_type": "markdown",
   "id": "b07cd432",
   "metadata": {},
   "source": [
    "### Finding data using regular expression"
   ]
  },
  {
   "cell_type": "code",
   "execution_count": 73,
   "id": "7bfeb244",
   "metadata": {},
   "outputs": [
    {
     "data": {
      "text/plain": [
       "[{'Name': 'Ankit', 'Mobile Number': 9130083200, 'Place': 'Pune'},\n",
       " {'Name': 'Mukesh', 'Mobile Number': 87887878787, 'Place': 'Kolhapur'},\n",
       " {'Name': 'Sachin', 'Mobile Number': 4545454545, 'Place': 'Delhi'},\n",
       " {'Name': 'Pravin', 'Mobile Number': 2323232323, 'Place': 'Chennai'},\n",
       " {'Name': 'Mahesh', 'Mobile Number': 3232323232, 'Place': 'Hydrabad'},\n",
       " {'Name': 'Nikhil', 'Mobile Number': 9090909090, 'Place': 'Nagpur'},\n",
       " {'Name': 'Nikhil', 'Mobile Number': 6767676767, 'Place': 'Mumbai'},\n",
       " {'Name': 'Nikhil', 'Mobile Number': 9090909090, 'Place': 'Pune'}]"
      ]
     },
     "execution_count": 73,
     "metadata": {},
     "output_type": "execute_result"
    }
   ],
   "source": [
    "data = collection_user.find({},{'_id':0})\n",
    "list(data)"
   ]
  },
  {
   "cell_type": "code",
   "execution_count": 74,
   "id": "970b4e94",
   "metadata": {},
   "outputs": [
    {
     "data": {
      "text/plain": [
       "[{'Name': 'Mukesh', 'Mobile Number': 87887878787, 'Place': 'Kolhapur'},\n",
       " {'Name': 'Mahesh', 'Mobile Number': 3232323232, 'Place': 'Hydrabad'}]"
      ]
     },
     "execution_count": 74,
     "metadata": {},
     "output_type": "execute_result"
    }
   ],
   "source": [
    "# records with name starting with M\n",
    "data = collection_user.find({'Name':{'$regex':'^M'}},{'_id':0})\n",
    "list(data)"
   ]
  },
  {
   "cell_type": "code",
   "execution_count": 75,
   "id": "879dd634",
   "metadata": {},
   "outputs": [
    {
     "data": {
      "text/plain": [
       "[{'Name': 'Nikhil', 'Mobile Number': 9090909090, 'Place': 'Nagpur'},\n",
       " {'Name': 'Nikhil', 'Mobile Number': 6767676767, 'Place': 'Mumbai'},\n",
       " {'Name': 'Nikhil', 'Mobile Number': 9090909090, 'Place': 'Pune'}]"
      ]
     },
     "execution_count": 75,
     "metadata": {},
     "output_type": "execute_result"
    }
   ],
   "source": [
    "data = collection_user.find({'Name':{'$regex':'^N'}},{'_id':0})\n",
    "list(data)"
   ]
  },
  {
   "cell_type": "code",
   "execution_count": 82,
   "id": "4d6eccd2",
   "metadata": {},
   "outputs": [
    {
     "data": {
      "text/plain": [
       "[{'Name': 'Sachin', 'Mobile Number': 4545454545, 'Place': 'Delhi'},\n",
       " {'Name': 'Pravin', 'Mobile Number': 2323232323, 'Place': 'Chennai'}]"
      ]
     },
     "execution_count": 82,
     "metadata": {},
     "output_type": "execute_result"
    }
   ],
   "source": [
    "# records with name ending with n\n",
    "data = collection_user.find({'Name':{'$regex':'n$'}},{'_id':0})\n",
    "list(data)"
   ]
  },
  {
   "cell_type": "code",
   "execution_count": 85,
   "id": "5c71a375",
   "metadata": {},
   "outputs": [
    {
     "data": {
      "text/plain": [
       "[{'Name': 'Sachin', 'Mobile Number': 4545454545, 'Place': 'Delhi'},\n",
       " {'Name': 'Pravin', 'Mobile Number': 2323232323, 'Place': 'Chennai'},\n",
       " {'Name': 'Nikhil', 'Mobile Number': 9090909090, 'Place': 'Nagpur'},\n",
       " {'Name': 'Nikhil', 'Mobile Number': 6767676767, 'Place': 'Mumbai'},\n",
       " {'Name': 'Nikhil', 'Mobile Number': 9090909090, 'Place': 'Pune'}]"
      ]
     },
     "execution_count": 85,
     "metadata": {},
     "output_type": "execute_result"
    }
   ],
   "source": [
    "# user name starting with N and greater than N\n",
    "data = collection_user.find({'Name':{'$gt':'N'}},{'_id':0})\n",
    "list(data)"
   ]
  },
  {
   "cell_type": "code",
   "execution_count": 87,
   "id": "483422ef",
   "metadata": {},
   "outputs": [
    {
     "data": {
      "text/plain": [
       "[{'Name': 'Sachin', 'Mobile Number': 4545454545, 'Place': 'Delhi'},\n",
       " {'Name': 'Pravin', 'Mobile Number': 2323232323, 'Place': 'Chennai'},\n",
       " {'Name': 'Nikhil', 'Mobile Number': 9090909090, 'Place': 'Nagpur'}]"
      ]
     },
     "execution_count": 87,
     "metadata": {},
     "output_type": "execute_result"
    }
   ],
   "source": [
    "#Limiting the output to 3 rec only\n",
    "data = collection_user.find({'Name':{'$gt':'N'}},{'_id':0}).limit(3)\n",
    "list(data)"
   ]
  },
  {
   "cell_type": "markdown",
   "id": "a2b49c9c",
   "metadata": {},
   "source": [
    "## 3. Delete"
   ]
  },
  {
   "cell_type": "markdown",
   "id": "d5d336c9",
   "metadata": {},
   "source": [
    "### 3.1 delete_one()"
   ]
  },
  {
   "cell_type": "code",
   "execution_count": 90,
   "id": "50d0250e",
   "metadata": {},
   "outputs": [
    {
     "data": {
      "text/plain": [
       "<pymongo.results.DeleteResult at 0x22d1ebdda40>"
      ]
     },
     "execution_count": 90,
     "metadata": {},
     "output_type": "execute_result"
    }
   ],
   "source": [
    "collection_user.delete_one({'Name':'Sachin'})"
   ]
  },
  {
   "cell_type": "code",
   "execution_count": 91,
   "id": "55600e80",
   "metadata": {},
   "outputs": [
    {
     "data": {
      "text/plain": [
       "<pymongo.results.DeleteResult at 0x22d1e24d180>"
      ]
     },
     "execution_count": 91,
     "metadata": {},
     "output_type": "execute_result"
    }
   ],
   "source": [
    "collection_user.delete_one({'Name':'Nikhil'})"
   ]
  },
  {
   "cell_type": "code",
   "execution_count": 92,
   "id": "119ff2b4",
   "metadata": {},
   "outputs": [
    {
     "data": {
      "text/plain": [
       "<pymongo.results.DeleteResult at 0x22d1e888800>"
      ]
     },
     "execution_count": 92,
     "metadata": {},
     "output_type": "execute_result"
    }
   ],
   "source": [
    "collection_user.delete_one({'Name':'Nikhil', 'Place':'Mumbai'})"
   ]
  },
  {
   "cell_type": "markdown",
   "id": "f9b8f266",
   "metadata": {},
   "source": [
    "### 3.2 delete_many()"
   ]
  },
  {
   "cell_type": "code",
   "execution_count": 94,
   "id": "c49c95ab",
   "metadata": {},
   "outputs": [
    {
     "data": {
      "text/plain": [
       "<pymongo.results.DeleteResult at 0x22d1e07a500>"
      ]
     },
     "execution_count": 94,
     "metadata": {},
     "output_type": "execute_result"
    }
   ],
   "source": [
    "query = {'Name':{'$regex':'^S'}}\n",
    "collection_user.delete_one(query)"
   ]
  },
  {
   "cell_type": "markdown",
   "id": "db19d14b",
   "metadata": {},
   "source": [
    "## delete Collection"
   ]
  },
  {
   "cell_type": "code",
   "execution_count": 95,
   "id": "2d93ffc3",
   "metadata": {},
   "outputs": [],
   "source": [
    "collection_iris.drop()"
   ]
  },
  {
   "cell_type": "markdown",
   "id": "d4aa8a4a",
   "metadata": {},
   "source": [
    "## 4 Update"
   ]
  },
  {
   "cell_type": "markdown",
   "id": "524875ed",
   "metadata": {},
   "source": [
    "### 4.1 update_one()"
   ]
  },
  {
   "cell_type": "code",
   "execution_count": 99,
   "id": "a3a5ee9c",
   "metadata": {},
   "outputs": [
    {
     "data": {
      "text/plain": [
       "<pymongo.results.UpdateResult at 0x22d1e06f4c0>"
      ]
     },
     "execution_count": 99,
     "metadata": {},
     "output_type": "execute_result"
    }
   ],
   "source": [
    "old_query = {'Name':'Dhoni'}\n",
    "new_query = {\"$set\":{'Name':'MS Dhoni'}}\n",
    "collection_login.update_one(old_query, new_query)"
   ]
  },
  {
   "cell_type": "markdown",
   "id": "a181b611",
   "metadata": {},
   "source": [
    "### 4.2 update_many()"
   ]
  },
  {
   "cell_type": "code",
   "execution_count": 101,
   "id": "436b2614",
   "metadata": {},
   "outputs": [
    {
     "data": {
      "text/plain": [
       "<pymongo.results.UpdateResult at 0x22d1f4ec3c0>"
      ]
     },
     "execution_count": 101,
     "metadata": {},
     "output_type": "execute_result"
    }
   ],
   "source": [
    "old_query = {'Place':'Pune'}\n",
    "new_query = {\"$set\":{'Place':'Banguluru'}}\n",
    "collection_user.update_many(old_query, new_query)"
   ]
  },
  {
   "cell_type": "markdown",
   "id": "14b959c6",
   "metadata": {},
   "source": [
    "## 5. Sorting"
   ]
  },
  {
   "cell_type": "markdown",
   "id": "f54729ee",
   "metadata": {},
   "source": [
    "### 5.1 Ascending Sort"
   ]
  },
  {
   "cell_type": "code",
   "execution_count": 102,
   "id": "537c72e9",
   "metadata": {
    "scrolled": true
   },
   "outputs": [
    {
     "data": {
      "text/plain": [
       "[{'Name': 'Ankit', 'Mobile Number': 9130083200, 'Place': 'Banguluru'},\n",
       " {'Name': 'Mahesh', 'Mobile Number': 3232323232, 'Place': 'Banguluru'},\n",
       " {'Name': 'Mahesh', 'Mobile Number': 3232323232, 'Place': 'Hydrabad'},\n",
       " {'Name': 'Mukesh', 'Mobile Number': 87887878787, 'Place': 'Kolhapur'},\n",
       " {'Name': 'Nikhil', 'Mobile Number': 9090909090, 'Place': 'Banguluru'},\n",
       " {'Name': 'Nikhil', 'Mobile Number': 9090909090, 'Place': 'Banguluru'},\n",
       " {'Name': 'Pravin', 'Mobile Number': 2323232323, 'Place': 'Chennai'},\n",
       " {'Name': 'Pravin', 'Mobile Number': 2323232323, 'Place': 'Chennai'}]"
      ]
     },
     "execution_count": 102,
     "metadata": {},
     "output_type": "execute_result"
    }
   ],
   "source": [
    "data = collection_user.find({},{'_id':0}).sort('Name')\n",
    "list(data)"
   ]
  },
  {
   "cell_type": "code",
   "execution_count": 105,
   "id": "f6c8037c",
   "metadata": {},
   "outputs": [
    {
     "data": {
      "text/plain": [
       "[{'Name': 'Pravin', 'Mobile Number': 2323232323, 'Place': 'Chennai'},\n",
       " {'Name': 'Pravin', 'Mobile Number': 2323232323, 'Place': 'Chennai'},\n",
       " {'Name': 'Nikhil', 'Mobile Number': 9090909090, 'Place': 'Banguluru'},\n",
       " {'Name': 'Nikhil', 'Mobile Number': 9090909090, 'Place': 'Banguluru'},\n",
       " {'Name': 'Mukesh', 'Mobile Number': 87887878787, 'Place': 'Kolhapur'},\n",
       " {'Name': 'Mahesh', 'Mobile Number': 3232323232, 'Place': 'Banguluru'},\n",
       " {'Name': 'Mahesh', 'Mobile Number': 3232323232, 'Place': 'Hydrabad'},\n",
       " {'Name': 'Ankit', 'Mobile Number': 9130083200, 'Place': 'Banguluru'}]"
      ]
     },
     "execution_count": 105,
     "metadata": {},
     "output_type": "execute_result"
    }
   ],
   "source": [
    "data = collection_user.find({},{'_id':0}).sort('Name', -1)\n",
    "list(data)"
   ]
  },
  {
   "cell_type": "code",
   "execution_count": 104,
   "id": "7de5bcda",
   "metadata": {},
   "outputs": [
    {
     "data": {
      "text/plain": [
       "[{'Name': 'Snahin', 'email_id': 'sachin@gmail.com', 'password': 'Sachin@1234'},\n",
       " {'Name': 'Rohit', 'email_id': 'rohit@gmail.com', 'password': 'Rohit@1234'},\n",
       " {'Name': 'MS Dhoni', 'email_id': 'msd@gmail.com', 'password': 'Msd@1234'}]"
      ]
     },
     "execution_count": 104,
     "metadata": {},
     "output_type": "execute_result"
    }
   ],
   "source": [
    "data = collection_login.find({},{'_id':0}).sort('password',-1)\n",
    "list(data)"
   ]
  },
  {
   "cell_type": "code",
   "execution_count": null,
   "id": "34da1245",
   "metadata": {},
   "outputs": [],
   "source": []
  }
 ],
 "metadata": {
  "kernelspec": {
   "display_name": "Python 3 (ipykernel)",
   "language": "python",
   "name": "python3"
  },
  "language_info": {
   "codemirror_mode": {
    "name": "ipython",
    "version": 3
   },
   "file_extension": ".py",
   "mimetype": "text/x-python",
   "name": "python",
   "nbconvert_exporter": "python",
   "pygments_lexer": "ipython3",
   "version": "3.9.7"
  }
 },
 "nbformat": 4,
 "nbformat_minor": 5
}

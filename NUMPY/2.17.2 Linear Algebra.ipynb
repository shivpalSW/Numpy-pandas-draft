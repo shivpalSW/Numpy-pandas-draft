{
 "cells": [
  {
   "cell_type": "code",
   "execution_count": 6,
   "metadata": {},
   "outputs": [],
   "source": [
    "import numpy as np\n",
    "\n"
   ]
  },
  {
   "cell_type": "markdown",
   "metadata": {},
   "source": [
    "# SN \tFunction\tDefinition\n",
    "1       \tdot()\t             It is used to calculate the dot product of two arrays.\n",
    "\n",
    "2\t        vdot()             \tIt is used to calculate the dot product of two vectors.\n",
    "\n",
    "3  \t       inner() \t            It is used to calculate the inner product of two arrays.\n",
    "\n",
    "4\t      matmul()             \tIt is used to calculate the matrix multiplication of two arrays.\n",
    "\n",
    "5\t        det()\t            It is used to calculate the determinant of a matrix.\n",
    "\n",
    "6          solve()\t            It is used to solve the linear matrix equation.\n",
    "\n",
    "7\t         inv()               It is used to calculate the multiplicative inverse of the matrix."
   ]
  },
  {
   "cell_type": "raw",
   "metadata": {},
   "source": [
    "3x+4y=15\n",
    "5x+6y=20\n",
    "\n",
    "x=?\n",
    "y=?"
   ]
  },
  {
   "cell_type": "code",
   "execution_count": null,
   "metadata": {},
   "outputs": [],
   "source": []
  },
  {
   "cell_type": "code",
   "execution_count": 7,
   "metadata": {},
   "outputs": [],
   "source": [
    "A = np.array([[3,4],[5,6]])\n",
    "B = np.array([15,20])"
   ]
  },
  {
   "cell_type": "code",
   "execution_count": 8,
   "metadata": {},
   "outputs": [
    {
     "data": {
      "text/plain": [
       "array([[-3. ,  2. ],\n",
       "       [ 2.5, -1.5]])"
      ]
     },
     "execution_count": 8,
     "metadata": {},
     "output_type": "execute_result"
    }
   ],
   "source": [
    "np.linalg.inv(A)"
   ]
  },
  {
   "cell_type": "code",
   "execution_count": 9,
   "metadata": {},
   "outputs": [
    {
     "data": {
      "text/plain": [
       "array([-5. ,  7.5])"
      ]
     },
     "execution_count": 9,
     "metadata": {},
     "output_type": "execute_result"
    }
   ],
   "source": [
    "np.linalg.solve(A,B)"
   ]
  },
  {
   "cell_type": "raw",
   "metadata": {},
   "source": [
    "3x+4y+8z=15\n",
    "5x+6y-2z=20\n",
    "4x-2y+6z=24"
   ]
  },
  {
   "cell_type": "code",
   "execution_count": 10,
   "metadata": {},
   "outputs": [
    {
     "data": {
      "text/plain": [
       "array([ 5.07317073, -0.77439024,  0.3597561 ])"
      ]
     },
     "execution_count": 10,
     "metadata": {},
     "output_type": "execute_result"
    }
   ],
   "source": [
    "A = np.array([[3,4,8],[5,6,-2],[4,-2,6]])\n",
    "B = np.array([15,20,24])\n",
    "np.linalg.solve(A,B)"
   ]
  },
  {
   "cell_type": "code",
   "execution_count": null,
   "metadata": {},
   "outputs": [],
   "source": []
  },
  {
   "cell_type": "code",
   "execution_count": null,
   "metadata": {},
   "outputs": [],
   "source": []
  }
 ],
 "metadata": {
  "kernelspec": {
   "display_name": "Python 3",
   "language": "python",
   "name": "python3"
  },
  "language_info": {
   "codemirror_mode": {
    "name": "ipython",
    "version": 3
   },
   "file_extension": ".py",
   "mimetype": "text/x-python",
   "name": "python",
   "nbconvert_exporter": "python",
   "pygments_lexer": "ipython3",
   "version": "3.8.8"
  },
  "toc": {
   "base_numbering": 1,
   "nav_menu": {},
   "number_sections": true,
   "sideBar": true,
   "skip_h1_title": false,
   "title_cell": "Table of Contents",
   "title_sidebar": "Contents",
   "toc_cell": false,
   "toc_position": {},
   "toc_section_display": true,
   "toc_window_display": false
  }
 },
 "nbformat": 4,
 "nbformat_minor": 4
}

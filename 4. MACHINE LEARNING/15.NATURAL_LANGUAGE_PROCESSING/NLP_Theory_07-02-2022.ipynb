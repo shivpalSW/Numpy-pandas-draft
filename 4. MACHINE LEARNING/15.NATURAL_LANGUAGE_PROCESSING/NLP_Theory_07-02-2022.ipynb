{
 "cells": [
  {
   "cell_type": "markdown",
   "id": "fb0874c6",
   "metadata": {},
   "source": [
    "#   <font color = darkblue size =6.5><center> NLP : Natural Language Processing"
   ]
  },
  {
   "cell_type": "markdown",
   "id": "d1302bfb",
   "metadata": {},
   "source": [
    "##  Popular Application Of NLP "
   ]
  },
  {
   "cell_type": "markdown",
   "id": "e4a6c126",
   "metadata": {},
   "source": [
    "<font color = darkblue size =4>1. Sentiment Analysis \n",
    " ___\n",
    "<font color = darkblue size =4>2. Topic Identification\n",
    " ___\n",
    "<font color = darkblue size =4>3. Named Entity Recognition \n",
    " ___\n",
    "<font color = darkblue size =4>4. Translation\n",
    " ___\n",
    "<font color = darkblue size =4>5. Chatbots \n",
    " ___\n",
    "<font color = darkblue size =4>6. Voice Assistant \n",
    " ___\n",
    "<font color = darkblue size =4>7. Text Generation "
   ]
  },
  {
   "cell_type": "markdown",
   "id": "58a6b146",
   "metadata": {},
   "source": [
    "## Libraries for working in NLP"
   ]
  },
  {
   "cell_type": "markdown",
   "id": "d9e9b537",
   "metadata": {},
   "source": [
    "<font color = darkblue size =3>1.1.NLTK - Natural Language Tool Kit\n",
    "___\n",
    "<font color = darkblue size =3>1.3.Gensim \n",
    "___\n",
    "<font color = darkblue size =3>1.4.Spacy \n",
    "___\n",
    "<font color = darkblue size =3>1.5.Rasa "
   ]
  },
  {
   "cell_type": "markdown",
   "id": "98910b1c",
   "metadata": {},
   "source": [
    "#   <font color = darkblue size =5> Installing Important Libraries"
   ]
  },
  {
   "cell_type": "markdown",
   "id": "8ecea238",
   "metadata": {},
   "source": [
    "!pip install --user -U nltk\n",
    "!pip install gensim\n",
    "\n",
    "for installing spacy\n",
    "!pip install -U pip setuptools wheel\n",
    "!pip install -U spacy\n",
    "!python -m spacy download en_core_web_sm"
   ]
  },
  {
   "cell_type": "code",
   "execution_count": null,
   "id": "46710b92",
   "metadata": {},
   "outputs": [],
   "source": []
  },
  {
   "cell_type": "markdown",
   "id": "284306a8",
   "metadata": {},
   "source": [
    "#   <font color = darkblue size =5><center>NLP Pipeline "
   ]
  },
  {
   "cell_type": "markdown",
   "id": "b7c47883",
   "metadata": {},
   "source": [
    "#   <font color = darkblue size =3>1. Data Collection <br><br>2.Text Wrangling and Preprocessing <br><br>3.Vectorization and Feature Engineering<br><br>4.Model Building and Initialization<br> <br>5.Train and Test Model<br><br>6.Model Evaluation<br><br>7.Deployment<br><br>8.Monitoring and Model Updating "
   ]
  },
  {
   "cell_type": "markdown",
   "id": "e8afc7da",
   "metadata": {},
   "source": [
    "## Text Preprocessing Techniques "
   ]
  },
  {
   "cell_type": "markdown",
   "id": "3b140a5d",
   "metadata": {},
   "source": [
    "<font color = darkblue size =3>1.1.Cleaning\n",
    "___\n",
    "<font color = darkblue size =3>1.2. Normalization\n",
    "___\n",
    "<font color = darkblue size =3>1.3. Tokenization\n",
    "___\n",
    "<font color = darkblue size =3>1.4. Stop Words Removal\n",
    "___\n",
    "<font color = darkblue size =3>1.5. Stemming and  Lemmatization\n",
    "___\n",
    "<font color = darkblue size =3>1.6. POS Tagging\n",
    "___\n",
    "<font color = darkblue size =3>1.7. Named Entity Reconition \n"
   ]
  },
  {
   "cell_type": "markdown",
   "id": "24fa5c85",
   "metadata": {},
   "source": [
    "  "
   ]
  },
  {
   "cell_type": "markdown",
   "id": "48f987e1",
   "metadata": {},
   "source": [
    "  "
   ]
  },
  {
   "cell_type": "markdown",
   "id": "b7fde47c",
   "metadata": {},
   "source": [
    "  "
   ]
  },
  {
   "cell_type": "markdown",
   "id": "2606d553",
   "metadata": {},
   "source": [
    "  "
   ]
  },
  {
   "cell_type": "markdown",
   "id": "e5942c14",
   "metadata": {},
   "source": [
    "#   <font color = darkblue size =6.5> POS-Tagging  "
   ]
  },
  {
   "cell_type": "markdown",
   "id": "065427ee",
   "metadata": {},
   "source": [
    "\n"
   ]
  },
  {
   "cell_type": "markdown",
   "id": "cd81c6b1",
   "metadata": {},
   "source": [
    "* Process to give tags to the tokens\n",
    "\n",
    "* used mainly in Named Entity Recognition\n",
    "\n",
    "* Explain how word used in sentence\n",
    "\n",
    "Example :\n",
    "\n",
    "Input = 'I left the process' \n",
    "output = [('I','PRON'),('left','VERB'),('the','DET'),('preocess','NOUN')]\n",
    "\n",
    "Noun : animals,place,person etc. \n",
    "\n",
    "Adjective : Qualities or states of nouns small,big etc\n",
    "\n",
    "Adverb : Describe verb peacefully,carefully etc\n",
    "\n",
    "Pronoun : He,she,they etc \n",
    "\n",
    "Conjugation : joining sentences,phrases,words together : so that,when etc.\n",
    "\n",
    "\n",
    "Tags :\n",
    "\n",
    "\n",
    " JJ : Adjective Tag\n",
    " JJR : adjective comparative 'bigger'\n",
    " JJS : adjective superlative 'biggest'\n",
    " NN : Noun singular 'desk'\n",
    " NNS : Noun plural desks\n",
    " NNP : proper noun singular\n",
    " NNPA : proper noun plural 'Americans'\n",
    " PRP : personal pronoun I,he,she\n",
    " RB : adverb very,silently\n",
    " VB : verb base form\n",
    " VBD verb past tense \n",
    " \n",
    " \n",
    " \n",
    " \n",
    " \n",
    "\n",
    "\n",
    "\n",
    "    "
   ]
  },
  {
   "cell_type": "markdown",
   "id": "6df8c1b6",
   "metadata": {},
   "source": [
    "#   <font color = darkblue size =6.5> How POS-Tagging algorithm works ?\n",
    "*  Rule based Pos-Tagging\n",
    "* Stochastic Pos-Tagging \n"
   ]
  },
  {
   "cell_type": "code",
   "execution_count": null,
   "id": "048bc1db",
   "metadata": {},
   "outputs": [],
   "source": [
    "1. Rule Based POS-Tagging\n",
    "-1000 rules \n",
    "\n",
    "Input---->create dictionary------> Apply rules\n",
    "\n",
    "words     {words:tags}            [word:best_suitable_tag]\n",
    "\n",
    "tagset\n"
   ]
  },
  {
   "cell_type": "code",
   "execution_count": null,
   "id": "24e39ab6",
   "metadata": {},
   "outputs": [],
   "source": [
    "2.stocastic POS Tagging\n",
    "\n",
    "\n",
    "check previous tags for a particular word\n",
    "check tag sequence \n",
    "\n",
    "example :check some previous experience\n",
    "    the velocity\n",
    "    "
   ]
  },
  {
   "cell_type": "code",
   "execution_count": 1,
   "id": "a73a3a69",
   "metadata": {},
   "outputs": [],
   "source": [
    "# Chunking "
   ]
  },
  {
   "cell_type": "markdown",
   "id": "2d836b1c",
   "metadata": {},
   "source": [
    "  "
   ]
  },
  {
   "cell_type": "markdown",
   "id": "2376cf56",
   "metadata": {},
   "source": [
    "  "
   ]
  },
  {
   "cell_type": "markdown",
   "id": "72ece429",
   "metadata": {},
   "source": [
    "  "
   ]
  },
  {
   "cell_type": "markdown",
   "id": "267808a3",
   "metadata": {},
   "source": [
    "  "
   ]
  },
  {
   "cell_type": "markdown",
   "id": "5b51f63d",
   "metadata": {},
   "source": [
    "  "
   ]
  },
  {
   "cell_type": "markdown",
   "id": "7495bcd9",
   "metadata": {},
   "source": [
    "# Popular ways to convert Text to numbers for NLP \n"
   ]
  },
  {
   "cell_type": "markdown",
   "id": "66950afc",
   "metadata": {},
   "source": [
    "<font color = darkblue size =3>1. CountVectorizer\n",
    "___\n",
    "<font color = darkblue size =3>2. TF-IDF Vectorizer\n",
    "___\n",
    "<font color = darkblue size =3>3. Word Embeddings --- 1. Frequency 2. Prediction based \n"
   ]
  },
  {
   "cell_type": "markdown",
   "id": "2b77cda9",
   "metadata": {},
   "source": [
    "## Count_Vectorizer \n"
   ]
  },
  {
   "cell_type": "markdown",
   "id": "64289fc7",
   "metadata": {},
   "source": [
    "sentence1 = 'I am learning NLP '\n",
    "sentence2 = 'Python and Machine learning are important for learning NLP abc xyz'\n",
    "sentence3 = 'Data Science is combination of AI and Machine learning '\n",
    "\n",
    "           I   am   learning   NLP   Python   and   are   Machine   important   for   Data   Science   is   combination  AI oov\n",
    "\n",
    "    \n",
    "sentence1   1   1     1           1    0       0       0      0        0           0     0        0       0       0        0  0\n",
    "sentence2   0   0     2           1    1       1       1      1        1           1     0        0       0       0        0  2\n",
    "\n",
    "    `"
   ]
  },
  {
   "cell_type": "markdown",
   "id": "b9277b51",
   "metadata": {},
   "source": [
    "   "
   ]
  },
  {
   "cell_type": "markdown",
   "id": "f1ddf257",
   "metadata": {},
   "source": [
    "   "
   ]
  },
  {
   "cell_type": "markdown",
   "id": "7b79e647",
   "metadata": {},
   "source": [
    "   "
   ]
  },
  {
   "cell_type": "markdown",
   "id": "d70f2e09",
   "metadata": {},
   "source": [
    "## TF-IDF_Vectorizer"
   ]
  },
  {
   "cell_type": "markdown",
   "id": "b7aa3095",
   "metadata": {},
   "source": [
    "### TF - Term Frequency \n",
    "It's function of frequency of term t appearing in documnet d ;denoted as tf(t,d)\n"
   ]
  },
  {
   "cell_type": "markdown",
   "id": "525e9183",
   "metadata": {},
   "source": [
    "            Frequncy of t appearing in documnet d\n",
    "tf(t,d)  = ---------------------------------------     1/4   \n",
    "            Total Number of terms in  documnet d "
   ]
  },
  {
   "cell_type": "markdown",
   "id": "4f28f38b",
   "metadata": {},
   "source": [
    "### IDF - Inverse Documents Frequency \n",
    "It's Inverse of frequency of Documents containing the desired term out of all the documents and normalized using log"
   ]
  },
  {
   "cell_type": "markdown",
   "id": "261b92e6",
   "metadata": {},
   "source": [
    "                        Number of documents d containing term t\n",
    "Document Frequency  = ---------------------------------------       30/100\n",
    "                        Total Number of documents N\n",
    "idf(t,D) = log(1/Document Frequency)"
   ]
  },
  {
   "cell_type": "markdown",
   "id": "b40940ae",
   "metadata": {},
   "source": [
    "## TF-IDF = TF * IDF "
   ]
  },
  {
   "cell_type": "markdown",
   "id": "48d3aa6a",
   "metadata": {},
   "source": [
    "tf(t,d) * idf(t,D)"
   ]
  },
  {
   "cell_type": "code",
   "execution_count": null,
   "id": "57e7cb3c",
   "metadata": {},
   "outputs": [],
   "source": [
    "                        Acting.... directing....fabulous....good...great...stunts....zenith...movie---       simply\n",
    "* The movie was great,   0          0             0           0    2/6*log(3)                 1/6*log(3/2)    1/6*log(3)\n",
    "  simply great                                                                               \n",
    "    \n",
    "* Acting directing \n",
    "  screenplay none of    1/8*log(3)  1/8*log(3)     0       1/8*log(3)  0\n",
    "  them were good\n",
    "\n",
    "* Movie was fabulous."
   ]
  },
  {
   "cell_type": "code",
   "execution_count": null,
   "id": "014fc0ec",
   "metadata": {},
   "outputs": [],
   "source": [
    "DF = 1/3   IDF =log(3)"
   ]
  },
  {
   "cell_type": "markdown",
   "id": "09282ac6",
   "metadata": {},
   "source": [
    "  "
   ]
  },
  {
   "cell_type": "markdown",
   "id": "f171e8ef",
   "metadata": {},
   "source": [
    "  "
   ]
  },
  {
   "cell_type": "markdown",
   "id": "86befb6a",
   "metadata": {},
   "source": [
    "  "
   ]
  },
  {
   "cell_type": "markdown",
   "id": "f28cce51",
   "metadata": {},
   "source": [
    "  "
   ]
  },
  {
   "cell_type": "markdown",
   "id": "6cd6e91b",
   "metadata": {},
   "source": [
    "# <font color = darkblue size =5> Drawbacks of Count Vectorizer and TFIDF Vectorizer"
   ]
  },
  {
   "cell_type": "markdown",
   "id": "eebff590",
   "metadata": {},
   "source": [
    "* we have large number of dimensions (as many as the vocabulary size)\n",
    "\n",
    "* The sequence of words in a sentence is not represented"
   ]
  },
  {
   "cell_type": "markdown",
   "id": "ae7fc216",
   "metadata": {},
   "source": [
    "  "
   ]
  },
  {
   "cell_type": "markdown",
   "id": "2ae8a576",
   "metadata": {},
   "source": [
    "  "
   ]
  },
  {
   "cell_type": "markdown",
   "id": "0350081b",
   "metadata": {},
   "source": [
    "  "
   ]
  },
  {
   "cell_type": "markdown",
   "id": "32ce2fd1",
   "metadata": {},
   "source": [
    "  "
   ]
  },
  {
   "cell_type": "markdown",
   "id": "0111db19",
   "metadata": {},
   "source": [
    "  "
   ]
  },
  {
   "cell_type": "markdown",
   "id": "a217c974",
   "metadata": {},
   "source": [
    "  "
   ]
  },
  {
   "cell_type": "markdown",
   "id": "22290bb4",
   "metadata": {},
   "source": [
    "  "
   ]
  },
  {
   "cell_type": "markdown",
   "id": "2c4fe742",
   "metadata": {},
   "source": [
    "  "
   ]
  },
  {
   "cell_type": "markdown",
   "id": "8d996896",
   "metadata": {},
   "source": [
    "# <font color = darkblue size =5> Popular Pretrained Embeddings "
   ]
  },
  {
   "cell_type": "markdown",
   "id": "b46e4e3d",
   "metadata": {},
   "source": [
    "<font color = darkblue size =3>1.word2vec : https://code.google.com/archive/p/word2vec/\n",
    "___\n",
    "<font color = darkblue size =3>2.Glove  : https://nlp.stanford.edu/projects/glove/\n",
    "___\n",
    "<font color = darkblue size =3>3.Fasttext : https://fasttext.cc//"
   ]
  },
  {
   "cell_type": "markdown",
   "id": "379fd57e",
   "metadata": {},
   "source": [
    "# <font color = darkblue size =4> What is word Embedding?\n",
    "    \n",
    "*  Word2Vec differs from CountVectorizer and TF-IDF vectorizer because Word2Vec represents each word as a vector as opposed to the two other models where the whole document was represented as a matrix of vectors."
   ]
  },
  {
   "cell_type": "markdown",
   "id": "210b0304",
   "metadata": {},
   "source": [
    "                                   WORDS\n",
    "Attributes             King     Queen       Apple       Man      Woman   horse\n",
    "\n",
    "Gender                 -0.99     0.98       0.001      -0.99      0.98\n",
    "\n",
    "Taste                  0.001    -0.001      0.97        0.002     0.001\n",
    "\n",
    "Royal                  0.98      0.99       0.001       0.001     0.002\n",
    "\n",
    "tail                   0.001                                              0.96"
   ]
  },
  {
   "cell_type": "code",
   "execution_count": null,
   "id": "ae3d1f3d",
   "metadata": {},
   "outputs": [],
   "source": [
    "king-Queen + Man  = Woman\n",
    "(-0.99+0+0.98)-(0.98+0+0.99)+(-0.99+0+0) = (0.98,0.01,0.01)"
   ]
  },
  {
   "cell_type": "markdown",
   "id": "1ec8ea6d",
   "metadata": {},
   "source": [
    "# <font color = darkblue size =4> Word2Vec"
   ]
  },
  {
   "cell_type": "markdown",
   "id": "287b9d00",
   "metadata": {},
   "source": [
    "* Developed By Tomas Mikolov\n",
    "* Uses either COntinous Bag Of Words(CBow) or Skip-gram approach\n",
    "* word2vec accessed through gensim or spacy"
   ]
  },
  {
   "cell_type": "markdown",
   "id": "9dd6a247",
   "metadata": {},
   "source": [
    "# <font color = darkblue size =3> CBow"
   ]
  },
  {
   "cell_type": "code",
   "execution_count": null,
   "id": "d10a5175",
   "metadata": {},
   "outputs": [],
   "source": [
    "\"Models Aims to predict the present target word based on the surrounding word\"\n",
    "\n",
    "example : Apples are Round and sweet #the surrounding word               Skipgram\n",
    "    \n",
    "    Input                       projection                  output     input      projection       output \n",
    "    \n",
    "    Apples                      --------------\n",
    "                                -                            Round      round                       Apples\n",
    "    are                         -\n",
    "                  \n",
    "    and\n",
    "    \n",
    "    sweet\n",
    "    \n",
    "    circle"
   ]
  },
  {
   "cell_type": "markdown",
   "id": "070e15f3",
   "metadata": {},
   "source": [
    "  "
   ]
  },
  {
   "cell_type": "markdown",
   "id": "9a31532a",
   "metadata": {},
   "source": [
    "  "
   ]
  },
  {
   "cell_type": "markdown",
   "id": "bad6af53",
   "metadata": {},
   "source": [
    "  "
   ]
  },
  {
   "cell_type": "markdown",
   "id": "c17cc60a",
   "metadata": {},
   "source": [
    "  "
   ]
  },
  {
   "cell_type": "markdown",
   "id": "f2757418",
   "metadata": {},
   "source": [
    "  "
   ]
  },
  {
   "cell_type": "markdown",
   "id": "348f51d6",
   "metadata": {},
   "source": [
    "  "
   ]
  },
  {
   "cell_type": "markdown",
   "id": "564adc94",
   "metadata": {},
   "source": [
    "  "
   ]
  },
  {
   "cell_type": "markdown",
   "id": "97d1a368",
   "metadata": {},
   "source": [
    "# <font color = darkblue size =5> Word Similarity and Differences "
   ]
  },
  {
   "cell_type": "markdown",
   "id": "4f31f9a7",
   "metadata": {},
   "source": [
    "# <font color = darkblue size =3> * Cosine Distance/Similarity\n",
    "# <font color = darkblue size =3> * between -1 and +1\n"
   ]
  },
  {
   "cell_type": "markdown",
   "id": "7524a36e",
   "metadata": {},
   "source": [
    "                 A  . B\n",
    "similarity =   --------------\n",
    "                |A|  * |B|"
   ]
  },
  {
   "cell_type": "markdown",
   "id": "49e056f6",
   "metadata": {},
   "source": [
    "  "
   ]
  },
  {
   "cell_type": "markdown",
   "id": "4e88d554",
   "metadata": {},
   "source": [
    "  "
   ]
  },
  {
   "cell_type": "markdown",
   "id": "9eabc558",
   "metadata": {},
   "source": [
    "  "
   ]
  },
  {
   "cell_type": "markdown",
   "id": "7174def1",
   "metadata": {},
   "source": [
    "  "
   ]
  },
  {
   "cell_type": "markdown",
   "id": "952a3636",
   "metadata": {},
   "source": [
    "  "
   ]
  },
  {
   "cell_type": "markdown",
   "id": "a85c6985",
   "metadata": {},
   "source": [
    "  "
   ]
  },
  {
   "cell_type": "markdown",
   "id": "b7b4d679",
   "metadata": {},
   "source": [
    "  "
   ]
  },
  {
   "cell_type": "markdown",
   "id": "c53e002b",
   "metadata": {},
   "source": [
    "# <font color = darkblue size =5> N-Grams "
   ]
  },
  {
   "cell_type": "markdown",
   "id": "0204062d",
   "metadata": {},
   "source": [
    "* Continous sequences of words\n",
    "\n",
    "   \n",
    "* Different type of n-gram are useful for different type of application\n",
    "\n",
    "    \n",
    "* One of usecase keyphrase extraction"
   ]
  },
  {
   "cell_type": "code",
   "execution_count": null,
   "id": "95e7eee1",
   "metadata": {},
   "outputs": [],
   "source": [
    "i am learning python = 'i am','am learning','learning python'\n",
    "\n",
    "unigram = i,am,learning\n",
    "bigram =i am ,am learning, learning python\n",
    "trigram = i am learning ,am learning python."
   ]
  },
  {
   "cell_type": "markdown",
   "id": "8350f948",
   "metadata": {},
   "source": [
    "  "
   ]
  },
  {
   "cell_type": "markdown",
   "id": "4d6752fd",
   "metadata": {},
   "source": [
    "  "
   ]
  },
  {
   "cell_type": "markdown",
   "id": "13bec50c",
   "metadata": {},
   "source": [
    "  "
   ]
  },
  {
   "cell_type": "markdown",
   "id": "57145399",
   "metadata": {},
   "source": [
    "  "
   ]
  },
  {
   "cell_type": "markdown",
   "id": "fb645bcd",
   "metadata": {},
   "source": [
    "  "
   ]
  },
  {
   "cell_type": "markdown",
   "id": "ff5989b6",
   "metadata": {},
   "source": [
    "  "
   ]
  },
  {
   "cell_type": "markdown",
   "id": "185800a8",
   "metadata": {},
   "source": [
    "  "
   ]
  },
  {
   "cell_type": "code",
   "execution_count": null,
   "id": "1827389d",
   "metadata": {},
   "outputs": [],
   "source": [
    "Word Indexing \n",
    "                           0        150          500                750\n",
    "                        Acting.... directing....fabulous....good...great...stunts....zenith...movie---simply\n",
    "* The movie was great,               0                              2\n",
    "  simply great            0                                                                   \n",
    "    \n",
    "* Acting directing \n",
    "  screenplay none of      1         1\n",
    "  them were good\n",
    "\n",
    "* Movie was fabulous."
   ]
  },
  {
   "cell_type": "code",
   "execution_count": null,
   "id": "4b17df44",
   "metadata": {},
   "outputs": [],
   "source": [
    "                     0   1   2   3  4\n",
    "                     0   2"
   ]
  },
  {
   "cell_type": "code",
   "execution_count": null,
   "id": "dc625542",
   "metadata": {},
   "outputs": [],
   "source": [
    "Topic Identification : LDA "
   ]
  },
  {
   "cell_type": "code",
   "execution_count": null,
   "id": "49ca5a8f",
   "metadata": {},
   "outputs": [],
   "source": [
    "k /no of topics = 3 = 0,1,2\n",
    "step 1 :0  1     0    2\n",
    "    * The movie was great,\n",
    "    0      1\n",
    "  simply great      \n",
    "       \n",
    "    each word in document will be assigned random topic \n",
    "        1. topc 0  topic 1 topic 2=   p1\n",
    "        2. movie topic 0 20%      = p2\n",
    "        \n",
    "step 2 :\n",
    "    update topic of each word \n",
    "       \n",
    "step 3 find out for each word"
   ]
  },
  {
   "cell_type": "code",
   "execution_count": null,
   "id": "5d6ea16e",
   "metadata": {},
   "outputs": [],
   "source": [
    "The movie was great   doc_num =100\n",
    "k / no of topics = 3 = 0,1,2\n",
    "step 1 : 0   2    1    2 \n",
    "        The movie was great\n",
    "        \n",
    "sent1 = topic 0 : 1   p1\n",
    "        topic 1 : 1\n",
    "        topic 2 : 2\n",
    "            \n",
    "        movie   topic 0 : 30 \n",
    "                topic 1 : 10\n",
    "                topic 2 : 40     p2 \n",
    "                    \n",
    "step 2 :\n",
    "    update topic of each word \n",
    "step 3 :\n",
    "    find out topic for each word "
   ]
  },
  {
   "cell_type": "markdown",
   "id": "0423c75b",
   "metadata": {},
   "source": [
    "  "
   ]
  }
 ],
 "metadata": {
  "kernelspec": {
   "display_name": "Python 3 (ipykernel)",
   "language": "python",
   "name": "python3"
  },
  "language_info": {
   "codemirror_mode": {
    "name": "ipython",
    "version": 3
   },
   "file_extension": ".py",
   "mimetype": "text/x-python",
   "name": "python",
   "nbconvert_exporter": "python",
   "pygments_lexer": "ipython3",
   "version": "3.9.7"
  }
 },
 "nbformat": 4,
 "nbformat_minor": 5
}

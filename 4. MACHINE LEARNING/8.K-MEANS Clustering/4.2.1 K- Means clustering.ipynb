{
 "cells": [
  {
   "cell_type": "code",
   "execution_count": null,
   "id": "6201fc08",
   "metadata": {},
   "outputs": [],
   "source": [
    "K- Means Clustering:\n",
    "    where,\n",
    "    k >> A no.that we decide\n",
    "    Measn >> avg\n",
    "    Cluster >> A group of data points\n",
    "    \n",
    "    \n",
    "K- Means is an unsupervised mahine learning algorithm.\n",
    "\n",
    "\n",
    "K- Means is a centroid based algorithm.\n",
    "Purpose >>  Cohesion - Grouping data points that are similar to each other. (points from the same cluster)\n",
    "            & Separtion - separating data points that are different from each other. (points from the differnt cluster)\n",
    "    \n",
    "Why we use?\n",
    "    We do not ground truth (target values) so, we cna not evaluate model accuracy.\n",
    "    Feature scaling is required.\n",
    "    "
   ]
  },
  {
   "cell_type": "code",
   "execution_count": null,
   "id": "d0e9539c",
   "metadata": {},
   "outputs": [],
   "source": [
    "wcss (within cluster sum of square) >> sum of square of distances of points from the respective centroids\n",
    "Elbow Graph >> elbow shaped graph that helps us decide the optimal value of k.\n",
    "Silhouette score >> calculated from silhouette co-efficient. Whichever value of k has highest silhouette score that would be decided for k value."
   ]
  },
  {
   "cell_type": "code",
   "execution_count": 3,
   "id": "9c904c21",
   "metadata": {},
   "outputs": [
    {
     "data": {
      "image/png": "[encoded data removed]",
      "text/plain": [
       "<IPython.core.display.Image object>"
      ]
     },
     "execution_count": 3,
     "metadata": {},
     "output_type": "execute_result"
    }
   ],
   "source": [
    "from IPython.display import Image\n",
    "Image('SS.png')"
   ]
  },
  {
   "cell_type": "code",
   "execution_count": 5,
   "id": "cc0e5e72",
   "metadata": {},
   "outputs": [
    {
     "data": {
      "image/png": "[encoded data removed]",
      "text/plain": [
       "<IPython.core.display.Image object>"
      ]
     },
     "execution_count": 5,
     "metadata": {
      "image/png": {
       "height": 400,
       "width": 400
      }
     },
     "output_type": "execute_result"
    }
   ],
   "source": [
    "Image('Elbow.png',width=400,height=400)"
   ]
  },
  {
   "cell_type": "code",
   "execution_count": 6,
   "id": "d633f022",
   "metadata": {},
   "outputs": [
    {
     "data": {
      "image/png": "[encoded data removed]",
      "text/plain": [
       "<IPython.core.display.Image object>"
      ]
     },
     "execution_count": 6,
     "metadata": {},
     "output_type": "execute_result"
    }
   ],
   "source": [
    "Image('wcss.png')"
   ]
  },
  {
   "cell_type": "code",
   "execution_count": null,
   "id": "c809ca8b",
   "metadata": {},
   "outputs": [],
   "source": [
    "K means Algorithm Steps:\n",
    "    1. Select a value of k (no. clusters/ no. of centroids). default value is 2\n",
    "    2. Algorithm selects k random centroids\n",
    "    3. calculates the distance between centroid & all data poiints.\n",
    "    4. Assign each data point to its closest centroid.\n",
    "    5. Update the value of centroids >> Mean of cluster's datapoints.\n",
    "    6. Keep iterating over untill there is no change in centroid value. ( no movement of data oints between clusters)"
   ]
  }
 ],
 "metadata": {
  "kernelspec": {
   "display_name": "Python 3 (ipykernel)",
   "language": "python",
   "name": "python3"
  },
  "language_info": {
   "codemirror_mode": {
    "name": "ipython",
    "version": 3
   },
   "file_extension": ".py",
   "mimetype": "text/x-python",
   "name": "python",
   "nbconvert_exporter": "python",
   "pygments_lexer": "ipython3",
   "version": "3.8.12"
  },
  "toc": {
   "base_numbering": 1,
   "nav_menu": {},
   "number_sections": true,
   "sideBar": true,
   "skip_h1_title": false,
   "title_cell": "Table of Contents",
   "title_sidebar": "Contents",
   "toc_cell": false,
   "toc_position": {},
   "toc_section_display": true,
   "toc_window_display": false
  },
  "varInspector": {
   "cols": {
    "lenName": 16,
    "lenType": 16,
    "lenVar": 40
   },
   "kernels_config": {
    "python": {
     "delete_cmd_postfix": "",
     "delete_cmd_prefix": "del ",
     "library": "var_list.py",
     "varRefreshCmd": "print(var_dic_list())"
    },
    "r": {
     "delete_cmd_postfix": ") ",
     "delete_cmd_prefix": "rm(",
     "library": "var_list.r",
     "varRefreshCmd": "cat(var_dic_list()) "
    }
   },
   "types_to_exclude": [
    "module",
    "function",
    "builtin_function_or_method",
    "instance",
    "_Feature"
   ],
   "window_display": false
  }
 },
 "nbformat": 4,
 "nbformat_minor": 5
}

{
 "cells": [
  {
   "cell_type": "code",
   "execution_count": null,
   "id": "3c6f3ae2",
   "metadata": {},
   "outputs": [],
   "source": [
    "Hierarchical Clustering\n",
    "Hierarchical is an unsupervised mahine learning algorithm.\n",
    "\n",
    "\n",
    "Hierarchical is a centroid based algorithm.\n",
    "Purpose >>  Cohesion - Grouping data points that are similar to each other. (points from the same cluster)\n",
    "            & Separtion - separating data points that are different from each other. (points from the differnt cluster)\n",
    "    \n",
    "Why we use?\n",
    "    We do not ground truth (target values) so, we can not evaluate model accuracy.\n",
    "    Feature scaling is required."
   ]
  },
  {
   "cell_type": "code",
   "execution_count": null,
   "id": "f328f309",
   "metadata": {},
   "outputs": [],
   "source": [
    "There are 2 types in Hierarchical clustering:\n",
    "    1. Agglomerative ( Bottom to top approch)\n",
    "    2. Divisive    (Top to bottom approch)"
   ]
  }
 ],
 "metadata": {
  "kernelspec": {
   "display_name": "Python 3",
   "language": "python",
   "name": "python3"
  },
  "language_info": {
   "codemirror_mode": {
    "name": "ipython",
    "version": 3
   },
   "file_extension": ".py",
   "mimetype": "text/x-python",
   "name": "python",
   "nbconvert_exporter": "python",
   "pygments_lexer": "ipython3",
   "version": "3.8.8"
  },
  "toc": {
   "base_numbering": 1,
   "nav_menu": {},
   "number_sections": true,
   "sideBar": true,
   "skip_h1_title": false,
   "title_cell": "Table of Contents",
   "title_sidebar": "Contents",
   "toc_cell": false,
   "toc_position": {},
   "toc_section_display": true,
   "toc_window_display": false
  },
  "varInspector": {
   "cols": {
    "lenName": 16,
    "lenType": 16,
    "lenVar": 40
   },
   "kernels_config": {
    "python": {
     "delete_cmd_postfix": "",
     "delete_cmd_prefix": "del ",
     "library": "var_list.py",
     "varRefreshCmd": "print(var_dic_list())"
    },
    "r": {
     "delete_cmd_postfix": ") ",
     "delete_cmd_prefix": "rm(",
     "library": "var_list.r",
     "varRefreshCmd": "cat(var_dic_list()) "
    }
   },
   "types_to_exclude": [
    "module",
    "function",
    "builtin_function_or_method",
    "instance",
    "_Feature"
   ],
   "window_display": false
  }
 },
 "nbformat": 4,
 "nbformat_minor": 5
}

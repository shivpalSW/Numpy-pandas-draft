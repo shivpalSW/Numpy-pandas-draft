{
 "cells": [
  {
   "cell_type": "markdown",
   "id": "86debcc2",
   "metadata": {},
   "source": [
    "# Support Vector Machine"
   ]
  },
  {
   "cell_type": "code",
   "execution_count": null,
   "id": "73e08db3",
   "metadata": {},
   "outputs": [],
   "source": [
    "Used for classification as well as regression"
   ]
  },
  {
   "cell_type": "code",
   "execution_count": null,
   "id": "56e601a2",
   "metadata": {},
   "outputs": [],
   "source": [
    "SVM helps to find line or decision boundary is called hyperplane\n",
    "\n",
    "1. hyperplane\n",
    "    2-feature >> straight line \n",
    "    3-feature >> 2D hyperlane\n",
    "\n",
    "2. Support Vectors:\n",
    "     data points which are closest to optimal hyperplane\n",
    "    These vectors supports to the hyperplane so called as support vectors\n",
    "    \n",
    "3. Margin:\n",
    "    Distance between two support vectors\n",
    "    maximum margin required for classification & minimum margin required for regression\n",
    "    \n",
    "4. Optimal hyperplane:\n",
    "    The hyperplane with maximim margin is called optimal hyperplane"
   ]
  },
  {
   "cell_type": "markdown",
   "id": "bb744154",
   "metadata": {},
   "source": [
    "# SVM Kernals:"
   ]
  },
  {
   "cell_type": "code",
   "execution_count": null,
   "id": "f5cc5c7c",
   "metadata": {},
   "outputs": [],
   "source": [
    "kernel : {'linear', 'poly', 'rbf', 'sigmoid', 'precomputed'}\n",
    "    \n",
    "rbf >> radial basis function\n",
    "SVM kernals converts lower dimension data to higher\n",
    "\n",
    "Lower Dimnesion >> Higher Dimension\n",
    "1-D >> 2-D\n",
    "\n",
    "2-D >> 3-D\n",
    "\n",
    "To seperate non-linear datapoints, we need to add one more dimension\n",
    "third dimension >> z \n",
    "\n",
    "Classification:\n",
    "    Large C value >> Bigger Margin\n",
    "    Small C Value >> Smaller Margin\n",
    "    \n",
    "Regression:\n",
    "    Classification:\n",
    "    Large C value >> Small Margin\n",
    "    Small C Value >> Large Margin"
   ]
  }
 ],
 "metadata": {
  "kernelspec": {
   "display_name": "Python 3",
   "language": "python",
   "name": "python3"
  },
  "language_info": {
   "codemirror_mode": {
    "name": "ipython",
    "version": 3
   },
   "file_extension": ".py",
   "mimetype": "text/x-python",
   "name": "python",
   "nbconvert_exporter": "python",
   "pygments_lexer": "ipython3",
   "version": "3.8.8"
  },
  "toc": {
   "base_numbering": 1,
   "nav_menu": {},
   "number_sections": true,
   "sideBar": true,
   "skip_h1_title": false,
   "title_cell": "Table of Contents",
   "title_sidebar": "Contents",
   "toc_cell": false,
   "toc_position": {},
   "toc_section_display": true,
   "toc_window_display": false
  },
  "varInspector": {
   "cols": {
    "lenName": 16,
    "lenType": 16,
    "lenVar": 40
   },
   "kernels_config": {
    "python": {
     "delete_cmd_postfix": "",
     "delete_cmd_prefix": "del ",
     "library": "var_list.py",
     "varRefreshCmd": "print(var_dic_list())"
    },
    "r": {
     "delete_cmd_postfix": ") ",
     "delete_cmd_prefix": "rm(",
     "library": "var_list.r",
     "varRefreshCmd": "cat(var_dic_list()) "
    }
   },
   "types_to_exclude": [
    "module",
    "function",
    "builtin_function_or_method",
    "instance",
    "_Feature"
   ],
   "window_display": false
  }
 },
 "nbformat": 4,
 "nbformat_minor": 5
}

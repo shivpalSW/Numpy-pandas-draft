{
 "cells": [
  {
   "cell_type": "code",
   "execution_count": 1,
   "id": "5f3ecb80",
   "metadata": {
    "executionInfo": {
     "elapsed": 966,
     "status": "ok",
     "timestamp": 1642794518687,
     "user": {
      "displayName": "MIHIR NAIK",
      "photoUrl": "https://lh3.googleusercontent.com/a-/AOh14GjhSt5198zlFRNIc6P0YtRPJIvk5YALAbQ6VHOvihg=s64",
      "userId": "00703627377896795034"
     },
     "user_tz": -330
    },
    "id": "coastal-bryan"
   },
   "outputs": [],
   "source": [
    "import pandas as pd\n",
    "import numpy as np\n",
    "\n",
    "from sklearn.svm import SVC\n",
    "\n",
    "from sklearn.model_selection import train_test_split, GridSearchCV\n",
    "from sklearn.preprocessing import MinMaxScaler, StandardScaler\n",
    "from sklearn.metrics import confusion_matrix, accuracy_score, classification_report\n",
    "import seaborn as sns\n",
    "import matplotlib.pyplot as plt"
   ]
  },
  {
   "cell_type": "code",
   "execution_count": null,
   "id": "b74bb4f9",
   "metadata": {
    "id": "completed-musician",
    "outputId": "fd0c5525-401a-4c09-cc19-bc2702ee8f41"
   },
   "outputs": [
    {
     "data": {
      "text/html": [
       "<div>\n",
       "<style scoped>\n",
       "    .dataframe tbody tr th:only-of-type {\n",
       "        vertical-align: middle;\n",
       "    }\n",
       "\n",
       "    .dataframe tbody tr th {\n",
       "        vertical-align: top;\n",
       "    }\n",
       "\n",
       "    .dataframe thead th {\n",
       "        text-align: right;\n",
       "    }\n",
       "</style>\n",
       "<table border=\"1\" class=\"dataframe\">\n",
       "  <thead>\n",
       "    <tr style=\"text-align: right;\">\n",
       "      <th></th>\n",
       "      <th>Weight</th>\n",
       "      <th>Size</th>\n",
       "      <th>Class</th>\n",
       "    </tr>\n",
       "  </thead>\n",
       "  <tbody>\n",
       "    <tr>\n",
       "      <th>0</th>\n",
       "      <td>69</td>\n",
       "      <td>4.39</td>\n",
       "      <td>orange</td>\n",
       "    </tr>\n",
       "    <tr>\n",
       "      <th>1</th>\n",
       "      <td>69</td>\n",
       "      <td>4.21</td>\n",
       "      <td>orange</td>\n",
       "    </tr>\n",
       "    <tr>\n",
       "      <th>2</th>\n",
       "      <td>65</td>\n",
       "      <td>4.09</td>\n",
       "      <td>orange</td>\n",
       "    </tr>\n",
       "    <tr>\n",
       "      <th>3</th>\n",
       "      <td>72</td>\n",
       "      <td>5.85</td>\n",
       "      <td>apple</td>\n",
       "    </tr>\n",
       "    <tr>\n",
       "      <th>4</th>\n",
       "      <td>67</td>\n",
       "      <td>4.70</td>\n",
       "      <td>orange</td>\n",
       "    </tr>\n",
       "  </tbody>\n",
       "</table>\n",
       "</div>"
      ],
      "text/plain": [
       "   Weight  Size   Class\n",
       "0      69  4.39  orange\n",
       "1      69  4.21  orange\n",
       "2      65  4.09  orange\n",
       "3      72  5.85   apple\n",
       "4      67  4.70  orange"
      ]
     },
     "execution_count": 28,
     "metadata": {},
     "output_type": "execute_result"
    }
   ],
   "source": [
    "df = pd.read_csv('apples_and_oranges.csv')\n",
    "df.head()\n"
   ]
  },
  {
   "cell_type": "code",
   "execution_count": null,
   "id": "2deac8cf",
   "metadata": {
    "id": "inappropriate-mistress"
   },
   "outputs": [],
   "source": []
  },
  {
   "cell_type": "code",
   "execution_count": null,
   "id": "29dd4563",
   "metadata": {
    "id": "serial-december",
    "outputId": "11c03487-8435-471f-81bd-f12085e989f0"
   },
   "outputs": [
    {
     "data": {
      "text/plain": [
       "orange    20\n",
       "apple     20\n",
       "Name: Class, dtype: int64"
      ]
     },
     "execution_count": 29,
     "metadata": {},
     "output_type": "execute_result"
    }
   ],
   "source": [
    "df['Class'].value_counts()"
   ]
  },
  {
   "cell_type": "code",
   "execution_count": null,
   "id": "ca0bdf94",
   "metadata": {
    "id": "ambient-bangladesh"
   },
   "outputs": [],
   "source": [
    "df['Class'].replace({\"orange\":0, 'apple':1},inplace =True)"
   ]
  },
  {
   "cell_type": "code",
   "execution_count": null,
   "id": "22de6a52",
   "metadata": {
    "id": "atlantic-feeling",
    "outputId": "1d1292fd-ecfe-4732-ca2f-d3652e24044e"
   },
   "outputs": [
    {
     "data": {
      "text/plain": [
       "<matplotlib.collections.PathCollection at 0x271861bfe20>"
      ]
     },
     "execution_count": 31,
     "metadata": {},
     "output_type": "execute_result"
    },
    {
     "data": {
      "image/png": "[encoded data removed]",
      "text/plain": [
       "<Figure size 432x288 with 1 Axes>"
      ]
     },
     "metadata": {
      "needs_background": "light"
     },
     "output_type": "display_data"
    }
   ],
   "source": [
    "plt.scatter(df['Weight'],df['Size'], c = df['Class'],cmap = 'rainbow')"
   ]
  },
  {
   "cell_type": "code",
   "execution_count": null,
   "id": "36f812f9",
   "metadata": {
    "id": "spectacular-season"
   },
   "outputs": [],
   "source": [
    "x = df.drop('Class',axis = 1)\n",
    "y = df['Class']"
   ]
  },
  {
   "cell_type": "code",
   "execution_count": null,
   "id": "1a09f2fb",
   "metadata": {
    "id": "blank-kitty"
   },
   "outputs": [],
   "source": [
    "std_scaler = StandardScaler()\n",
    "x_df = pd.DataFrame(std_scaler.fit_transform(x),columns= x.columns)\n",
    "x_df\n",
    "x_train, x_test, y_train, y_test = train_test_split(x_df,y,test_size=0.3, random_state=1, stratify=y)\n",
    "# x_test"
   ]
  },
  {
   "cell_type": "markdown",
   "id": "0e8a1194",
   "metadata": {
    "id": "accompanied-camping"
   },
   "source": [
    "# model Training"
   ]
  },
  {
   "cell_type": "code",
   "execution_count": null,
   "id": "b7e1f9e8",
   "metadata": {
    "id": "generous-marker",
    "outputId": "a7c0a613-4891-4523-e1d4-58f69cf54f04"
   },
   "outputs": [
    {
     "data": {
      "text/plain": [
       "SVC()"
      ]
     },
     "execution_count": 40,
     "metadata": {},
     "output_type": "execute_result"
    }
   ],
   "source": [
    "svc_model = SVC()\n",
    "svc_model.fit(x_train, y_train)"
   ]
  },
  {
   "cell_type": "markdown",
   "id": "4ef54399",
   "metadata": {
    "id": "remarkable-queens"
   },
   "source": [
    "# Evaluation"
   ]
  },
  {
   "cell_type": "code",
   "execution_count": null,
   "id": "816d1901",
   "metadata": {
    "id": "outer-duplicate",
    "outputId": "9f1f3c0e-82a5-4e90-f87c-739675da56ac"
   },
   "outputs": [
    {
     "name": "stdout",
     "output_type": "stream",
     "text": [
      "Accuracy Score is : 1.0\n",
      "Confusion Matrix :\n",
      " [[6 0]\n",
      " [0 6]]\n",
      "Classification report :\n",
      "               precision    recall  f1-score   support\n",
      "\n",
      "           0       1.00      1.00      1.00         6\n",
      "           1       1.00      1.00      1.00         6\n",
      "\n",
      "    accuracy                           1.00        12\n",
      "   macro avg       1.00      1.00      1.00        12\n",
      "weighted avg       1.00      1.00      1.00        12\n",
      "\n"
     ]
    }
   ],
   "source": [
    "# Testing Data Accuracy\n",
    "y_pred = svc_model.predict(x_test)\n",
    "acc_score = accuracy_score(y_test, y_pred)\n",
    "print(\"Accuracy Score is :\",acc_score)\n",
    "\n",
    "cnf_matrix = confusion_matrix(y_test, y_pred)\n",
    "print(\"Confusion Matrix :\\n\", cnf_matrix)\n",
    "\n",
    "clf_report = classification_report(y_test, y_pred)\n",
    "\n",
    "print(\"Classification report :\\n\",clf_report)"
   ]
  },
  {
   "cell_type": "code",
   "execution_count": null,
   "id": "ee6f5e9b",
   "metadata": {
    "id": "sharp-treasure",
    "outputId": "008fed6f-b079-4e49-d74e-fc3eed876aa9"
   },
   "outputs": [
    {
     "name": "stdout",
     "output_type": "stream",
     "text": [
      "Accuracy Score is : 1.0\n",
      "Confusion Matrix :\n",
      " [[14  0]\n",
      " [ 0 14]]\n",
      "Classification report :\n",
      "               precision    recall  f1-score   support\n",
      "\n",
      "           0       1.00      1.00      1.00        14\n",
      "           1       1.00      1.00      1.00        14\n",
      "\n",
      "    accuracy                           1.00        28\n",
      "   macro avg       1.00      1.00      1.00        28\n",
      "weighted avg       1.00      1.00      1.00        28\n",
      "\n"
     ]
    }
   ],
   "source": [
    "# Training Data accuracy\n",
    "y_pred = svc_model.predict(x_train)\n",
    "acc_score = accuracy_score(y_train, y_pred)\n",
    "print(\"Accuracy Score is :\",acc_score)\n",
    "\n",
    "cnf_matrix = confusion_matrix(y_train, y_pred)\n",
    "print(\"Confusion Matrix :\\n\", cnf_matrix)\n",
    "\n",
    "clf_report = classification_report(y_train, y_pred)\n",
    "\n",
    "print(\"Classification report :\\n\",clf_report)"
   ]
  }
 ],
 "metadata": {
  "colab": {
   "name": "SVM .ipynb",
   "provenance": []
  },
  "kernelspec": {
   "display_name": "Python 3",
   "language": "python",
   "name": "python3"
  },
  "language_info": {
   "codemirror_mode": {
    "name": "ipython",
    "version": 3
   },
   "file_extension": ".py",
   "mimetype": "text/x-python",
   "name": "python",
   "nbconvert_exporter": "python",
   "pygments_lexer": "ipython3",
   "version": "3.8.8"
  },
  "toc": {
   "base_numbering": 1,
   "nav_menu": {},
   "number_sections": true,
   "sideBar": true,
   "skip_h1_title": false,
   "title_cell": "Table of Contents",
   "title_sidebar": "Contents",
   "toc_cell": false,
   "toc_position": {},
   "toc_section_display": true,
   "toc_window_display": false
  },
  "varInspector": {
   "cols": {
    "lenName": 16,
    "lenType": 16,
    "lenVar": 40
   },
   "kernels_config": {
    "python": {
     "delete_cmd_postfix": "",
     "delete_cmd_prefix": "del ",
     "library": "var_list.py",
     "varRefreshCmd": "print(var_dic_list())"
    },
    "r": {
     "delete_cmd_postfix": ") ",
     "delete_cmd_prefix": "rm(",
     "library": "var_list.r",
     "varRefreshCmd": "cat(var_dic_list()) "
    }
   },
   "types_to_exclude": [
    "module",
    "function",
    "builtin_function_or_method",
    "instance",
    "_Feature"
   ],
   "window_display": false
  }
 },
 "nbformat": 4,
 "nbformat_minor": 5
}

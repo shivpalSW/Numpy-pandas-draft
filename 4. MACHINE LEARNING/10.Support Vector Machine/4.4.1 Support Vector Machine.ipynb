{
 "cells": [
  {
   "cell_type": "code",
   "execution_count": null,
   "id": "5574d59c",
   "metadata": {},
   "outputs": [],
   "source": [
    "Support vectors:\n",
    "    Support vectors are the points which are closest to the optimal hyperplane or also called as the best line. These are the points through which the Marginal planes or hyperplanes will pass.\n",
    "\n",
    "Optimal Plane/ Best line: \n",
    "    The separable line that separates two diffent classes such that the distance of support vectors from this plane is largest.\n",
    "    \n",
    "Hyperplane/marginal plane:\n",
    "    These are 2 planes that pas through support vectors & are parallel to optimal hyperplane.\n",
    "    \n",
    "Marginal Distance:\n",
    "    Displacement between marginial planes."
   ]
  }
 ],
 "metadata": {
  "kernelspec": {
   "display_name": "Python 3",
   "language": "python",
   "name": "python3"
  },
  "language_info": {
   "codemirror_mode": {
    "name": "ipython",
    "version": 3
   },
   "file_extension": ".py",
   "mimetype": "text/x-python",
   "name": "python",
   "nbconvert_exporter": "python",
   "pygments_lexer": "ipython3",
   "version": "3.8.8"
  },
  "toc": {
   "base_numbering": 1,
   "nav_menu": {},
   "number_sections": true,
   "sideBar": true,
   "skip_h1_title": false,
   "title_cell": "Table of Contents",
   "title_sidebar": "Contents",
   "toc_cell": false,
   "toc_position": {},
   "toc_section_display": true,
   "toc_window_display": false
  },
  "varInspector": {
   "cols": {
    "lenName": 16,
    "lenType": 16,
    "lenVar": 40
   },
   "kernels_config": {
    "python": {
     "delete_cmd_postfix": "",
     "delete_cmd_prefix": "del ",
     "library": "var_list.py",
     "varRefreshCmd": "print(var_dic_list())"
    },
    "r": {
     "delete_cmd_postfix": ") ",
     "delete_cmd_prefix": "rm(",
     "library": "var_list.r",
     "varRefreshCmd": "cat(var_dic_list()) "
    }
   },
   "types_to_exclude": [
    "module",
    "function",
    "builtin_function_or_method",
    "instance",
    "_Feature"
   ],
   "window_display": false
  }
 },
 "nbformat": 4,
 "nbformat_minor": 5
}

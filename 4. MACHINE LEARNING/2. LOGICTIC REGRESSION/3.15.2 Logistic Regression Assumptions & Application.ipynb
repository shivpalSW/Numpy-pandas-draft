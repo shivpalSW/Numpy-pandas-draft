{
 "cells": [
  {
   "cell_type": "raw",
   "id": "43026ac8",
   "metadata": {},
   "source": [
    "Assumptions:\n",
    "    1. The Targeted column should be a categorical feature.\n",
    "    2. Input features can be countinuos or categorical.\n",
    "    3. Independent variables are linearly related to the log of odds.\n",
    "    4. No Multicolinearity between independent variables./ All features should be independent to each other.\n",
    "    5. Logistic regression typically requires a large sample size. (Population)"
   ]
  },
  {
   "cell_type": "code",
   "execution_count": null,
   "id": "132d0325",
   "metadata": {},
   "outputs": [],
   "source": [
    "Application:\n",
    "    1. Loan Approval or denial\n",
    "    2. cancer prediction\n",
    "    3. Whether forecast - sunny, rainy, coudly, Overcast.\n",
    "    4. Stock classification. (Large cap, Mid Cap, Small Cap)\n",
    "    5. Customer churn\n",
    "    6. Disorder classification.\n",
    "    7. Movie Review"
   ]
  },
  {
   "cell_type": "code",
   "execution_count": null,
   "id": "e1a8c231",
   "metadata": {},
   "outputs": [],
   "source": [
    "\t1.1.2  2. Advantages\n",
    "\tAdvantages of Logistics Regression\n",
    "\t\t1. Logistic Regression Are very easy to understand, implement\n",
    "\t\t2. It requires less training time.\n",
    "\t\t3. Good accuracy for many simple data sets and it performs well when the dataset is linearly separable.\n",
    "\t\t4. It makes no assumptions about distributions of classes in feature space.\n",
    "\t\t5. Logistic regression is less inclined to over-fitting but it can overfit in high dimensional datasets. One may consider Regularization (L1 and L2) techniques to avoid over-fitting in these scenarios.\n",
    "\t\t6. Logistic regression is easier to implement, interpret, and very efficient to train.\n",
    "        \n",
    "        \n",
    "\t1.1.3  3. Disadvantages\n",
    "\t\t1. Sometimes Lot of Feature Engineering Is required\n",
    "\t\t2. If the independent features are correlated it may affect performance\n",
    "\t\t3. It is often quite prone to noise and overfitting\n",
    "\t\t4. If the number of observations is lesser than the number of features, Logistic Regression should not be used, otherwise, it may lead to overfitting.\n",
    "\t\t5. Non-linear problems can’t be solved with logistic regression because it has a linear decision surface. Linearly separable data is rarely found in real-world scenarios.\n",
    "\t\t6. It is tough to obtain complex relationships using logistic regression. More powerful and compact algorithms such as Neural Networks can easily outperform this algorithm.\n",
    "In Linear Regression independent and dependent variables are related linearly. But Logistic Regression needs that independent variables are linearly related to the log odds (log(p/(1-p)).\n",
    "        7. Highly impacted by outliers & Null Values.\n",
    "        8. Lot of preprocessing is required."
   ]
  }
 ],
 "metadata": {
  "kernelspec": {
   "display_name": "Python 3",
   "language": "python",
   "name": "python3"
  },
  "language_info": {
   "codemirror_mode": {
    "name": "ipython",
    "version": 3
   },
   "file_extension": ".py",
   "mimetype": "text/x-python",
   "name": "python",
   "nbconvert_exporter": "python",
   "pygments_lexer": "ipython3",
   "version": "3.8.8"
  },
  "toc": {
   "base_numbering": 1,
   "nav_menu": {},
   "number_sections": true,
   "sideBar": true,
   "skip_h1_title": false,
   "title_cell": "Table of Contents",
   "title_sidebar": "Contents",
   "toc_cell": false,
   "toc_position": {},
   "toc_section_display": true,
   "toc_window_display": false
  },
  "varInspector": {
   "cols": {
    "lenName": 16,
    "lenType": 16,
    "lenVar": 40
   },
   "kernels_config": {
    "python": {
     "delete_cmd_postfix": "",
     "delete_cmd_prefix": "del ",
     "library": "var_list.py",
     "varRefreshCmd": "print(var_dic_list())"
    },
    "r": {
     "delete_cmd_postfix": ") ",
     "delete_cmd_prefix": "rm(",
     "library": "var_list.r",
     "varRefreshCmd": "cat(var_dic_list()) "
    }
   },
   "types_to_exclude": [
    "module",
    "function",
    "builtin_function_or_method",
    "instance",
    "_Feature"
   ],
   "window_display": false
  }
 },
 "nbformat": 4,
 "nbformat_minor": 5
}

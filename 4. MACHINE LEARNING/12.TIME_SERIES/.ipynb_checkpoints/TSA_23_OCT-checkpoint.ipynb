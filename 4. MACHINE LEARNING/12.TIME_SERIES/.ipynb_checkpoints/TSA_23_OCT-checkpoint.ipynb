{
 "cells": [
  {
   "cell_type": "code",
   "execution_count": null,
   "id": "68f30f07",
   "metadata": {},
   "outputs": [],
   "source": [
    "Time Series:\n",
    "    We must need a feature which should be >> Time\n",
    "    \n",
    "It is a set of observation/datapoints taken at equal interval of time, where our main variable will be time dependent."
   ]
  },
  {
   "cell_type": "code",
   "execution_count": null,
   "id": "7207e7c8",
   "metadata": {},
   "outputs": [],
   "source": [
    "In TSA:\n",
    "    Univariate Analysis:\n",
    "        1. Time/date\n",
    "        2. Target var\n",
    "        \n",
    "    Multivariate Analysis:\n",
    "        1. Time/date\n",
    "        2. Target var\n",
    "        3. Extra features (which will help model to predict output)"
   ]
  },
  {
   "cell_type": "code",
   "execution_count": null,
   "id": "d2629cf3",
   "metadata": {},
   "outputs": [],
   "source": [
    "Types of TSA:\n",
    "    Univariate Analysis:(1 target var, 1 time dependent var)\n",
    "        AutoRegressive (AR)\n",
    "        Moving Average (MA)\n",
    "        ARMA\n",
    "        ARIMA (Integrated)\n",
    "        SARIMA (Seasonal)\n",
    "        LSTM (Long Short Term Memory)\n",
    "        FBProbhet\n",
    "        \n",
    "    Multivariate Analysis:(multiple var)\n",
    "        VAR (Vector)\n",
    "        SARIMAX\n",
    "        LSTM\n",
    "        FBProphet"
   ]
  },
  {
   "cell_type": "code",
   "execution_count": null,
   "id": "3e8d2640",
   "metadata": {},
   "outputs": [],
   "source": [
    "When We plot Data:\n",
    "    on X axis : time\n",
    "        y axis : Magnitude/Amount/Value/Number"
   ]
  },
  {
   "cell_type": "code",
   "execution_count": null,
   "id": "4128177c",
   "metadata": {},
   "outputs": [],
   "source": [
    "Limitations:\n",
    "    Time Dependent Var is required\n",
    "    Constant Interval of Time is required (if data points are not at equal intervalas >> resampling)"
   ]
  },
  {
   "cell_type": "code",
   "execution_count": null,
   "id": "5b671a5a",
   "metadata": {},
   "outputs": [],
   "source": [
    "Interval :\n",
    "    microsec, sec , min , hour, a day, a week , a month, quarter, year, decade, century"
   ]
  },
  {
   "cell_type": "code",
   "execution_count": null,
   "id": "32affa91",
   "metadata": {},
   "outputs": [],
   "source": [
    "Importance:\n",
    "    1. Business Understanding/Forecasting\n",
    "    2. Understand Past Behaviour\n",
    "    3. Plan Future\n",
    "    4. Evaluate Current Accomplishments"
   ]
  },
  {
   "cell_type": "code",
   "execution_count": null,
   "id": "615a8e83",
   "metadata": {},
   "outputs": [],
   "source": [
    "20, 19 >> good pred\n",
    "20, 11 >> bad pre"
   ]
  },
  {
   "cell_type": "code",
   "execution_count": null,
   "id": "042d2b6a",
   "metadata": {},
   "outputs": [],
   "source": [
    "Components of TS:\n",
    "    1. Trend \n",
    "    2. Seasonality\n",
    "    3. Irregularity\n",
    "    4. Cyclic"
   ]
  },
  {
   "cell_type": "code",
   "execution_count": null,
   "id": "da7a2174",
   "metadata": {},
   "outputs": [],
   "source": [
    "When we should not use TSA:\n",
    "    1. Values are constant\n",
    "    2. Time interval is not constant"
   ]
  },
  {
   "cell_type": "code",
   "execution_count": null,
   "id": "ecedd09e",
   "metadata": {},
   "outputs": [],
   "source": []
  },
  {
   "cell_type": "code",
   "execution_count": null,
   "id": "6615335b",
   "metadata": {},
   "outputs": [],
   "source": []
  },
  {
   "cell_type": "code",
   "execution_count": null,
   "id": "7949eda8",
   "metadata": {},
   "outputs": [],
   "source": []
  },
  {
   "cell_type": "code",
   "execution_count": null,
   "id": "a32348d6",
   "metadata": {},
   "outputs": [],
   "source": []
  },
  {
   "cell_type": "code",
   "execution_count": null,
   "id": "46e33b1b",
   "metadata": {},
   "outputs": [],
   "source": []
  },
  {
   "cell_type": "code",
   "execution_count": null,
   "id": "cdabcf90",
   "metadata": {},
   "outputs": [],
   "source": []
  },
  {
   "cell_type": "code",
   "execution_count": null,
   "id": "a56f097f",
   "metadata": {},
   "outputs": [],
   "source": []
  },
  {
   "cell_type": "code",
   "execution_count": null,
   "id": "a2679a02",
   "metadata": {},
   "outputs": [],
   "source": []
  },
  {
   "cell_type": "code",
   "execution_count": null,
   "id": "dc0f1a30",
   "metadata": {},
   "outputs": [],
   "source": []
  },
  {
   "cell_type": "code",
   "execution_count": null,
   "id": "ae3352cf",
   "metadata": {},
   "outputs": [],
   "source": []
  },
  {
   "cell_type": "code",
   "execution_count": null,
   "id": "87f6e9ca",
   "metadata": {},
   "outputs": [],
   "source": []
  },
  {
   "cell_type": "code",
   "execution_count": null,
   "id": "7c2e76dd",
   "metadata": {},
   "outputs": [],
   "source": []
  },
  {
   "cell_type": "code",
   "execution_count": null,
   "id": "bc59262a",
   "metadata": {},
   "outputs": [],
   "source": []
  },
  {
   "cell_type": "code",
   "execution_count": null,
   "id": "9a5425a5",
   "metadata": {},
   "outputs": [],
   "source": []
  },
  {
   "cell_type": "code",
   "execution_count": null,
   "id": "80b6e58f",
   "metadata": {},
   "outputs": [],
   "source": []
  },
  {
   "cell_type": "code",
   "execution_count": null,
   "id": "d9e5910b",
   "metadata": {},
   "outputs": [],
   "source": []
  },
  {
   "cell_type": "code",
   "execution_count": null,
   "id": "234e717e",
   "metadata": {},
   "outputs": [],
   "source": []
  },
  {
   "cell_type": "code",
   "execution_count": null,
   "id": "2564e1e4",
   "metadata": {},
   "outputs": [],
   "source": []
  },
  {
   "cell_type": "code",
   "execution_count": null,
   "id": "90d19b42",
   "metadata": {},
   "outputs": [],
   "source": []
  },
  {
   "cell_type": "code",
   "execution_count": null,
   "id": "85c2fc70",
   "metadata": {},
   "outputs": [],
   "source": []
  },
  {
   "cell_type": "code",
   "execution_count": null,
   "id": "767d6262",
   "metadata": {},
   "outputs": [],
   "source": []
  },
  {
   "cell_type": "code",
   "execution_count": null,
   "id": "727c1ac1",
   "metadata": {},
   "outputs": [],
   "source": []
  },
  {
   "cell_type": "code",
   "execution_count": null,
   "id": "44d1a791",
   "metadata": {},
   "outputs": [],
   "source": []
  },
  {
   "cell_type": "code",
   "execution_count": null,
   "id": "300fa0c8",
   "metadata": {},
   "outputs": [],
   "source": []
  },
  {
   "cell_type": "code",
   "execution_count": null,
   "id": "e5fb6106",
   "metadata": {},
   "outputs": [],
   "source": []
  },
  {
   "cell_type": "code",
   "execution_count": null,
   "id": "e5df0c60",
   "metadata": {},
   "outputs": [],
   "source": []
  },
  {
   "cell_type": "code",
   "execution_count": null,
   "id": "8a508c5a",
   "metadata": {},
   "outputs": [],
   "source": []
  },
  {
   "cell_type": "code",
   "execution_count": null,
   "id": "0d60c836",
   "metadata": {},
   "outputs": [],
   "source": []
  },
  {
   "cell_type": "code",
   "execution_count": null,
   "id": "ceac7865",
   "metadata": {},
   "outputs": [],
   "source": []
  },
  {
   "cell_type": "code",
   "execution_count": null,
   "id": "40889c39",
   "metadata": {},
   "outputs": [],
   "source": []
  },
  {
   "cell_type": "code",
   "execution_count": null,
   "id": "07251043",
   "metadata": {},
   "outputs": [],
   "source": []
  },
  {
   "cell_type": "code",
   "execution_count": null,
   "id": "2b67c127",
   "metadata": {},
   "outputs": [],
   "source": []
  },
  {
   "cell_type": "code",
   "execution_count": null,
   "id": "a1a800eb",
   "metadata": {},
   "outputs": [],
   "source": []
  },
  {
   "cell_type": "code",
   "execution_count": null,
   "id": "62d855f9",
   "metadata": {},
   "outputs": [],
   "source": []
  },
  {
   "cell_type": "code",
   "execution_count": null,
   "id": "197b269c",
   "metadata": {},
   "outputs": [],
   "source": []
  },
  {
   "cell_type": "code",
   "execution_count": null,
   "id": "2c3b401e",
   "metadata": {},
   "outputs": [],
   "source": []
  },
  {
   "cell_type": "code",
   "execution_count": null,
   "id": "a3b7b11c",
   "metadata": {},
   "outputs": [],
   "source": []
  },
  {
   "cell_type": "code",
   "execution_count": null,
   "id": "fcdb9c11",
   "metadata": {},
   "outputs": [],
   "source": []
  },
  {
   "cell_type": "code",
   "execution_count": null,
   "id": "8aece0e2",
   "metadata": {},
   "outputs": [],
   "source": []
  }
 ],
 "metadata": {
  "kernelspec": {
   "display_name": "Python 3 (ipykernel)",
   "language": "python",
   "name": "python3"
  },
  "language_info": {
   "codemirror_mode": {
    "name": "ipython",
    "version": 3
   },
   "file_extension": ".py",
   "mimetype": "text/x-python",
   "name": "python",
   "nbconvert_exporter": "python",
   "pygments_lexer": "ipython3",
   "version": "3.8.12"
  }
 },
 "nbformat": 4,
 "nbformat_minor": 5
}

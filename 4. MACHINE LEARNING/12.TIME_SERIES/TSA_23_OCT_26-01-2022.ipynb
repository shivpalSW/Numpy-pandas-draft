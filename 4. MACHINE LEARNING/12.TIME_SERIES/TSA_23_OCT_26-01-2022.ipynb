{
 "cells": [
  {
   "cell_type": "code",
   "execution_count": null,
   "id": "5f699ad1",
   "metadata": {},
   "outputs": [],
   "source": [
    "Time Series:\n",
    "    We must need a feature which should be >> Time\n",
    "    \n",
    "It is a set of observation/datapoints taken at equal interval of time, where our main variable will be time dependent."
   ]
  },
  {
   "cell_type": "code",
   "execution_count": null,
   "id": "ef6a81fd",
   "metadata": {},
   "outputs": [],
   "source": [
    "In TSA:\n",
    "    Univariate Analysis:\n",
    "        1. Time/date\n",
    "        2. Target var\n",
    "        \n",
    "    Multivariate Analysis:\n",
    "        1. Time/date\n",
    "        2. Target var\n",
    "        3. Extra features (which will help model to predict output)"
   ]
  },
  {
   "cell_type": "code",
   "execution_count": null,
   "id": "685fe753",
   "metadata": {},
   "outputs": [],
   "source": [
    "Types of TSA:\n",
    "    Univariate Analysis:(1 target var, 1 time dependent var)\n",
    "        AutoRegressive (AR)\n",
    "        Moving Average (MA)\n",
    "        ARMA\n",
    "        ARIMA (Integrated)\n",
    "        SARIMA (Seasonal)\n",
    "        LSTM (Long Short Term Memory)\n",
    "        FBProbhet\n",
    "        \n",
    "    Multivariate Analysis:(multiple var)\n",
    "        VAR (Vector)\n",
    "        SARIMAX\n",
    "        LSTM\n",
    "        FBProphet"
   ]
  },
  {
   "cell_type": "code",
   "execution_count": null,
   "id": "e5d0fb32",
   "metadata": {},
   "outputs": [],
   "source": [
    "When We plot Data:\n",
    "    on X axis : time\n",
    "        y axis : Magnitude/Amount/Value/Number"
   ]
  },
  {
   "cell_type": "code",
   "execution_count": null,
   "id": "9b7fd491",
   "metadata": {},
   "outputs": [],
   "source": [
    "Limitations:\n",
    "    Time Dependent Var is required\n",
    "    Constant Interval of Time is required (if data points are not at equal intervalas >> resampling)"
   ]
  },
  {
   "cell_type": "code",
   "execution_count": null,
   "id": "326fd715",
   "metadata": {},
   "outputs": [],
   "source": [
    "Interval :\n",
    "    microsec, sec , min , hour, a day, a week , a month, quarter, year, decade, century"
   ]
  },
  {
   "cell_type": "code",
   "execution_count": null,
   "id": "2784a587",
   "metadata": {},
   "outputs": [],
   "source": [
    "Importance:\n",
    "    1. Business Understanding/Forecasting\n",
    "    2. Understand Past Behaviour\n",
    "    3. Plan Future\n",
    "    4. Evaluate Current Accomplishments"
   ]
  },
  {
   "cell_type": "code",
   "execution_count": null,
   "id": "dfd4aa5a",
   "metadata": {},
   "outputs": [],
   "source": [
    "20, 19 >> good pred\n",
    "20, 11 >> bad pre"
   ]
  },
  {
   "cell_type": "code",
   "execution_count": null,
   "id": "b6b88dc1",
   "metadata": {},
   "outputs": [],
   "source": [
    "Components of TS:\n",
    "    1. Trend \n",
    "    2. Seasonality\n",
    "    3. Irregularity\n",
    "    4. Cyclic"
   ]
  },
  {
   "cell_type": "code",
   "execution_count": null,
   "id": "aefb5f0a",
   "metadata": {},
   "outputs": [],
   "source": [
    "When we should not use TSA:\n",
    "    1. Values are constant\n",
    "    2. Time interval is not constant"
   ]
  },
  {
   "cell_type": "code",
   "execution_count": null,
   "id": "8cd8505e",
   "metadata": {},
   "outputs": [],
   "source": [
    "Stationary:\n",
    "    TS assumes that the data is stationary\n",
    "    mean and variance is constant over a period of time and it does not vary much"
   ]
  },
  {
   "cell_type": "code",
   "execution_count": null,
   "id": "a5ae843c",
   "metadata": {},
   "outputs": [],
   "source": [
    "We required Stationary data uptill a point only. (those points area p d q parameters)\n",
    "Once we find out pdq parameters, for tuning the model , we will use original dataset."
   ]
  },
  {
   "cell_type": "code",
   "execution_count": null,
   "id": "50552f67",
   "metadata": {},
   "outputs": [],
   "source": [
    "if df is stationary:\n",
    "df = col1 = date, col2 = sale\n",
    "for pdq = df\n",
    "for model tuning = df\n",
    "\n",
    "if df is non stationary:\n",
    "df = col1 = date, col2 = sale + new feature\n",
    "df_new = df[[new feature]]\n",
    "for pdq = df_new\n",
    "for model tuning = df"
   ]
  },
  {
   "cell_type": "code",
   "execution_count": null,
   "id": "526bf1b6",
   "metadata": {},
   "outputs": [],
   "source": [
    "How to check Stationarity:\n",
    "    1. ADCF test (Augmented Dickey-Fuller Test) (pvalue<0.05) >> Data is Stationary\n",
    "    2. Rolling Statistics (visualization)"
   ]
  },
  {
   "cell_type": "code",
   "execution_count": null,
   "id": "fef10e96",
   "metadata": {},
   "outputs": [],
   "source": [
    "H0 : Null hypothesis >> Data is non stationary\n",
    "    \n",
    "ADCF test results comprises of(pvalue, test statistics, critical values)"
   ]
  },
  {
   "cell_type": "raw",
   "id": "972eafa6",
   "metadata": {},
   "source": [
    "𝐐1.  𝐩-𝐯𝐚𝐥𝐮𝐞?\n",
    "\n",
    "𝐀ns. p-value is a measure of the probability that an observed difference could have occurred just by random chance. The lower the p-value, the greater the statistical significance of the observed difference. P-value can be used as an alternative to or in addition to pre-selected confidence levels for hypothesis testing."
   ]
  },
  {
   "cell_type": "code",
   "execution_count": null,
   "id": "36e11fb8",
   "metadata": {},
   "outputs": [],
   "source": [
    "How to make data Stationary:\n",
    "    By creating a new feature:\n",
    "        1. Differencing(Shift value and take diff)\n",
    "        2. Rolling mean(window)\n",
    "        3. Transformations:\n",
    "            log\n",
    "            cbrt\n",
    "            sqrt\n",
    "            rcpr"
   ]
  },
  {
   "cell_type": "code",
   "execution_count": null,
   "id": "e8b1d11f",
   "metadata": {},
   "outputs": [],
   "source": [
    "df['Diff_2'].dropna()"
   ]
  },
  {
   "cell_type": "code",
   "execution_count": null,
   "id": "8c7e0efa",
   "metadata": {},
   "outputs": [],
   "source": [
    "df['log_tar'] = np.log(df['target'])"
   ]
  },
  {
   "cell_type": "code",
   "execution_count": null,
   "id": "ab79019f",
   "metadata": {},
   "outputs": [],
   "source": [
    "ARIMA\n",
    "AR : Autoregressive\n",
    "I  : Integrated\n",
    "MA : Moving Average"
   ]
  },
  {
   "cell_type": "code",
   "execution_count": null,
   "id": "6c579f75",
   "metadata": {},
   "outputs": [],
   "source": [
    "AR : Autoregressive lags = p (1,0,0)\n",
    "I  : order of Differentiation = d (0,1,0) >> 0 or 1 only\n",
    "MA : Moving Average = q (0,0,1)\n",
    "# ARIMA (data= y_train ,order=p,d,q)"
   ]
  },
  {
   "cell_type": "code",
   "execution_count": null,
   "id": "c19fef2e",
   "metadata": {},
   "outputs": [],
   "source": [
    "lags = a fixed amount of passed time"
   ]
  },
  {
   "cell_type": "code",
   "execution_count": null,
   "id": "56d76b60",
   "metadata": {},
   "outputs": [],
   "source": [
    "AR >> (order = 1,0,0)\n",
    "MA >> (order = 0,0,1)\n",
    "ARMA >> (order = 1,0,1)\n",
    "ARIMA >> (order = 1,1,1)\n",
    "\n",
    "SARIMA >> Seasonal ARIMA >> (order = 1,1,1), (seasonal_order=1,1,1,12)  12>> seasonal component"
   ]
  },
  {
   "cell_type": "code",
   "execution_count": null,
   "id": "75e28cf0",
   "metadata": {},
   "outputs": [],
   "source": [
    "Fbprophet >> additive information is passed from non linear trends are fit with yearly, monthly, weekly,\n",
    "                daily seasonality, and holiday effects\n",
    "            it is best model for granular data\n",
    "            it is robust/handles to missing data, shifting of trends, handles outliers effects "
   ]
  },
  {
   "cell_type": "code",
   "execution_count": null,
   "id": "465edb6d",
   "metadata": {},
   "outputs": [],
   "source": [
    "LSTM >> Long Short Term Memory"
   ]
  },
  {
   "cell_type": "code",
   "execution_count": null,
   "id": "d4b880d7",
   "metadata": {},
   "outputs": [],
   "source": [
    "VAR >> Vector Autoregressive"
   ]
  },
  {
   "cell_type": "code",
   "execution_count": null,
   "id": "021e725d",
   "metadata": {},
   "outputs": [],
   "source": []
  },
  {
   "cell_type": "code",
   "execution_count": null,
   "id": "a6a32219",
   "metadata": {},
   "outputs": [],
   "source": []
  },
  {
   "cell_type": "code",
   "execution_count": null,
   "id": "61a6f624",
   "metadata": {},
   "outputs": [],
   "source": []
  },
  {
   "cell_type": "code",
   "execution_count": null,
   "id": "fb51424a",
   "metadata": {},
   "outputs": [],
   "source": []
  },
  {
   "cell_type": "code",
   "execution_count": null,
   "id": "a1e5803c",
   "metadata": {},
   "outputs": [],
   "source": []
  },
  {
   "cell_type": "code",
   "execution_count": null,
   "id": "094abe7b",
   "metadata": {},
   "outputs": [],
   "source": []
  },
  {
   "cell_type": "code",
   "execution_count": null,
   "id": "e4120363",
   "metadata": {},
   "outputs": [],
   "source": []
  },
  {
   "cell_type": "code",
   "execution_count": null,
   "id": "b4605ef3",
   "metadata": {},
   "outputs": [],
   "source": []
  },
  {
   "cell_type": "code",
   "execution_count": null,
   "id": "11ce33c8",
   "metadata": {},
   "outputs": [],
   "source": []
  },
  {
   "cell_type": "code",
   "execution_count": null,
   "id": "f64504aa",
   "metadata": {},
   "outputs": [],
   "source": []
  },
  {
   "cell_type": "code",
   "execution_count": null,
   "id": "0f747037",
   "metadata": {},
   "outputs": [],
   "source": []
  },
  {
   "cell_type": "code",
   "execution_count": null,
   "id": "207f434b",
   "metadata": {},
   "outputs": [],
   "source": []
  },
  {
   "cell_type": "code",
   "execution_count": null,
   "id": "e2815d55",
   "metadata": {},
   "outputs": [],
   "source": []
  },
  {
   "cell_type": "code",
   "execution_count": null,
   "id": "558421de",
   "metadata": {},
   "outputs": [],
   "source": []
  },
  {
   "cell_type": "code",
   "execution_count": null,
   "id": "2ae4b5a3",
   "metadata": {},
   "outputs": [],
   "source": []
  },
  {
   "cell_type": "code",
   "execution_count": null,
   "id": "7ea36a71",
   "metadata": {},
   "outputs": [],
   "source": []
  },
  {
   "cell_type": "code",
   "execution_count": null,
   "id": "5e9b64be",
   "metadata": {},
   "outputs": [],
   "source": []
  },
  {
   "cell_type": "code",
   "execution_count": null,
   "id": "0e5bfc43",
   "metadata": {},
   "outputs": [],
   "source": []
  },
  {
   "cell_type": "code",
   "execution_count": null,
   "id": "0892f065",
   "metadata": {},
   "outputs": [],
   "source": []
  },
  {
   "cell_type": "code",
   "execution_count": null,
   "id": "971a5379",
   "metadata": {},
   "outputs": [],
   "source": []
  },
  {
   "cell_type": "code",
   "execution_count": null,
   "id": "10c2a06e",
   "metadata": {},
   "outputs": [],
   "source": []
  },
  {
   "cell_type": "code",
   "execution_count": null,
   "id": "6c228b98",
   "metadata": {},
   "outputs": [],
   "source": []
  },
  {
   "cell_type": "code",
   "execution_count": null,
   "id": "46ed2736",
   "metadata": {},
   "outputs": [],
   "source": []
  },
  {
   "cell_type": "code",
   "execution_count": null,
   "id": "c8611f50",
   "metadata": {},
   "outputs": [],
   "source": []
  }
 ],
 "metadata": {
  "kernelspec": {
   "display_name": "Python 3 (ipykernel)",
   "language": "python",
   "name": "python3"
  },
  "language_info": {
   "codemirror_mode": {
    "name": "ipython",
    "version": 3
   },
   "file_extension": ".py",
   "mimetype": "text/x-python",
   "name": "python",
   "nbconvert_exporter": "python",
   "pygments_lexer": "ipython3",
   "version": "3.8.12"
  }
 },
 "nbformat": 4,
 "nbformat_minor": 5
}

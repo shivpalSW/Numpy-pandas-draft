{
 "cells": [
  {
   "cell_type": "code",
   "execution_count": null,
   "id": "5600f78d",
   "metadata": {},
   "outputs": [],
   "source": [
    "Assumpotions:\n",
    "    There are as such no hard & fast assumptionsd in Random Forest.\n",
    "    \n",
    "Pros:\n",
    "    1. It well tacklthe overfitting issue that is the con with single decision tree.\n",
    "    2. There are multiple parameters we can tune in.\n",
    "    3. Features scaling is not required.\n",
    "    4. Not a lot of data preproecessing required.\n",
    "    5. Suitable for any kind of ML problems.\n",
    "    6. So impact of outliers & null values is negligible.\n",
    "    \n",
    "Cons:\n",
    "    1. It is very time consuming bcz multiple trees or weak learners are involved.\n",
    "    2. For regression Bcz it takes aggregation so the aggrigates are the approximate numbers.\n",
    "    3. Tends to be little biased with the most frequent class in multipleclass classification.\n",
    "    4. Requires more memory size to train,load & store the data.\n",
    "    \n",
    "    \n",
    "Applications:\n",
    "    1. Banking Sector\n",
    "    2. Credit card fraud detection.\n",
    "    3. Customer segmentation, customer retention.\n",
    "    4. Diebates prediction.\n",
    "    5. Is also one of the favorite algorithm for Kaggle compitition."
   ]
  }
 ],
 "metadata": {
  "kernelspec": {
   "display_name": "Python 3",
   "language": "python",
   "name": "python3"
  },
  "language_info": {
   "codemirror_mode": {
    "name": "ipython",
    "version": 3
   },
   "file_extension": ".py",
   "mimetype": "text/x-python",
   "name": "python",
   "nbconvert_exporter": "python",
   "pygments_lexer": "ipython3",
   "version": "3.8.8"
  },
  "toc": {
   "base_numbering": 1,
   "nav_menu": {},
   "number_sections": true,
   "sideBar": true,
   "skip_h1_title": false,
   "title_cell": "Table of Contents",
   "title_sidebar": "Contents",
   "toc_cell": false,
   "toc_position": {},
   "toc_section_display": true,
   "toc_window_display": false
  },
  "varInspector": {
   "cols": {
    "lenName": 16,
    "lenType": 16,
    "lenVar": 40
   },
   "kernels_config": {
    "python": {
     "delete_cmd_postfix": "",
     "delete_cmd_prefix": "del ",
     "library": "var_list.py",
     "varRefreshCmd": "print(var_dic_list())"
    },
    "r": {
     "delete_cmd_postfix": ") ",
     "delete_cmd_prefix": "rm(",
     "library": "var_list.r",
     "varRefreshCmd": "cat(var_dic_list()) "
    }
   },
   "types_to_exclude": [
    "module",
    "function",
    "builtin_function_or_method",
    "instance",
    "_Feature"
   ],
   "window_display": false
  }
 },
 "nbformat": 4,
 "nbformat_minor": 5
}

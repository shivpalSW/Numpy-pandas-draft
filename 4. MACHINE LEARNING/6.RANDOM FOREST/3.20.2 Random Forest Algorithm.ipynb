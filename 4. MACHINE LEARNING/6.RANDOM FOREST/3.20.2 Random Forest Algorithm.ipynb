{
 "cells": [
  {
   "cell_type": "code",
   "execution_count": null,
   "id": "d02fa682",
   "metadata": {},
   "outputs": [],
   "source": [
    "These are also called as Ensembling Methods.\n",
    "Ensembling is basically combining multiple models.\n",
    "\n",
    "There are typically 2 kinds of Ensembling Mehtods:\n",
    "    1. Bagging, (Bootstrap + Aggregation)  >> Parallel Approch\n",
    "    2. Boosting    >> Sequential approch\n",
    "    \n"
   ]
  },
  {
   "cell_type": "code",
   "execution_count": null,
   "id": "51763b06",
   "metadata": {},
   "outputs": [],
   "source": [
    "Random Forest Tree falls under Bagging Ensembling Method. Supervised machine learning algorithm.\n",
    "Bootstrap is the resampling strategy used for allocating sample size to the weak learners aka (also known as) decision trees."
   ]
  },
  {
   "cell_type": "code",
   "execution_count": null,
   "id": "f3b68df6",
   "metadata": {},
   "outputs": [],
   "source": [
    "Random Forest:\n",
    "    The name random forest sugests that the sample are are taken randomly. resmpling is also done using random samples & additionally in n_features paramter random features are selected for calculating I.G or Gini Index.\n",
    "    Forest suggests that we have many trees (decision trees).\n",
    "    In random forest, all the trees are connected in parallel with each other."
   ]
  },
  {
   "cell_type": "code",
   "execution_count": null,
   "id": "43113c2f",
   "metadata": {},
   "outputs": [],
   "source": [
    "How it Works:\n",
    "    1. Create bootstrap datasets for every siingle learner using row sampling method.\n",
    "    2. Train multiple models / Trees.\n",
    "    3. Classification: Use voating classifier to predict the output.\n",
    "    4. Regression: use aggregation / mean of all the learners."
   ]
  },
  {
   "cell_type": "raw",
   "id": "76072dd4",
   "metadata": {},
   "source": [
    "Soft & Hard Voting:\n",
    "    \n",
    "    1. Hard Voting >> default>> Max count\n",
    "    2. Soft Voting >> sklearn.softvotingclassifier >> probabilities"
   ]
  },
  {
   "cell_type": "code",
   "execution_count": null,
   "id": "ad4b5adc",
   "metadata": {},
   "outputs": [],
   "source": [
    "Hard Voting classifier:\n",
    "    \n",
    "M1 >> [0.9  0.1] >> class 1\n",
    "M2 >> [0.8  0.2] >> class 1\n",
    "M3 >> [0.3  0.7] >> class 0\n",
    "\n",
    "Predicted class >> Class 1\n",
    "\n",
    "M1 >> [0.52  0.48] >> class 1\n",
    "M2 >> [0.55  0.45] >> class 1\n",
    "M3 >> [0.1  0.9] >> class 0\n",
    "\n",
    "Predicted class >> Class 1\n",
    "\n",
    "\n",
    "\n",
    "\n",
    "Soft Voting classifier:\n",
    "    \n",
    "M1 >> [0.9  0.1] >> class 1\n",
    "M2 >> [0.8  0.2] >> class 1\n",
    "M3 >> [0.3  0.7] >> class 0\n",
    "\n",
    "Class 1 Avg >> (0.9+0.8+0.3)/3 >> 0.66\n",
    "Class 0 Avg >> (0.1+0.2+0.7)/3 >> 0.33\n",
    "\n",
    "Predicted class >> Class 1\n",
    "\n",
    "\n",
    "M1 >> [0.52  0.48] >> class 1\n",
    "M2 >> [0.55  0.45] >> class 1\n",
    "M3 >> [0.1  0.9] >> class 0\n",
    "\n",
    "Class 1 Avg >> (0.52+0.55+0.1)/3 >> 0.39\n",
    "Class 0 Avg >> (0.48+0.45+0.9)/3 >> 0.61\n",
    "\n",
    "Predicted class >> Class 0\n"
   ]
  },
  {
   "cell_type": "code",
   "execution_count": null,
   "id": "49b0c41c",
   "metadata": {},
   "outputs": [],
   "source": []
  }
 ],
 "metadata": {
  "kernelspec": {
   "display_name": "Python 3",
   "language": "python",
   "name": "python3"
  },
  "language_info": {
   "codemirror_mode": {
    "name": "ipython",
    "version": 3
   },
   "file_extension": ".py",
   "mimetype": "text/x-python",
   "name": "python",
   "nbconvert_exporter": "python",
   "pygments_lexer": "ipython3",
   "version": "3.8.8"
  },
  "toc": {
   "base_numbering": 1,
   "nav_menu": {},
   "number_sections": true,
   "sideBar": true,
   "skip_h1_title": false,
   "title_cell": "Table of Contents",
   "title_sidebar": "Contents",
   "toc_cell": false,
   "toc_position": {},
   "toc_section_display": true,
   "toc_window_display": false
  },
  "varInspector": {
   "cols": {
    "lenName": 16,
    "lenType": 16,
    "lenVar": 40
   },
   "kernels_config": {
    "python": {
     "delete_cmd_postfix": "",
     "delete_cmd_prefix": "del ",
     "library": "var_list.py",
     "varRefreshCmd": "print(var_dic_list())"
    },
    "r": {
     "delete_cmd_postfix": ") ",
     "delete_cmd_prefix": "rm(",
     "library": "var_list.r",
     "varRefreshCmd": "cat(var_dic_list()) "
    }
   },
   "types_to_exclude": [
    "module",
    "function",
    "builtin_function_or_method",
    "instance",
    "_Feature"
   ],
   "window_display": false
  }
 },
 "nbformat": 4,
 "nbformat_minor": 5
}

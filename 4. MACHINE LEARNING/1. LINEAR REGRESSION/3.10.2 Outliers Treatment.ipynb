{
 "cells": [
  {
   "cell_type": "code",
   "execution_count": null,
   "id": "8e934edb",
   "metadata": {},
   "outputs": [],
   "source": [
    "outliers are redundant observations.\n",
    "defination: which are extremly far from the normal observations."
   ]
  },
  {
   "cell_type": "code",
   "execution_count": null,
   "id": "6e98788a",
   "metadata": {},
   "outputs": [],
   "source": [
    "where do they come from:\n",
    "    1. Human error: Data Entry error\n",
    "    2. System Error: Measurment error\n",
    "    3. use of psudo data: Dummy dataset, fake data.\n",
    "    4. sampling error: creating data using wrong functions\n",
    "    5. data merging: mixing of datasets\n",
    "    5. Natural errors: most of the outliers belong to this category"
   ]
  },
  {
   "cell_type": "code",
   "execution_count": null,
   "id": "98415aad",
   "metadata": {},
   "outputs": [],
   "source": [
    "impact of outliers:\n",
    "    1. they reduce the efficiency of the model performance.\n",
    "    2. makes the statastical calculations go wrong.\n",
    "    3. high impact on mean & std & variance.\n",
    "    4. selection of algorithms get restricted.\n",
    "    5. Impact on assumptions of algorithms."
   ]
  },
  {
   "cell_type": "code",
   "execution_count": null,
   "id": "de2032ed",
   "metadata": {},
   "outputs": [],
   "source": [
    "Detect outliers:\n",
    "    1. scatterplot, pairplot\n",
    "    2. box plot\n",
    "    3. IQR\n",
    "    4. z-score"
   ]
  },
  {
   "cell_type": "code",
   "execution_count": null,
   "id": "4247a907",
   "metadata": {},
   "outputs": [],
   "source": [
    "Treating the outliers:\n",
    "    1. dropping\n",
    "    2. winitializing (replacing outliers with statastical computation(mean,median,mode))\n",
    "    3. Thresold split\n",
    "    4. Normalizing\n",
    "    5. Transformation:\n",
    "        a. log transform\n",
    "        b. Normalization (0-1)\n",
    "        c. standardization (-1to1)\n",
    "        d. box-cox transform\n",
    "        e. robust scaling\n",
    "        f. sqrt transform\n",
    "        g. cbrt transform\n",
    "        h. reciprocal transform"
   ]
  },
  {
   "cell_type": "code",
   "execution_count": 2,
   "id": "0eca20f3",
   "metadata": {},
   "outputs": [
    {
     "data": {
      "text/plain": [
       "3.0"
      ]
     },
     "execution_count": 2,
     "metadata": {},
     "output_type": "execute_result"
    }
   ],
   "source": [
    "import numpy\n",
    "numpy.cbrt(27)"
   ]
  }
 ],
 "metadata": {
  "kernelspec": {
   "display_name": "Python 3",
   "language": "python",
   "name": "python3"
  },
  "language_info": {
   "codemirror_mode": {
    "name": "ipython",
    "version": 3
   },
   "file_extension": ".py",
   "mimetype": "text/x-python",
   "name": "python",
   "nbconvert_exporter": "python",
   "pygments_lexer": "ipython3",
   "version": "3.8.8"
  },
  "toc": {
   "base_numbering": 1,
   "nav_menu": {},
   "number_sections": true,
   "sideBar": true,
   "skip_h1_title": false,
   "title_cell": "Table of Contents",
   "title_sidebar": "Contents",
   "toc_cell": false,
   "toc_position": {},
   "toc_section_display": true,
   "toc_window_display": false
  },
  "varInspector": {
   "cols": {
    "lenName": 16,
    "lenType": 16,
    "lenVar": 40
   },
   "kernels_config": {
    "python": {
     "delete_cmd_postfix": "",
     "delete_cmd_prefix": "del ",
     "library": "var_list.py",
     "varRefreshCmd": "print(var_dic_list())"
    },
    "r": {
     "delete_cmd_postfix": ") ",
     "delete_cmd_prefix": "rm(",
     "library": "var_list.r",
     "varRefreshCmd": "cat(var_dic_list()) "
    }
   },
   "types_to_exclude": [
    "module",
    "function",
    "builtin_function_or_method",
    "instance",
    "_Feature"
   ],
   "window_display": false
  }
 },
 "nbformat": 4,
 "nbformat_minor": 5
}

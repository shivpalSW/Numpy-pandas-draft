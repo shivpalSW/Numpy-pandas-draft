{
 "cells": [
  {
   "cell_type": "markdown",
   "id": "e7f27eb0",
   "metadata": {},
   "source": [
    "## R^2"
   ]
  },
  {
   "cell_type": "code",
   "execution_count": null,
   "id": "8d5ddc96",
   "metadata": {},
   "outputs": [],
   "source": [
    "coefficient of determination\n",
    "used to find the goodness of best fit line\n",
    "is a parameter to test the accuracy of the model. That how much the model is reliable.\n",
    "\n",
    "The value of R^2 would always be between 0-1\n",
    "MSE is scale variant\n",
    "R score is scale invariant\n",
    "R^2 >> 0 to 1\n",
    "R^2 cab not be negative is real scenarios\n",
    "\n",
    "R score ~= 1 >> Good score (All data points are either on the BFL or close to BFL)\n",
    "R score ~=0  >> Bad score (The spread of the data points are away from the BFL)\n",
    "It also explains the spread or variance of the datapoints. (Inversly proportionate to each other)\n",
    "R score = 1 - (SSE/SST)\n",
    "        = SST/SST - SSE/SST\n",
    "        = Explained Variance / Total Variance\n",
    "        \n",
    "R^2 = 0.78\n",
    "    There is 78% less variation around the nest fit line tha mean value."
   ]
  },
  {
   "cell_type": "code",
   "execution_count": null,
   "id": "1e99a351",
   "metadata": {},
   "outputs": [],
   "source": [
    "R2=0.85\n",
    "Case 1: Added Good Predictor (R > 0.7 | R < -0.7)  >> correlated freature\n",
    "    R2= 0.87\n",
    "Case 2: Added Bad Predictor (R < 0.7 | R > -0.7)  >> Non-correlated freature\n",
    "    R2= 0.86    \n",
    "    \n",
    "R2 will never decreases >> that is a drwaback of R2"
   ]
  },
  {
   "cell_type": "markdown",
   "id": "0b236290",
   "metadata": {},
   "source": [
    "## Adjusted R^2"
   ]
  },
  {
   "cell_type": "code",
   "execution_count": null,
   "id": "d3715b64",
   "metadata": {},
   "outputs": [],
   "source": [
    "R2=0.85\n",
    "Case 1: Added Good Predictor (R > 0.7 | R < -0.7)  >> correlated freature\n",
    "    Adj R2= 0.87\n",
    "Case 2: Added Bad Predictor (R < 0.7 | R > -0.7)  >> Non-correlated freature\n",
    "    Adj R2= 0.84 \n",
    "    \n",
    "It will increase only for Good Predictors\n",
    "Actual value of Adj R2 will always be lesser than or equal to R2\n",
    "\n",
    "Adjusted R2 = 1 - ((1 - R2) * (N - 1) / (N - p - 1))\n"
   ]
  },
  {
   "cell_type": "code",
   "execution_count": null,
   "id": "182e3698",
   "metadata": {},
   "outputs": [],
   "source": [
    "Variance = Variancee is the spred of the total data on the graph.\n",
    "If the spread is high (data points are spread all over) then Variance is High.\n",
    "If the spread is low (data points are spread close to mean point) then Variance is low.\n",
    "\n",
    "If the variance increases they the accuracy of the model decreases & vice versa.\n",
    "Var = Sum (Xi - Xm)^2 / N\n",
    "where,\n",
    "    Sum = Summation\n",
    "    Xi = Actual points\n",
    "    Xm = Mean Of all the Actual points\n",
    "    N = Total no. of data points (population)\n",
    "\n",
    "Standard Deviation (STD) = It explains how far the data points are from the mean point.\n",
    "                            It is simply the Sqrt of Variance.\n",
    "                            It also explains how much proportion of the data in how many std deviation away.\n",
    "        \n",
    "Std = sqrt(Sum (Xi - Xm)^2) / N\n",
    "where,\n",
    "    Sum = Summation\n",
    "    Xi = Actual points\n",
    "    Xm = Mean Of all the Actual points\n",
    "    N = Total no. of data points (population)"
   ]
  },
  {
   "cell_type": "code",
   "execution_count": 10,
   "id": "4b7b1158",
   "metadata": {},
   "outputs": [
    {
     "name": "stdout",
     "output_type": "stream",
     "text": [
      "Mean 32.22222222222222\n",
      "Std 16.17802197617893\n",
      "Variance 261.7283950617284\n"
     ]
    },
    {
     "data": {
      "text/plain": [
       "261.7283950617284"
      ]
     },
     "execution_count": 10,
     "metadata": {},
     "output_type": "execute_result"
    }
   ],
   "source": [
    "import numpy as np\n",
    "import math\n",
    "\n",
    "x1= [10,30,20,40,35,55,60,15,25]\n",
    "print(\"Mean\",np.mean(x1))\n",
    "print(\"Std\",np.std(x1))\n",
    "print(\"Variance\",np.square(np.std(x1)))\n",
    "np.var(x1)"
   ]
  },
  {
   "cell_type": "code",
   "execution_count": null,
   "id": "f05df22a",
   "metadata": {},
   "outputs": [],
   "source": [
    "(Sum of Squared Error) Residual error/ residual sum of sequare [SSE]\n",
    "                    = sum(yi-yp)^2\n",
    "\n",
    "\n",
    "(Sum of squared error due to regresion)Regression Error/ Sum of Square of Residual Error [SSR]\n",
    "                    = Sum(yp-ym)^2\n",
    "\n",
    "\n",
    "(Sum of square of Total Error)Total error(SST) = Residual error(SSE) + Regression error(SSR)"
   ]
  }
 ],
 "metadata": {
  "kernelspec": {
   "display_name": "Python 3",
   "language": "python",
   "name": "python3"
  },
  "language_info": {
   "codemirror_mode": {
    "name": "ipython",
    "version": 3
   },
   "file_extension": ".py",
   "mimetype": "text/x-python",
   "name": "python",
   "nbconvert_exporter": "python",
   "pygments_lexer": "ipython3",
   "version": "3.8.8"
  },
  "toc": {
   "base_numbering": 1,
   "nav_menu": {},
   "number_sections": true,
   "sideBar": true,
   "skip_h1_title": false,
   "title_cell": "Table of Contents",
   "title_sidebar": "Contents",
   "toc_cell": false,
   "toc_position": {},
   "toc_section_display": true,
   "toc_window_display": false
  },
  "varInspector": {
   "cols": {
    "lenName": 16,
    "lenType": 16,
    "lenVar": 40
   },
   "kernels_config": {
    "python": {
     "delete_cmd_postfix": "",
     "delete_cmd_prefix": "del ",
     "library": "var_list.py",
     "varRefreshCmd": "print(var_dic_list())"
    },
    "r": {
     "delete_cmd_postfix": ") ",
     "delete_cmd_prefix": "rm(",
     "library": "var_list.r",
     "varRefreshCmd": "cat(var_dic_list()) "
    }
   },
   "types_to_exclude": [
    "module",
    "function",
    "builtin_function_or_method",
    "instance",
    "_Feature"
   ],
   "window_display": false
  }
 },
 "nbformat": 4,
 "nbformat_minor": 5
}

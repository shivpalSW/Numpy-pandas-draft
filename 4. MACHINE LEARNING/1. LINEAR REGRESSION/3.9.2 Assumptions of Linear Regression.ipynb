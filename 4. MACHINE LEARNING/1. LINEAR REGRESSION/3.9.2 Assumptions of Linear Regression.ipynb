{
 "cells": [
  {
   "cell_type": "code",
   "execution_count": null,
   "id": "4f08070b",
   "metadata": {},
   "outputs": [],
   "source": [
    "Assumptions:\n",
    "    1. Linearity\n",
    "    2. No Multicolinearity\n",
    "    3. Normality of Residuals\n",
    "    4. Homoscadasticity"
   ]
  },
  {
   "cell_type": "code",
   "execution_count": null,
   "id": "ba1e9a1a",
   "metadata": {},
   "outputs": [],
   "source": [
    "\n",
    "1. Linearity:\n",
    "\t\ta. Every independent variable must have linear relationship with targeted variable.\n",
    "\t\tb. Can be checked using basic scatter plot, & correlation\n",
    "        \n",
    "        \n",
    "\t2. Very low/No multicollinearity/ Independence of variables:\n",
    "\t\ta. If independent variables have high correlation between each other then there exist multicollinearity between such variables which is unwanted.\n",
    "\t\tb. We check for the coefficient of x1(shift in y for every shift in x1) in eq: y=m1x1+m2x2….+mnxn+c, keeping all the other variables constant. Bt if independent variables are co related(say x1 & x2 are highly corelated) then for change in x1, x2 will also change & so shift in y for every shift in x1 will change from its true value bcz coefficients of x1 & x2 are inflicted.\n",
    "\t\tc. multicolinearity Can be checked between independent variables using basic scatter plot or df.corr()\n",
    "        \n",
    "        \n",
    "\t3. NO Heteroscedasticity / Homoscadasticity:\n",
    "\t\ta. Spread of points is not along the bfl\n",
    "\t4. No Auto-Correlations of errors with each other:\n",
    "\t\ta. It means that errors for every value of x should not be co-related to each other.\n",
    "\t\tb. If this happens then that means that our model is not capturing the underlying patter of data.\n",
    "        \n",
    "    \n",
    "\t5. Normal distribution of errors:\n",
    "\t\ta. When the error are normally distributed & not vary scattered then it gives good predictions.\n",
    "\t\tb. Can be checked using QQ plot\n",
    "        c. The the residuals should be normally distributed around mean 0.\n"
   ]
  }
 ],
 "metadata": {
  "kernelspec": {
   "display_name": "Python 3",
   "language": "python",
   "name": "python3"
  },
  "language_info": {
   "codemirror_mode": {
    "name": "ipython",
    "version": 3
   },
   "file_extension": ".py",
   "mimetype": "text/x-python",
   "name": "python",
   "nbconvert_exporter": "python",
   "pygments_lexer": "ipython3",
   "version": "3.8.8"
  },
  "toc": {
   "base_numbering": 1,
   "nav_menu": {},
   "number_sections": true,
   "sideBar": true,
   "skip_h1_title": false,
   "title_cell": "Table of Contents",
   "title_sidebar": "Contents",
   "toc_cell": false,
   "toc_position": {},
   "toc_section_display": true,
   "toc_window_display": false
  },
  "varInspector": {
   "cols": {
    "lenName": 16,
    "lenType": 16,
    "lenVar": 40
   },
   "kernels_config": {
    "python": {
     "delete_cmd_postfix": "",
     "delete_cmd_prefix": "del ",
     "library": "var_list.py",
     "varRefreshCmd": "print(var_dic_list())"
    },
    "r": {
     "delete_cmd_postfix": ") ",
     "delete_cmd_prefix": "rm(",
     "library": "var_list.r",
     "varRefreshCmd": "cat(var_dic_list()) "
    }
   },
   "types_to_exclude": [
    "module",
    "function",
    "builtin_function_or_method",
    "instance",
    "_Feature"
   ],
   "window_display": false
  }
 },
 "nbformat": 4,
 "nbformat_minor": 5
}

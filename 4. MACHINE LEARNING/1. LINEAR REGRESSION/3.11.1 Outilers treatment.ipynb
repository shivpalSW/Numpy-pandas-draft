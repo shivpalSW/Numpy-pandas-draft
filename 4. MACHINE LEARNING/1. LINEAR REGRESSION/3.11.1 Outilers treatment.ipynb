{
 "cells": [
  {
   "cell_type": "raw",
   "id": "45bad324",
   "metadata": {},
   "source": [
    "Algorithms not much affected by outliers:\n",
    "    Decision tree,\n",
    "    Random Forest,\n",
    "    Adaboost, XGboost\n",
    "    Naive bayes"
   ]
  },
  {
   "cell_type": "raw",
   "id": "e997e917",
   "metadata": {},
   "source": [
    "Algorithms affected by outliers:\n",
    "    Linear Regression\n",
    "    Logistic Regression\n",
    "    K-NN\n",
    "    SVP\n",
    "    K-Means clustering"
   ]
  },
  {
   "cell_type": "code",
   "execution_count": null,
   "id": "770f3cf8",
   "metadata": {},
   "outputs": [],
   "source": [
    "kstest:\n",
    "    p_value > 0.05 : Alternate hypothesis\n",
    "    p_value < 0.05 / 5% : Null-hypotehsis. (Data is normally distributed)"
   ]
  },
  {
   "cell_type": "code",
   "execution_count": 1,
   "id": "79dcdf65",
   "metadata": {},
   "outputs": [],
   "source": [
    "import matplotlib.pyplot as plt\n",
    "import seaborn as sns \n",
    "import numpy as np"
   ]
  },
  {
   "cell_type": "code",
   "execution_count": 7,
   "id": "691bbd50",
   "metadata": {},
   "outputs": [
    {
     "data": {
      "text/plain": [
       "array([85, 63, 66, 69, 11, 76, 85, 73, 22, 72, 67, 57, 61, 75, 21, 89, 48,\n",
       "       39, 42, 77])"
      ]
     },
     "execution_count": 7,
     "metadata": {},
     "output_type": "execute_result"
    }
   ],
   "source": [
    "array1= np.random.randint(10,100,size=20)\n",
    "array1"
   ]
  },
  {
   "cell_type": "code",
   "execution_count": 8,
   "id": "27601c77",
   "metadata": {},
   "outputs": [
    {
     "name": "stdout",
     "output_type": "stream",
     "text": [
      "[85 63 66 69 11 76 85 73 22 72 67 57 61 75 21 89 48 39 42 77] [ 85  63  66  69  11  76  85  73  22  72 200  57 250  75  21  89  48  39\n",
      "  42  77]\n"
     ]
    }
   ],
   "source": [
    "array2=array1.copy()\n",
    "array2[10] = 200\n",
    "array2[12] = 250\n",
    "print(array1,array2)"
   ]
  },
  {
   "cell_type": "code",
   "execution_count": 9,
   "id": "a89bf6ef",
   "metadata": {},
   "outputs": [
    {
     "data": {
      "text/plain": [
       "<AxesSubplot:ylabel='Density'>"
      ]
     },
     "execution_count": 9,
     "metadata": {},
     "output_type": "execute_result"
    },
    {
     "data": {
      "image/png": "[encoded data removed]",
      "text/plain": [
       "<Figure size 432x288 with 1 Axes>"
      ]
     },
     "metadata": {
      "needs_background": "light"
     },
     "output_type": "display_data"
    }
   ],
   "source": [
    "sns.kdeplot(array1,fill=True)"
   ]
  },
  {
   "cell_type": "code",
   "execution_count": 10,
   "id": "253d088a",
   "metadata": {},
   "outputs": [
    {
     "name": "stdout",
     "output_type": "stream",
     "text": [
      "p value is 0.059625037014484406\n",
      "normally distributed\n"
     ]
    }
   ],
   "source": [
    "from scipy.stats import shapiro\n",
    "_,p_value=shapiro(array1)\n",
    "print('p value is', p_value)\n",
    "if p_value > 0.05:print('normally distributed')\n",
    "else:print('not normally distibuted')"
   ]
  },
  {
   "cell_type": "code",
   "execution_count": 11,
   "id": "2c0dfe3e",
   "metadata": {},
   "outputs": [
    {
     "data": {
      "text/plain": [
       "<AxesSubplot:ylabel='Density'>"
      ]
     },
     "execution_count": 11,
     "metadata": {},
     "output_type": "execute_result"
    },
    {
     "data": {
      "image/png": "[encoded data removed]",
      "text/plain": [
       "<Figure size 432x288 with 1 Axes>"
      ]
     },
     "metadata": {
      "needs_background": "light"
     },
     "output_type": "display_data"
    }
   ],
   "source": [
    "sns.kdeplot(array2,fill=True)"
   ]
  },
  {
   "cell_type": "code",
   "execution_count": 13,
   "id": "e8131722",
   "metadata": {},
   "outputs": [
    {
     "name": "stdout",
     "output_type": "stream",
     "text": [
      "p value is 0.00014475060743279755\n",
      "not normally distibuted\n"
     ]
    }
   ],
   "source": [
    "from scipy.stats import shapiro\n",
    "_,p_value=shapiro(array2)\n",
    "print('p value is', p_value)\n",
    "if p_value > 0.05:print('normally distributed')\n",
    "else:print('not normally distibuted')"
   ]
  },
  {
   "cell_type": "markdown",
   "id": "8a1ac4a7",
   "metadata": {},
   "source": [
    "### Estimating outliers using Z-Score Normalization / Standardization\n",
    "```\n",
    "z-score = (X_value - X_mean)/std\n",
    "\n",
    "```\n",
    "\n",
    "```Idea is calculating z_score & setting up a thresold such that all the datapoints above the thresold are outliers & can be eleiminated ```"
   ]
  },
  {
   "cell_type": "code",
   "execution_count": null,
   "id": "056e7f3f",
   "metadata": {},
   "outputs": [],
   "source": [
    "###### The standard value of thresold varies from 2-3."
   ]
  },
  {
   "cell_type": "code",
   "execution_count": 15,
   "id": "da57a305",
   "metadata": {},
   "outputs": [
    {
     "name": "stdout",
     "output_type": "stream",
     "text": [
      "mean is:  59.9 std is:  21.94743720802044\n"
     ]
    },
    {
     "data": {
      "text/plain": [
       "[]"
      ]
     },
     "execution_count": 15,
     "metadata": {},
     "output_type": "execute_result"
    }
   ],
   "source": [
    "mean = np.mean(array1)\n",
    "std = np.std(array1)\n",
    "print('mean is: ',mean,'std is: ',std)\n",
    "\n",
    "outliers_list=[]\n",
    "thresold = 3\n",
    "for x_val in array1:\n",
    "    z_score = (x_val-mean)/std\n",
    "    z_score= np.abs(z_score)\n",
    "    \n",
    "    if z_score >= thresold:\n",
    "        outliers_list.append(x_val)\n",
    "   \n",
    "outliers_list"
   ]
  },
  {
   "cell_type": "code",
   "execution_count": 32,
   "id": "b5f972b3",
   "metadata": {},
   "outputs": [
    {
     "name": "stdout",
     "output_type": "stream",
     "text": [
      "mean is:  76.0 std is:  54.84706008529536\n",
      "0.16409266031768444 for x value >> 85\n",
      "0.23702273156998863 for x value >> 63\n",
      "0.1823251781307605 for x value >> 66\n",
      "0.12762762469153233 for x value >> 69\n",
      "1.185113657849943 for x value >> 11\n",
      "0.0 for x value >> 76\n",
      "0.16409266031768444 for x value >> 85\n",
      "0.05469755343922814 for x value >> 73\n",
      "0.9845559619061066 for x value >> 22\n",
      "0.07293007125230419 for x value >> 72\n",
      "2.26083220882143 for x value >> 200\n",
      "0.3464178384484449 for x value >> 57\n",
      "3.1724580994752323 for x value >> 250\n",
      "0.018232517813076048 for x value >> 75\n",
      "1.0027884797191826 for x value >> 21\n",
      "0.23702273156998863 for x value >> 89\n",
      "0.5105104987661293 for x value >> 48\n",
      "0.6746031590838137 for x value >> 39\n",
      "0.6199056056445856 for x value >> 42\n",
      "0.018232517813076048 for x value >> 77\n"
     ]
    },
    {
     "data": {
      "text/plain": [
       "[200, 250]"
      ]
     },
     "execution_count": 32,
     "metadata": {},
     "output_type": "execute_result"
    }
   ],
   "source": [
    "mean = np.mean(array2)\n",
    "std = np.std(array2)\n",
    "print('mean is: ',mean,'std is: ',std)\n",
    "\n",
    "outliers_list=[]\n",
    "thresold = 2\n",
    "for x_val in array2:\n",
    "    z_score = (x_val-mean)/std\n",
    "    z_score= np.abs(z_score)\n",
    "    \n",
    "    print(z_score, 'for x value >>', x_val)\n",
    "    if z_score >= thresold:\n",
    "        outliers_list.append(x_val)\n",
    "   \n",
    "outliers_list"
   ]
  },
  {
   "cell_type": "code",
   "execution_count": 28,
   "id": "d8c02142",
   "metadata": {},
   "outputs": [
    {
     "data": {
      "text/plain": [
       "array([ 85,  63,  66,  69,  11,  76,  85,  73,  22,  72, 200,  57, 250,\n",
       "        75,  21,  89,  48,  39,  42,  77])"
      ]
     },
     "execution_count": 28,
     "metadata": {},
     "output_type": "execute_result"
    }
   ],
   "source": [
    "array2"
   ]
  },
  {
   "cell_type": "code",
   "execution_count": 44,
   "id": "d898c87a",
   "metadata": {},
   "outputs": [],
   "source": [
    "array3=list(array2.copy())\n"
   ]
  },
  {
   "cell_type": "code",
   "execution_count": 45,
   "id": "bf60df78",
   "metadata": {},
   "outputs": [],
   "source": [
    "for i in array2:\n",
    "    if i in outliers_list:\n",
    "        array3.remove(i)\n",
    "        "
   ]
  },
  {
   "cell_type": "code",
   "execution_count": 46,
   "id": "16aa1924",
   "metadata": {},
   "outputs": [],
   "source": [
    "fil_mean=np.mean(array3)"
   ]
  },
  {
   "cell_type": "code",
   "execution_count": 47,
   "id": "2a379ad8",
   "metadata": {},
   "outputs": [
    {
     "data": {
      "text/plain": [
       "59.44444444444444"
      ]
     },
     "execution_count": 47,
     "metadata": {},
     "output_type": "execute_result"
    }
   ],
   "source": []
  },
  {
   "cell_type": "code",
   "execution_count": 58,
   "id": "f8c7df36",
   "metadata": {},
   "outputs": [
    {
     "data": {
      "text/plain": [
       "array([85.        , 63.        , 66.        , 69.        , 11.        ,\n",
       "       76.        , 85.        , 73.        , 22.        , 72.        ,\n",
       "       59.44444444, 57.        , 59.44444444, 75.        , 21.        ,\n",
       "       89.        , 48.        , 39.        , 42.        , 77.        ])"
      ]
     },
     "execution_count": 58,
     "metadata": {},
     "output_type": "execute_result"
    }
   ],
   "source": [
    "array2=np.where(array2>=min(outliers_list),fil_mean,array2)\n",
    "array2"
   ]
  },
  {
   "cell_type": "code",
   "execution_count": 60,
   "id": "ff01776e",
   "metadata": {},
   "outputs": [
    {
     "data": {
      "text/plain": [
       "<AxesSubplot:ylabel='Density'>"
      ]
     },
     "execution_count": 60,
     "metadata": {},
     "output_type": "execute_result"
    },
    {
     "data": {
      "image/png": "[encoded data removed]",
      "text/plain": [
       "<Figure size 432x288 with 1 Axes>"
      ]
     },
     "metadata": {
      "needs_background": "light"
     },
     "output_type": "display_data"
    }
   ],
   "source": [
    "sns.kdeplot(array2)"
   ]
  },
  {
   "cell_type": "code",
   "execution_count": 61,
   "id": "5bfa0a91",
   "metadata": {},
   "outputs": [
    {
     "name": "stdout",
     "output_type": "stream",
     "text": [
      "p value is 0.09645017981529236\n",
      "normally distributed\n"
     ]
    }
   ],
   "source": [
    "from scipy.stats import shapiro\n",
    "_,p_value=shapiro(array2)\n",
    "print('p value is', p_value)\n",
    "if p_value > 0.05:print('normally distributed')\n",
    "else:print('not normally distibuted')"
   ]
  },
  {
   "cell_type": "code",
   "execution_count": null,
   "id": "e8d91f93",
   "metadata": {},
   "outputs": [],
   "source": []
  }
 ],
 "metadata": {
  "kernelspec": {
   "display_name": "Python 3",
   "language": "python",
   "name": "python3"
  },
  "language_info": {
   "codemirror_mode": {
    "name": "ipython",
    "version": 3
   },
   "file_extension": ".py",
   "mimetype": "text/x-python",
   "name": "python",
   "nbconvert_exporter": "python",
   "pygments_lexer": "ipython3",
   "version": "3.8.8"
  },
  "toc": {
   "base_numbering": 1,
   "nav_menu": {},
   "number_sections": true,
   "sideBar": true,
   "skip_h1_title": false,
   "title_cell": "Table of Contents",
   "title_sidebar": "Contents",
   "toc_cell": false,
   "toc_position": {},
   "toc_section_display": true,
   "toc_window_display": false
  },
  "varInspector": {
   "cols": {
    "lenName": 16,
    "lenType": 16,
    "lenVar": 40
   },
   "kernels_config": {
    "python": {
     "delete_cmd_postfix": "",
     "delete_cmd_prefix": "del ",
     "library": "var_list.py",
     "varRefreshCmd": "print(var_dic_list())"
    },
    "r": {
     "delete_cmd_postfix": ") ",
     "delete_cmd_prefix": "rm(",
     "library": "var_list.r",
     "varRefreshCmd": "cat(var_dic_list()) "
    }
   },
   "types_to_exclude": [
    "module",
    "function",
    "builtin_function_or_method",
    "instance",
    "_Feature"
   ],
   "window_display": false
  }
 },
 "nbformat": 4,
 "nbformat_minor": 5
}

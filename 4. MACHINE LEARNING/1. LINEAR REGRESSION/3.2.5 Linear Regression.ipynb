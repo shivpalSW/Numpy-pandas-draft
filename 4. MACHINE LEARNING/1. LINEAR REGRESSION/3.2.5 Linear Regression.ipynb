{
 "cells": [
  {
   "cell_type": "code",
   "execution_count": null,
   "id": "e5221ecd",
   "metadata": {},
   "outputs": [],
   "source": [
    "Prediction:\n",
    "    estimating the output variable"
   ]
  },
  {
   "cell_type": "raw",
   "id": "a661861c",
   "metadata": {},
   "source": [
    "Regression:\n",
    "    Predicting a countinuos value of the output feature.\n",
    "Classification:\n",
    "    predicting the category of the output variable."
   ]
  },
  {
   "cell_type": "code",
   "execution_count": null,
   "id": "db16a91c",
   "metadata": {},
   "outputs": [],
   "source": [
    "Output feature/Targeted variable(y):\n",
    "    is the one we re suppose to predict\n",
    "    \n",
    "Input features/variables(x1,x2,x3....xn):\n",
    "    these are the features i have for processing"
   ]
  },
  {
   "cell_type": "code",
   "execution_count": null,
   "id": "ce3a4501",
   "metadata": {},
   "outputs": [],
   "source": [
    "Linear Regression:\n",
    "    LR is a machine learning algorithm that falls under suprived learning. THis is a supervised machine learning algorithm.\n",
    "    This model basically describes the relation betweeen targeted variable & the input variables by fitting a line on the observed data.\n",
    "    the targeted variable is linearly related to the input variabble\n",
    "    It is most simplest machine learning algorithms that predicts numerical output.\n",
    "    It is also called as ordinary least squared algorithm"
   ]
  },
  {
   "cell_type": "code",
   "execution_count": null,
   "id": "ced1ec85",
   "metadata": {},
   "outputs": [],
   "source": [
    "Multinomial regression:\n",
    "    when we have more the 1 input variable for a linear regression then it would be multinomial linear regression"
   ]
  },
  {
   "cell_type": "code",
   "execution_count": null,
   "id": "3b53a8fb",
   "metadata": {},
   "outputs": [],
   "source": [
    "Equation of a straight line:\n",
    "    y = mx + c \n",
    "    y: output variable\n",
    "    x: input variable\n",
    "    m: slope\n",
    "    c: coefficient/ intercept"
   ]
  },
  {
   "cell_type": "code",
   "execution_count": null,
   "id": "90a14507",
   "metadata": {},
   "outputs": [],
   "source": [
    "m (slope): angle of inclination\n",
    "    m = sum((x-xm)(y-ym))/sum(x-xm)^2"
   ]
  },
  {
   "cell_type": "code",
   "execution_count": null,
   "id": "7272bc0f",
   "metadata": {},
   "outputs": [],
   "source": [
    "best fit line:\n",
    "    is that one line which is closest to the maximum data points on the graph.\n",
    "    This is also known as regression line.\n",
    "    best fit line always passes through mean point"
   ]
  },
  {
   "cell_type": "code",
   "execution_count": null,
   "id": "9d461248",
   "metadata": {},
   "outputs": [],
   "source": [
    "To find best fit line:\n",
    "    in the backened it uses gradient descent algorithm."
   ]
  },
  {
   "cell_type": "code",
   "execution_count": null,
   "id": "c3a2c965",
   "metadata": {},
   "outputs": [],
   "source": [
    "How does best fit line is found by machine?\n",
    "    For the same it uses Gradient Descent Algorithm.\n",
    "    "
   ]
  }
 ],
 "metadata": {
  "kernelspec": {
   "display_name": "Python 3",
   "language": "python",
   "name": "python3"
  },
  "language_info": {
   "codemirror_mode": {
    "name": "ipython",
    "version": 3
   },
   "file_extension": ".py",
   "mimetype": "text/x-python",
   "name": "python",
   "nbconvert_exporter": "python",
   "pygments_lexer": "ipython3",
   "version": "3.8.8"
  },
  "toc": {
   "base_numbering": 1,
   "nav_menu": {},
   "number_sections": true,
   "sideBar": true,
   "skip_h1_title": false,
   "title_cell": "Table of Contents",
   "title_sidebar": "Contents",
   "toc_cell": false,
   "toc_position": {},
   "toc_section_display": true,
   "toc_window_display": false
  },
  "varInspector": {
   "cols": {
    "lenName": 16,
    "lenType": 16,
    "lenVar": 40
   },
   "kernels_config": {
    "python": {
     "delete_cmd_postfix": "",
     "delete_cmd_prefix": "del ",
     "library": "var_list.py",
     "varRefreshCmd": "print(var_dic_list())"
    },
    "r": {
     "delete_cmd_postfix": ") ",
     "delete_cmd_prefix": "rm(",
     "library": "var_list.r",
     "varRefreshCmd": "cat(var_dic_list()) "
    }
   },
   "types_to_exclude": [
    "module",
    "function",
    "builtin_function_or_method",
    "instance",
    "_Feature"
   ],
   "window_display": false
  }
 },
 "nbformat": 4,
 "nbformat_minor": 5
}

{
 "cells": [
  {
   "cell_type": "code",
   "execution_count": null,
   "id": "0d7426ab",
   "metadata": {},
   "outputs": [],
   "source": [
    "Ridge Regularization (l2):\n",
    "    It penalises the loss function by adding up additional parameter which is lambda times the square of slopes.\n",
    "    By this the purpose now is to reduce the the loss caused for Ridge regression loss equation.\n",
    "    So it makes the slope less stiff than the actual one resulting in introducing little bit of bias on the training data such that the bias of testing data is also reduced.\n",
    "    This means is has reduced the accuracy of the training data & improved the accuracy of the testing data.\n",
    "    \n",
    "    In Ridge: The slopes goes close to zero but never becomes zero.\n",
    "        & bcz the slopes are not zero, so it does not drop the features.\n",
    "        \n",
    "Lasso Regularization (l1):\n",
    "    It penalises the loss function by adding up additional parameter which is lambda times the mode of slopes.\n",
    "    By this the purpose now is to reduce the the loss caused for Ridge regression loss equation.\n",
    "    So it makes the slope less stiff than the actual one resulting in introducing little bit of bias on the training data such that the bias of testing data is also reduced.\n",
    "    This means is has reduced the accuracy of the training data & improved the accuracy of the testing data.\n",
    "    \n",
    "    In Lasso: The slopes goes close to become zero\n",
    "        & bcz the slopes become zero, so it does helps in dropping the features."
   ]
  },
  {
   "cell_type": "code",
   "execution_count": null,
   "id": "fa5117cc",
   "metadata": {},
   "outputs": [],
   "source": [
    "Cross Validation:\n",
    "    It divides the training data in n sample where n is the cross validation defined value.\n",
    "    next, it calculates the accuracy by using one of these division/ prroportion as testing sample\n",
    "    it does this for all different proportions/ division\n",
    "    & then finally it takes the avg of the accuracies of all the divisions. This is the actual accuracy of the training data."
   ]
  }
 ],
 "metadata": {
  "kernelspec": {
   "display_name": "Python 3",
   "language": "python",
   "name": "python3"
  },
  "language_info": {
   "codemirror_mode": {
    "name": "ipython",
    "version": 3
   },
   "file_extension": ".py",
   "mimetype": "text/x-python",
   "name": "python",
   "nbconvert_exporter": "python",
   "pygments_lexer": "ipython3",
   "version": "3.8.8"
  },
  "toc": {
   "base_numbering": 1,
   "nav_menu": {},
   "number_sections": true,
   "sideBar": true,
   "skip_h1_title": false,
   "title_cell": "Table of Contents",
   "title_sidebar": "Contents",
   "toc_cell": false,
   "toc_position": {},
   "toc_section_display": true,
   "toc_window_display": false
  },
  "varInspector": {
   "cols": {
    "lenName": 16,
    "lenType": 16,
    "lenVar": 40
   },
   "kernels_config": {
    "python": {
     "delete_cmd_postfix": "",
     "delete_cmd_prefix": "del ",
     "library": "var_list.py",
     "varRefreshCmd": "print(var_dic_list())"
    },
    "r": {
     "delete_cmd_postfix": ") ",
     "delete_cmd_prefix": "rm(",
     "library": "var_list.r",
     "varRefreshCmd": "cat(var_dic_list()) "
    }
   },
   "types_to_exclude": [
    "module",
    "function",
    "builtin_function_or_method",
    "instance",
    "_Feature"
   ],
   "window_display": false
  }
 },
 "nbformat": 4,
 "nbformat_minor": 5
}

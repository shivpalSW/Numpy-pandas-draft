{
 "cells": [
  {
   "cell_type": "code",
   "execution_count": null,
   "id": "208f90c7",
   "metadata": {},
   "outputs": [],
   "source": [
    "Ensemble Methods:\n",
    "    Bagging .. Random Forest >> Parallel Approch\n",
    "    \n",
    "    Boosting .. Adaboost >> Sequential Approch"
   ]
  },
  {
   "cell_type": "code",
   "execution_count": null,
   "id": "d3164f0d",
   "metadata": {},
   "outputs": [],
   "source": [
    "Adaboost:\n",
    "    Adaptive Boosting Algorithm\n",
    "    Supervised Machine Learning Alorithm\n",
    "    Is a boosting algorithm is a part of ensembling method"
   ]
  },
  {
   "cell_type": "code",
   "execution_count": null,
   "id": "5aa40212",
   "metadata": {},
   "outputs": [],
   "source": [
    "wt       ht        Obesity   misclassified    wt        new weights     proportions    Range             Randomly picked no.\n",
    "\n",
    "55       155         y           y           0.14           0.058       0.083          0 - 0.083\n",
    "65       165         y           y           0.14           0.058       0.083          0.083 - 0.166\n",
    "75       175         n           n           0.14           0.058       0.083          0.166 - 0.249\n",
    "85       185         y           n           0.14           0.35        0.5            0.249 - 0.749\n",
    "80       180         n           n           0.14           0.058       0.083          0.749 - 0.832\n",
    "60       160         y           y           0.14           0.058       0.083          0.832 - 0.915\n",
    "70       170         n           n           0.14           0.058       0.083          0.915 - 1"
   ]
  },
  {
   "cell_type": "code",
   "execution_count": null,
   "id": "7c649bc8",
   "metadata": {},
   "outputs": [],
   "source": [
    "Total Error (TE): (1/7)  = 0.14"
   ]
  },
  {
   "cell_type": "code",
   "execution_count": null,
   "id": "af2f197f",
   "metadata": {},
   "outputs": [],
   "source": [
    "Performance of the model = 0.5 * np.log((1-TE)/TE"
   ]
  },
  {
   "cell_type": "code",
   "execution_count": 2,
   "id": "d5a80909",
   "metadata": {},
   "outputs": [
    {
     "data": {
      "text/plain": [
       "0.8958797346140276"
      ]
     },
     "execution_count": 2,
     "metadata": {},
     "output_type": "execute_result"
    }
   ],
   "source": [
    "import numpy as np\n",
    "Performance_say = 0.5 * np.log((1-(1/7))/(1/7))\n",
    "Performance_say"
   ]
  },
  {
   "cell_type": "code",
   "execution_count": null,
   "id": "d8698954",
   "metadata": {},
   "outputs": [],
   "source": [
    "sample weight of rightly classified = wt * e^(-Performance_say)\n",
    "\n",
    "sample weight of wrongly classified = wt * e^(+Performance_say)"
   ]
  },
  {
   "cell_type": "code",
   "execution_count": 6,
   "id": "52071588",
   "metadata": {},
   "outputs": [
    {
     "data": {
      "text/plain": [
       "0.05832118435198043"
      ]
     },
     "execution_count": 6,
     "metadata": {},
     "output_type": "execute_result"
    }
   ],
   "source": [
    "righly_classified= (1/7)*np.e**(-Performance_say)\n",
    "righly_classified"
   ]
  },
  {
   "cell_type": "code",
   "execution_count": 7,
   "id": "e142621e",
   "metadata": {},
   "outputs": [
    {
     "data": {
      "text/plain": [
       "0.3499271061118826"
      ]
     },
     "execution_count": 7,
     "metadata": {},
     "output_type": "execute_result"
    }
   ],
   "source": [
    "wrongly_classified= (1/7)*np.e**(+Performance_say)\n",
    "wrongly_classified"
   ]
  },
  {
   "cell_type": "code",
   "execution_count": 9,
   "id": "66b8aa05",
   "metadata": {},
   "outputs": [
    {
     "data": {
      "text/plain": [
       "0.6998542122237652"
      ]
     },
     "execution_count": 9,
     "metadata": {},
     "output_type": "execute_result"
    }
   ],
   "source": [
    "# Sum of new assigned weights\n",
    "total_weight=(6*righly_classified)+(1*wrongly_classified)\n",
    "total_weight"
   ]
  },
  {
   "cell_type": "code",
   "execution_count": 10,
   "id": "032ce337",
   "metadata": {},
   "outputs": [
    {
     "data": {
      "text/plain": [
       "0.08333333333333333"
      ]
     },
     "execution_count": 10,
     "metadata": {},
     "output_type": "execute_result"
    }
   ],
   "source": [
    "righly_classified/total_weight"
   ]
  },
  {
   "cell_type": "code",
   "execution_count": 11,
   "id": "ab849361",
   "metadata": {},
   "outputs": [
    {
     "data": {
      "text/plain": [
       "0.5"
      ]
     },
     "execution_count": 11,
     "metadata": {},
     "output_type": "execute_result"
    }
   ],
   "source": [
    "wrongly_classified/total_weight"
   ]
  },
  {
   "cell_type": "code",
   "execution_count": null,
   "id": "81babe1d",
   "metadata": {},
   "outputs": [],
   "source": []
  }
 ],
 "metadata": {
  "kernelspec": {
   "display_name": "Python 3",
   "language": "python",
   "name": "python3"
  },
  "language_info": {
   "codemirror_mode": {
    "name": "ipython",
    "version": 3
   },
   "file_extension": ".py",
   "mimetype": "text/x-python",
   "name": "python",
   "nbconvert_exporter": "python",
   "pygments_lexer": "ipython3",
   "version": "3.8.8"
  },
  "toc": {
   "base_numbering": 1,
   "nav_menu": {},
   "number_sections": true,
   "sideBar": true,
   "skip_h1_title": false,
   "title_cell": "Table of Contents",
   "title_sidebar": "Contents",
   "toc_cell": false,
   "toc_position": {},
   "toc_section_display": true,
   "toc_window_display": false
  },
  "varInspector": {
   "cols": {
    "lenName": 16,
    "lenType": 16,
    "lenVar": 40
   },
   "kernels_config": {
    "python": {
     "delete_cmd_postfix": "",
     "delete_cmd_prefix": "del ",
     "library": "var_list.py",
     "varRefreshCmd": "print(var_dic_list())"
    },
    "r": {
     "delete_cmd_postfix": ") ",
     "delete_cmd_prefix": "rm(",
     "library": "var_list.r",
     "varRefreshCmd": "cat(var_dic_list()) "
    }
   },
   "types_to_exclude": [
    "module",
    "function",
    "builtin_function_or_method",
    "instance",
    "_Feature"
   ],
   "window_display": false
  }
 },
 "nbformat": 4,
 "nbformat_minor": 5
}

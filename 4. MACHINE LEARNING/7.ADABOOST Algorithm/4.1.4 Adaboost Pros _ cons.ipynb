{
 "cells": [
  {
   "cell_type": "code",
   "execution_count": null,
   "id": "0f52d953",
   "metadata": {},
   "outputs": [],
   "source": [
    "Assumptions:\n",
    "    No Assumptions\n",
    "    \n",
    "Pros:\n",
    "    1. Tackes the overfitting issue.\n",
    "    2. Adaboost handles missing values.\n",
    "    3. Very good when the data is low biased & high variance.\n",
    "    4. It has a few numbers of parameters also to tune.\n",
    "    5. Doesnt require feature scaliing\n",
    "    \n",
    "cons:\n",
    "    1. For regression it doesn't perform that well.\n",
    "    2. Time complexity & memory storage is high.\n",
    "    3. It is complex compared to other algorithms.\n",
    "    4. Adaboost is sensitive to outliers.\n",
    "\n",
    "    \n",
    "    \n",
    "    \n",
    "Difference between Bagging & Boosting Algos:\n",
    "    \n",
    "Bagging:\n",
    "    1. The weak learners (trees) are connected in parallel to each other. (Parallel approch)\n",
    "    2. Bootstrap is used as resampling stategy.\n",
    "    3. Resampling is done not on the basis on weights assigned.\n",
    "    4. Variours data sets for every learner is randommly drawn from the original data. & they have no dependencies.\n",
    "    5. Bagging is used to mainly for overfittingng issues.\n",
    "    6. Every model is assigned equal weight.\n",
    "    7. Every model is constructed indepndently.\n",
    "    \n",
    "    \n",
    "Boosting:\n",
    "    1. The weak learners (trees) are connected in Series to each other. (Sequential approch)\n",
    "    2. Sampling is done based such that any random number is chosen & to whichever weight that number belongs that sample is chosen. However same sample is repeated multiple times beacause of high weights.\n",
    "    3. Resampling is done based on assigned weights.\n",
    "    4. There lies a data dependency of any learner on its previous learner.\n",
    "    5. boosting is good for both overfitting & underfitting. Adaboost does good for overfitting issue & GBoost & XGBoost are good for underfittingerfitting issue.\n",
    "    6. Models are weighted by their preformance.\n",
    "    7. New modelels are affected by the performance of the previous model."
   ]
  }
 ],
 "metadata": {
  "kernelspec": {
   "display_name": "Python 3",
   "language": "python",
   "name": "python3"
  },
  "language_info": {
   "codemirror_mode": {
    "name": "ipython",
    "version": 3
   },
   "file_extension": ".py",
   "mimetype": "text/x-python",
   "name": "python",
   "nbconvert_exporter": "python",
   "pygments_lexer": "ipython3",
   "version": "3.8.8"
  },
  "toc": {
   "base_numbering": 1,
   "nav_menu": {},
   "number_sections": true,
   "sideBar": true,
   "skip_h1_title": false,
   "title_cell": "Table of Contents",
   "title_sidebar": "Contents",
   "toc_cell": false,
   "toc_position": {},
   "toc_section_display": true,
   "toc_window_display": false
  },
  "varInspector": {
   "cols": {
    "lenName": 16,
    "lenType": 16,
    "lenVar": 40
   },
   "kernels_config": {
    "python": {
     "delete_cmd_postfix": "",
     "delete_cmd_prefix": "del ",
     "library": "var_list.py",
     "varRefreshCmd": "print(var_dic_list())"
    },
    "r": {
     "delete_cmd_postfix": ") ",
     "delete_cmd_prefix": "rm(",
     "library": "var_list.r",
     "varRefreshCmd": "cat(var_dic_list()) "
    }
   },
   "types_to_exclude": [
    "module",
    "function",
    "builtin_function_or_method",
    "instance",
    "_Feature"
   ],
   "window_display": false
  }
 },
 "nbformat": 4,
 "nbformat_minor": 5
}

{
 "cells": [
  {
   "cell_type": "code",
   "execution_count": null,
   "id": "c78ebd59",
   "metadata": {},
   "outputs": [],
   "source": [
    "Assumptions:\n",
    "    1. It works for both classification & Regression. For regrssion targeted feature should be numerical & classificationon it should be categorical.\n",
    "    2. It assums all the data points in future space & it calculates the distance between these data points using wither manhattan or eucledian distance.\n",
    "    3. for classification: for training data, each of the points has the class/ label associated with it.\n",
    "    4. It takes the n nearest data points to classify the test sample based on voting vclassification.\n",
    "    5. The value of K has to be decided which is the no. of neighbours.\n",
    "    6. for 2 class classification, it is desired to have an odd no. for k.\n",
    "    7. In case if two classes contributes equally as neighbours for any test data point then in such case, the class having majority (highest data smaples) will be assigned to that data point.\n",
    "    8. It assumes that every feature has the same magnitude & direction. however in reality this is not the case.\n",
    "\n",
    "    \n",
    "Pros / Advantages:\n",
    "    1. Knn is very versetile can be used for both classification & regrssionession, imputation, search.\n",
    "    2. Not mamy hard & fast assumptions are required.\n",
    "    3. It is easy to implement & understand.\n",
    "    4. It doesn't matter to knn even if you add any data at any random point in time. beacause knn computes the distance every time, while in algorithms like decision tree, even if one observation is added, the whole structure of the tree will change.\n",
    "    5. KNN can also be used for imputation & smoting.\n",
    "    \n",
    "cons / Disadvanatges:\n",
    "    1. Lazy leaner so consumes time.\n",
    "    2. it's difficult to manually decide the best value of k.\n",
    "    3. does not have many hyperparameters to tune.\n",
    "    4. It requires the data to be normalised. feature scaling is required.\n",
    "    5. it does not perform well in higher dimensions. bcz calculations go difficult for extended distancees of data points.\n",
    "    6. Unlike other algos, it stores the entire training data every time, thus requires more memory for storage.\n",
    "    7. for k < 5, the model can be very noisy. \n",
    "    8. Sensitive to outliers.\n",
    "    \n",
    "    \n",
    "Application:\n",
    "    1. used for imputationon & smotting.\n",
    "    2. concept search/ semantic search. if you are searching for similar documents (i.e. documents containing similar topics), this is refered as concept search.\n",
    "    3. Recommendation system: if you have purchsed this, you may likly purchase this as well."
   ]
  }
 ],
 "metadata": {
  "kernelspec": {
   "display_name": "Python 3",
   "language": "python",
   "name": "python3"
  },
  "language_info": {
   "codemirror_mode": {
    "name": "ipython",
    "version": 3
   },
   "file_extension": ".py",
   "mimetype": "text/x-python",
   "name": "python",
   "nbconvert_exporter": "python",
   "pygments_lexer": "ipython3",
   "version": "3.8.8"
  },
  "toc": {
   "base_numbering": 1,
   "nav_menu": {},
   "number_sections": true,
   "sideBar": true,
   "skip_h1_title": false,
   "title_cell": "Table of Contents",
   "title_sidebar": "Contents",
   "toc_cell": false,
   "toc_position": {},
   "toc_section_display": true,
   "toc_window_display": false
  },
  "varInspector": {
   "cols": {
    "lenName": 16,
    "lenType": 16,
    "lenVar": 40
   },
   "kernels_config": {
    "python": {
     "delete_cmd_postfix": "",
     "delete_cmd_prefix": "del ",
     "library": "var_list.py",
     "varRefreshCmd": "print(var_dic_list())"
    },
    "r": {
     "delete_cmd_postfix": ") ",
     "delete_cmd_prefix": "rm(",
     "library": "var_list.r",
     "varRefreshCmd": "cat(var_dic_list()) "
    }
   },
   "types_to_exclude": [
    "module",
    "function",
    "builtin_function_or_method",
    "instance",
    "_Feature"
   ],
   "window_display": false
  }
 },
 "nbformat": 4,
 "nbformat_minor": 5
}

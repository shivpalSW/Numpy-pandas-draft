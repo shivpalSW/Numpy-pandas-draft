{
 "cells": [
  {
   "cell_type": "code",
   "execution_count": null,
   "id": "2f6814f9",
   "metadata": {},
   "outputs": [],
   "source": [
    "Advantages:\n",
    "    1. Less effort for data preparation during pre processing.\n",
    "    2. Does not require normalization / scaling.\n",
    "    3. Missing Values does not affect the growth of the tree. Decision tree uses thresold split for handeling missing values.\n",
    "    4. Impact of outlier is negligible.\n",
    "    5. This is very intuitive & easy to explain.\n",
    "    6. It has the facility of visualization. one can see the tree model that has been build.\n",
    "    7. This concept is familiar with most of the programers.\n",
    "    8. scope of parametric tuning is high ; There are several parametres to tune.\n",
    "    \n",
    "Disadvantages:\n",
    "    1. It always trends to overfit making the predicts on test sample poor.\n",
    "    2. The time complexity of the model is really high. specially when we have large sample data size.\n",
    "    3. for smaller data, it mugg ups the data >> overfits.\n",
    "    4. If we at data even a single observation at any random point of time, then the whole structure of the tree may change.\n",
    "    5. Compared to other algorithms, the addition of features increases the computational time & complexity.\n",
    "    6. Regression model is not very accurate specially when tree is prunned or max depth is set.\n",
    "    \n",
    "    \n",
    "Applications:\n",
    "    1. Customer segmentation\n",
    "    2. Invetory management\n",
    "    3. Customer Retention & customer churn.\n",
    "    4. Medical, patient disorder classification.\n",
    "    5. Used by companies for promotional campeign, marketing.\n",
    "    \n",
    "Impactct of outliers & null values:\n",
    "    they do not impact the model performance.\n",
    "    \n",
    "Assuptions:\n",
    "    initally the whole population is considered as root node."
   ]
  }
 ],
 "metadata": {
  "kernelspec": {
   "display_name": "Python 3",
   "language": "python",
   "name": "python3"
  },
  "language_info": {
   "codemirror_mode": {
    "name": "ipython",
    "version": 3
   },
   "file_extension": ".py",
   "mimetype": "text/x-python",
   "name": "python",
   "nbconvert_exporter": "python",
   "pygments_lexer": "ipython3",
   "version": "3.8.8"
  },
  "toc": {
   "base_numbering": 1,
   "nav_menu": {},
   "number_sections": true,
   "sideBar": true,
   "skip_h1_title": false,
   "title_cell": "Table of Contents",
   "title_sidebar": "Contents",
   "toc_cell": false,
   "toc_position": {},
   "toc_section_display": true,
   "toc_window_display": false
  },
  "varInspector": {
   "cols": {
    "lenName": 16,
    "lenType": 16,
    "lenVar": 40
   },
   "kernels_config": {
    "python": {
     "delete_cmd_postfix": "",
     "delete_cmd_prefix": "del ",
     "library": "var_list.py",
     "varRefreshCmd": "print(var_dic_list())"
    },
    "r": {
     "delete_cmd_postfix": ") ",
     "delete_cmd_prefix": "rm(",
     "library": "var_list.r",
     "varRefreshCmd": "cat(var_dic_list()) "
    }
   },
   "types_to_exclude": [
    "module",
    "function",
    "builtin_function_or_method",
    "instance",
    "_Feature"
   ],
   "window_display": false
  }
 },
 "nbformat": 4,
 "nbformat_minor": 5
}

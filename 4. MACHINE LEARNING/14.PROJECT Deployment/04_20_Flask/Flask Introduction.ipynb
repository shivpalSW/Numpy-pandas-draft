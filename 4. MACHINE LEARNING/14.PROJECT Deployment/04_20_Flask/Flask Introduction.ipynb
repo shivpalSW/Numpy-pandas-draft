{
 "cells": [
  {
   "cell_type": "code",
   "execution_count": null,
   "id": "impressed-municipality",
   "metadata": {},
   "outputs": [],
   "source": [
    "Backend:\n",
    "    preprocessing\n",
    "    model training\n",
    "    evaluation\n",
    "    save model"
   ]
  },
  {
   "cell_type": "code",
   "execution_count": null,
   "id": "normal-defeat",
   "metadata": {},
   "outputs": [],
   "source": [
    "House Price Prediction\n",
    "1. Flat Size\n",
    "2. Location\n",
    "3. no of Balconies\n",
    "\n",
    "Prediction >> House Price"
   ]
  },
  {
   "cell_type": "code",
   "execution_count": null,
   "id": "guilty-gateway",
   "metadata": {},
   "outputs": [],
   "source": [
    "API\n",
    "User Interface\n",
    "\n",
    "Instagram >> Google map API"
   ]
  },
  {
   "cell_type": "code",
   "execution_count": null,
   "id": "greenhouse-alarm",
   "metadata": {},
   "outputs": [],
   "source": [
    "Login:\n",
    "    Client and Server\n",
    "    user id\n",
    "    password\n",
    "    \n",
    "    token(10)\n",
    "    \n",
    "register:\n",
    "    name\n",
    "    surname\n",
    "    email\n",
    "    password\n",
    "    security question\n",
    "    security answer"
   ]
  },
  {
   "cell_type": "code",
   "execution_count": null,
   "id": "violent-majority",
   "metadata": {},
   "outputs": [],
   "source": [
    "Flask: Web Application"
   ]
  },
  {
   "cell_type": "code",
   "execution_count": null,
   "id": "interim-groove",
   "metadata": {},
   "outputs": [],
   "source": [
    "AWS >> 20.235.65.1 >> 5001 to 5010\n",
    "GCP\n",
    "Azure"
   ]
  },
  {
   "cell_type": "code",
   "execution_count": null,
   "id": "rolled-recording",
   "metadata": {},
   "outputs": [],
   "source": [
    "20.235.65.1:5001/apiname \n",
    "domain name\n",
    "\n",
    "www.facebook.com/login\n",
    "www.facebook.com/register\n",
    "www.facebook.com/homepage\n",
    "\n",
    "zeenews.india.com >> 20.236.65.1:8085\n",
    "marathi >> Api name\n",
    "http://zeenews.india.com/marathi/live\n",
    "https://zeenews.india.com/marathi   # Secure >> SSL certificate\n",
    "\n",
    "http://marathi.zeenews.india.com/  ## >> SSL certificate"
   ]
  }
 ],
 "metadata": {
  "kernelspec": {
   "display_name": "Python 3",
   "language": "python",
   "name": "python3"
  },
  "language_info": {
   "codemirror_mode": {
    "name": "ipython",
    "version": 3
   },
   "file_extension": ".py",
   "mimetype": "text/x-python",
   "name": "python",
   "nbconvert_exporter": "python",
   "pygments_lexer": "ipython3",
   "version": "3.8.7"
  }
 },
 "nbformat": 4,
 "nbformat_minor": 5
}

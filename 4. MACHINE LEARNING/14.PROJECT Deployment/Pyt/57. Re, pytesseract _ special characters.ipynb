{
 "cells": [
  {
   "cell_type": "code",
   "execution_count": 1,
   "metadata": {},
   "outputs": [],
   "source": [
    "# a or e i o u\n",
    "import re"
   ]
  },
  {
   "cell_type": "code",
   "execution_count": 10,
   "metadata": {},
   "outputs": [],
   "source": [
    "data = \"\"\"Data science is a \"concept to unify statistics, data analysis, \n",
    "informatics, and their related methods\" in order to \"understand and analyze \n",
    "actual phenomena\" with data.[3] It uses techniques and theories drawn from many \n",
    "fields within the context of mathematics, statistics, computer science, information \n",
    "science, and domain knowledge. Turing award winner Jim Gray imagined data science as \n",
    "a \"fourth paradigm\" of science (empirical, theoretical, computational and now data-driven) \n",
    "and asserted that \"everything about science is changing because of the impact of \n",
    "information technology\" and the data deluge\"\"\""
   ]
  },
  {
   "cell_type": "code",
   "execution_count": 20,
   "metadata": {},
   "outputs": [
    {
     "name": "stdout",
     "output_type": "stream",
     "text": [
      "['is', 'unify', 'analysis', 'informatics', 'and', 'in', 'order', 'understand', 'and', 'analyze', 'actual', 'uses', 'and', 'of', 'information', 'and', 'award', 'imagined', 'as', 'of', 'empirical', 'and', 'and', 'asserted', 'everything', 'about', 'is', 'of', 'impact', 'of', 'information', 'and'] 32\n"
     ]
    }
   ],
   "source": [
    "text=re.findall(r'\\b[aeiou]\\w+',data)\n",
    "print(text,len(text))"
   ]
  },
  {
   "cell_type": "code",
   "execution_count": 21,
   "metadata": {},
   "outputs": [],
   "source": [
    "# Identity Documents"
   ]
  },
  {
   "cell_type": "code",
   "execution_count": 22,
   "metadata": {},
   "outputs": [],
   "source": [
    "# PAN Card"
   ]
  },
  {
   "cell_type": "code",
   "execution_count": 23,
   "metadata": {},
   "outputs": [],
   "source": [
    "text = 'QWERT2345W'\n"
   ]
  },
  {
   "cell_type": "code",
   "execution_count": 31,
   "metadata": {},
   "outputs": [],
   "source": [
    "class id_details:\n",
    "    def __init__(self,d):\n",
    "        print(\"######  Details of the User Are  #######\\n\")\n",
    "        self.details = d \n",
    "    \n",
    "\n",
    "        \n",
    "    def get_PAN(self):\n",
    "        PAN_number = re.findall('[A-Z]{5}[\\d]{4}[A-Z]{1}',self.details)\n",
    "        print(\"PAN Number is :\",PAN_number)\n",
    "    \n",
    "    def get_Adhar(self):\n",
    "        Adhar_number = re.findall('\\d{12}',self.details)\n",
    "        print(\"Adhar Number is :\",Adhar_number)\n",
    "    \n",
    "    def get_DL(self):\n",
    "        DL_number = re.findall('[A-Z]{2}[\\d]{2} [\\d]{11}',self.details)\n",
    "        print(\"Driving License Number is :\",DL_number)\n",
    "    \n",
    "    def get_Passportno(self):\n",
    "        Passport_number = re.findall('[A-Z]{1} [A-Z]{3} [A-Z]{1}[\\d]{7}',self.details)\n",
    "        print(\"Passport Number is :\",Passport_number)\n",
    "    \n",
    "    def get_email(self):\n",
    "        Email_id =  re.findall('[\\w._]{2,30}@[a-z]{4,10}[.][a-z]{2,4}',self.details)\n",
    "        print(\"Email Id is :\",Email_id)\n",
    "    "
   ]
  },
  {
   "cell_type": "code",
   "execution_count": 110,
   "metadata": {},
   "outputs": [
    {
     "name": "stdout",
     "output_type": "stream",
     "text": [
      "######  Details of the User Are  #######\n",
      "\n",
      "PAN Number is : ['ATNPA7920B']\n",
      "Adhar Number is : []\n",
      "Driving License Number is : ['MH35 20150054874']\n",
      "Passport Number is : ['P IND J8369854']\n",
      "Email Id is : ['agrawal.nikesh60@gmail.com']\n"
     ]
    }
   ],
   "source": [
    "d = \"\"\"Hello My name is Nikesh Agrawal. \n",
    "My Id details are\n",
    "Adhar Number - 8112 6645 8731,\n",
    "Pan Number - ATNPA7920B\n",
    "Driving License Number - MH35 20150054874\n",
    "Passport Number -  P IND J8369854\n",
    "Email Id - agrawal.nikesh60@gmail.com\n",
    "Mobile Number - 9403132036,8668369580\"\"\"     \n",
    "\n",
    "obj = id_details(d)\n",
    "obj.get_PAN()\n",
    "obj.get_Adhar()\n",
    "obj.get_DL()\n",
    "obj.get_Passportno()\n",
    "obj.get_email()\n",
    "# obj.get_mobile()"
   ]
  },
  {
   "cell_type": "code",
   "execution_count": 111,
   "metadata": {},
   "outputs": [],
   "source": []
  },
  {
   "cell_type": "code",
   "execution_count": 49,
   "metadata": {},
   "outputs": [
    {
     "name": "stdout",
     "output_type": "stream",
     "text": [
      "&\n",
      "\n",
      "steer fest\n",
      "\n",
      "INCOME TAX DEPARTMENT\n",
      "D MANIKANDAN\n",
      "\n",
      "DURAISAMY\n",
      "\n",
      "16/07/1986\n",
      "Pormanent Account Number\n",
      "\n",
      "BNZPM2501F\n",
      "\n",
      "Signature\n",
      "\n",
      " \n",
      "\f",
      "\n"
     ]
    }
   ],
   "source": [
    "import  pytesseract\n",
    "# from PIL import Image\n",
    "pytesseract.pytesseract.tesseract_cmd = r'C:\\Program Files\\Tesseract-OCR\\tesseract.exe'\n",
    "text = pytesseract.image_to_string(r'D:\\RahulK\\Velocity\\pancard1.jpg')\n",
    "print(text)\n"
   ]
  },
  {
   "cell_type": "code",
   "execution_count": 73,
   "metadata": {},
   "outputs": [
    {
     "name": "stdout",
     "output_type": "stream",
     "text": [
      "&\n",
      "\n",
      "steer fest\n",
      "\n",
      "INCOME TAX DEPARTMENT\n",
      "D MANIKANDAN\n",
      "\n",
      "DURAISAMY\n",
      "\n",
      "16/07/1986\n",
      "Pormanent Account Number\n",
      "\n",
      "BNZPM2501F\n",
      "\n",
      "Signature\n",
      "\n",
      " \n",
      "\f",
      "\n"
     ]
    }
   ],
   "source": [
    "pytesseract.pytesseract.tesseract_cmd = r'C:\\Program Files\\Tesseract-OCR\\tesseract.exe'\n",
    "text = pytesseract.image_to_string(r'D:\\RahulK\\Velocity\\pancard1.jpg')\n",
    "print(text)"
   ]
  },
  {
   "cell_type": "code",
   "execution_count": 72,
   "metadata": {},
   "outputs": [],
   "source": [
    "import re\n",
    "import pytesseract\n",
    "pytesseract.pytesseract.tesseract_cmd= r'C:\\Program Files\\Tesseract-OCR\\tesseract.exe'\n",
    "data= pytesseract.image_to_string(r'D:\\RahulK\\Velocity\\pancard1.jpg')\n",
    "\n"
   ]
  },
  {
   "cell_type": "code",
   "execution_count": 90,
   "metadata": {},
   "outputs": [
    {
     "name": "stdout",
     "output_type": "stream",
     "text": [
      "&\n",
      "\n",
      "steer fest\n",
      "\n",
      "INCOME TAX DEPARTMENT\n",
      "D MANIKANDAN\n",
      "\n",
      "DURAISAMY\n",
      "\n",
      "16/07/1986\n",
      "Pormanent Account Number\n",
      "\n",
      "BNZPM2501F\n",
      "\n",
      "Signature\n",
      "\n",
      " \n",
      "\f",
      "\n"
     ]
    }
   ],
   "source": [
    "pytesseract.pytesseract.tesseract_cmd = r'C:\\Program Files\\Tesseract-OCR\\tesseract.exe'\n",
    "data = pytesseract.image_to_string(r'D:\\RahulK\\Velocity\\pancard1.jpg')\n",
    "print(data)"
   ]
  },
  {
   "cell_type": "code",
   "execution_count": 87,
   "metadata": {},
   "outputs": [
    {
     "name": "stdout",
     "output_type": "stream",
     "text": [
      "&\n",
      "steer fest\n",
      "INCOME TAX DEPARTMENT\n",
      "D MANIKANDAN\n",
      "DURAISAMY\n",
      "16/07/1986\n",
      "Pormanent Account Number\n",
      "BNZPM2501F\n",
      "Signature\n",
      " \n",
      "\f",
      "\n"
     ]
    }
   ],
   "source": [
    "q=re.sub('\\n+',\"\\n\",data)\n",
    "print(q)\n"
   ]
  },
  {
   "cell_type": "code",
   "execution_count": 88,
   "metadata": {},
   "outputs": [
    {
     "name": "stdout",
     "output_type": "stream",
     "text": [
      "steer  fest\n",
      " INCOME  TAX  DEPARTMENT\n",
      " D  MANIKANDAN\n",
      " DURAISAMY\n",
      " 1986\n",
      " Pormanent  Account  Number\n",
      " BNZPM2501F\n",
      " Signature\n",
      "\n"
     ]
    }
   ],
   "source": [
    "again = re.findall('\\w{1,100}\\s',data)\n",
    "again2 = ' '.join(again)\n",
    "print(again2)"
   ]
  },
  {
   "cell_type": "code",
   "execution_count": 134,
   "metadata": {},
   "outputs": [
    {
     "name": "stdout",
     "output_type": "stream",
     "text": [
      "&\n",
      "steer fest\n",
      "INCOME TAX DEPARTMENT\n",
      "D MANIKANDAN\n",
      "DURAISAMY\n",
      "16/07/1986\n",
      "Pormanent Account Number\n",
      "BNZPM2501F\n",
      "Signature\n"
     ]
    }
   ],
   "source": [
    "text_list = data.split('\\n')\n",
    "text = [line for line in text_list if re.sub('[^a-zA-Z0-9/]+',' ',line.strip()) ]\n",
    "text = '\\n'.join(text)\n",
    "print(text)"
   ]
  },
  {
   "cell_type": "code",
   "execution_count": 135,
   "metadata": {},
   "outputs": [
    {
     "name": "stdout",
     "output_type": "stream",
     "text": [
      "{'Person Name': ['D MANIKANDAN'], 'Father Name': ['DURAISAMY'], 'PAN Number': ['BNZPM2501F'], 'Date of Birth': ['16/07/1986']}\n"
     ]
    }
   ],
   "source": [
    "import pandas as pd\n",
    "\n",
    "def get_pan_attributes(text):\n",
    "    new_text = text.split('\\n')\n",
    "    person_name = 'NA';father_name ='NA';PAN_number = 'NA';dob ='NA'\n",
    "    \n",
    "    for index,line in enumerate(new_text):\n",
    "        if re.findall('INCOME|TAX|DEPARTMENT',line): # or\n",
    "#             print(index,line)\n",
    "            person_name = new_text[index + 1]\n",
    "#             print('person_name',person_name)\n",
    "            father_name = new_text[index + 2]\n",
    "#             print('father_name',father_name)\n",
    "\n",
    "    PAN_number = re.findall('[A-Z]{5}[\\d]{4}[A-Z]{1}',text)\n",
    "    dob = re.findall('\\d{2}[/]\\d{2}[/]\\d{4}',text)\n",
    "    pan_attributes = {'Person Name':[person_name],'Father Name':[father_name],\n",
    "                     'PAN Number':PAN_number,'Date of Birth':dob}\n",
    "    \n",
    "    return pan_attributes\n",
    "\n",
    "pan_attributes = get_pan_attributes(text)\n",
    "print(pan_attributes)\n",
    "df = pd.DataFrame(pan_attributes)\n",
    "df.to_csv('pan.csv')"
   ]
  },
  {
   "cell_type": "code",
   "execution_count": null,
   "metadata": {},
   "outputs": [],
   "source": []
  },
  {
   "cell_type": "code",
   "execution_count": null,
   "metadata": {},
   "outputs": [],
   "source": []
  },
  {
   "cell_type": "code",
   "execution_count": null,
   "metadata": {},
   "outputs": [],
   "source": [
    "# pdftotext\n",
    "# pdfreader\n",
    "# pdfminer\n",
    "# tabula-py\n",
    "# camelot\n",
    "# fuzzywuzzy\n",
    "\n",
    "pdf >> image >> ocr (non readable pdf)\n",
    "pdf >> ocr (readable pdf)"
   ]
  },
  {
   "cell_type": "code",
   "execution_count": 2,
   "metadata": {},
   "outputs": [
    {
     "ename": "NameError",
     "evalue": "name 'data' is not defined",
     "output_type": "error",
     "traceback": [
      "\u001b[1;31m---------------------------------------------------------------------------\u001b[0m",
      "\u001b[1;31mNameError\u001b[0m                                 Traceback (most recent call last)",
      "\u001b[1;32m<ipython-input-2-d0c49c2cca19>\u001b[0m in \u001b[0;36m<module>\u001b[1;34m\u001b[0m\n\u001b[1;32m----> 1\u001b[1;33m \u001b[0moutput\u001b[0m \u001b[1;33m=\u001b[0m \u001b[0mre\u001b[0m\u001b[1;33m.\u001b[0m\u001b[0msub\u001b[0m\u001b[1;33m(\u001b[0m\u001b[1;34m\"[^A-Za-z0-9,._]\\n+\"\u001b[0m\u001b[1;33m,\u001b[0m\u001b[1;34m\"\\n\"\u001b[0m\u001b[1;33m,\u001b[0m\u001b[0mdata\u001b[0m\u001b[1;33m)\u001b[0m\u001b[1;33m\u001b[0m\u001b[1;33m\u001b[0m\u001b[0m\n\u001b[0m\u001b[0;32m      2\u001b[0m \u001b[0mprint\u001b[0m\u001b[1;33m(\u001b[0m\u001b[0moutput\u001b[0m\u001b[1;33m)\u001b[0m\u001b[1;33m\u001b[0m\u001b[1;33m\u001b[0m\u001b[0m\n",
      "\u001b[1;31mNameError\u001b[0m: name 'data' is not defined"
     ]
    }
   ],
   "source": [
    "output = re.sub(\"[^A-Za-z0-9,._]\\n+\",\"\\n\",data)\n",
    "print(output)"
   ]
  },
  {
   "cell_type": "code",
   "execution_count": 10,
   "metadata": {},
   "outputs": [
    {
     "data": {
      "text/plain": [
       "['pytho']"
      ]
     },
     "execution_count": 10,
     "metadata": {},
     "output_type": "execute_result"
    }
   ],
   "source": [
    "import re\n",
    "# . >> any char\n",
    "string = 'python'\n",
    "data = re.findall('py...',string)\n",
    "data"
   ]
  },
  {
   "cell_type": "code",
   "execution_count": 19,
   "metadata": {},
   "outputs": [
    {
     "data": {
      "text/plain": [
       "['pytttttt']"
      ]
     },
     "execution_count": 19,
     "metadata": {},
     "output_type": "execute_result"
    }
   ],
   "source": [
    "string = 'pytttttthon' # zero  or more\n",
    "data = re.findall('pyt*',string)\n",
    "data"
   ]
  },
  {
   "cell_type": "code",
   "execution_count": 21,
   "metadata": {},
   "outputs": [
    {
     "data": {
      "text/plain": [
       "['pyttttttt']"
      ]
     },
     "execution_count": 21,
     "metadata": {},
     "output_type": "execute_result"
    }
   ],
   "source": [
    "string = 'pyttttttthon'  # one or more\n",
    "data = re.findall('pyt+',string)\n",
    "data"
   ]
  },
  {
   "cell_type": "code",
   "execution_count": 41,
   "metadata": {},
   "outputs": [
    {
     "data": {
      "text/plain": [
       "['pyt']"
      ]
     },
     "execution_count": 41,
     "metadata": {},
     "output_type": "execute_result"
    }
   ],
   "source": [
    "string = 'pytttttthon'  # Exactly One char\n",
    "data = re.findall('pyt?',string)\n",
    "data"
   ]
  },
  {
   "cell_type": "code",
   "execution_count": 39,
   "metadata": {},
   "outputs": [
    {
     "data": {
      "text/plain": [
       "['ho']"
      ]
     },
     "execution_count": 39,
     "metadata": {},
     "output_type": "execute_result"
    }
   ],
   "source": [
    "import re\n",
    "string = 'python'  # Exactly One char for zero or one occurrence\n",
    "data = re.findall('pyhonn?',string)\n",
    "data "
   ]
  },
  {
   "cell_type": "code",
   "execution_count": 23,
   "metadata": {},
   "outputs": [
    {
     "data": {
      "text/plain": [
       "['p']"
      ]
     },
     "execution_count": 23,
     "metadata": {},
     "output_type": "execute_result"
    }
   ],
   "source": [
    "string = 'python class'\n",
    "data = re.findall('^p',string) # Start with\n",
    "data"
   ]
  },
  {
   "cell_type": "code",
   "execution_count": 33,
   "metadata": {},
   "outputs": [
    {
     "data": {
      "text/plain": [
       "['s']"
      ]
     },
     "execution_count": 33,
     "metadata": {},
     "output_type": "execute_result"
    }
   ],
   "source": [
    "string = 'python class'\n",
    "data = re.findall('s$',string) # ends with\n",
    "data"
   ]
  },
  {
   "cell_type": "code",
   "execution_count": 17,
   "metadata": {},
   "outputs": [
    {
     "data": {
      "text/plain": [
       "['python class']"
      ]
     },
     "execution_count": 17,
     "metadata": {},
     "output_type": "execute_result"
    }
   ],
   "source": [
    "import re\n",
    "string = 'python class'\n",
    "data = re.findall('^p.*',string)\n",
    "data"
   ]
  },
  {
   "cell_type": "code",
   "execution_count": 19,
   "metadata": {},
   "outputs": [
    {
     "data": {
      "text/plain": [
       "['python class']"
      ]
     },
     "execution_count": 19,
     "metadata": {},
     "output_type": "execute_result"
    }
   ],
   "source": [
    "string = 'python class pune'\n",
    "data = re.findall('^p.*s',string)\n",
    "data"
   ]
  },
  {
   "cell_type": "code",
   "execution_count": 40,
   "metadata": {},
   "outputs": [
    {
     "data": {
      "text/plain": [
       "['python', 'class', 'pune']"
      ]
     },
     "execution_count": 40,
     "metadata": {},
     "output_type": "execute_result"
    }
   ],
   "source": [
    "string = 'python class pune'\n",
    "text = re.findall('python|class|pune',string)\n",
    "text"
   ]
  },
  {
   "cell_type": "code",
   "execution_count": 45,
   "metadata": {},
   "outputs": [
    {
     "name": "stdout",
     "output_type": "stream",
     "text": [
      "['le', 'le', 'le']\n"
     ]
    }
   ],
   "source": [
    "string1=\"Tile Tilele\"\n",
    "data=re.findall('le?',string1)\n",
    "print(data)"
   ]
  },
  {
   "cell_type": "code",
   "execution_count": 44,
   "metadata": {},
   "outputs": [
    {
     "name": "stdout",
     "output_type": "stream",
     "text": [
      "['le', 'le', 'le']\n"
     ]
    }
   ],
   "source": [
    "string1=\"Tile Tilele\"\n",
    "data=re.findall('le*',string1)\n",
    "print(data)"
   ]
  }
 ],
 "metadata": {
  "kernelspec": {
   "display_name": "Python 3",
   "language": "python",
   "name": "python3"
  },
  "language_info": {
   "codemirror_mode": {
    "name": "ipython",
    "version": 3
   },
   "file_extension": ".py",
   "mimetype": "text/x-python",
   "name": "python",
   "nbconvert_exporter": "python",
   "pygments_lexer": "ipython3",
   "version": "3.8.5"
  },
  "toc": {
   "base_numbering": 1,
   "nav_menu": {},
   "number_sections": true,
   "sideBar": true,
   "skip_h1_title": false,
   "title_cell": "Table of Contents",
   "title_sidebar": "Contents",
   "toc_cell": false,
   "toc_position": {},
   "toc_section_display": true,
   "toc_window_display": false
  }
 },
 "nbformat": 4,
 "nbformat_minor": 5
}

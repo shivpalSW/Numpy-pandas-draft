{
 "cells": [
  {
   "cell_type": "markdown",
   "metadata": {},
   "source": [
    "# Web Scrapping"
   ]
  },
  {
   "cell_type": "code",
   "execution_count": 1,
   "metadata": {},
   "outputs": [],
   "source": [
    "# It is the process to extract meaningful data/content from websites\n",
    "\n",
    "# Regex\n",
    "# bs4"
   ]
  },
  {
   "cell_type": "raw",
   "metadata": {},
   "source": [
    "1. Websites with html pages (urllib)\n",
    "\n",
    "2. Web Scrapping Technology (Regex,bs4)\n",
    "\n",
    "3. CSV,Excel,MongoDB,MySQL"
   ]
  },
  {
   "cell_type": "code",
   "execution_count": 1,
   "metadata": {},
   "outputs": [],
   "source": [
    "from urllib.request import urlopen\n",
    "import re\n",
    "import pandas as pd\n",
    "url = 'https://www.summet.com/dmsi/html/codesamples/addresses.html'\n",
    "\n",
    "# data = urllib.request.urlopen(url)\n",
    "data = urlopen(url)\n"
   ]
  },
  {
   "cell_type": "code",
   "execution_count": 2,
   "metadata": {},
   "outputs": [],
   "source": [
    "html = data.read()\n",
    "html_str = html.decode()"
   ]
  },
  {
   "cell_type": "code",
   "execution_count": 14,
   "metadata": {},
   "outputs": [
    {
     "name": "stdout",
     "output_type": "stream",
     "text": [
      " \n",
      "  Sample Addresses!  \n",
      " \n",
      "  A page full of sample addresses for your parsing enjoyment! \n",
      "  (All data is random....) \n",
      " \n",
      " Cecilia Chapman 711-2880 Nulla St. Mankato Mississippi 96522 (257) 563-7401 \n",
      " Iris Watson P.O. Box 283 8562 Fusce Rd. Frederick Nebraska 20620 (372) 587-2335 \n",
      " Celeste Slater 606-3727 Ullamcorper. Street Roseville NH 11523 (786) 713-8616 \n",
      " Theodore Lowe Ap #867-859 Sit Rd. Azusa New York 39531 (793) 151-6230 \n",
      " Calista Wise 7292 Dictum Av. San Antonio MI 47096 (492) 709-6392 \n",
      " Kyla Olsen Ap #651-8679 Sodales Av. Tamuning PA 10855 (654) 393-5734 \n",
      " Forrest Ray 191-103 Integer Rd. Corona New Mexico 08219 (404) 960-3807 \n",
      " Hiroko Potter P.O. Box 887 2508 Dolor. Av. Muskegon KY 12482 (314) 244-6306 \n",
      " Nyssa Vazquez 511-5762 At Rd. Chelsea MI 67708 (947) 278-5929 \n",
      " Lawrence Moreno 935-9940 Tortor. Street Santa Rosa MN 98804 (684) 579-1879 \n",
      " Ina Moran P.O. Box 929 4189 Nunc Road Lebanon KY 69409 (389) 737-2852 \n",
      " Aaron Hawkins 5587 Nunc. Avenue Erie Rhode Island 24975 (660) 663-4518 \n",
      " Hedy Greene Ap #696-3279 Viverra. Avenue Latrobe DE 38100 (608) 265-2215 \n",
      " Melvin Porter P.O. Box 132 1599 Curabitur Rd. Bandera South Dakota 45149 (959) 119-8364 \n",
      " Keefe Sellers 347-7666 Iaculis St. Woodruff SC 49854 (468) 353-2641 \n",
      " Joan Romero 666-4366 Lacinia Avenue Idaho Falls Ohio 19253 (248) 675-4007 \n",
      " Davis Patrick P.O. Box 147 2546 Sociosqu Rd. Bethlehem Utah 02913 (939) 353-1107 \n",
      " Leilani Boyer 557-6308 Lacinia Road San Bernardino ND 09289 (570) 873-7090 \n",
      " Colby Bernard Ap #285-7193 Ullamcorper Avenue Amesbury HI 93373 (302) 259-2375 \n",
      " Bryar Pitts 5543 Aliquet St. Fort Dodge GA 20783 (717) 450-4729 \n",
      " Rahim Henderson 5037 Diam Rd. Daly City Ohio 90255 (453) 391-4650 \n",
      " Noelle Adams 6351 Fringilla Avenue Gardena Colorado 37547 (559) 104-5475 \n",
      " Lillith Daniel 935-1670 Neque. St. Centennial Delaware 48432 (387) 142-9434 \n",
      " Adria Russell 414-7533 Non Rd. Miami Beach North Dakota 58563 (516) 745-4496 \n",
      " Hilda Haynes 778-9383 Suspendisse Av. Weirton IN 93479 (326) 677-3419 \n",
      " Sheila Mcintosh P.O. Box 360 4407 Et Rd. Santa Monica FL 30309 (746) 679-2470 \n",
      " Rebecca Chambers P.O. Box 813 5982 Sit Ave Liberal Vermont 51324 (455) 430-0989 \n",
      " Christian Emerson P.O. Box 886 4118 Arcu St. Rolling Hills Georgia 92358 (490) 936-4694 \n",
      " Nevada Ware P.O. Box 597 4156 Tincidunt Ave Green Bay Indiana 19759 (985) 834-8285 \n",
      " Margaret Joseph P.O. Box 508 3919 Gravida St. Tamuning Washington 55797 (662) 661-1446 \n",
      " Edward Nieves 928-3313 Vel Av. Idaho Falls Rhode Island 37232 (802) 668-8240 \n",
      " Imani Talley P.O. Box 262 4978 Sit St. Yigo Massachusetts 50654 (477) 768-9247 \n",
      " Bertha Riggs P.O. Box 206 6639 In St. Easthampton TN 31626 (791) 239-9057 \n",
      " Wallace Ross 313 Pellentesque Ave Villa Park Hawaii 43526 (832) 109-0213 \n",
      " Chester Bennett 3476 Aliquet. Ave Minot AZ 95302 (837) 196-3274 \n",
      " Castor Richardson P.O. Box 902 3472 Ullamcorper Street Lynchburg DC 29738 (268) 442-2428 \n",
      " Sonya Jordan Ap #443-336 Ullamcorper. Street Visalia VA 54886 (850) 676-5117 \n",
      " Harrison Mcguire 574-8633 Arcu Street San Fernando ID 77373 (861) 546-5032 \n",
      " Malcolm Long 9291 Proin Road Lake Charles Maine 11292 (176) 805-4108 \n",
      " Raymond Levy Ap #643-7006 Risus St. Beaumont New Mexico 73585 (715) 912-6931 \n",
      " Hedley Ingram 737-2580 At Street Independence Texas 87535 (993) 554-0563 \n",
      " David Mathews 1011 Malesuada Road Moscow Kentucky 77382 (357) 616-5411 \n",
      " Xyla Cash 969-1762 Tincidunt Rd. Boise CT 35282 (121) 347-0086 \n",
      " Madeline Gregory 977-4841 Ut Ave Walla Walla Michigan 82776 (304) 506-6314 \n",
      " Griffith Daniels 6818 Eget St. Tacoma AL 92508 (425) 288-2332 \n",
      " Anne Beasley 987-4223 Urna St. Savannah Illinois 85794 (145) 987-4962 \n",
      " Chaney Bennett P.O. Box 721 902 Dolor Rd. Fremont AK 19408 (187) 582-9707 \n",
      " Daniel Bernard P.O. Box 567 1561 Duis Rd. Pomona TN 08609 (750) 558-3965 \n",
      " Willow Hunt Ap #784-1887 Lobortis Ave Cudahy Ohio 31522 (492) 467-3131 \n",
      " Judith Floyd 361-7936 Feugiat St. Williston Nevada 58521 (774) 914-2510 \n",
      " Seth Farley 6216 Aenean Avenue Seattle Utah 81202 (888) 106-8550 \n",
      " Zephania Sanders 3714 Nascetur St. Hawthorne Louisiana 10626 (539) 567-3573 \n",
      " Calista Merritt Ap #938-5470 Posuere Ave Chickasha LA 58520 (693) 337-2849 \n",
      " Craig Williams P.O. Box 372 5634 Montes Rd. Springdale MO 57692 (545) 604-9386 \n",
      " Lee Preston 981 Eget Rd. Clemson GA 04645 (221) 156-5026 \n",
      " Katelyn Cooper 6059 Sollicitudin Road Burlingame Colorado 26278 (414) 876-0865 \n",
      " Lacy Eaton 1379 Nulla. Av. Asbury Park Montana 69679 (932) 726-8645 \n",
      " Driscoll Leach P.O. Box 120 2410 Odio Avenue Pass Christian Delaware 03869 (726) 710-9826 \n",
      " Merritt Watson P.O. Box 686 7014 Amet Street Corona Oklahoma 55246 (622) 594-1662 \n",
      " Nehru Holmes P.O. Box 547 4764 Sed Road Grand Rapids CT 87323 (948) 600-8503 \n",
      " Quamar Rivera 427-5827 Ac St. Schaumburg Arkansas 84872 (605) 900-7508 \n",
      " Hiram Mullins 754-6427 Nunc Ave Kennewick AL 41329 (716) 977-5775 \n",
      " Kim Fletcher Ap #345-3847 Metus Road Independence CO 30135 (368) 239-8275 \n",
      " Rigel Koch P.O. Box 558 9561 Lacus. Road Laughlin Hawaii 99602 (725) 342-0650 \n",
      " Jeanette Sharpe Ap #364-2006 Ipsum Avenue Wilmington Ohio 91750 (711) 993-5187 \n",
      " Dahlia Lee 1293 Tincidunt Street Atwater Pennsylvania 76865 (882) 399-5084 \n",
      " Howard Hayden P.O. Box 847 8019 Facilisis Street Joliet SC 73490 (287) 755-9948 \n",
      " Hyatt Kramer 1011 Massa Av. Kent ID 63725 (659) 551-3389 \n",
      " Sonya Ray Ap #315-8441 Eleifend Street Fairbanks RI 96892 (275) 730-6868 \n",
      " Cara Whitehead 4005 Praesent St. Torrance Wyoming 22767 (725) 757-4047 \n",
      " Blythe Carroll 7709 Justo. Ave Princeton TX 77987 (314) 882-1496 \n",
      " Dale Griffin P.O. Box 854 8580 In Ave Revere South Dakota 43841 (639) 360-7590 \n",
      " McKenzie Hernandez Ap #367-674 Mi Street Greensboro VT 40684 (168) 222-1592 \n",
      " Haviva Holcomb P.O. Box 642 3450 In Road Isle of Palms New York 03828 (896) 303-1164 \n",
      " Ezra Duffy Ap #782-7348 Dis Rd. Austin KY 50710 (203) 982-6130 \n",
      " Eleanor Jennings 9631 Semper Ave Astoria NJ 66309 (906) 217-1470 \n",
      " Remedios Hester 487-5787 Mollis St. City of Industry Louisiana 67973 (614) 514-1269 \n",
      " Jasper Carney 1195 Lobortis Rd. New Orleans New Hampshire 71983 (763) 409-5446 \n",
      " Vielka Nielsen Ap #517-7326 Elementum Rd. Fort Smith North Dakota 79637 (836) 292-5324 \n",
      " Wilma Pace Ap #676-6532 Odio Rd. Darlington CO 06963 (926) 709-3295 \n",
      " Palmer Gay 557-2026 Purus St. Watertown TN 07367 (963) 356-9268 \n",
      " Lyle Sutton Ap #250-9843 Elementum St. South Gate Missouri 68999 (736) 522-8584 \n",
      " Ina Burt Ap #130-1685 Ut Street Tyler KS 73510 (410) 483-0352 \n",
      " Cleo Best 282-8351 Tincidunt Ave Sedalia Utah 53700 (252) 204-1434 \n",
      " Hu Park 1429 Netus Rd. Reedsport NY 48247 (874) 886-4174 \n",
      " Liberty Walton 343-6527 Purus. Avenue Logan NV 12657 (581) 379-7573 \n",
      " Aaron Trujillo Ap #146-3132 Cras Rd. Kingsport NH 56618 (983) 632-8597 \n",
      " Elmo Lopez Ap #481-7473 Cum Rd. Yorba Linda South Carolina 28423 (295) 983-3476 \n",
      " Emerson Espinoza Ap #247-5577 Tincidunt St. Corpus Christi WI 97020 (873) 392-8802 \n",
      " Daniel Malone 2136 Adipiscing Av. Lima RI 93490 (360) 669-3923 \n",
      " Dante Bennett 481-8762 Nulla Street Dearborn OR 62401 (840) 987-9449 \n",
      " Sade Higgins Ap #287-3260 Ut St. Wilmington OR 05182 (422) 517-6053 \n",
      " Zorita Anderson 1964 Facilisis Avenue Bell Gardens Texas 87065 (126) 940-2753 \n",
      " Jordan Calderon 430-985 Eleifend St. Duluth Washington 92611 (427) 930-5255 \n",
      " Ivor Delgado Ap #310-1678 Ut Av. Santa Barbara MT 88317 (689) 721-5145 \n",
      " Pascale Patton P.O. Box 399 4275 Amet Street West Allis NC 36734 (676) 334-2174 \n",
      " Nasim Strong Ap #630-3889 Nulla. Street Watervliet Oklahoma 70863 (437) 994-5270 \n",
      " Keaton Underwood Ap #636-8082 Arcu Avenue Thiensville Maryland 19587 (564) 908-6970 \n",
      " Keegan Blair Ap #761-2515 Egestas. Rd. Manitowoc TN 07528 (577) 333-6244 \n",
      " Tamara Howe 3415 Lobortis. Avenue Rocky Mount WA 48580 (655) 840-6139 \n",
      "     \n"
     ]
    }
   ],
   "source": [
    "text = re.sub('<.*?>',' ',html_str)  # Non Greedy Repetition\n",
    "print(text)"
   ]
  },
  {
   "cell_type": "code",
   "execution_count": 22,
   "metadata": {},
   "outputs": [
    {
     "name": "stdout",
     "output_type": "stream",
     "text": [
      "{'Mobile Number': ['(257) 563-7401', '(372) 587-2335', '(786) 713-8616', '(793) 151-6230', '(492) 709-6392', '(654) 393-5734', '(404) 960-3807', '(314) 244-6306', '(947) 278-5929', '(684) 579-1879', '(389) 737-2852', '(660) 663-4518', '(608) 265-2215', '(959) 119-8364', '(468) 353-2641', '(248) 675-4007', '(939) 353-1107', '(570) 873-7090', '(302) 259-2375', '(717) 450-4729', '(453) 391-4650', '(559) 104-5475', '(387) 142-9434', '(516) 745-4496', '(326) 677-3419', '(746) 679-2470', '(455) 430-0989', '(490) 936-4694', '(985) 834-8285', '(662) 661-1446', '(802) 668-8240', '(477) 768-9247', '(791) 239-9057', '(832) 109-0213', '(837) 196-3274', '(268) 442-2428', '(850) 676-5117', '(861) 546-5032', '(176) 805-4108', '(715) 912-6931', '(993) 554-0563', '(357) 616-5411', '(121) 347-0086', '(304) 506-6314', '(425) 288-2332', '(145) 987-4962', '(187) 582-9707', '(750) 558-3965', '(492) 467-3131', '(774) 914-2510', '(888) 106-8550', '(539) 567-3573', '(693) 337-2849', '(545) 604-9386', '(221) 156-5026', '(414) 876-0865', '(932) 726-8645', '(726) 710-9826', '(622) 594-1662', '(948) 600-8503', '(605) 900-7508', '(716) 977-5775', '(368) 239-8275', '(725) 342-0650', '(711) 993-5187', '(882) 399-5084', '(287) 755-9948', '(659) 551-3389', '(275) 730-6868', '(725) 757-4047', '(314) 882-1496', '(639) 360-7590', '(168) 222-1592', '(896) 303-1164', '(203) 982-6130', '(906) 217-1470', '(614) 514-1269', '(763) 409-5446', '(836) 292-5324', '(926) 709-3295', '(963) 356-9268', '(736) 522-8584', '(410) 483-0352', '(252) 204-1434', '(874) 886-4174', '(581) 379-7573', '(983) 632-8597', '(295) 983-3476', '(873) 392-8802', '(360) 669-3923', '(840) 987-9449', '(422) 517-6053', '(126) 940-2753', '(427) 930-5255', '(689) 721-5145', '(676) 334-2174', '(437) 994-5270', '(564) 908-6970', '(577) 333-6244', '(655) 840-6139'], 'Pincode': ['96522', '20620', '11523', '39531', '47096', '10855', '08219', '12482', '67708', '98804', '69409', '24975', '38100', '45149', '49854', '19253', '02913', '09289', '93373', '20783', '90255', '37547', '48432', '58563', '93479', '30309', '51324', '92358', '19759', '55797', '37232', '50654', '31626', '43526', '95302', '29738', '54886', '77373', '11292', '73585', '87535', '77382', '35282', '82776', '92508', '85794', '19408', '08609', '31522', '58521', '81202', '10626', '58520', '57692', '04645', '26278', '69679', '03869', '55246', '87323', '84872', '41329', '30135', '99602', '91750', '76865', '73490', '63725', '96892', '22767', '77987', '43841', '40684', '03828', '50710', '66309', '67973', '71983', '79637', '06963', '07367', '68999', '73510', '53700', '48247', '12657', '56618', '28423', '97020', '93490', '62401', '05182', '87065', '92611', '88317', '36734', '70863', '19587', '07528', '48580']}\n"
     ]
    }
   ],
   "source": [
    "# (372) 587-2335 Mobile Number\n",
    "# 96522  Pincode \n",
    "mob_num = re.findall('\\(\\d{3}\\)\\s\\d{3}-\\d{4}',text)\n",
    "pincode = re.findall(r'\\b\\d{5}\\b',text)\n",
    "\n",
    "final_data = {'Mobile Number':mob_num,'Pincode':pincode}\n",
    "print(final_data)\n",
    "\n",
    "# df = pd.DataFrame(final_data)\n",
    "# df.to_csv('data.csv')\n",
    "# df.to_excel('data.xlsx')\n",
    "# df"
   ]
  }
 ],
 "metadata": {
  "kernelspec": {
   "display_name": "Python 3",
   "language": "python",
   "name": "python3"
  },
  "language_info": {
   "codemirror_mode": {
    "name": "ipython",
    "version": 3
   },
   "file_extension": ".py",
   "mimetype": "text/x-python",
   "name": "python",
   "nbconvert_exporter": "python",
   "pygments_lexer": "ipython3",
   "version": "3.8.5"
  },
  "toc": {
   "base_numbering": 1,
   "nav_menu": {},
   "number_sections": true,
   "sideBar": true,
   "skip_h1_title": false,
   "title_cell": "Table of Contents",
   "title_sidebar": "Contents",
   "toc_cell": false,
   "toc_position": {},
   "toc_section_display": true,
   "toc_window_display": false
  }
 },
 "nbformat": 4,
 "nbformat_minor": 5
}

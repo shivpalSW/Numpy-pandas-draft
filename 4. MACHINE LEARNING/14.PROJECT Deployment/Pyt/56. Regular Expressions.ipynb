{
 "cells": [
  {
   "cell_type": "markdown",
   "metadata": {},
   "source": [
    "# Regular Expressions"
   ]
  },
  {
   "cell_type": "raw",
   "metadata": {},
   "source": [
    "RegEx\n",
    "Natural Language Processiong\n",
    "Text Processing\n",
    "Web Scrapping\n",
    "Data Cleansing"
   ]
  },
  {
   "cell_type": "code",
   "execution_count": null,
   "metadata": {},
   "outputs": [],
   "source": [
    "Regex: Sequence of characters that form seach pattern"
   ]
  },
  {
   "cell_type": "code",
   "execution_count": null,
   "metadata": {},
   "outputs": [],
   "source": [
    "'19 Feb 2021' >> 2021-03-19\n",
    "\n",
    "Attributes Names:\n",
    "    Name \n",
    "    IFSC (A-Z,0-9)\n",
    "    PAN\n",
    "    Account Number\n",
    "    Mail id (0-9, a-z, @ ,. _,$#&%)\n",
    "    Phone Number\n",
    "    Account opening date ()"
   ]
  },
  {
   "cell_type": "raw",
   "metadata": {},
   "source": [
    "OCR:\n",
    "Google Vision\n",
    "Amazon Textract\n",
    "\n",
    "Pytesseract: Image Processing\n",
    "    Noise Remove\n",
    "    Skew Correction"
   ]
  },
  {
   "cell_type": "raw",
   "metadata": {},
   "source": [
    "import re\n",
    "\n",
    "1. findall\n",
    "2. search\n",
    "3. match\n",
    "4. sub\n",
    "5. split"
   ]
  },
  {
   "cell_type": "markdown",
   "metadata": {},
   "source": [
    "# Findall()"
   ]
  },
  {
   "cell_type": "code",
   "execution_count": 3,
   "metadata": {},
   "outputs": [
    {
     "data": {
      "text/plain": [
       "['9404283030', '1234567823', '9403456789']"
      ]
     },
     "execution_count": 3,
     "metadata": {},
     "output_type": "execute_result"
    }
   ],
   "source": [
    "# Returns a list\n",
    "import re \n",
    "\n",
    "text = \"\"\"My name is Rahul Kendre, My Mobile number is 9404283030 ,\n",
    "        12345678234567\n",
    "        9403456789 mail id is  rdkendre@gmail.com\"\"\"\n",
    "\n",
    "mob_num = re.findall('[0-9]{10}',text)\n",
    "\n",
    "mob_num\n"
   ]
  },
  {
   "cell_type": "code",
   "execution_count": 17,
   "metadata": {},
   "outputs": [
    {
     "data": {
      "text/plain": [
       "['23/03/2022', '03/03/2021']"
      ]
     },
     "execution_count": 17,
     "metadata": {},
     "output_type": "execute_result"
    }
   ],
   "source": [
    "import re\n",
    "text = \"\"\"  My name is Rahul Kendre, My Mobile number is 9404283030 ,\n",
    "        9403456789 mail id is  rdkendre@gmail.coml,\n",
    "        date of birth is 03/03/2021 \"\"\"\n",
    "\n",
    "date = re.findall('[0-9]{2,20}[/][0-9]{2}[/][0-9]{4}',text)\n",
    "\n",
    "date"
   ]
  },
  {
   "cell_type": "code",
   "execution_count": 19,
   "metadata": {},
   "outputs": [
    {
     "data": {
      "text/plain": [
       "['17/04/1992', '03/03/2021']"
      ]
     },
     "execution_count": 19,
     "metadata": {},
     "output_type": "execute_result"
    }
   ],
   "source": [
    "text1 = \"\"\" 17/04/1992 My name is Sushil Sagane, My mobile number is 9405419612,         \n",
    "        8858923528 My email id is sushilsagane@gmail.com,\n",
    "        today's date is 03/03/2021 \"\"\"\n",
    "date = re.findall('[0-9]{10}[/][0-9]{2}[/][0-9]{4}',text1)\n",
    "date"
   ]
  },
  {
   "cell_type": "code",
   "execution_count": 25,
   "metadata": {},
   "outputs": [
    {
     "data": {
      "text/plain": [
       "['dhanashri_inamdar0301@gmail.com']"
      ]
     },
     "execution_count": 25,
     "metadata": {},
     "output_type": "execute_result"
    }
   ],
   "source": [
    "import re\n",
    "text='My name is DPJ. My email id is dhanashri_inamdar0301@gmail.com . Contact number is 9975545842'\n",
    "mailid=re.findall('[A-Za-z0-9._]{2,30}@[a-z]{2,20}[.][a-z]{2,3}',text) \n",
    "mailid"
   ]
  },
  {
   "cell_type": "code",
   "execution_count": 24,
   "metadata": {},
   "outputs": [
    {
     "data": {
      "text/plain": [
       "['tajave7@edu.co']"
      ]
     },
     "execution_count": 24,
     "metadata": {},
     "output_type": "execute_result"
    }
   ],
   "source": [
    "import re\n",
    "text='My name is Shamal, my mobile number is 8308450636, my email id is shamal_tajave7@edu.co.in, birth date is 09/02/1994'\n",
    "email_id=re.findall('[a-z]{2,20}[0-9]{0,5}[@][a-z]{0,6}[.][a-z]{0,3}',text)\n",
    "email_id\n"
   ]
  },
  {
   "cell_type": "code",
   "execution_count": 26,
   "metadata": {},
   "outputs": [],
   "source": [
    "email_id = \"\"\"\n",
    "rahulkendre@gmail.com\n",
    "rahul.kendre@gmail.com\n",
    "rahulkendre123@gmail.com\n",
    "rahul.kendre@edu.co.in\n",
    "\"\"\""
   ]
  },
  {
   "cell_type": "code",
   "execution_count": 3,
   "metadata": {},
   "outputs": [
    {
     "name": "stdout",
     "output_type": "stream",
     "text": [
      "['chetan_bangale_76.cb@gmail.co.in']\n"
     ]
    }
   ],
   "source": [
    "import re\n",
    "text='My name is Chetan Bangale, My mobile number is 9970881215, mail id is chetan_bangale_76.cb@gmail.co.in'\n",
    "mail_id=re.findall('[A-Za-z0-9._]{2,20}@[A-Za-z0-9._]{2,20}',text)\n",
    "print(mail_id)"
   ]
  },
  {
   "cell_type": "code",
   "execution_count": 36,
   "metadata": {},
   "outputs": [
    {
     "name": "stdout",
     "output_type": "stream",
     "text": [
      "['pratik.kanpurwar@gmail.com']\n"
     ]
    }
   ],
   "source": [
    "import re\n",
    "data=\"Hi, my mail id is- pratik.kanpurwar@gmail.com\"\n",
    "mail_id=re.findall('[a-zA-Z0-9._]{2,20}@gmail.com',data)\n",
    "print(mail_id)"
   ]
  },
  {
   "cell_type": "code",
   "execution_count": 40,
   "metadata": {},
   "outputs": [
    {
     "data": {
      "text/plain": [
       "['debolina@gmail.com',\n",
       " 'debolina.dey@gmail.com',\n",
       " 'debolina123@gmail.com',\n",
       " 'debolina.dey@edu.in',\n",
       " 'debolina.dey@edu.co',\n",
       " 'debolina12@edu.co']"
      ]
     },
     "execution_count": 40,
     "metadata": {},
     "output_type": "execute_result"
    }
   ],
   "source": [
    "email_id='''\n",
    "debolina@gmail.com,\n",
    "debolina.dey@gmail.com,\n",
    "debolina123@gmail.com,\n",
    "debolina.dey@edu.in,\n",
    "debolina.dey@edu.co.in\n",
    "debolina12@edu.co.in\n",
    "'''\n",
    "mail=re.findall('[a-za-z0-9._]{2,30}[@][a-z]{2,20}[.][a-z]{2,10}',email_id)\n",
    "mail"
   ]
  },
  {
   "cell_type": "code",
   "execution_count": 177,
   "metadata": {},
   "outputs": [],
   "source": [
    "import re\n",
    "text = \"\"\"  My name is Rahul Kendre, My Mobile number is 9404283030 ,\n",
    "        9403456789bc mail id is  rdkendre@gmail.coml,\n",
    "        date of birth is 03/03/2021 \"\"\"\n"
   ]
  },
  {
   "cell_type": "markdown",
   "metadata": {},
   "source": [
    "# Special Sequences"
   ]
  },
  {
   "cell_type": "code",
   "execution_count": 56,
   "metadata": {},
   "outputs": [
    {
     "name": "stdout",
     "output_type": "stream",
     "text": [
      "['94042', '83030', '94034', '56789']\n"
     ]
    },
    {
     "data": {
      "text/plain": [
       "['94042', '83030', '94034', '56789']"
      ]
     },
     "execution_count": 56,
     "metadata": {},
     "output_type": "execute_result"
    }
   ],
   "source": [
    "# 1. \\d >>  [0-9] # Digits\n",
    "\n",
    "mob_num = re.findall('[0-9]{5}',text)\n",
    "mob_num1 = re.findall('\\d{5}',text)\n",
    "\n",
    "print(mob_num)\n",
    "mob_num1"
   ]
  },
  {
   "cell_type": "code",
   "execution_count": 75,
   "metadata": {},
   "outputs": [
    {
     "name": "stdout",
     "output_type": "stream",
     "text": [
      "['My na', 'me is', ' Rahu', 'l Ken', 'dre, ', 'My Mo', 'bile ', ' numb', 'er is', ' ,\\n  ', '     ', 'bc ma', 'il id', ' is  ', 'rdken', 'dre@g', 'mail.', 'com,\\n', '     ', '   da', 'te of', ' birt', 'h is ']\n"
     ]
    }
   ],
   "source": [
    "# 2. \\D  >> [^0-9]  # Other than digits\n",
    "\n",
    "text = \"\"\"My name is Rahul Kendre, My Mobile 1 number is 9404283030 ,\n",
    "        9403456789bc mail id is  rdkendre@gmail.com,\n",
    "        date of birth is 03/03/2021 \"\"\"\n",
    "other_than_digits = re.findall('\\D{5}',text)\n",
    "print(other_than_digits)"
   ]
  },
  {
   "cell_type": "code",
   "execution_count": 39,
   "metadata": {},
   "outputs": [
    {
     "name": "stdout",
     "output_type": "stream",
     "text": [
      "['\\n  ', '   ', '   ', '   ', '\\n  ', '   ', '   ', '\\n  ', '   ', '   ']\n"
     ]
    }
   ],
   "source": [
    "# 3. \\s >> String contain a white space\n",
    "\n",
    "space = re.findall('\\s{3}',text)\n",
    "print(space)"
   ]
  },
  {
   "cell_type": "code",
   "execution_count": 78,
   "metadata": {},
   "outputs": [
    {
     "name": "stdout",
     "output_type": "stream",
     "text": [
      "['nam', 'Rah', 'Ken', 'dre', 'Mob', 'ile', 'num', 'ber', '940', '428', '303', '940', '345', '678', '9bc', 'mai', 'rdk', 'end', 're@', 'gma', 'il.', 'com', 'dat', 'bir', '03/', '03/', '202']\n"
     ]
    }
   ],
   "source": [
    "# 4. \\S >> String contain other than white space\n",
    "\n",
    "space = re.findall('\\S{3}',text)\n",
    "print(space)"
   ]
  },
  {
   "cell_type": "code",
   "execution_count": 85,
   "metadata": {},
   "outputs": [
    {
     "name": "stdout",
     "output_type": "stream",
     "text": [
      "['Rahul', 'Kendr', 'Mobil', 'numbe', '94042', '83030', '94034', '56789', 'rdken', 'gmail', 'birth']\n"
     ]
    }
   ],
   "source": [
    "# 5. \\w >> [a-zA-Z0-9]  \n",
    "\n",
    "text = \"\"\"My name is Rahul Kendre, My Mobile number is 9404283030 ,\n",
    "        9403456789 mail id is  rdkendre@gmail.com,\n",
    "        date of birth is 03/03/2021 \"\"\"\n",
    "words = re.findall('\\w{5}',text)\n",
    "print(words)"
   ]
  },
  {
   "cell_type": "code",
   "execution_count": 88,
   "metadata": {},
   "outputs": [
    {
     "name": "stdout",
     "output_type": "stream",
     "text": [
      "[' ', ' ', ' ', ' ', '$', ' ', ',', ' ', ' ', ' ', ' ', ' ', ' ', ',', '\\n', ' ', ' ', ' ', ' ', ' ', ' ', ' ', ' ', ' ', ' ', ' ', ' ', ' ', '@', '.', ',', '\\n', ' ', ' ', ' ', ' ', ' ', ' ', ' ', ' ', ' ', ' ', ' ', ' ', '/', '/', ' ']\n"
     ]
    }
   ],
   "source": [
    "# 5. \\W >> [^a-zA-Z0-9] \n",
    "\n",
    "text = \"\"\"My name is Rahul $ Kendre, MyMobile number is 9404283030 ,\n",
    "        9403456789 mail id is  rdkendre@gmail.com,\n",
    "        date of birth is 03/03/2021 \"\"\"\n",
    "words = re.findall('\\W',text)\n",
    "print(words)"
   ]
  },
  {
   "cell_type": "code",
   "execution_count": 4,
   "metadata": {},
   "outputs": [
    {
     "name": "stdout",
     "output_type": "stream",
     "text": [
      "['Mobile']\n"
     ]
    }
   ],
   "source": [
    "# 6. \\b # Check char at beginning or word and end of word\n",
    "\n",
    "\n",
    "text = \"\"\"My name is Rahul Kendre, My Mobilenumber is 9404283030 ,\n",
    "        9403456789 mail id is  rdkendre@gmail.com,\n",
    "        date of birth is 03/03/2021 \"\"\"\n",
    "\n",
    "words = re.findall(r'\\bMobile',text)\n",
    "\n",
    "print(words)"
   ]
  },
  {
   "cell_type": "code",
   "execution_count": 25,
   "metadata": {},
   "outputs": [
    {
     "name": "stdout",
     "output_type": "stream",
     "text": [
      "['Mobilenumbe', 'mail', 'mail.com']\n"
     ]
    }
   ],
   "source": [
    "# 6. \\b # Check char at beginning or word and end of word\n",
    "#INGNORCASE OR I\n",
    "import re\n",
    "text = \"\"\"My name is Rahul Kendre, My Mobilenumber is 9404283030 ,\n",
    "        9403456789 mail id is  rdkendre@gmail.com,\n",
    "        date of birth is 03/03/2021 \"\"\"\n",
    "\n",
    "words = re.findall(r'M[.a-z]{2,10}',text,re.I)\n",
    "print(words)"
   ]
  },
  {
   "cell_type": "code",
   "execution_count": 132,
   "metadata": {},
   "outputs": [
    {
     "name": "stdout",
     "output_type": "stream",
     "text": [
      "['9404283030', '9403456789']\n"
     ]
    }
   ],
   "source": [
    "text = \"\"\"My name is Rahul Kendre, My Mobilenumber is 9404283030 ,\n",
    "        account number is 234567890234567,\n",
    "        9403456789 mail id is  rdkendre@gmail.com,\n",
    "        date of birth is 03/03/2021 \"\"\"\n",
    "\n",
    "words = re.findall(r'\\b\\d{10}\\b',text)\n",
    "print(words)"
   ]
  },
  {
   "cell_type": "code",
   "execution_count": 145,
   "metadata": {},
   "outputs": [
    {
     "name": "stdout",
     "output_type": "stream",
     "text": [
      "['Mobilenumber']\n"
     ]
    }
   ],
   "source": [
    "text = \"\"\"My name is Rahul Kendre, My Mobilenumber is 9404283030 ,\n",
    "        account number is 234567890234567,\n",
    "        9403456789 mail id is  rdkendre@gmail.com,\n",
    "        date of birth is 03/03/2021 \"\"\"\n",
    "\n",
    "words = re.findall(r'\\bM[a-z]{3,20}',text)\n",
    "print(words)"
   ]
  },
  {
   "cell_type": "markdown",
   "metadata": {},
   "source": [
    "# 2. Search"
   ]
  },
  {
   "cell_type": "code",
   "execution_count": 146,
   "metadata": {},
   "outputs": [
    {
     "name": "stdout",
     "output_type": "stream",
     "text": [
      "<re.Match object; span=(44, 54), match='9404283030'>\n"
     ]
    }
   ],
   "source": [
    "# Returns only first occurrence\n",
    "# If no matches returns None\n",
    "text = \"\"\"My name is Rahul Kendre, My Mobilenumber is 9404283030 ,\n",
    "        account number is 234567890234567,\n",
    "        9403456789 mail id is  rdkendre@gmail.com,\n",
    "        date of birth is 03/03/2021 \"\"\"\n",
    "\n",
    "mob = re.search('\\d{10}',text)\n",
    "print(mob)"
   ]
  },
  {
   "cell_type": "code",
   "execution_count": 147,
   "metadata": {},
   "outputs": [
    {
     "data": {
      "text/plain": [
       "(44, 54)"
      ]
     },
     "execution_count": 147,
     "metadata": {},
     "output_type": "execute_result"
    }
   ],
   "source": [
    "mob.span()"
   ]
  },
  {
   "cell_type": "code",
   "execution_count": 148,
   "metadata": {},
   "outputs": [
    {
     "data": {
      "text/plain": [
       "44"
      ]
     },
     "execution_count": 148,
     "metadata": {},
     "output_type": "execute_result"
    }
   ],
   "source": [
    "mob.start()"
   ]
  },
  {
   "cell_type": "code",
   "execution_count": 149,
   "metadata": {},
   "outputs": [
    {
     "data": {
      "text/plain": [
       "54"
      ]
     },
     "execution_count": 149,
     "metadata": {},
     "output_type": "execute_result"
    }
   ],
   "source": [
    "mob.end()"
   ]
  },
  {
   "cell_type": "code",
   "execution_count": 150,
   "metadata": {},
   "outputs": [
    {
     "data": {
      "text/plain": [
       "'9404283030'"
      ]
     },
     "execution_count": 150,
     "metadata": {},
     "output_type": "execute_result"
    }
   ],
   "source": [
    "mob.group()"
   ]
  },
  {
   "cell_type": "code",
   "execution_count": 176,
   "metadata": {},
   "outputs": [
    {
     "name": "stdout",
     "output_type": "stream",
     "text": [
      "None\n"
     ]
    }
   ],
   "source": [
    "text = \"\"\"My name is Rahul Kendre, My Mobilenumber is 9404283030 ,\n",
    "        account number is 234567890234567,\n",
    "        9403456789 mail id is  rdkendre@gmail.com,\n",
    "        date of birth is 03/03/2021 \"\"\"\n",
    "\n",
    "mob = re.search('accont',text)\n",
    "print(mob)\n",
    "if mob:\n",
    "    mob.group()"
   ]
  },
  {
   "cell_type": "markdown",
   "metadata": {},
   "source": [
    "# Match():"
   ]
  },
  {
   "cell_type": "code",
   "execution_count": null,
   "metadata": {},
   "outputs": [],
   "source": [
    "# Check for first position/index"
   ]
  },
  {
   "cell_type": "code",
   "execution_count": 173,
   "metadata": {},
   "outputs": [
    {
     "name": "stdout",
     "output_type": "stream",
     "text": [
      "<re.Match object; span=(0, 2), match='My'>\n"
     ]
    },
    {
     "data": {
      "text/plain": [
       "'My'"
      ]
     },
     "execution_count": 173,
     "metadata": {},
     "output_type": "execute_result"
    }
   ],
   "source": [
    "text = \"\"\"My name is Rahul Kendre, My Mobilenumber is 9404283030 ,\n",
    "        account number is 234567890234567,\n",
    "        9403456789 mail id is  rdkendre@gmail.com,\n",
    "        date of birth is 03/03/2021 \"\"\"\n",
    "\n",
    "mob = re.match('[a-zA-Z]{2}',text)\n",
    "print(mob)\n",
    "mob.group()"
   ]
  },
  {
   "cell_type": "markdown",
   "metadata": {},
   "source": [
    "# 4. sub()"
   ]
  },
  {
   "cell_type": "code",
   "execution_count": 190,
   "metadata": {},
   "outputs": [
    {
     "data": {
      "text/plain": [
       "'My name is Rahul Kendre, My Mobilenumber is 9404283030 , account number is 234567890234567, 9403456789 mail id is rdkendre@gmail.com, date of birth is 03/03/2021 '"
      ]
     },
     "execution_count": 190,
     "metadata": {},
     "output_type": "execute_result"
    }
   ],
   "source": [
    "text = \"\"\"My name is Rahul Kendre, My Mobilenumber is       9404283030 ,\n",
    "        account number is     234567890234567,\n",
    "        9403456789 mail id is  rdkendre@gmail.com,\n",
    "        date of birth is 03/03/2021 \"\"\"\n",
    "\n",
    "new_text = re.sub('\\s+',' ',text)\n",
    "new_text"
   ]
  },
  {
   "cell_type": "code",
   "execution_count": 7,
   "metadata": {},
   "outputs": [
    {
     "data": {
      "text/plain": [
       "'MynameisRahulKendreMyMobilenumberis9404283030accountnumberis2345678902345679403456789mailidisrdkendre@gmail.comdateofbirthis03032021'"
      ]
     },
     "execution_count": 7,
     "metadata": {},
     "output_type": "execute_result"
    }
   ],
   "source": [
    "text = \"\"\"My name is Rahul Kendre,>>< My Mobilenumber#$% is  9404283030 $$# ^,\n",
    "        # account number is     234567890234567,\n",
    "        9403456789 mail id is  rdkendre@gmail.com,\n",
    "        date of birth is 03/03/2021 \"\"\"\n",
    "\n",
    "new_text = re.sub('[^a-zA-Z0-9@. ]','',text)\n",
    "new_text\n"
   ]
  },
  {
   "cell_type": "markdown",
   "metadata": {},
   "source": [
    "# Characters with special Meaning"
   ]
  },
  {
   "cell_type": "code",
   "execution_count": 198,
   "metadata": {},
   "outputs": [
    {
     "data": {
      "text/plain": [
       "['py']"
      ]
     },
     "execution_count": 198,
     "metadata": {},
     "output_type": "execute_result"
    }
   ],
   "source": [
    "# 1. ^ >> Starts With of the first word of string\n",
    "\n",
    "s = 'python class'\n",
    "s1 = re.findall('^py',s)\n",
    "s1"
   ]
  },
  {
   "cell_type": "code",
   "execution_count": 203,
   "metadata": {},
   "outputs": [
    {
     "data": {
      "text/plain": [
       "['class']"
      ]
     },
     "execution_count": 203,
     "metadata": {},
     "output_type": "execute_result"
    }
   ],
   "source": [
    "# 2. $ >>  endsw with of the last word of string\n",
    "\n",
    "s = 'python class'\n",
    "s1 = re.findall('class$',s)\n",
    "s1"
   ]
  },
  {
   "cell_type": "code",
   "execution_count": 206,
   "metadata": {},
   "outputs": [
    {
     "data": {
      "text/plain": [
       "['pyt', 'py']"
      ]
     },
     "execution_count": 206,
     "metadata": {},
     "output_type": "execute_result"
    }
   ],
   "source": [
    "# 3. * >> Zero or more occurences\n",
    "\n",
    "s = 'python class pyhon '\n",
    "\n",
    "s1 = re.findall('pyt*',s)\n",
    "s1"
   ]
  },
  {
   "cell_type": "code",
   "execution_count": 210,
   "metadata": {},
   "outputs": [
    {
     "data": {
      "text/plain": [
       "[' ', ' ', ' ']"
      ]
     },
     "execution_count": 210,
     "metadata": {},
     "output_type": "execute_result"
    }
   ],
   "source": [
    "# 4. + >> One or more occurences\n",
    "\n",
    "s = 'pytthon class pyhon '\n",
    "\n",
    "s1 = re.findall('\\s+',s)\n",
    "s1"
   ]
  },
  {
   "cell_type": "code",
   "execution_count": null,
   "metadata": {},
   "outputs": [],
   "source": [
    "\\ >> special sequences\n",
    "[] >> set of char\n",
    "{} >> Range, number of occurrences"
   ]
  }
 ],
 "metadata": {
  "kernelspec": {
   "display_name": "Python 3",
   "language": "python",
   "name": "python3"
  },
  "language_info": {
   "codemirror_mode": {
    "name": "ipython",
    "version": 3
   },
   "file_extension": ".py",
   "mimetype": "text/x-python",
   "name": "python",
   "nbconvert_exporter": "python",
   "pygments_lexer": "ipython3",
   "version": "3.8.5"
  },
  "toc": {
   "base_numbering": 1,
   "nav_menu": {},
   "number_sections": true,
   "sideBar": true,
   "skip_h1_title": false,
   "title_cell": "Table of Contents",
   "title_sidebar": "Contents",
   "toc_cell": false,
   "toc_position": {},
   "toc_section_display": true,
   "toc_window_display": false
  }
 },
 "nbformat": 4,
 "nbformat_minor": 5
}

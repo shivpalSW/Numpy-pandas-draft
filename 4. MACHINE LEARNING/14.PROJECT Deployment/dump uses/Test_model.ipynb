{
 "cells": [
  {
   "cell_type": "code",
   "execution_count": null,
   "metadata": {
    "id": "racial-decimal"
   },
   "outputs": [],
   "source": [
    "import pickle\n",
    "import json\n",
    "import numpy as np\n",
    "file_path = 'banglore_home_prices_model1.pickle'\n",
    "model = pickle.load(open(file_path,'rb'))"
   ]
  },
  {
   "cell_type": "code",
   "execution_count": null,
   "metadata": {
    "id": "dressed-louis",
    "outputId": "1dd43a40-665c-40ac-bb2a-9fba729a81a3"
   },
   "outputs": [
    {
     "data": {
      "text/plain": [
       "-3.132417852503252"
      ]
     },
     "execution_count": 27,
     "metadata": {},
     "output_type": "execute_result"
    }
   ],
   "source": [
    "model.intercept_"
   ]
  },
  {
   "cell_type": "code",
   "execution_count": null,
   "metadata": {
    "id": "sunrise-vermont"
   },
   "outputs": [],
   "source": [
    "with open(\"columns1.json\", \"r\") as f:\n",
    "    data_columns = json.load(f)['data_columns']\n",
    "    locations_list = data_columns  # first 3 columns are sqft, bath, bhk"
   ]
  },
  {
   "cell_type": "code",
   "execution_count": null,
   "metadata": {
    "id": "initial-remainder"
   },
   "outputs": [],
   "source": [
    "def predict_price(location,sqft,bath,bhk):\n",
    "    location = location.lower()\n",
    "    loc_index = locations_list.index(location)\n",
    "    x = np.zeros(len(locations_list))\n",
    "    x[0] = sqft\n",
    "    x[1] = bath\n",
    "    x[2] = bhk\n",
    "    x[loc_index] = 1  # x[4] = 1\n",
    "    return model.predict([x])[0]"
   ]
  },
  {
   "cell_type": "code",
   "execution_count": null,
   "metadata": {
    "id": "certified-movement",
    "outputId": "ddc15568-2449-43ae-ebf1-7cdf71c8270d"
   },
   "outputs": [
    {
     "data": {
      "text/plain": [
       "117.08378459837844"
      ]
     },
     "execution_count": 49,
     "metadata": {},
     "output_type": "execute_result"
    }
   ],
   "source": [
    "predict_price('Chikka Tirupathi',2600, 5, 4)"
   ]
  },
  {
   "cell_type": "code",
   "execution_count": null,
   "metadata": {},
   "outputs": [],
   "source": [
    "locality        | SQFT  | BHK\n",
    "Chikka Tirupati | 2600  | 5"
   ]
  },
  {
   "cell_type": "code",
   "execution_count": null,
   "metadata": {
    "id": "adult-jesus"
   },
   "outputs": [],
   "source": [
    "def get_predicted_price(location,sqft,bath,bhk):\n",
    "    file_path = 'banglore_home_prices_model1.pickle'\n",
    "    model = pickle.load(open(file_path,'rb'))\n",
    "    \n",
    "    with open(\"columns1.json\", \"r\") as f:\n",
    "        data_columns = json.load(f)['data_columns']\n",
    "        locations_list = data_columns  # first 3 columns are sqft, bath, bhk\n",
    "        \n",
    "    location = location.lower()\n",
    "    loc_index = locations_list.index(location)\n",
    "    x = np.zeros(len(locations_list))\n",
    "    x[0] = sqft\n",
    "    x[1] = bath\n",
    "    x[2] = bhk\n",
    "    x[loc_index] = 1  # x[4] = 1\n",
    "    return model.predict([x])[0]"
   ]
  },
  {
   "cell_type": "code",
   "execution_count": null,
   "metadata": {
    "id": "angry-foundation",
    "outputId": "36682b73-83e6-4c42-9ae5-fbd20b4c35a6"
   },
   "outputs": [
    {
     "name": "stderr",
     "output_type": "stream",
     "text": [
      "c:\\users\\rahul\\appdata\\local\\programs\\python\\python38\\lib\\site-packages\\sklearn\\base.py:310: UserWarning: Trying to unpickle estimator LinearRegression from version 0.23.2 when using version 0.24.1. This might lead to breaking code or invalid results. Use at your own risk.\n",
      "  warnings.warn(\n"
     ]
    },
    {
     "data": {
      "text/plain": [
       "117.08378459837844"
      ]
     },
     "execution_count": 51,
     "metadata": {},
     "output_type": "execute_result"
    }
   ],
   "source": [
    "get_predicted_price('Chikka Tirupathi',2600, 5, 4)"
   ]
  },
  {
   "cell_type": "code",
   "execution_count": null,
   "metadata": {
    "id": "coral-wedding"
   },
   "outputs": [],
   "source": []
  }
 ],
 "metadata": {
  "colab": {
   "name": "Test_model.ipynb",
   "provenance": []
  },
  "kernelspec": {
   "display_name": "Python 3",
   "language": "python",
   "name": "python3"
  },
  "language_info": {
   "codemirror_mode": {
    "name": "ipython",
    "version": 3
   },
   "file_extension": ".py",
   "mimetype": "text/x-python",
   "name": "python",
   "nbconvert_exporter": "python",
   "pygments_lexer": "ipython3",
   "version": "3.8.5"
  },
  "toc": {
   "base_numbering": 1,
   "nav_menu": {},
   "number_sections": true,
   "sideBar": true,
   "skip_h1_title": false,
   "title_cell": "Table of Contents",
   "title_sidebar": "Contents",
   "toc_cell": false,
   "toc_position": {},
   "toc_section_display": true,
   "toc_window_display": false
  }
 },
 "nbformat": 4,
 "nbformat_minor": 5
}

{
 "cells": [
  {
   "cell_type": "code",
   "execution_count": null,
   "id": "e82ac7f7",
   "metadata": {},
   "outputs": [],
   "source": [
    "Data Science:\n",
    "    It is a process of extracting nkowledge & insights from data by using scientific methods."
   ]
  },
  {
   "cell_type": "code",
   "execution_count": null,
   "id": "8c46595c",
   "metadata": {},
   "outputs": [],
   "source": [
    "Machine Learning:\n",
    "    Machine Learning is a subset of Artificial Intelligence that uses various Maths & stats to enable machine to learn & improve with experience.\n",
    "    Machine gets it experience from the increasing data that it works on.\n",
    "    Ml uses differnt algorithms & programs to make data driven decisions. & they imporve as & when they are exposed to new data.\n",
    "    "
   ]
  },
  {
   "cell_type": "code",
   "execution_count": null,
   "id": "60f40e0d",
   "metadata": {},
   "outputs": [],
   "source": [
    "Data:\n",
    "    structured data (labeled data): Supervised algorithms\n",
    "    unstructured data (unlabeled data): unsupervised algorithms\n",
    "    both(some lebelled & some unlabbeled): semi-supervised algorithms"
   ]
  },
  {
   "cell_type": "raw",
   "id": "4c014c6d",
   "metadata": {},
   "source": [
    "Method:\n",
    "    ML : data is small, numeric data.\n",
    "    DL : data is huge, images, audio, videos, text\n",
    "    NLP: Text data\n",
    "    Time Series: Timestamp data (data in time format)\n",
    "    Visualization: seaborn, matplotlib, scipy, pandas, autovis."
   ]
  },
  {
   "cell_type": "code",
   "execution_count": null,
   "id": "e7b690ea",
   "metadata": {},
   "outputs": [],
   "source": [
    "Machine Learning:\n",
    "    Training sample (80% > data)\n",
    "    Testing sample  (20% < data)"
   ]
  },
  {
   "cell_type": "code",
   "execution_count": null,
   "id": "f2d9d575",
   "metadata": {},
   "outputs": [],
   "source": [
    "Real Time Application of ML:\n",
    "    medical field: cancer, covid, cataract\n",
    "    House price prediction\n",
    "    stock price\n",
    "    market analysis\n",
    "    customer segementation\n",
    "    customer churn\n",
    "    whether analysis\n",
    "    Banking domain (loan approval)\n",
    "    Sport analysis\n",
    "    Aviation sector\n",
    "    Self driving cars (object detection)\n",
    "    character recognition system\n",
    "    Advertizing (semantic search, recomendatio system)\n",
    "    chatboat, conversational AI\n",
    "    "
   ]
  },
  {
   "cell_type": "raw",
   "id": "39e77e30",
   "metadata": {},
   "source": [
    "Types of ML algorithms:\n",
    "    Supervised algorithms\n",
    "    unsupervised algorithms\n",
    "    semi-supervised algorithms"
   ]
  },
  {
   "cell_type": "code",
   "execution_count": null,
   "id": "1a939292",
   "metadata": {},
   "outputs": [],
   "source": [
    "Supervised algorithms:\n",
    "    Linear Regression & polynomial regression\n",
    "    Logistic Regression\n",
    "    KNN (k-nearest neighbours)\n",
    "    Decision Tree\n",
    "    Random Forest\n",
    "    Boosting algorithm\n",
    "    Support Vector Machine\n",
    "    \n",
    "Unsupervised algorithms:\n",
    "    k-means clustering\n",
    "    hirerchical clustering\n",
    "    Principal component analysis (PCA)\n",
    "    "
   ]
  }
 ],
 "metadata": {
  "kernelspec": {
   "display_name": "Python 3",
   "language": "python",
   "name": "python3"
  },
  "language_info": {
   "codemirror_mode": {
    "name": "ipython",
    "version": 3
   },
   "file_extension": ".py",
   "mimetype": "text/x-python",
   "name": "python",
   "nbconvert_exporter": "python",
   "pygments_lexer": "ipython3",
   "version": "3.8.8"
  },
  "toc": {
   "base_numbering": 1,
   "nav_menu": {},
   "number_sections": true,
   "sideBar": true,
   "skip_h1_title": false,
   "title_cell": "Table of Contents",
   "title_sidebar": "Contents",
   "toc_cell": false,
   "toc_position": {},
   "toc_section_display": true,
   "toc_window_display": false
  },
  "varInspector": {
   "cols": {
    "lenName": 16,
    "lenType": 16,
    "lenVar": 40
   },
   "kernels_config": {
    "python": {
     "delete_cmd_postfix": "",
     "delete_cmd_prefix": "del ",
     "library": "var_list.py",
     "varRefreshCmd": "print(var_dic_list())"
    },
    "r": {
     "delete_cmd_postfix": ") ",
     "delete_cmd_prefix": "rm(",
     "library": "var_list.r",
     "varRefreshCmd": "cat(var_dic_list()) "
    }
   },
   "types_to_exclude": [
    "module",
    "function",
    "builtin_function_or_method",
    "instance",
    "_Feature"
   ],
   "window_display": false
  }
 },
 "nbformat": 4,
 "nbformat_minor": 5
}

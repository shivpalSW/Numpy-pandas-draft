{
 "cells": [
  {
   "cell_type": "code",
   "execution_count": 1,
   "metadata": {},
   "outputs": [],
   "source": [
    "# a or e i o u\n",
    "import re"
   ]
  },
  {
   "cell_type": "code",
   "execution_count": 10,
   "metadata": {},
   "outputs": [],
   "source": [
    "data = \"\"\"Data science is a \"concept to unify statistics, data analysis, \n",
    "informatics, and their related methods\" in order to \"understand and analyze \n",
    "actual phenomena\" with data.[3] It uses techniques and theories drawn from many \n",
    "fields within the context of mathematics, statistics, computer science, information \n",
    "science, and domain knowledge. Turing award winner Jim Gray imagined data science as \n",
    "a \"fourth paradigm\" of science (empirical, theoretical, computational and now data-driven) \n",
    "and asserted that \"everything about science is changing because of the impact of \n",
    "information technology\" and the data deluge\"\"\""
   ]
  },
  {
   "cell_type": "code",
   "execution_count": 20,
   "metadata": {},
   "outputs": [
    {
     "name": "stdout",
     "output_type": "stream",
     "text": [
      "['is', 'unify', 'analysis', 'informatics', 'and', 'in', 'order', 'understand', 'and', 'analyze', 'actual', 'uses', 'and', 'of', 'information', 'and', 'award', 'imagined', 'as', 'of', 'empirical', 'and', 'and', 'asserted', 'everything', 'about', 'is', 'of', 'impact', 'of', 'information', 'and'] 32\n"
     ]
    }
   ],
   "source": [
    "text=re.findall(r'\\b[aeiou]\\w+',data)\n",
    "print(text,len(text))"
   ]
  },
  {
   "cell_type": "code",
   "execution_count": 21,
   "metadata": {},
   "outputs": [],
   "source": [
    "# Identity Documents"
   ]
  },
  {
   "cell_type": "code",
   "execution_count": 22,
   "metadata": {},
   "outputs": [],
   "source": [
    "# PAN Card"
   ]
  },
  {
   "cell_type": "code",
   "execution_count": 23,
   "metadata": {},
   "outputs": [],
   "source": [
    "text = 'QWERT2345W'\n"
   ]
  },
  {
   "cell_type": "code",
   "execution_count": 31,
   "metadata": {},
   "outputs": [],
   "source": [
    "class id_details:\n",
    "    def __init__(self,d):\n",
    "        print(\"######  Details of the User Are  #######\\n\")\n",
    "        self.details = d \n",
    "    \n",
    "\n",
    "        \n",
    "    def get_PAN(self):\n",
    "        PAN_number = re.findall('[A-Z]{5}[\\d]{4}[A-Z]{1}',self.details)\n",
    "        print(\"PAN Number is :\",PAN_number)\n",
    "    \n",
    "    def get_Adhar(self):\n",
    "        Adhar_number = re.findall('\\d{12}',self.details)\n",
    "        print(\"Adhar Number is :\",Adhar_number)\n",
    "    \n",
    "    def get_DL(self):\n",
    "        DL_number = re.findall('[A-Z]{2}[\\d]{2} [\\d]{11}',self.details)\n",
    "        print(\"Driving License Number is :\",DL_number)\n",
    "    \n",
    "    def get_Passportno(self):\n",
    "        Passport_number = re.findall('[A-Z]{1} [A-Z]{3} [A-Z]{1}[\\d]{7}',self.details)\n",
    "        print(\"Passport Number is :\",Passport_number)\n",
    "    \n",
    "    def get_email(self):\n",
    "        Email_id =  re.findall('[\\w._]{2,30}@[a-z]{4,10}[.][a-z]{2,4}',self.details)\n",
    "        print(\"Email Id is :\",Email_id)\n",
    "    "
   ]
  },
  {
   "cell_type": "code",
   "execution_count": 110,
   "metadata": {},
   "outputs": [
    {
     "name": "stdout",
     "output_type": "stream",
     "text": [
      "######  Details of the User Are  #######\n",
      "\n",
      "PAN Number is : ['ATNPA7920B']\n",
      "Adhar Number is : []\n",
      "Driving License Number is : ['MH35 20150054874']\n",
      "Passport Number is : ['P IND J8369854']\n",
      "Email Id is : ['agrawal.nikesh60@gmail.com']\n"
     ]
    }
   ],
   "source": [
    "d = \"\"\"Hello My name is Nikesh Agrawal. \n",
    "My Id details are\n",
    "Adhar Number - 8112 6645 8731,\n",
    "Pan Number - ATNPA7920B\n",
    "Driving License Number - MH35 20150054874\n",
    "Passport Number -  P IND J8369854\n",
    "Email Id - agrawal.nikesh60@gmail.com\n",
    "Mobile Number - 9403132036,8668369580\"\"\"     \n",
    "\n",
    "obj = id_details(d)\n",
    "obj.get_PAN()\n",
    "obj.get_Adhar()\n",
    "obj.get_DL()\n",
    "obj.get_Passportno()\n",
    "obj.get_email()\n",
    "# obj.get_mobile()"
   ]
  },
  {
   "cell_type": "code",
   "execution_count": 111,
   "metadata": {},
   "outputs": [],
   "source": []
  },
  {
   "cell_type": "code",
   "execution_count": 49,
   "metadata": {},
   "outputs": [
    {
     "name": "stdout",
     "output_type": "stream",
     "text": [
      "&\n",
      "\n",
      "steer fest\n",
      "\n",
      "INCOME TAX DEPARTMENT\n",
      "D MANIKANDAN\n",
      "\n",
      "DURAISAMY\n",
      "\n",
      "16/07/1986\n",
      "Pormanent Account Number\n",
      "\n",
      "BNZPM2501F\n",
      "\n",
      "Signature\n",
      "\n",
      " \n",
      "\f",
      "\n"
     ]
    }
   ],
   "source": [
    "import  pytesseract\n",
    "# from PIL import Image\n",
    "pytesseract.pytesseract.tesseract_cmd = r'C:\\Program Files\\Tesseract-OCR\\tesseract.exe'\n",
    "text = pytesseract.image_to_string(r'D:\\RahulK\\Velocity\\pancard1.jpg')\n",
    "print(text)\n"
   ]
  },
  {
   "cell_type": "code",
   "execution_count": 73,
   "metadata": {},
   "outputs": [
    {
     "name": "stdout",
     "output_type": "stream",
     "text": [
      "&\n",
      "\n",
      "steer fest\n",
      "\n",
      "INCOME TAX DEPARTMENT\n",
      "D MANIKANDAN\n",
      "\n",
      "DURAISAMY\n",
      "\n",
      "16/07/1986\n",
      "Pormanent Account Number\n",
      "\n",
      "BNZPM2501F\n",
      "\n",
      "Signature\n",
      "\n",
      " \n",
      "\f",
      "\n"
     ]
    }
   ],
   "source": [
    "pytesseract.pytesseract.tesseract_cmd = r'C:\\Program Files\\Tesseract-OCR\\tesseract.exe'\n",
    "text = pytesseract.image_to_string(r'D:\\RahulK\\Velocity\\pancard1.jpg')\n",
    "print(text)"
   ]
  },
  {
   "cell_type": "code",
   "execution_count": 5,
   "metadata": {},
   "outputs": [],
   "source": [
    "import re\n",
    "import pytesseract\n",
    "# pytesseract.pytesseract.tesseract_cmd= r'C:\\Program Files\\Tesseract-OCR\\tesseract.exe'\n",
    "# data= pytesseract.image_to_string(r'D:\\RahulK\\Velocity\\pancard1.jpg')\n",
    "\n"
   ]
  },
  {
   "cell_type": "code",
   "execution_count": 2,
   "metadata": {},
   "outputs": [
    {
     "name": "stdout",
     "output_type": "stream",
     "text": [
      "eatp Simms hG ES\n",
      "\n",
      "Name: Kettan Singh\n",
      "Show: Janhit Mein Jaari\n",
      "Topic: Aadhaaritis\n",
      "\n",
      "4444 5555 6666 ©\n",
      "\n",
      " \n",
      "\f",
      "\n"
     ]
    }
   ],
   "source": [
    "pytesseract.pytesseract.tesseract_cmd = r'C:\\Program Files\\Tesseract-OCR\\tesseract.exe'\n",
    "data = pytesseract.image_to_string(r'adhar.jpg')\n",
    "print(data)"
   ]
  },
  {
   "cell_type": "code",
   "execution_count": 20,
   "metadata": {},
   "outputs": [
    {
     "name": "stdout",
     "output_type": "stream",
     "text": [
      "Kettan Singh\n"
     ]
    }
   ],
   "source": [
    "if re.findall('Name:',data):\n",
    "    name = re.findall(r'\\n[Name:].*\\n?',data)\n",
    "    \n",
    "name=name[0].split()\n",
    "name=' '.join(name[1:])\n",
    "print(name)"
   ]
  },
  {
   "cell_type": "code",
   "execution_count": 23,
   "metadata": {},
   "outputs": [
    {
     "data": {
      "text/plain": [
       "['4444 5555 6666']"
      ]
     },
     "execution_count": 23,
     "metadata": {},
     "output_type": "execute_result"
    }
   ],
   "source": [
    "re.findall(r'\\d{4}[ ]\\d{4}[ ]\\d{4}',data)"
   ]
  },
  {
   "cell_type": "code",
   "execution_count": 4,
   "metadata": {},
   "outputs": [],
   "source": [
    "import pandas as pd\n",
    "\n",
    "def get_pan_attributes(text):\n",
    "    new_text = text.split('\\n')\n",
    "    person_name = 'NA';father_name ='NA';PAN_number = 'NA';dob ='NA'\n",
    "    \n",
    "    for index,line in enumerate(new_text):\n",
    "        if re.findall('INCOME|TAX|DEPARTMENT',line): # or\n",
    "#             print(index,line)\n",
    "            person_name = new_text[index + 1]\n",
    "#             print('person_name',person_name)\n",
    "            father_name = new_text[index + 2]\n",
    "#             print('father_name',father_name)\n",
    "\n",
    "    PAN_number = re.findall('[A-Z]{5}[\\d]{4}[A-Z]{1}',text)\n",
    "    dob = re.findall('\\d{2}[/]\\d{2}[/]\\d{4}',text)\n",
    "    pan_attributes = {'Person Name':[person_name],'Father Name':[father_name],\n",
    "                     'PAN Number':PAN_number,'Date of Birth':dob}\n",
    "    \n",
    "    return pan_attributes\n",
    "\n",
    "# pan_attributes = get_pan_attributes(text)\n",
    "# print(pan_attributes)\n",
    "# df = pd.DataFrame(pan_attributes)\n",
    "# df.to_csv('pan.csv')"
   ]
  },
  {
   "cell_type": "code",
   "execution_count": null,
   "metadata": {},
   "outputs": [],
   "source": [
    "# pdftotext\n",
    "# pdfreader\n",
    "# pdfminer\n",
    "# tabula-py\n",
    "# camelot\n",
    "# fuzzywuzzy\n",
    "\n",
    "pdf >> image >> ocr (non readable pdf)\n",
    "pdf >> ocr (readable pdf)"
   ]
  },
  {
   "cell_type": "code",
   "execution_count": 10,
   "metadata": {},
   "outputs": [
    {
     "name": "stdout",
     "output_type": "stream",
     "text": [
      "me Aime ES\n",
      "\n",
      "Name: Kettan Singh\n",
      "Show: Janhit Mein Jaari\n",
      "Topic: Aadhaaritis\n",
      "\n",
      "4444 5555 6666 ~\n",
      "\n",
      " \n",
      "\f",
      "\n"
     ]
    }
   ],
   "source": [
    "from PIL import Image\n",
    "pytesseract.pytesseract.tesseract_cmd = r'C:\\Program Files\\Tesseract-OCR\\tesseract.exe'\n",
    "\n",
    "text = pytesseract.image_to_string(Image.open(r\"adhar.jpg\"))\n",
    "\n",
    "# image preporcessing\n",
    "# 90 rotation \n",
    "# import cv2\n",
    "print(text)"
   ]
  }
 ],
 "metadata": {
  "kernelspec": {
   "display_name": "Python 3",
   "language": "python",
   "name": "python3"
  },
  "language_info": {
   "codemirror_mode": {
    "name": "ipython",
    "version": 3
   },
   "file_extension": ".py",
   "mimetype": "text/x-python",
   "name": "python",
   "nbconvert_exporter": "python",
   "pygments_lexer": "ipython3",
   "version": "3.8.5"
  },
  "toc": {
   "base_numbering": 1,
   "nav_menu": {},
   "number_sections": true,
   "sideBar": true,
   "skip_h1_title": false,
   "title_cell": "Table of Contents",
   "title_sidebar": "Contents",
   "toc_cell": false,
   "toc_position": {},
   "toc_section_display": true,
   "toc_window_display": false
  }
 },
 "nbformat": 4,
 "nbformat_minor": 5
}
